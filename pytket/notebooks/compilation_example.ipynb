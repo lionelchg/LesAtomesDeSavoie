{
 "cells": [
  {
   "cell_type": "markdown",
   "metadata": {},
   "source": [
    "# Compilation passes: tket example\n",
    "\n",
    "There are numerous ways to optimize circuits in `pytket`. In this notebook we will introduce the basics of compilation passes and how to combine and apply them.\n",
    "\n",
    "We assume familiarity with the `pytket` `Circuit` class. The objective is to transform one `Circuit` into another, equivalent, `Circuit`, that:\n",
    "* satisfies the connectivity constraints of a given architecture;\n",
    "* satisfies some further user-defined constraints (such as restricted gate sets);\n",
    "* minimizes some cost function (such as CX count).\n",
    "\n",
    "We will use Qiskit for circuit visualisation and for an example backend. For this it is necessary to have installed `pytket_qiskit` via `pip`.\n",
    "\n",
    "## Passes\n",
    "\n",
    "The basic mechanism of compilation is the 'pass', which is a transform that can be applied to a circuit. There is an extensive library of passes in `pytket`, and several standard ways in which they can be combined to form new passes. For example:"
   ]
  },
  {
   "cell_type": "code",
   "execution_count": 1,
   "metadata": {},
   "outputs": [],
   "source": [
    "from pytket.passes import DecomposeMultiQubitsIBM\n",
    "\n",
    "pass1 = DecomposeMultiQubitsIBM()"
   ]
  },
  {
   "cell_type": "markdown",
   "metadata": {},
   "source": [
    "This pass converts all multi-qubit gates into CX and single-qubit gates. So let's create a circuit containing some non-CX multi-qubit gates:"
   ]
  },
  {
   "cell_type": "code",
   "execution_count": 2,
   "metadata": {},
   "outputs": [
    {
     "output_type": "execute_result",
     "data": {
      "text/plain": "[CRz(0.5*PI) q[0], q[1]; T q[2]; CSWAP q[2], q[0], q[1]; ]"
     },
     "metadata": {},
     "execution_count": 2
    }
   ],
   "source": [
    "from pytket.circuit import Circuit\n",
    "\n",
    "circ = Circuit(3)\n",
    "circ.CRz(0.5, 0, 1)\n",
    "circ.T(2)\n",
    "circ.CSWAP(2, 0, 1)"
   ]
  },
  {
   "cell_type": "markdown",
   "metadata": {},
   "source": [
    "In order to apply a pass to a circuit, we must first create a `CompilationUnit` from it. We can think of this as a 'bridge' between the circuit and the pass. The `CompilationUnit` is constructed from the circuit; the pass is applied to the `CompilationUnit`; and the transformed circuit is extracted from the `CompilationUnit`:"
   ]
  },
  {
   "cell_type": "code",
   "execution_count": 3,
   "metadata": {},
   "outputs": [],
   "source": [
    "from pytket.predicates import CompilationUnit\n",
    "\n",
    "cu = CompilationUnit(circ)\n",
    "pass1.apply(cu)\n",
    "circ1 = cu.circuit"
   ]
  },
  {
   "cell_type": "markdown",
   "metadata": {},
   "source": [
    "Let's have a look at the result of the transformation:"
   ]
  },
  {
   "cell_type": "code",
   "execution_count": 4,
   "metadata": {
    "tags": []
   },
   "outputs": [
    {
     "output_type": "stream",
     "name": "stdout",
     "text": "[Rz(0.25*PI) q[1];, T q[2];, CX q[0], q[1];, Rz(3.75*PI) q[1];, CX q[0], q[1];, CX q[1], q[0];, H q[1];, CX q[0], q[1];, Tdg q[1];, CX q[2], q[1];, T q[1];, CX q[0], q[1];, T q[0];, Tdg q[1];, CX q[2], q[1];, CX q[2], q[0];, T q[1];, Tdg q[0];, H q[1];, T q[2];, CX q[2], q[0];, CX q[1], q[0];]\n"
    }
   ],
   "source": [
    "print(circ1.get_commands())"
   ]
  },
  {
   "cell_type": "markdown",
   "metadata": {},
   "source": [
    "## Predicates\n",
    "\n",
    "Every `CompilationUnit` has associated with it a set of 'predicates', which describe target properties that can be checked against the circuit. There are many types of predicates available in `pytket`. For example, the `GateSetPredicate` checks whether all gates in a circuit belong to a particular set:"
   ]
  },
  {
   "cell_type": "code",
   "execution_count": 5,
   "metadata": {},
   "outputs": [],
   "source": [
    "from pytket.predicates import GateSetPredicate\n",
    "from pytket.circuit import OpType\n",
    "\n",
    "pred1 = GateSetPredicate({OpType.Rz, OpType.T, OpType.Tdg, OpType.H, OpType.CX})"
   ]
  },
  {
   "cell_type": "markdown",
   "metadata": {},
   "source": [
    "When we construct a `CompilationUnit`, we may pass a list of target predicates as well as the circuit:"
   ]
  },
  {
   "cell_type": "code",
   "execution_count": 6,
   "metadata": {},
   "outputs": [],
   "source": [
    "cu = CompilationUnit(circ, [pred1])"
   ]
  },
  {
   "cell_type": "markdown",
   "metadata": {},
   "source": [
    "To check whether the circuit associated to a `CompilationUnit` satisfies its target predicates, we can call the `check_all_predicates()` method:"
   ]
  },
  {
   "cell_type": "code",
   "execution_count": 7,
   "metadata": {},
   "outputs": [
    {
     "output_type": "execute_result",
     "data": {
      "text/plain": "False"
     },
     "metadata": {},
     "execution_count": 7
    }
   ],
   "source": [
    "cu.check_all_predicates()"
   ]
  },
  {
   "cell_type": "code",
   "execution_count": 8,
   "metadata": {},
   "outputs": [
    {
     "output_type": "execute_result",
     "data": {
      "text/plain": "True"
     },
     "metadata": {},
     "execution_count": 8
    }
   ],
   "source": [
    "pass1.apply(cu)\n",
    "cu.check_all_predicates()"
   ]
  },
  {
   "cell_type": "markdown",
   "metadata": {},
   "source": [
    "We can also directly check whether a given circuit satisfies a given predicate, using the predicate's `verify()` method:"
   ]
  },
  {
   "cell_type": "code",
   "execution_count": 9,
   "metadata": {},
   "outputs": [
    {
     "output_type": "execute_result",
     "data": {
      "text/plain": "True"
     },
     "metadata": {},
     "execution_count": 9
    }
   ],
   "source": [
    "pred1.verify(circ1)"
   ]
  },
  {
   "cell_type": "markdown",
   "metadata": {},
   "source": [
    "### In-place compilation\n",
    "\n",
    "The example above produced a new circuit, leaving the original circuit untouched. It is also possible to apply a pass to a circuit in-place:"
   ]
  },
  {
   "cell_type": "code",
   "execution_count": 10,
   "metadata": {
    "tags": []
   },
   "outputs": [
    {
     "output_type": "stream",
     "name": "stdout",
     "text": "[Rz(0.25*PI) q[1];, T q[2];, CX q[0], q[1];, Rz(3.75*PI) q[1];, CX q[0], q[1];, CX q[1], q[0];, H q[1];, CX q[0], q[1];, Tdg q[1];, CX q[2], q[1];, T q[1];, CX q[0], q[1];, T q[0];, Tdg q[1];, CX q[2], q[1];, CX q[2], q[0];, T q[1];, Tdg q[0];, H q[1];, T q[2];, CX q[2], q[0];, CX q[1], q[0];]\n"
    }
   ],
   "source": [
    "DecomposeMultiQubitsIBM().apply(circ)\n",
    "print(circ.get_commands())"
   ]
  },
  {
   "cell_type": "markdown",
   "metadata": {},
   "source": [
    "## Combining passes\n",
    "\n",
    "There are various ways to combine the elementary passes into more complex ones.\n",
    "\n",
    "To combine several passes in sequence, we use a `SequencePass`:"
   ]
  },
  {
   "cell_type": "code",
   "execution_count": 11,
   "metadata": {},
   "outputs": [],
   "source": [
    "from pytket.passes import SequencePass, OptimisePhaseGadgets\n",
    "\n",
    "seqpass = SequencePass([DecomposeMultiQubitsIBM(), OptimisePhaseGadgets()])"
   ]
  },
  {
   "cell_type": "markdown",
   "metadata": {},
   "source": [
    "This pass will apply the two transforms in succession:"
   ]
  },
  {
   "cell_type": "code",
   "execution_count": 12,
   "metadata": {
    "tags": []
   },
   "outputs": [
    {
     "output_type": "stream",
     "name": "stdout",
     "text": "[U1(0.25*PI) q[1];, U1(0.5*PI) q[2];, CX q[1], q[0];, U3(0.5*PI, 0*PI, 1*PI) q[1];, CX q[0], q[1];, U1(1.75*PI) q[1];, CX q[2], q[1];, U1(0.25*PI) q[1];, CX q[0], q[1];, U1(1.75*PI) q[1];, CX q[2], q[1];, CX q[2], q[0];, U3(0.5*PI, 0*PI, 1.25*PI) q[1];, U1(1.75*PI) q[0];, CX q[2], q[0];, CX q[1], q[0];]\n"
    }
   ],
   "source": [
    "cu = CompilationUnit(circ)\n",
    "seqpass.apply(cu)\n",
    "circ1 = cu.circuit\n",
    "print(circ1.get_commands())"
   ]
  },
  {
   "cell_type": "markdown",
   "metadata": {},
   "source": [
    "The `apply()` method for an elementary pass returns a boolean indicating whether or not the pass had any effect on the circuit. For a `SequencePass`, the return value indicates whether _any_ of the constituent passes had some effect.\n",
    "\n",
    "A `RepeatPass` repeatedly calls `apply()` on a pass until it returns `False`, indicating that there was no effect:"
   ]
  },
  {
   "cell_type": "code",
   "execution_count": 13,
   "metadata": {},
   "outputs": [],
   "source": [
    "from pytket.passes import CommuteThroughMultis, RemoveRedundancies, RepeatPass\n",
    "\n",
    "seqpass = SequencePass([CommuteThroughMultis(), RemoveRedundancies()])\n",
    "reppass = RepeatPass(seqpass)"
   ]
  },
  {
   "cell_type": "markdown",
   "metadata": {},
   "source": [
    "This pass will repeatedly apply `CommuteThroughMultis` (which commutes single-qubit operations through multi-qubit operations where possible towards the start of the circuit) and `RemoveRedundancies` (which cancels inverse pairs, merges coaxial rotations and removes redundant gates before measurement) until neither pass has any effect on the circuit.\n",
    "\n",
    "Let's use Qiskit's visualizer to see the effect on a circuit:"
   ]
  },
  {
   "cell_type": "code",
   "execution_count": 14,
   "metadata": {
    "tags": []
   },
   "outputs": [
    {
     "output_type": "stream",
     "name": "stdout",
     "text": "┌───┐                  ┌───┐          ┌───────────┐┌───────────┐\nq_0: ┤ X ├──────■───────────┤ Z ├───────■──┤ RZ(2pi/5) ├┤ RY(1.665) ├\n     ├───┤    ┌─┴─┐    ┌────┴───┴────┐┌─┴─┐└───┬───┬───┘└───────────┘\nq_1: ┤ Y ├────┤ X ├────┤ RX(13pi/10) ├┤ X ├────┤ H ├─────────────────\n     ├───┤┌───┴───┴───┐└─┬──────────┬┘├───┤    └───┘                 \nq_2: ┤ H ├┤ RX(3pi/2) ├──┤ RX(pi/2) ├─┤ H ├──────────────────────────\n     └───┘└───────────┘  └──────────┘ └───┘                          \n"
    }
   ],
   "source": [
    "from pytket.extensions.qiskit import tk_to_qiskit\n",
    "\n",
    "circ = Circuit(3)\n",
    "circ.X(0).Y(1).CX(0,1).Z(0).Rx(1.3,1).CX(0,1).Rz(0.4,0).Ry(0.53,0).H(1).H(2).Rx(1.5,2).Rx(0.5,2).H(2)\n",
    "\n",
    "print(tk_to_qiskit(circ))"
   ]
  },
  {
   "cell_type": "code",
   "execution_count": 15,
   "metadata": {
    "tags": []
   },
   "outputs": [
    {
     "output_type": "stream",
     "name": "stdout",
     "text": "global phase: pi\n     ┌───┐     ┌───┐     ┌───────────┐┌───────────┐\nq_0: ┤ X ├─────┤ Z ├─────┤ RZ(2pi/5) ├┤ RY(1.665) ├\n     ├───┤┌────┴───┴────┐└───┬───┬───┘└───────────┘\nq_1: ┤ Y ├┤ RX(13pi/10) ├────┤ H ├─────────────────\n     └───┘└─────────────┘    └───┘                 \nq_2: ──────────────────────────────────────────────\n                                                   \n"
    }
   ],
   "source": [
    "cu = CompilationUnit(circ)\n",
    "reppass.apply(cu)\n",
    "circ1 = cu.circuit\n",
    "\n",
    "print(tk_to_qiskit(circ1))"
   ]
  },
  {
   "cell_type": "markdown",
   "metadata": {},
   "source": [
    "If we want to repeat a pass until the circuit satisfies some desired property, we first define a boolean function to test for that property, and then pass this function to the constructor of a `RepeatUntilSatisfied` pass:"
   ]
  },
  {
   "cell_type": "code",
   "execution_count": 16,
   "metadata": {
    "tags": []
   },
   "outputs": [
    {
     "output_type": "stream",
     "name": "stdout",
     "text": "\nq_0: ─────\n     ┌───┐\nq_1: ┤ X ├\n     └───┘\n"
    }
   ],
   "source": [
    "from pytket.passes import RepeatUntilSatisfiedPass\n",
    "\n",
    "def no_CX(circ):\n",
    "    return circ.n_gates_of_type(OpType.CX) == 0\n",
    "\n",
    "circ = Circuit(2).CX(0,1).X(1).CX(0,1).X(1).CX(0,1).X(1).CX(0,1).Z(1).CX(1,0).Z(1).CX(1,0)\n",
    "\n",
    "custom_pass = RepeatUntilSatisfiedPass(seqpass, no_CX)\n",
    "cu = CompilationUnit(circ)\n",
    "custom_pass.apply(cu)\n",
    "circ1 = cu.circuit\n",
    "\n",
    "print(tk_to_qiskit(circ1))"
   ]
  },
  {
   "cell_type": "markdown",
   "metadata": {},
   "source": [
    "The `RepeatWithMetricPass` provides another way of generating more sophisticated passes. This is defined in terms of a cost function and another pass type; the pass is applied repeatedly until the cost function stops decreasing.\n",
    "\n",
    "For example, suppose we wish to associate a cost to each gate in out circuit, with $n$-qubit gates having a cost of $n^2$:"
   ]
  },
  {
   "cell_type": "code",
   "execution_count": 17,
   "metadata": {},
   "outputs": [],
   "source": [
    "def cost(circ):\n",
    "    return sum(pow(len(x.args),2) for x in circ)"
   ]
  },
  {
   "cell_type": "markdown",
   "metadata": {},
   "source": [
    "Let's construct a new circuit:"
   ]
  },
  {
   "cell_type": "code",
   "execution_count": 18,
   "metadata": {},
   "outputs": [
    {
     "output_type": "execute_result",
     "data": {
      "text/plain": "[CX q[0], q[1]; Y q[0]; X q[1]; CX q[0], q[1]; Z q[0]; X q[1]; CX q[0], q[1]; Y q[0]; X q[1]; CX q[0], q[1]; Z q[1]; CX q[1], q[0]; X q[0]; Z q[1]; CX q[1], q[0]; ]"
     },
     "metadata": {},
     "execution_count": 18
    }
   ],
   "source": [
    "circ = Circuit(2)\n",
    "circ.CX(0,1).X(1).Y(0).CX(0,1).X(1).Z(0).CX(0,1).X(1).Y(0).CX(0,1).Z(1).CX(1,0).Z(1).X(0).CX(1,0)"
   ]
  },
  {
   "cell_type": "markdown",
   "metadata": {},
   "source": [
    "We will repeatedly apply `CommuteThroughMultis`, `DecomposeMultiQubitsIBM` and `RemoveRedundancies` until the `cost` function stops decreasing:"
   ]
  },
  {
   "cell_type": "code",
   "execution_count": 19,
   "metadata": {
    "tags": []
   },
   "outputs": [
    {
     "output_type": "stream",
     "name": "stdout",
     "text": "[X q[1];, CX q[0], q[1];, Y q[0];, Z q[0];, Y q[0];, CX q[0], q[1];, X q[0];]\n"
    }
   ],
   "source": [
    "from pytket.passes import RepeatWithMetricPass\n",
    "\n",
    "pass1 = SequencePass([CommuteThroughMultis(), DecomposeMultiQubitsIBM(), RemoveRedundancies()])\n",
    "pass2 = RepeatWithMetricPass(pass1, cost)\n",
    "\n",
    "cu = CompilationUnit(circ)\n",
    "pass2.apply(cu)\n",
    "print(cu.circuit.get_commands())"
   ]
  },
  {
   "cell_type": "markdown",
   "metadata": {},
   "source": [
    "## Targeting devices and architectures\n",
    "\n",
    "If we are given a target architecture, we can generate passes tailored to it.\n",
    "\n",
    "In `pytket` an architecture is defined by a connectivity graph, i.e. a list of pairs of qubits capable of executing two-qubit operations. For example, we can represent a 5-qubit linear architecture, with qubits labelled `n[i]`, as follows:"
   ]
  },
  {
   "cell_type": "code",
   "execution_count": 20,
   "metadata": {},
   "outputs": [],
   "source": [
    "from pytket.routing import Architecture\n",
    "from pytket.circuit import Node\n",
    "\n",
    "n = [Node('n',i) for i in range(5)]\n",
    "\n",
    "arc = Architecture([[n[0],n[1]], [n[1],n[2]], [n[2],n[3]], [n[3],n[4]]])"
   ]
  },
  {
   "cell_type": "markdown",
   "metadata": {},
   "source": [
    "A `Device` is a model of a physical device, which encapsulates both its `Architecture` and its gate noise characteristics. Ignoring the latter, we can construct a 'noise-free' `Device` directly from an `Architecture`:"
   ]
  },
  {
   "cell_type": "code",
   "execution_count": 21,
   "metadata": {},
   "outputs": [],
   "source": [
    "from pytket.device import Device\n",
    "\n",
    "dev = Device(arc)"
   ]
  },
  {
   "cell_type": "markdown",
   "metadata": {},
   "source": [
    "Suppose we have a circuit that we wish to run on this device:"
   ]
  },
  {
   "cell_type": "code",
   "execution_count": 22,
   "metadata": {
    "tags": []
   },
   "outputs": [
    {
     "output_type": "stream",
     "name": "stdout",
     "text": "┌───┐                            \nq_0: ──■──┤ H ├──■─────────■───────────────\n     ┌─┴─┐├───┤  │         │               \nq_1: ┤ X ├┤ Z ├──┼────■────┼───────────────\n     └───┘├───┤  │    │    │               \nq_2: ──■──┤ X ├──┼────┼────┼───────────────\n       │  └───┘┌─┴─┐  │    │  ┌───────────┐\nq_3: ──┼───────┤ X ├──┼────┼──┤ RX(3pi/2) ├\n     ┌─┴─┐     └───┘┌─┴─┐┌─┴─┐└───────────┘\nq_4: ┤ X ├──────────┤ X ├┤ X ├─────────────\n     └───┘          └───┘└───┘             \n"
    }
   ],
   "source": [
    "circ = Circuit(5)\n",
    "circ.CX(0,1)\n",
    "circ.H(0)\n",
    "circ.Z(1)\n",
    "circ.CX(0,3)\n",
    "circ.Rx(1.5,3)\n",
    "circ.CX(2,4)\n",
    "circ.X(2)\n",
    "circ.CX(1,4)\n",
    "circ.CX(0,4)\n",
    "\n",
    "print(tk_to_qiskit(circ))"
   ]
  },
  {
   "cell_type": "markdown",
   "metadata": {},
   "source": [
    "A mapping pass lets us rewrite this circuit for our device:"
   ]
  },
  {
   "cell_type": "code",
   "execution_count": 23,
   "metadata": {
    "tags": []
   },
   "outputs": [
    {
     "output_type": "stream",
     "name": "stdout",
     "text": "┌───┐                       \nn_0: ──■──┤ X ├───────────────────────\n     ┌─┴─┐└───┘┌───┐                  \nn_1: ┤ X ├─────┤ X ├──────X───────────\n     ├───┤┌───┐└─┬─┘      │      ┌───┐\nn_2: ┤ X ├┤ Z ├──■────────X──────┤ X ├\n     └─┬─┘├───┤                  └─┬─┘\nn_3: ──■──┤ H ├──■─────────────────■──\n          └───┘┌─┴─┐┌───────────┐     \nn_4: ──────────┤ X ├┤ RX(3pi/2) ├─────\n               └───┘└───────────┘     \n"
    }
   ],
   "source": [
    "from pytket.passes import DefaultMappingPass\n",
    "\n",
    "mapper = DefaultMappingPass(dev)\n",
    "cu = CompilationUnit(circ)\n",
    "mapper.apply(cu)\n",
    "circ1 = cu.circuit\n",
    "\n",
    "print(tk_to_qiskit(circ1))"
   ]
  },
  {
   "cell_type": "markdown",
   "metadata": {},
   "source": [
    "If we want to decompose all SWAP and BRIDGE gates to CX gates in the final circuit, we can use another pass:"
   ]
  },
  {
   "cell_type": "code",
   "execution_count": 24,
   "metadata": {
    "tags": []
   },
   "outputs": [
    {
     "output_type": "stream",
     "name": "stdout",
     "text": "┌───┐                       \nn_0: ──■──┤ X ├───────────────────────\n     ┌─┴─┐└───┘         ┌───┐         \nn_1: ┤ X ├───────■──────┤ X ├─────────\n     ├───┤┌───┐┌─┴─┐    └─┬─┘    ┌───┐\nn_2: ┤ X ├┤ Z ├┤ X ├──────■──────┤ X ├\n     └─┬─┘├───┤└───┘             └─┬─┘\nn_3: ──■──┤ H ├──■─────────────────■──\n          └───┘┌─┴─┐┌───────────┐     \nn_4: ──────────┤ X ├┤ RX(3pi/2) ├─────\n               └───┘└───────────┘     \n"
    }
   ],
   "source": [
    "from pytket.passes import DecomposeSwapsToCXs\n",
    "\n",
    "pass1 = DecomposeSwapsToCXs(dev)\n",
    "pass1.apply(cu)\n",
    "circ2 = cu.circuit\n",
    "\n",
    "print(tk_to_qiskit(circ2))"
   ]
  },
  {
   "cell_type": "markdown",
   "metadata": {},
   "source": [
    "Note that the pass we just ran also performed some clean-up: the SWAP gate was decomposed into three CX gates, one of which was cancelled by a preceding CX gate; the cancelling gates were removed from the circuit.\n",
    "\n",
    "Every compilation pass has associated sets of preconditions and postconditions on the circuit. If all preconditions are satisfied before the pass, all postconditions are guaranteed to be satisfied afterwards. When we apply a pass to a circuit, we can optionally pass `SafetyMode.Audit` as the second parameter; this will tell the pass to check all preconditions explicitly. By default, there is only limited checking of preconditions and `pytket` relies on the programmer assuring these.\n",
    "\n",
    "For example, the `NoClassicalControl` predicate is a precondition of the `PauliSimp` pass. Let's add a classically controlled gate to our circuit:"
   ]
  },
  {
   "cell_type": "code",
   "execution_count": 25,
   "metadata": {
    "tags": []
   },
   "outputs": [
    {
     "output_type": "stream",
     "name": "stdout",
     "text": "Error: Predicate requirements are not satisfied: NoMidMeasurePredicate\n"
    }
   ],
   "source": [
    "from pytket.passes import PauliSimp, SafetyMode\n",
    "from pytket.circuit import Qubit, Bit\n",
    "\n",
    "q = [Qubit('q',i) for i in range(5)]\n",
    "c = Bit('c')\n",
    "circ.add_bit(c)\n",
    "circ.Measure(q[3], c)\n",
    "circ.CY(q[0], q[1], condition_bits=[c], condition_value=1)\n",
    "cu = CompilationUnit(circ)\n",
    "try:\n",
    "    PauliSimp().apply(cu, safety_mode=SafetyMode.Audit)\n",
    "except RuntimeError as e:\n",
    "    print(\"Error:\", str(e))\n",
    "    "
   ]
  },
  {
   "cell_type": "markdown",
   "metadata": {},
   "source": [
    "The preconditions and postconditions of all the elementary predicates are documented in their string representations:"
   ]
  },
  {
   "cell_type": "code",
   "execution_count": 26,
   "metadata": {},
   "outputs": [
    {
     "output_type": "execute_result",
     "data": {
      "text/plain": "***PassType: StandardPass***\nPreconditions:\n  GateSetPredicate:{ PauliExpBox PhaseGadget Tdg T Ry ZZPhase Rx Rz SWAP CZ CY CX YYPhase H Mølmer-Sørensen Vdg ZZMax V EntangleOQC Sdg S Y Measure X Z }\n  NoWireSwapsPredicate\n  NoMidMeasurePredicate\n  NoClassicalControlPredicate\nSpecific Postconditions:\nGeneric Postconditions:\n  NoWireSwapsPredicate Clear\n  ConnectivityPredicate Clear\nDefault Postcondition: Preserve"
     },
     "metadata": {},
     "execution_count": 26
    }
   ],
   "source": [
    "PauliSimp()"
   ]
  },
  {
   "cell_type": "markdown",
   "metadata": {},
   "source": [
    "## Backends and default passes\n",
    "\n",
    "A `pytket` `Backend` may have a default compilation pass, which will guarantee that the circuit can run on it. This is given by the `default_compilation_pass` property. For example, the default pass for Qiskit's `AerBackend` just converts all gates to U1, U2, U3 and CX:"
   ]
  },
  {
   "cell_type": "code",
   "execution_count": 27,
   "metadata": {},
   "outputs": [
    {
     "output_type": "execute_result",
     "data": {
      "text/plain": "<bound method AerBackend.default_compilation_pass of <pytket.extensions.qiskit.backends.aer.AerBackend object at 0x7f9d7b843b10>>"
     },
     "metadata": {},
     "execution_count": 27
    }
   ],
   "source": [
    "from pytket.extensions.qiskit import AerBackend\n",
    "\n",
    "b = AerBackend()\n",
    "b.default_compilation_pass"
   ]
  },
  {
   "cell_type": "markdown",
   "metadata": {},
   "source": [
    "To compile a circuit using the default pass of a `Backend` we can simply use the `compile_circuit()` method:"
   ]
  },
  {
   "cell_type": "code",
   "execution_count": 28,
   "metadata": {
    "tags": []
   },
   "outputs": [
    {
     "output_type": "stream",
     "name": "stdout",
     "text": "global phase: 3pi/4\n     ┌────────────────┐┌───┐┌───────────┐┌───┐\nq_0: ┤ U3(pi,0,3pi/4) ├┤ X ├┤ U1(7pi/4) ├┤ X ├\n     └─┬────────────┬─┘└─┬─┘└───────────┘└─┬─┘\nq_1: ──┤ U3(pi,0,0) ├────■─────────────────■──\n       └────────────┘                         \n"
    }
   ],
   "source": [
    "circ = Circuit(2).X(0).Y(1).CRz(0.5,1,0)\n",
    "circ1 = circ.copy()\n",
    "b.compile_circuit(circ1)\n",
    "print(tk_to_qiskit(circ1))"
   ]
  },
  {
   "cell_type": "markdown",
   "metadata": {},
   "source": [
    "Every `Backend` will have a certain set of requirements that must be met by any circuit in order to run. These are exposed via the `required_predicates` property:"
   ]
  },
  {
   "cell_type": "code",
   "execution_count": 29,
   "metadata": {},
   "outputs": [
    {
     "output_type": "execute_result",
     "data": {
      "text/plain": "[NoSymbolsPredicate,\n GateSetPredicate:{ Measure CU1 CZ CX Sdg U1 SWAP S U2 CCX Y U3 Z X Unitary2qBox T noop Tdg Reset H }]"
     },
     "metadata": {},
     "execution_count": 29
    }
   ],
   "source": [
    "b.required_predicates"
   ]
  },
  {
   "cell_type": "markdown",
   "metadata": {},
   "source": [
    "We can test whether a given circuit satisfies these requirements using the `valid_circuit()` method:"
   ]
  },
  {
   "cell_type": "code",
   "execution_count": 30,
   "metadata": {},
   "outputs": [
    {
     "output_type": "execute_result",
     "data": {
      "text/plain": "False"
     },
     "metadata": {},
     "execution_count": 30
    }
   ],
   "source": [
    "b.valid_circuit(circ)"
   ]
  },
  {
   "cell_type": "code",
   "execution_count": 31,
   "metadata": {},
   "outputs": [
    {
     "output_type": "execute_result",
     "data": {
      "text/plain": "True"
     },
     "metadata": {},
     "execution_count": 31
    }
   ],
   "source": [
    "b.valid_circuit(circ1)"
   ]
  }
 ],
 "metadata": {
  "kernelspec": {
   "name": "python3",
   "display_name": "Python 3.9.0 64-bit ('qc_env')",
   "metadata": {
    "interpreter": {
     "hash": "e2978d320601cc1acbea1801eb2fb1728f38a65b40fc129cb31ada20d753e2fe"
    }
   }
  },
  "language_info": {
   "codemirror_mode": {
    "name": "ipython",
    "version": 3
   },
   "file_extension": ".py",
   "mimetype": "text/x-python",
   "name": "python",
   "nbconvert_exporter": "python",
   "pygments_lexer": "ipython3",
   "version": "3.9.0-final"
  }
 },
 "nbformat": 4,
 "nbformat_minor": 2
}
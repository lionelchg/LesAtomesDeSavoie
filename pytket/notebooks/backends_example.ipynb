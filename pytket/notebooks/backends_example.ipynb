{
 "cells": [
  {
   "cell_type": "markdown",
   "metadata": {},
   "source": [
    "# Backends: tket example"
   ]
  },
  {
   "cell_type": "markdown",
   "metadata": {},
   "source": [
    "This example shows how to use `pytket` to execute quantum circuits on both simulators and real devices, and how to interpret the results. As tket is designed to be platform-agnostic, we have unified the interfaces of different providers as much as possible into the `Backend` class for maximum portability of code. Currently, the following are supported:\n",
    "\n",
    "* ProjectQ simulator\n",
    "* Aer simulators (statevector, QASM, and unitary)\n",
    "* IBMQ devices\n",
    "* Rigetti QCS devices\n",
    "* Rigetti QVM (for device simulation or statevector)\n",
    "* AQT devices\n",
    "* Honeywell devices\n",
    "* Q# simulators\n",
    "\n",
    "In this notebook we will focus on the Aer, IBMQ and ProjectQ backends.\n",
    "\n",
    "To get started, we must install the core pytket package and the subpackages required to interface with the desired providers. We will also need the `QubitOperator` class from `openfermion` to construct operators for a later example. To get everything run the following in shell:\n",
    "\n",
    "```\n",
    "pip install pytket pytket_qiskit pytket_projectq openfermion\n",
    "```\n",
    "\n",
    "First, import the backends that we will be demonstrating."
   ]
  },
  {
   "cell_type": "code",
   "execution_count": 1,
   "metadata": {},
   "outputs": [],
   "source": [
    "from pytket.extensions.qiskit import AerStateBackend, AerBackend, AerUnitaryBackend, IBMQBackend, IBMQEmulatorBackend\n",
    "from pytket.extensions.projectq import ProjectQBackend"
   ]
  },
  {
   "cell_type": "markdown",
   "metadata": {},
   "source": [
    "We are also going to be making a circuit to run on these backends, so import the `Circuit` class."
   ]
  },
  {
   "cell_type": "code",
   "execution_count": 2,
   "metadata": {},
   "outputs": [],
   "source": [
    "from pytket import Circuit"
   ]
  },
  {
   "cell_type": "markdown",
   "metadata": {},
   "source": [
    "Below we generate a circuit which will produce a Bell state, assuming the qubits are all initialised in the |0> state:"
   ]
  },
  {
   "cell_type": "code",
   "execution_count": 3,
   "metadata": {},
   "outputs": [
    {
     "output_type": "execute_result",
     "data": {
      "text/plain": [
       "[H q[0]; CX q[0], q[1]; ]"
      ]
     },
     "metadata": {},
     "execution_count": 3
    }
   ],
   "source": [
    "circ = Circuit(2)\n",
    "circ.H(0)\n",
    "circ.CX(0,1)"
   ]
  },
  {
   "cell_type": "markdown",
   "metadata": {},
   "source": [
    "As a sanity check, we will use the `AerStateBackend` to verify that `circ` does actually produce a Bell state.\n",
    "\n",
    "To submit a circuit for excution on a backend we can use `process_circuit` with appropriate arguments. If we have multiple circuits to excecute, we can use `process_circuits` (note the plural), which will attempt to batch up the circuits if possible. Both methods return a `ResultHandle` object per submitted `Circuit` which you can use with result retrieval methods to get the result type you want (as long as that result type is supported by the backend).\n",
    "\n",
    "Calling `get_state` will return a `numpy` array corresponding to the statevector. \n",
    "This style of usage is used consistently in the `pytket` backends."
   ]
  },
  {
   "cell_type": "code",
   "execution_count": 4,
   "metadata": {
    "tags": []
   },
   "outputs": [
    {
     "output_type": "stream",
     "name": "stdout",
     "text": [
      "[0.70710678+0.j 0.        +0.j 0.        +0.j 0.70710678+0.j]\n"
     ]
    }
   ],
   "source": [
    "aer_state_b = AerStateBackend()\n",
    "state_handle = aer_state_b.process_circuit(circ)\n",
    "statevector = aer_state_b.get_result(state_handle).get_state()\n",
    "print(statevector)"
   ]
  },
  {
   "cell_type": "markdown",
   "metadata": {},
   "source": [
    "As we can see, the output state vector $\\lvert \\psi_{\\mathrm{circ}}\\rangle$ is $(\\lvert00\\rangle + \\lvert11\\rangle)/\\sqrt2$.\n",
    "\n",
    "This is a symmetric state. For non-symmetric states, we default to an ILO-BE format (increasing lexicographic order of (qu)bit ids, big-endian), but an alternative convention can be specified when retrieving results from backends. See the docs for the `BasisOrder` enum for more information."
   ]
  },
  {
   "cell_type": "markdown",
   "metadata": {},
   "source": [
    "A lesser-used simulator available through Qiskit Aer is their unitary simulator. This will be somewhat more expensive to run, but returns the full unitary matrix for the provided circuit. This is useful in the design of small subcircuits that will be used multiple times within other larger circuits - statevector simulators will only test that they act correctly on the $\\lvert 0 \\rangle^{\\otimes n}$ state, which is not enough to guarantee the circuit's correctness.\n",
    "\n",
    "The `AerUnitaryBackend` provides a convenient access point for this simulator for use with `pytket` circuits. This is a special case for a backend, as it provides a non standard `get_unitary` interface. The other non-standard backend is the `QsharpEstimatorBackend` provided in `pytket_qsharp` which exposes a `get_resources` method for resource estimation."
   ]
  },
  {
   "cell_type": "code",
   "execution_count": 5,
   "metadata": {
    "tags": []
   },
   "outputs": [
    {
     "output_type": "stream",
     "name": "stdout",
     "text": [
      "[[ 0.70710678+0.00000000e+00j  0.        +0.00000000e+00j\n   0.70710678-8.65956056e-17j  0.        +0.00000000e+00j]\n [ 0.        +0.00000000e+00j  0.70710678+0.00000000e+00j\n   0.        +0.00000000e+00j  0.70710678-8.65956056e-17j]\n [ 0.        +0.00000000e+00j  0.70710678+0.00000000e+00j\n   0.        +0.00000000e+00j -0.70710678+8.65956056e-17j]\n [ 0.70710678+0.00000000e+00j  0.        +0.00000000e+00j\n  -0.70710678+8.65956056e-17j  0.        +0.00000000e+00j]]\n"
     ]
    }
   ],
   "source": [
    "aer_unitary_b = AerUnitaryBackend()\n",
    "print(aer_unitary_b.get_unitary(circ))"
   ]
  },
  {
   "cell_type": "markdown",
   "metadata": {},
   "source": [
    "Now suppose we want to measure this Bell state to get some actual results out, so let's append some `Measure` gates to the circuit. The `Circuit` class has the `measure_all` utility function which appends `Measure` gates on every qubit. All of these results will be written to the default classical register ('c'). This function will automatically add the classical bits to the circuit if they are not already there."
   ]
  },
  {
   "cell_type": "code",
   "execution_count": 7,
   "metadata": {},
   "outputs": [
    {
     "output_type": "execute_result",
     "data": {
      "text/plain": [
       "[H q[0]; CX q[0], q[1]; Measure q[0] --> c[0]; Measure q[1] --> c[1]; ]"
      ]
     },
     "metadata": {},
     "execution_count": 7
    }
   ],
   "source": [
    "circ.measure_all()"
   ]
  },
  {
   "cell_type": "markdown",
   "metadata": {},
   "source": [
    "We can get some measured shots out from the `AerBackend`, which is an interface to the Qiskit Aer QASM simulator. Suppose we would like to get 10 shots out (10 repeats of the circuit and measurement). We can seed the simulator's random-number generator in order to make the results reproducible, using an optional keyword argument to `process_circuit`."
   ]
  },
  {
   "cell_type": "code",
   "execution_count": 12,
   "metadata": {
    "tags": []
   },
   "outputs": [
    {
     "output_type": "stream",
     "name": "stdout",
     "text": [
      "[[1 1]\n [1 1]\n [0 0]\n [1 1]\n [0 0]\n [1 1]\n [0 0]\n [0 0]\n [1 1]\n [0 0]\n [0 0]\n [0 0]\n [1 1]\n [1 1]\n [0 0]\n [0 0]\n [1 1]\n [0 0]\n [0 0]\n [0 0]\n [0 0]\n [1 1]\n [0 0]\n [0 0]\n [1 1]\n [0 0]\n [1 1]\n [1 1]\n [1 1]\n [0 0]\n [1 1]\n [0 0]\n [0 0]\n [1 1]\n [0 0]\n [0 0]\n [1 1]\n [1 1]\n [0 0]\n [1 1]\n [0 0]\n [1 1]\n [0 0]\n [1 1]\n [1 1]\n [0 0]\n [1 1]\n [1 1]\n [1 1]\n [1 1]\n [1 1]\n [0 0]\n [0 0]\n [1 1]\n [0 0]\n [0 0]\n [1 1]\n [1 1]\n [0 0]\n [1 1]\n [1 1]\n [1 1]\n [0 0]\n [1 1]\n [1 1]\n [1 1]\n [1 1]\n [1 1]\n [0 0]\n [0 0]\n [0 0]\n [0 0]\n [0 0]\n [1 1]\n [1 1]\n [1 1]\n [1 1]\n [1 1]\n [1 1]\n [1 1]\n [0 0]\n [1 1]\n [0 0]\n [1 1]\n [1 1]\n [1 1]\n [0 0]\n [0 0]\n [0 0]\n [0 0]\n [0 0]\n [0 0]\n [0 0]\n [1 1]\n [0 0]\n [1 1]\n [0 0]\n [0 0]\n [0 0]\n [0 0]]\n"
     ]
    }
   ],
   "source": [
    "aer_b = AerBackend()\n",
    "shots_handle = aer_b.process_circuit(circ, n_shots=100, seed=1)\n",
    "\n",
    "shots = aer_b.get_result(shots_handle).get_shots()\n",
    "print(shots)"
   ]
  },
  {
   "cell_type": "markdown",
   "metadata": {},
   "source": [
    "Shot tables are just numpy arrays where each row gives the final readout for each circuit run, and each column represents one of the classical bits in the circuit (ordered right-to-left to fit the little-endian convention, so the row `[1 0]` means bit 0 had value 0, and bit 1 had value 1).\n",
    "\n",
    "In this case there is a 40/60 split between $00$ and $11$ results. If we change the seed, or remove it, we will get varying results according to the pseudo-random number generation internal to Qiskit's QASM simulator.\n",
    "\n",
    "What happens if we simulate some noise in our imagined device, using the Qiskit Aer noise model?"
   ]
  },
  {
   "cell_type": "markdown",
   "metadata": {},
   "source": [
    "To investigate this, we will require an import from Qiskit. For more information about noise modelling using Qiskit Aer, see the [Qiskit device noise](https://qiskit.org/documentation/apidoc/aer_noise.html) documentation."
   ]
  },
  {
   "cell_type": "code",
   "execution_count": 13,
   "metadata": {},
   "outputs": [],
   "source": [
    "from qiskit.providers.aer.noise import NoiseModel\n",
    "my_noise_model = NoiseModel()\n",
    "readout_error = 0.2\n",
    "for q in range(2):\n",
    "    my_noise_model.add_readout_error([[1-readout_error, readout_error], [readout_error, 1-readout_error]], [q])"
   ]
  },
  {
   "cell_type": "markdown",
   "metadata": {},
   "source": [
    "This simple noise model gives a 20% chance that, upon measurement, a qubit that would otherwise have been measured as $0$ would instead be measured as $1$, and vice versa. Let's see what our shot table looks like with this model:"
   ]
  },
  {
   "cell_type": "code",
   "execution_count": 14,
   "metadata": {
    "tags": []
   },
   "outputs": [
    {
     "output_type": "stream",
     "name": "stdout",
     "text": [
      "[[0 0]\n [0 0]\n [0 0]\n [0 0]\n [0 0]\n [1 1]\n [0 0]\n [0 0]\n [1 0]\n [0 0]]\n"
     ]
    }
   ],
   "source": [
    "noisy_aer_b = AerBackend(my_noise_model)\n",
    "noisy_shots_handle = noisy_aer_b.process_circuit(circ, n_shots=10, seed=1, valid_check=False)\n",
    "noisy_shots = noisy_aer_b.get_result(noisy_shots_handle).get_shots()\n",
    "print(noisy_shots)"
   ]
  },
  {
   "cell_type": "markdown",
   "metadata": {},
   "source": [
    "We now have some spurious $01$ and $10$ measurements, which could never happen when measuring a Bell state on a noiseless device. \n",
    "\n",
    "The `AerBackend` class can accept any Qiskit noise model."
   ]
  },
  {
   "cell_type": "markdown",
   "metadata": {},
   "source": [
    "Suppose that we don't need the full shot table, but just want a summary of the results. The most common summary is the counts map, mapping the readout state to the number of times it was observed. We can retrieve this directly using `backend.get_counts` for those backends that support it, or use a utility function."
   ]
  },
  {
   "cell_type": "code",
   "execution_count": 15,
   "metadata": {
    "tags": []
   },
   "outputs": [
    {
     "output_type": "stream",
     "name": "stdout",
     "text": [
      "{(0, 0): 8, (1, 0): 1, (1, 1): 1}\n"
     ]
    }
   ],
   "source": [
    "from pytket.utils import counts_from_shot_table\n",
    "print(counts_from_shot_table(noisy_shots))"
   ]
  },
  {
   "cell_type": "markdown",
   "metadata": {},
   "source": [
    "All backends expose a generic `get_result` method which takes a `ResultHandle` and returns the respective result in the form of a `BackendResult` object. This object may hold measured results in the form of shots or counts, or an exact statevector from simulation. Measured results are stored as `OutcomeArray` objects, which compresses measured bit values into 8-bit integers. We can extract the bitwise values using `to_readouts`. \n",
    "\n",
    "Instead of an assumed ILO or DLO convention, we can use this object to request only the `Bit` measurements we want, in the order we want. Let's try reversing the bits of the noisy results. "
   ]
  },
  {
   "cell_type": "code",
   "execution_count": 17,
   "metadata": {
    "tags": []
   },
   "outputs": [
    {
     "output_type": "stream",
     "name": "stdout",
     "text": [
      "[[0 0]\n [0 0]\n [0 0]\n [0 0]\n [0 0]\n [1 1]\n [0 0]\n [0 0]\n [0 1]\n [0 0]]\n"
     ]
    }
   ],
   "source": [
    "backend_result = noisy_aer_b.get_result(noisy_shots_handle)\n",
    "bits = circ.bits\n",
    "\n",
    "outcomes = backend_result.get_shots([bits[1], bits[0]])\n",
    "print(outcomes)"
   ]
  },
  {
   "source": [
    "`BackendResult` objects can be natively serialized to and deserialized from a dictionary. This dictionary can be immediately dumped to `json` for storing results. "
   ],
   "cell_type": "markdown",
   "metadata": {}
  },
  {
   "cell_type": "code",
   "execution_count": 18,
   "metadata": {
    "tags": []
   },
   "outputs": [
    {
     "output_type": "stream",
     "name": "stdout",
     "text": [
      "{'qubits': [], 'bits': [['c', [1]], ['c', [0]]], 'shots': {'width': 2, 'array': [[0], [0], [0], [0], [0], [192], [0], [0], [64], [0]]}}\nCounter({(0, 0): 8, (1, 0): 1, (1, 1): 1})\n"
     ]
    }
   ],
   "source": [
    "from pytket.backends.backendresult import BackendResult\n",
    "result_dict = backend_result.to_dict()\n",
    "print(result_dict)\n",
    "print(BackendResult.from_dict(result_dict).get_counts())"
   ]
  },
  {
   "cell_type": "markdown",
   "metadata": {},
   "source": [
    "The last simulator we will demonstrate is the `ProjectQBackend`. ProjectQ offers fast simulation of quantum circuits with built-in support for fast expectation values from operators. The `ProjectQBackend` exposes this functionality to take in OpenFermion `QubitOperator` instances. These are convertible to and from `QubitPauliOperator` instances in Pytket.\n",
    "\n",
    "Note: ProjectQ can also produce statevectors in the style of `AerStateBackend`, and similarly Aer backends can calculate expectation values directly, consult the relevant documentation to see more.\n",
    "\n",
    "Let's create a `QubitOperator` object and a new circuit:"
   ]
  },
  {
   "cell_type": "code",
   "execution_count": 21,
   "metadata": {},
   "outputs": [],
   "source": [
    "from openfermion import QubitOperator\n",
    "\n",
    "hamiltonian = 0.5 * QubitOperator('X0 X2') + 0.3 * QubitOperator('Z0')"
   ]
  },
  {
   "cell_type": "code",
   "execution_count": 22,
   "metadata": {},
   "outputs": [
    {
     "output_type": "execute_result",
     "data": {
      "text/plain": [
       "[Y q[0]; H q[1]; Rx(0.3) q[2]; ]"
      ]
     },
     "metadata": {},
     "execution_count": 22
    }
   ],
   "source": [
    "circ2 = Circuit(3)\n",
    "circ2.Y(0)\n",
    "circ2.H(1)\n",
    "circ2.Rx(0.3, 2)"
   ]
  },
  {
   "cell_type": "markdown",
   "metadata": {},
   "source": [
    "Now we can create a `ProjectQBackend` instance and feed it our circuit and `QubitOperator`:"
   ]
  },
  {
   "cell_type": "code",
   "execution_count": 25,
   "metadata": {
    "tags": []
   },
   "outputs": [
    {
     "output_type": "stream",
     "name": "stderr",
     "text": [
      "Exception ignored in: <function Qubit.__del__ at 0x7fbc7c5c0e50>\n",
      "Traceback (most recent call last):\n",
      "  File \"/Users/cheng/code/envs/qc_env/lib/python3.9/site-packages/projectq/types/_qubit.py\", line 135, in __del__\n",
      "    self.engine.deallocate_qubit(weak_copy)\n",
      "  File \"/Users/cheng/code/envs/qc_env/lib/python3.9/site-packages/projectq/cengines/_basics.py\", line 150, in deallocate_qubit\n",
      "    self.send([Command(self,\n",
      "  File \"/Users/cheng/code/envs/qc_env/lib/python3.9/site-packages/projectq/cengines/_main.py\", line 288, in send\n",
      "    raise compact_exception  # use verbose=True for more info\n",
      "RuntimeError: Error: Qubit has not been measured / uncomputed! There is most likely a bug in your code.\n",
      " raised in:\n",
      "'  File \"/Users/cheng/code/envs/qc_env/lib/python3.9/site-packages/projectq/backends/_sim/_simulator.py\", line 387, in _handle'\n",
      "'    self._simulator.deallocate_qubit(ID)'\n",
      "Exception ignored in: <function Qubit.__del__ at 0x7fbc7c5c0e50>\n",
      "Traceback (most recent call last):\n",
      "  File \"/Users/cheng/code/envs/qc_env/lib/python3.9/site-packages/projectq/types/_qubit.py\", line 135, in __del__\n",
      "    self.engine.deallocate_qubit(weak_copy)\n",
      "  File \"/Users/cheng/code/envs/qc_env/lib/python3.9/site-packages/projectq/cengines/_basics.py\", line 150, in deallocate_qubit\n",
      "    self.send([Command(self,\n",
      "  File \"/Users/cheng/code/envs/qc_env/lib/python3.9/site-packages/projectq/cengines/_main.py\", line 288, in send\n",
      "    raise compact_exception  # use verbose=True for more info\n",
      "RuntimeError: Error: Qubit has not been measured / uncomputed! There is most likely a bug in your code.\n",
      " raised in:\n",
      "'  File \"/Users/cheng/code/envs/qc_env/lib/python3.9/site-packages/projectq/backends/_sim/_simulator.py\", line 387, in _handle'\n",
      "'    self._simulator.deallocate_qubit(ID)'\n",
      "(-0.2999999999999999+0j)\n"
     ]
    }
   ],
   "source": [
    "from pytket.utils.operators import QubitPauliOperator\n",
    "projectq_b = ProjectQBackend()\n",
    "expectation = projectq_b.get_operator_expectation_value(circ2, QubitPauliOperator.from_OpenFermion(hamiltonian))\n",
    "print(expectation)"
   ]
  },
  {
   "cell_type": "markdown",
   "metadata": {},
   "source": [
    "The last leg of this tour includes running a pytket circuit on an actual quantum computer. To do this, you will need an IBM quantum experience account and have your credentials stored on your computer. See https://quantum-computing.ibm.com to make an account and view available devices and their specs.\n",
    "\n",
    "Physical devices have much stronger constraints on the form of admissible circuits than simulators. They tend to support a minimal gate set, have restricted connectivity between qubits for two-qubit gates, and can have limited support for classical control flow or conditional gates. This is where we can invoke the tket compiler passes to transform our desired circuit into one that is suitable for the backend.\n",
    "\n",
    "To check our code works correctly, we can use the `IBMQEmulatorBackend` to run our code exactly as if it were going to run on a real device, but just execute on a simulator (with a basic noise model adapted from the reported device properties).\n",
    "\n"
   ]
  },
  {
   "source": [
    "Let's create an `IBMQEmulatorBackend` for the `ibmq_santiago` device and check if our circuit is valid to be run."
   ],
   "cell_type": "markdown",
   "metadata": {}
  },
  {
   "cell_type": "code",
   "execution_count": 26,
   "metadata": {},
   "outputs": [
    {
     "output_type": "stream",
     "name": "stderr",
     "text": [
      "/Users/cheng/code/envs/qc_env/lib/python3.9/site-packages/qiskit/providers/ibmq/ibmqfactory.py:192: UserWarning: Timestamps in IBMQ backend properties, jobs, and job results are all now in local time instead of UTC.\n  warnings.warn('Timestamps in IBMQ backend properties, jobs, and job results '\n"
     ]
    },
    {
     "output_type": "execute_result",
     "data": {
      "text/plain": [
       "False"
      ]
     },
     "metadata": {},
     "execution_count": 26
    }
   ],
   "source": [
    "ibmq_b_emu = IBMQEmulatorBackend('ibmq_santiago')\n",
    "ibmq_b_emu.valid_circuit(circ)"
   ]
  },
  {
   "cell_type": "markdown",
   "metadata": {},
   "source": [
    "It looks like we need to compile this circuit to be compatible with the device. To simplify this procedure, we provide minimal compilation passes designed for each backend (the `default_compilation_pass()` method) which will guarantee compatibility with the device. These may still fail if the input circuit has too many qubits or unsupported usage of conditional gates. The default passes can have their degree of optimisation by changing an integer parameter (optimisation levels 0, 1, 2), and they can be easily composed with any of tket's other optimisation passes for better performance.\n",
    "\n",
    "For convenience, we also wrap up this pass into the `compile_circuit` method if you just want to compile a single circuit."
   ]
  },
  {
   "cell_type": "code",
   "execution_count": 27,
   "metadata": {},
   "outputs": [],
   "source": [
    "ibmq_b_emu.compile_circuit(circ)\n"
   ]
  },
  {
   "source": [
    "Let's create a backend for running on the actual device and check our compiled circuit is valid for this backend too."
   ],
   "cell_type": "markdown",
   "metadata": {}
  },
  {
   "cell_type": "code",
   "execution_count": 28,
   "metadata": {},
   "outputs": [
    {
     "output_type": "execute_result",
     "data": {
      "text/plain": [
       "True"
      ]
     },
     "metadata": {},
     "execution_count": 28
    }
   ],
   "source": [
    "ibmq_b = IBMQBackend('ibmq_santiago')\n",
    "ibmq_b.valid_circuit(circ)"
   ]
  },
  {
   "cell_type": "markdown",
   "metadata": {},
   "source": [
    "We are now good to run this circuit on the device. After submitting, we can use the handle to check on the status of the job, so that we know when results are ready to be retrieved. The `circuit_status` method works for all backends, and returns a `CircuitStatus` object. If we just run `get_result` straight away, the backend will wait for results to complete, blocking any other code from running."
   ]
  },
  {
   "cell_type": "code",
   "execution_count": 29,
   "metadata": {},
   "outputs": [],
   "source": [
    "quantum_handle = ibmq_b.process_circuit(circ, n_shots=10)"
   ]
  },
  {
   "cell_type": "code",
   "execution_count": 30,
   "metadata": {},
   "outputs": [
    {
     "output_type": "stream",
     "name": "stdout",
     "text": [
      "CircuitStatus(status=<StatusEnum.COMPLETED: 'Circuit has completed. Results are ready.'>, message='job has successfully run')\n"
     ]
    }
   ],
   "source": [
    "print(ibmq_b.circuit_status(quantum_handle))"
   ]
  },
  {
   "cell_type": "code",
   "execution_count": 31,
   "metadata": {},
   "outputs": [
    {
     "output_type": "stream",
     "name": "stdout",
     "text": [
      "Job Status: job has successfully run\n",
      "[[1 1]\n",
      " [1 1]\n",
      " [0 0]\n",
      " [1 1]\n",
      " [0 0]\n",
      " [0 0]\n",
      " [0 0]\n",
      " [1 1]\n",
      " [0 0]\n",
      " [1 1]]\n"
     ]
    }
   ],
   "source": [
    "quantum_shots = ibmq_b.get_result(quantum_handle).get_shots()\n",
    "print(quantum_shots)"
   ]
  },
  {
   "cell_type": "markdown",
   "metadata": {},
   "source": [
    "These are from an actual device, so it's impossible to perfectly predict what the results will be. However, because of the problem of noise, it would be unsurprising to find a few $01$ or $10$ results in the table. The circuit is very short, so it should be fairly close to the ideal result.\n",
    "\n",
    "The devices available through the IBM Q Experience serve jobs one at a time from their respective queues, so a large amount of experiment time can be taken up by waiting for your jobs to reach the front of the queue. `pytket` allows circuits to be submitted to any backend in a single batch using the `process_circuits` method. For the `IBMQBackend`, this will collate the circuits into as few jobs as possible which will all be sent off into the queue for the device. The method returns a `ResultHandle` per submitted circuit, in the order of submission."
   ]
  },
  {
   "cell_type": "code",
   "execution_count": 32,
   "metadata": {},
   "outputs": [
    {
     "output_type": "stream",
     "name": "stdout",
     "text": [
      "[ResultHandle('604c960f4f0463edeead0dec', 0), ResultHandle('604c960f4f0463edeead0dec', 1), ResultHandle('604c960f4f0463edeead0dec', 2), ResultHandle('604c960f4f0463edeead0dec', 3), ResultHandle('604c960f4f0463edeead0dec', 4)]\n"
     ]
    }
   ],
   "source": [
    "circuits = []\n",
    "for i in range(5):\n",
    "    c = Circuit(2)\n",
    "    c.Rx(0.2*i,0).CX(0,1)\n",
    "    c.measure_all()\n",
    "    ibmq_b.compile_circuit(c)\n",
    "    circuits.append(c)\n",
    "handles = ibmq_b.process_circuits(circuits, n_shots=100)\n",
    "print(handles)"
   ]
  },
  {
   "cell_type": "markdown",
   "metadata": {},
   "source": [
    "We can now retrieve the results and process them. As we measured each circuit in the $Z$-basis, we can obtain the expectation value for the $ZZ$ operator immediately from these measurement results. We can calculate this using the `expectation_value_from_shots` utility method in `pytket`."
   ]
  },
  {
   "cell_type": "code",
   "execution_count": 33,
   "metadata": {},
   "outputs": [
    {
     "output_type": "stream",
     "name": "stdout",
     "text": [
      "Job Status: job has successfully run\n",
      "0.84\n",
      "0.94\n",
      "0.94\n",
      "0.9\n",
      "0.84\n"
     ]
    }
   ],
   "source": [
    "from pytket.utils import expectation_from_shots\n",
    "for handle in handles:\n",
    "    shots = ibmq_b.get_result(handle).get_shots()\n",
    "    exp_val = expectation_from_shots(shots)\n",
    "    print(exp_val)"
   ]
  },
  {
   "cell_type": "markdown",
   "metadata": {},
   "source": [
    "A `ResultHandle` can be easily stored in its string representaton and later reconstructed using the `from_str` method. For example, we could do something like this:"
   ]
  },
  {
   "cell_type": "code",
   "execution_count": 34,
   "metadata": {},
   "outputs": [
    {
     "output_type": "stream",
     "name": "stdout",
     "text": [
      "('604c9676df3c9bb7f7b55400', 0)\n",
      "Job Status: job has successfully run\n",
      "[[1 1]\n",
      " [1 1]\n",
      " [0 0]\n",
      " [0 0]\n",
      " [0 0]\n",
      " [1 1]\n",
      " [1 1]\n",
      " [1 1]\n",
      " [0 0]\n",
      " [1 1]]\n"
     ]
    }
   ],
   "source": [
    "from pytket.backends import ResultHandle\n",
    "c = Circuit(2).Rx(0.5,0).CX(0,1).measure_all()\n",
    "ibmq_b.compile_circuit(c)\n",
    "handle = ibmq_b.process_circuit(c, n_shots=10)\n",
    "handlestring = str(handle)\n",
    "print(handlestring)\n",
    "# ... later ...\n",
    "oldhandle = ResultHandle.from_str(handlestring)\n",
    "print(ibmq_b.get_result(oldhandle).get_shots())"
   ]
  },
  {
   "cell_type": "markdown",
   "metadata": {},
   "source": [
    "For backends which support persistent handles (currently `IBMQBackend`, `HoneywellBackend`, `BraketBackend` and `AQTBackend`) you can even stop your python session and use your result handles in a separate script to retrive results when they are ready, by storing the handle strings. For experiments with long queue times, this enables separate job submission and retrieval. Use `Backend.persistent_handles` to check whether a backend supports this feature.\n",
    "\n",
    "All backends will also cache all results obtained in the current python session, so you can use the `ResultHandle` to retrieve the results many times if you need to reuse the results. Over a long experiment, this can consume a large amount of RAM, so we recommend removing results from the cache when you are done with them. A simple way to achieve this is by calling `Backend.empty_cache` (e.g. at the end of each loop of a variational algorithm), or removing individual results with `Backend.pop_result`."
   ]
  },
  {
   "cell_type": "markdown",
   "metadata": {},
   "source": [
    "The backends in `pytket` are designed to be as similar to one another as possible. The example above using physical devices can be run entirely on a simulator by swapping out the `IBMQBackend` constructor for any other backend supporting shot outputs (e.g. `AerBackend`, `ProjectQBackend`, `ForestBackend`), or passing it the name of a different device. Furthermore, using pytket it is simple to convert between handling shot tables, counts maps and statevectors.\n",
    "\n",
    "For more information on backends and other `pytket` features, read our [documentation](https://cqcl.github.io/pytket) or see the other examples on our [GitHub repo](https://github.com/CQCL/pytket)."
   ]
  }
 ],
 "metadata": {
  "kernelspec": {
   "name": "python3",
   "display_name": "Python 3.9.0 64-bit ('qc_env')",
   "metadata": {
    "interpreter": {
     "hash": "e2978d320601cc1acbea1801eb2fb1728f38a65b40fc129cb31ada20d753e2fe"
    }
   }
  },
  "language_info": {
   "codemirror_mode": {
    "name": "ipython",
    "version": 3
   },
   "file_extension": ".py",
   "mimetype": "text/x-python",
   "name": "python",
   "nbconvert_exporter": "python",
   "pygments_lexer": "ipython3",
   "version": "3.9.0-final"
  }
 },
 "nbformat": 4,
 "nbformat_minor": 2
}
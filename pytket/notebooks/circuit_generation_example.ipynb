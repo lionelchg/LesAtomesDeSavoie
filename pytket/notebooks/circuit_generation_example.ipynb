{
 "cells": [
  {
   "cell_type": "markdown",
   "metadata": {},
   "source": [
    "# Circuit generation: tket example"
   ]
  },
  {
   "cell_type": "markdown",
   "metadata": {},
   "source": [
    "This notebook will provide a brief introduction to some of the more advanced methods of circuit generation available in `pytket`, including:\n",
    "* how to address wires and registers;\n",
    "* reading in circuits from QASM and Quipper ASCII files;\n",
    "* various types of 'boxes';\n",
    "* composition of circuits (both 'horizontally' and 'vertically');\n",
    "* use of symbolic gate parameters;\n",
    "* representation of classically controlled gates.\n",
    "\n",
    "## Wires, unit IDs and registers\n",
    "\n",
    "Let's get started by constructing a circuit with 3 qubits and 2 classical bits:"
   ]
  },
  {
   "cell_type": "code",
   "execution_count": 2,
   "metadata": {
    "tags": []
   },
   "outputs": [
    {
     "output_type": "stream",
     "name": "stdout",
     "text": [
      "[q[0], q[1], q[2]]\n[c[0], c[1]]\n"
     ]
    }
   ],
   "source": [
    "from pytket.circuit import Circuit\n",
    "c = Circuit(3, 2)\n",
    "print(c.qubits)\n",
    "print(c.bits)"
   ]
  },
  {
   "cell_type": "markdown",
   "metadata": {},
   "source": [
    "The qubits have automatically been assigned to a register with name `q` and indices 0, 1 and 2, while the bits have been assigned to a register with name `c` and indices 0 and 1.\n",
    "\n",
    "We can give these units arbitrary names and indices of arbitrary dimension:"
   ]
  },
  {
   "cell_type": "code",
   "execution_count": 3,
   "metadata": {
    "tags": []
   },
   "outputs": [
    {
     "output_type": "stream",
     "name": "stdout",
     "text": [
      "[alpha[0], beta[2, 1], gamma[0, 0, 0], q[0], q[1], q[2]]\n"
     ]
    }
   ],
   "source": [
    "from pytket.circuit import Qubit\n",
    "new_q1 = Qubit('alpha', 0)\n",
    "new_q2 = Qubit('beta', 2, 1)\n",
    "new_q3 = Qubit('gamma', (0,0,0))\n",
    "c.add_qubit(new_q1)\n",
    "c.add_qubit(new_q2)\n",
    "c.add_qubit(new_q3)\n",
    "print(c.qubits)"
   ]
  },
  {
   "cell_type": "markdown",
   "metadata": {},
   "source": [
    "We can also add a new register of qubits in one go:"
   ]
  },
  {
   "cell_type": "code",
   "execution_count": 4,
   "metadata": {
    "tags": []
   },
   "outputs": [
    {
     "output_type": "stream",
     "name": "stdout",
     "text": [
      "[alpha[0], beta[2, 1], delta[0], delta[1], delta[2], delta[3], gamma[0, 0, 0], q[0], q[1], q[2]]\n"
     ]
    }
   ],
   "source": [
    "c.add_q_register('delta', 4)\n",
    "print(c.qubits)"
   ]
  },
  {
   "cell_type": "markdown",
   "metadata": {},
   "source": [
    "Similar commands are available for classical bits.\n",
    "\n",
    "We can add gates to the circuit as follows:"
   ]
  },
  {
   "cell_type": "code",
   "execution_count": 5,
   "metadata": {},
   "outputs": [
    {
     "output_type": "execute_result",
     "data": {
      "text/plain": [
       "[CX q[0], q[1]; ]"
      ]
     },
     "metadata": {},
     "execution_count": 5
    }
   ],
   "source": [
    "c.CX(0,1)"
   ]
  },
  {
   "cell_type": "markdown",
   "metadata": {},
   "source": [
    "This command appends a CX gate with control `q[0]` and target `q[1]`. Note that the integer arguments are automatically converted to the default unit IDs. For simple circuits it is often easiest to stick to the default register and refer to the qubits by integers. To add gates to our own named units, we simply pass the `Qubit` (or classical `Bit`) as an argument. (We can't mix the two conventions in one command, however.)"
   ]
  },
  {
   "cell_type": "code",
   "execution_count": 5,
   "metadata": {
    "tags": []
   },
   "outputs": [
    {
     "output_type": "stream",
     "name": "stdout",
     "text": "[H alpha[0];, CX q[0], q[1];, CX q[1], beta[2, 1];, Rz(0.5*PI) beta[2, 1];]\n"
    }
   ],
   "source": [
    "c.H(new_q1)\n",
    "c.CX(Qubit('q',1), new_q2)\n",
    "c.Rz(0.5, new_q2)\n",
    "print(c.get_commands())"
   ]
  },
  {
   "cell_type": "markdown",
   "metadata": {},
   "source": [
    "Let's have a look at our circuit:"
   ]
  },
  {
   "cell_type": "code",
   "execution_count": 6,
   "metadata": {
    "tags": []
   },
   "outputs": [
    {
     "output_type": "stream",
     "name": "stdout",
     "text": "[H alpha[0];, CX q[0], q[1];, CX q[1], beta[2, 1];, Rz(0.5*PI) beta[2, 1];]\n"
    }
   ],
   "source": [
    "print(c.get_commands())"
   ]
  },
  {
   "cell_type": "markdown",
   "metadata": {},
   "source": [
    "## Exporting to and importing from standard formats\n",
    "\n",
    "We can export a `Circuit` to a file in QASM format. Conversely, if we have such a file we can import it into `pytket`. There are some limitations on the circuits that can be converted: for example, multi-dimensional indices (as in `beta` and `gamma` above) are not allowed.\n",
    "\n",
    "Here is a simple example:"
   ]
  },
  {
   "cell_type": "code",
   "execution_count": 7,
   "metadata": {
    "tags": []
   },
   "outputs": [
    {
     "output_type": "stream",
     "name": "stdout",
     "text": "OPENQASM 2.0;\ninclude \"qelib1.inc\";\n\nqreg q[3];\ncreg c[1];\nh q[0];\ncx q[0],q[1];\ncx q[1],q[2];\nrz(0.25*pi) q[2];\nmeasure q[2] -> c[0];\n\n"
    }
   ],
   "source": [
    "from pytket.qasm import circuit_to_qasm, circuit_from_qasm\n",
    "\n",
    "c = Circuit(3,1)\n",
    "c.H(0)\n",
    "c.CX(0,1)\n",
    "c.CX(1,2)\n",
    "c.Rz(0.25,2)\n",
    "c.Measure(2,0)\n",
    "\n",
    "qasmfile = 'c.qasm'\n",
    "circuit_to_qasm(c, qasmfile)\n",
    "\n",
    "with open(qasmfile) as f: print(f.read())"
   ]
  },
  {
   "cell_type": "code",
   "execution_count": 8,
   "metadata": {},
   "outputs": [
    {
     "output_type": "execute_result",
     "data": {
      "text/plain": "True"
     },
     "metadata": {},
     "execution_count": 8
    }
   ],
   "source": [
    "c1 = circuit_from_qasm(qasmfile)\n",
    "c == c1"
   ]
  },
  {
   "cell_type": "markdown",
   "metadata": {},
   "source": [
    "We can also import files in the Quipper ASCII format:"
   ]
  },
  {
   "cell_type": "code",
   "execution_count": 9,
   "metadata": {
    "tags": []
   },
   "outputs": [
    {
     "output_type": "stream",
     "name": "stdout",
     "text": "[Rz(1.25*PI) q[0];, T q[1];, Ry(1*PI) q[0];, Ry(1*PI) q[1];, CX q[1], q[0];, Ry(3.75*PI) q[1];, CX q[0], q[1];, Ry(0.25*PI) q[1];, CX q[1], q[0];, T q[0];, Rz(1.25*PI) q[1];, Ry(1*PI) q[0];, Ry(1*PI) q[1];, SWAP q[0], q[1];, T q[0];, Rz(1.25*PI) q[1];, Ry(1*PI) q[0];, Ry(1*PI) q[1];, CX q[0], q[1];, Ry(3.75*PI) q[0];, CX q[1], q[0];, Ry(0.25*PI) q[0];, CX q[0], q[1];, Rz(1.25*PI) q[0];, T q[1];, Ry(1*PI) q[0];, Ry(1*PI) q[1];]\n"
    }
   ],
   "source": [
    "from pytket.quipper import circuit_from_quipper\n",
    "\n",
    "quipfile = 'c.quip'\n",
    "with open(quipfile, 'w') as f: f.write(\"\"\"Inputs: 0:Qbit, 1:Qbit\n",
    "QGate[\"W\"](0,1)\n",
    "QGate[\"omega\"](1)\n",
    "QGate[\"swap\"](0,1)\n",
    "QGate[\"W\"]*(1,0)\n",
    "Outputs: 0:Qbit, 1:Qbit\n",
    "\"\"\")\n",
    "    \n",
    "c = circuit_from_quipper(quipfile)\n",
    "print(c.get_commands())"
   ]
  },
  {
   "cell_type": "markdown",
   "metadata": {},
   "source": [
    "Note that the Quipper gates that are not supported directly in `pytket` (`W` and `omega`) are translated into equivalent sequences of `pytket` gates.\n",
    "\n",
    "Quipper subroutines are also supported, corresponding to `CircBox` operations in `pytket`:"
   ]
  },
  {
   "cell_type": "code",
   "execution_count": 10,
   "metadata": {
    "tags": []
   },
   "outputs": [
    {
     "output_type": "stream",
     "name": "stdout",
     "text": "[H q[0];, CircBox q[2], q[1];, CircBox q[2], q[1];, H q[1];]\n"
    }
   ],
   "source": [
    "with open(quipfile, 'w') as f: f.write(\"\"\"Inputs: 0:Qbit, 1:Qbit, 2:Qbit\n",
    "QGate[\"H\"](0)\n",
    "Subroutine(x2)[\"sub\", shape \"([Q,Q],())\"] (2,1) -> (2,1)\n",
    "QGate[\"H\"](1)\n",
    "Outputs: 0:Qbit, 1:Qbit, 2:Qbit\n",
    "\n",
    "Subroutine: \"sub\"\n",
    "Shape: \"([Q,Q],())\"\n",
    "Controllable: no\n",
    "Inputs: 0:Qbit, 1:Qbit\n",
    "QGate[\"Y\"](0)\n",
    "QGate[\"not\"](1) with controls=[+0]\n",
    "QGate[\"Z\"](1)\n",
    "Outputs: 0:Qbit, 1:Qbit\n",
    "\"\"\")\n",
    "    \n",
    "c = circuit_from_quipper(quipfile)\n",
    "cmds = c.get_commands()\n",
    "print(cmds)"
   ]
  },
  {
   "cell_type": "markdown",
   "metadata": {},
   "source": [
    "## Boxes\n",
    "\n",
    "The `CircBox` is an example of a `pytket` 'box', which is a reusable encapsulation of a circuit inside another. We can recover the circuit 'inside' the box using the `get_circuit()` method:"
   ]
  },
  {
   "cell_type": "code",
   "execution_count": 11,
   "metadata": {
    "tags": []
   },
   "outputs": [
    {
     "output_type": "stream",
     "name": "stdout",
     "text": "[Y q[0];, CX q[0], q[1];, Z q[1];]\n"
    }
   ],
   "source": [
    "boxed_circuit = cmds[1].op.get_circuit()\n",
    "print(boxed_circuit.get_commands())"
   ]
  },
  {
   "cell_type": "markdown",
   "metadata": {},
   "source": [
    "The `CircBox` is the most general type of box, implementing an arbitrary circuit. But `pytket` supports several other useful box types:\n",
    "* `Unitary1qBox` (implementing an arbitrary $2 \\times 2$ unitary matrix);\n",
    "* `Unitary2qBox` (implementing an arbitrary $4 \\times 4$ unitary matrix);\n",
    "* `ExpBox` (implementing $e^{itA}$ for an arbitrary $4 \\times 4$ hermitian matrix $A$ and parameter $t$);\n",
    "* `PauliExpBox` (implementing $e^{-\\frac{1}{2} i \\pi t (\\sigma_0 \\otimes \\sigma_1 \\otimes \\cdots)}$ for arbitrary Pauli operators $\\sigma_i \\in \\{\\mathrm{I}, \\mathrm{X}, \\mathrm{Y}, \\mathrm{Z}\\}$ and parameter $t$).\n",
    "\n",
    "An example will illustrate how these various box types are added to a circuit:"
   ]
  },
  {
   "cell_type": "code",
   "execution_count": 12,
   "metadata": {
    "tags": []
   },
   "outputs": [
    {
     "output_type": "stream",
     "name": "stdout",
     "text": "[CircBox q[0], q[1];, Unitary1qBox q[2];, Unitary2qBox q[1], q[2];, ExpBox q[0], q[1];, PauliExpBox q[0], q[1], q[2];]\n"
    }
   ],
   "source": [
    "from pytket.circuit import CircBox, Unitary1qBox, Unitary2qBox, ExpBox, PauliExpBox\n",
    "from pytket.pauli import Pauli\n",
    "import numpy as np\n",
    "from math import sqrt\n",
    "\n",
    "boxycirc = Circuit(3)\n",
    "\n",
    "# Add a CircBox:\n",
    "subcirc = Circuit(2)\n",
    "subcirc.X(0).Y(1).CZ(0,1)\n",
    "cbox = CircBox(subcirc)\n",
    "boxycirc.add_circbox(cbox, args=[Qubit(0),Qubit(1)])\n",
    "\n",
    "# Add a Unitary1qBox:\n",
    "m1 = np.asarray([[1/2, sqrt(3)/2], [sqrt(3)/2, -1/2]])\n",
    "m1box = Unitary1qBox(m1)\n",
    "boxycirc.add_unitary1qbox(m1box, 2)\n",
    "\n",
    "# Add a Unitary2qBox:\n",
    "m2 = np.asarray([[0,0,1,0], [0,1,0,0], [0,0,0,1], [1,0,0,0]])\n",
    "m2box = Unitary2qBox(m2)\n",
    "boxycirc.add_unitary2qbox(m2box, 1, 2)\n",
    "\n",
    "# Add an ExpBox:\n",
    "A = np.asarray([[1, 2, 3, 4+1j], [2, 0, 1j, -1], [3, -1j, 2, 1j], [4-1j, -1, -1j, 1]])\n",
    "ebox = ExpBox(A, 0.5)\n",
    "boxycirc.add_expbox(ebox, 0, 1)\n",
    "\n",
    "# Add a PauliExpBox:\n",
    "pbox = PauliExpBox([Pauli.X, Pauli.Z, Pauli.X], 0.75)\n",
    "boxycirc.add_pauliexpbox(pbox, [0,1,2])\n",
    "\n",
    "print(boxycirc.get_commands())"
   ]
  },
  {
   "cell_type": "markdown",
   "metadata": {},
   "source": [
    "The `get_circuit()` method is available for all box types, and returns a `Circuit` object. For example:"
   ]
  },
  {
   "cell_type": "code",
   "execution_count": 13,
   "metadata": {
    "tags": []
   },
   "outputs": [
    {
     "output_type": "stream",
     "name": "stdout",
     "text": "[H q[0];, H q[2];, CX q[2], q[1];, CX q[1], q[0];, Rz(0.75*PI) q[0];, CX q[1], q[0];, H q[0];, CX q[2], q[1];, H q[2];]\n"
    }
   ],
   "source": [
    "print(pbox.get_circuit().get_commands())"
   ]
  },
  {
   "cell_type": "markdown",
   "metadata": {},
   "source": [
    "## Circuit composition\n",
    "\n",
    "Circuits can be composed either serially, whereby wires are joined together, or in parallel, using the `append()` command.\n",
    "\n",
    "For a simple illustration of serial composition, let's create two circuits with compatible set of wires, and append the second to the first:"
   ]
  },
  {
   "cell_type": "code",
   "execution_count": 14,
   "metadata": {
    "tags": []
   },
   "outputs": [
    {
     "output_type": "stream",
     "name": "stdout",
     "text": "[CX q[0], q[1];, CZ q[1], q[0];]\n"
    }
   ],
   "source": [
    "c = Circuit(2)\n",
    "c.CX(0,1)\n",
    "\n",
    "c1 = Circuit(2)\n",
    "c1.CZ(1,0)\n",
    "\n",
    "c.append(c1)\n",
    "\n",
    "print(c.get_commands())"
   ]
  },
  {
   "cell_type": "markdown",
   "metadata": {},
   "source": [
    "In the above example, there was a one-to-one match between the unit IDs in the two circuits, and they were matched up accordingly. The same applied with named unit IDs:"
   ]
  },
  {
   "cell_type": "code",
   "execution_count": 15,
   "metadata": {
    "tags": []
   },
   "outputs": [
    {
     "output_type": "stream",
     "name": "stdout",
     "text": "[CX x, y;, CZ y, x;]\n"
    }
   ],
   "source": [
    "x, y = Qubit('x'), Qubit('y')\n",
    "\n",
    "c = Circuit()\n",
    "c.add_qubit(x)\n",
    "c.add_qubit(y)\n",
    "c.CX(x,y)\n",
    "\n",
    "c1 = Circuit()\n",
    "c1.add_qubit(x)\n",
    "c1.add_qubit(y)\n",
    "c1.CZ(y,x)\n",
    "\n",
    "c.append(c1)\n",
    "\n",
    "print(c.get_commands())"
   ]
  },
  {
   "cell_type": "markdown",
   "metadata": {},
   "source": [
    "If either circuit contains wires not matching any wires in the other, those are added to the other circuit before composition:"
   ]
  },
  {
   "cell_type": "code",
   "execution_count": 16,
   "metadata": {
    "tags": []
   },
   "outputs": [
    {
     "output_type": "stream",
     "name": "stdout",
     "text": "[x, y, z]\n[CX x, y;, CZ y, x;, CZ y, x;, CY y, z;]\n"
    }
   ],
   "source": [
    "z = Qubit('z')\n",
    "c1.add_qubit(z)\n",
    "c1.CY(y,z)\n",
    "c.append(c1)\n",
    "print(c.qubits)\n",
    "print(c.get_commands())"
   ]
  },
  {
   "cell_type": "markdown",
   "metadata": {},
   "source": [
    "If the sets of unit IDs for the two circuits are disjoint, then the composition is entirely parallel.\n",
    "\n",
    "What if we want to serially compose two circuits having different sets of `Qubit`? In that case, we can use the `rename_units()` method on one or other of them to bring them into line. This method takes a dictionary mapping current unit IDs to new one:"
   ]
  },
  {
   "cell_type": "code",
   "execution_count": 17,
   "metadata": {
    "tags": []
   },
   "outputs": [
    {
     "output_type": "stream",
     "name": "stdout",
     "text": "[CX w[0], w[1];, CZ w[1], w[0];, CZ w[1], w[0];, H w[0];, CY w[1], w[2];, CX w[0], w[1];, CRz(0.25*PI) w[1], w[2];]\n"
    }
   ],
   "source": [
    "c2 = Circuit()\n",
    "c2.add_q_register('w', 3)\n",
    "w = [Qubit('w', i) for i in range(3)]\n",
    "c2.H(w[0]).CX(w[0],w[1]).CRz(0.25, w[1],w[2])\n",
    "\n",
    "c.rename_units({x:w[0], y:w[1], z:w[2]})\n",
    "\n",
    "c.append(c2)\n",
    "\n",
    "print(c.get_commands())"
   ]
  },
  {
   "cell_type": "markdown",
   "metadata": {},
   "source": [
    "## Symbolic parameters\n",
    "\n",
    "Many of the gates supported by `pytket` are parametrized by one or more phase parameters, which represent rotations in multiples of $\\pi$. For example, $\\mathrm{Rz}(\\frac{1}{2})$ represents a quarter turn, i.e. a rotation of $\\pi/2$, about the Z axis. If we know the values of these parameters we can add the gates directly to our circuit:"
   ]
  },
  {
   "cell_type": "code",
   "execution_count": 18,
   "metadata": {},
   "outputs": [
    {
     "output_type": "execute_result",
     "data": {
      "text/plain": "[Rz(0.5*PI) q[0]; ]"
     },
     "metadata": {},
     "execution_count": 18
    }
   ],
   "source": [
    "c = Circuit(1)\n",
    "c.Rz(0.5, 0)"
   ]
  },
  {
   "cell_type": "markdown",
   "metadata": {},
   "source": [
    "However, we may wish to construct and manipulate circuits containing such parametrized gates without specifying the values. This allows us to do calculations in a general setting, only later substituting values for the parameters.\n",
    "\n",
    "Thus `pytket` allows us to specify any of the parameters as symbols. All manipulations (such as combination and cancellation of gates) are performed on the symbolic representation:"
   ]
  },
  {
   "cell_type": "code",
   "execution_count": 19,
   "metadata": {
    "tags": []
   },
   "outputs": [
    {
     "output_type": "stream",
     "name": "stdout",
     "text": "[Rz(0.5*PI) q[0];, Rz(a*PI) q[0];]\n"
    }
   ],
   "source": [
    "from sympy import Symbol\n",
    "\n",
    "a = Symbol('a')\n",
    "c.Rz(a, 0)\n",
    "\n",
    "print(c.get_commands())"
   ]
  },
  {
   "cell_type": "markdown",
   "metadata": {},
   "source": [
    "When we apply any transformation to this circuit, the symbolic parameter is preserved in the result:"
   ]
  },
  {
   "cell_type": "code",
   "execution_count": 20,
   "metadata": {
    "tags": []
   },
   "outputs": [
    {
     "output_type": "stream",
     "name": "stdout",
     "text": "[Rz(0.5 + a*PI) q[0];]\n"
    }
   ],
   "source": [
    "from pytket.transform import Transform\n",
    "\n",
    "Transform.RemoveRedundancies().apply(c)\n",
    "\n",
    "print(c.get_commands())"
   ]
  },
  {
   "cell_type": "markdown",
   "metadata": {},
   "source": [
    "To substitute values for symbols, we use the `symbol_substitution()` method, supplying a dictionary from symbols to values:"
   ]
  },
  {
   "cell_type": "code",
   "execution_count": 21,
   "metadata": {
    "tags": []
   },
   "outputs": [
    {
     "output_type": "stream",
     "name": "stdout",
     "text": "[Rz(1.25*PI) q[0];]\n"
    }
   ],
   "source": [
    "c.symbol_substitution({a:0.75})\n",
    "\n",
    "print(c.get_commands())"
   ]
  },
  {
   "cell_type": "markdown",
   "metadata": {},
   "source": [
    "We can also substitute symbols for other symbols:"
   ]
  },
  {
   "cell_type": "code",
   "execution_count": 22,
   "metadata": {
    "tags": []
   },
   "outputs": [
    {
     "output_type": "stream",
     "name": "stdout",
     "text": "[Rz(3*a*PI) q[0];]\n"
    }
   ],
   "source": [
    "b = Symbol('b')\n",
    "c = Circuit(1)\n",
    "c.Rz(a+b, 0)\n",
    "c.symbol_substitution({b:2*a})\n",
    "print(c.get_commands())"
   ]
  },
  {
   "cell_type": "markdown",
   "metadata": {},
   "source": [
    "## Custom gates\n",
    "\n",
    "We can define custom parametrized gates in `pytket` by first setting up a circuit containing symbolic parameters and then converting this to a parametrized operation type:"
   ]
  },
  {
   "cell_type": "code",
   "execution_count": 23,
   "metadata": {
    "tags": []
   },
   "outputs": [
    {
     "output_type": "stream",
     "name": "stdout",
     "text": "[g(0.2,1.3) q[0], q[3], q[1];]\n"
    }
   ],
   "source": [
    "from pytket.circuit import CustomGateDef\n",
    "\n",
    "a = Symbol('a')\n",
    "b = Symbol('b')\n",
    "setup = Circuit(3)\n",
    "setup.CX(0, 1)\n",
    "setup.Rz(a+0.5, 2)\n",
    "setup.CRz(b, 0, 2)\n",
    "my_gate = CustomGateDef.define(\"g\", setup, [a, b])\n",
    "c = Circuit(4)\n",
    "c.add_custom_gate(my_gate, [0.2, 1.3], [0, 3, 1])\n",
    "print(c.get_commands())"
   ]
  },
  {
   "cell_type": "markdown",
   "metadata": {},
   "source": [
    "Custom gates can also receive symbolic parameters:"
   ]
  },
  {
   "cell_type": "code",
   "execution_count": 24,
   "metadata": {
    "tags": []
   },
   "outputs": [
    {
     "output_type": "stream",
     "name": "stdout",
     "text": "[g(0.2,1.3) q[0], q[3], q[1];, g(x,1.0) q[0], q[1], q[2];]\n"
    }
   ],
   "source": [
    "x = Symbol('x')\n",
    "c.add_custom_gate(my_gate, [x, 1.], [0,1,2])\n",
    "print(c.get_commands())"
   ]
  },
  {
   "cell_type": "markdown",
   "metadata": {},
   "source": [
    "## Decomposing boxes and custom gates\n",
    "\n",
    "Having defined a circuit containing custom gates, we may now want to decompose it into elementary gates. The `DecomposeBoxes()` transform allows us to do this:"
   ]
  },
  {
   "cell_type": "code",
   "execution_count": 25,
   "metadata": {
    "tags": []
   },
   "outputs": [
    {
     "output_type": "stream",
     "name": "stdout",
     "text": "[CX q[0], q[3];, Rz(0.7*PI) q[1];, Rz(0.5 + x*PI) q[2];, CRz(1.3*PI) q[0], q[1];, CX q[0], q[1];, CRz(1*PI) q[0], q[2];]\n"
    }
   ],
   "source": [
    "Transform.DecomposeBoxes().apply(c)\n",
    "print(c.get_commands())"
   ]
  },
  {
   "cell_type": "markdown",
   "metadata": {},
   "source": [
    "The same transform works on circuits composed of arbitrary boxes. Let's try it on a copy of the circuit we built up earlier out of various box types."
   ]
  },
  {
   "cell_type": "code",
   "execution_count": 26,
   "metadata": {
    "tags": []
   },
   "outputs": [
    {
     "output_type": "stream",
     "name": "stdout",
     "text": "[X q[0];, Y q[1];, tk1(0.5*PI, 0.666667*PI, 0.5*PI) q[2];, CZ q[0], q[1];, tk1(0.5*PI, 0*PI, 1.5*PI) q[2];, tk1(0.0979985*PI, 0.547369*PI, 1.10642*PI) q[0];, tk1(1.5*PI, 0.5*PI, 0.5*PI) q[1];, S q[0];, S q[1];, CX q[2], q[1];, Rz(0*PI) q[1];, Ry(0*PI) q[2];, CX q[1], q[2];, Ry(0.5*PI) q[2];, CX q[2], q[1];, tk1(1*PI, 0.5*PI, 1*PI) q[1];, Sdg q[2];, tk1(0.614175*PI, 0.45238*PI, 0.831835*PI) q[1];, tk1(0*PI, 0.5*PI, 0.5*PI) q[2];, CX q[1], q[0];, H q[2];, Rz(0.138039*PI) q[0];, Ry(3.74483*PI) q[1];, CX q[0], q[1];, Ry(0.456828*PI) q[1];, CX q[1], q[0];, tk1(0.809498*PI, 0.664389*PI, 0.669332*PI) q[0];, Sdg q[1];, H q[0];, tk1(0.737201*PI, 0.802211*PI, 3.78537*PI) q[1];, CX q[2], q[1];, CX q[1], q[0];, Rz(0.75*PI) q[0];, CX q[1], q[0];, H q[0];, CX q[2], q[1];, H q[2];]\n"
    }
   ],
   "source": [
    "c = boxycirc.copy()\n",
    "Transform.DecomposeBoxes().apply(c)\n",
    "print(c.get_commands())"
   ]
  },
  {
   "cell_type": "markdown",
   "metadata": {},
   "source": [
    "Note that the unitaries have been decomposed into elementary gates.\n",
    "\n",
    "## Classical controls\n",
    "\n",
    "Most of the examples above involve only pure quantum gates. However, `pytket` can also represent gates whose operation is conditional on one or more classical inputs.\n",
    "\n",
    "For example, suppose we want to run the complex circuit `c` we've just constructed, then measure qubits 0 and 1, and finally apply an $\\mathrm{Rz}(\\frac{1}{2})$ rotation to qubit 2 if and only if the measurements were 0 and 1 respectively.\n",
    "\n",
    "First, we'll add two classical wires to the circuit to store the measurement results:"
   ]
  },
  {
   "cell_type": "code",
   "execution_count": 27,
   "metadata": {},
   "outputs": [],
   "source": [
    "from pytket.circuit import Bit\n",
    "\n",
    "c.add_c_register('m', 2)\n",
    "m = [Bit('m', i) for i in range(2)]"
   ]
  },
  {
   "cell_type": "markdown",
   "metadata": {},
   "source": [
    "Classically conditioned operations depend on all their inputs being 1. Since we want to condition on `m[0]` being 0, we must first apply an X gate to its qubit, and then measure:"
   ]
  },
  {
   "cell_type": "code",
   "execution_count": 28,
   "metadata": {},
   "outputs": [
    {
     "output_type": "execute_result",
     "data": {
      "text/plain": "[X q[0]; Y q[1]; tk1(0.5*PI, 0.666667*PI, 0.5*PI) q[2]; CZ q[0], q[1]; tk1(0.5*PI, 0*PI, 1.5*PI) q[2]; tk1(0.0979985*PI, 0.547369*PI, 1.10642*PI) q[0]; tk1(1.5*PI, 0.5*PI, 0.5*PI) q[1]; S q[0]; S q[1]; CX q[2], q[1]; Rz(0*PI) q[1]; Ry(0*PI) q[2]; CX q[1], q[2]; Ry(0.5*PI) q[2]; CX q[2], q[1]; tk1(1*PI, 0.5*PI, 1*PI) q[1]; Sdg q[2]; tk1(0.614175*PI, 0.45238*PI, 0.831835*PI) q[1]; tk1(0*PI, 0.5*PI, 0.5*PI) q[2]; CX q[1], q[0]; H q[2]; Rz(0.138039*PI) q[0]; Ry(3.74483*PI) q[1]; CX q[0], q[1]; Ry(0.456828*PI) q[1]; CX q[1], q[0]; tk1(0.809498*PI, 0.664389*PI, 0.669332*PI) q[0]; Sdg q[1]; H q[0]; tk1(0.737201*PI, 0.802211*PI, 3.78537*PI) q[1]; CX q[2], q[1]; CX q[1], q[0]; Rz(0.75*PI) q[0]; CX q[1], q[0]; H q[0]; CX q[2], q[1]; Measure q[1] --> m[1]; X q[0]; H q[2]; Measure q[0] --> m[0]; ]"
     },
     "metadata": {},
     "execution_count": 28
    }
   ],
   "source": [
    "q = [Qubit('q', i) for i in range(3)]\n",
    "c.X(q[0])\n",
    "c.Measure(q[0], m[0])\n",
    "c.Measure(q[1], m[1])"
   ]
  },
  {
   "cell_type": "markdown",
   "metadata": {},
   "source": [
    "Finally we add the classically conditioned Rz operation, using the `add_gate()` method:"
   ]
  },
  {
   "cell_type": "code",
   "execution_count": 29,
   "metadata": {},
   "outputs": [
    {
     "output_type": "execute_result",
     "data": {
      "text/plain": "[X q[0]; Y q[1]; tk1(0.5*PI, 0.666667*PI, 0.5*PI) q[2]; CZ q[0], q[1]; tk1(0.5*PI, 0*PI, 1.5*PI) q[2]; tk1(0.0979985*PI, 0.547369*PI, 1.10642*PI) q[0]; tk1(1.5*PI, 0.5*PI, 0.5*PI) q[1]; S q[0]; S q[1]; CX q[2], q[1]; Rz(0*PI) q[1]; Ry(0*PI) q[2]; CX q[1], q[2]; Ry(0.5*PI) q[2]; CX q[2], q[1]; tk1(1*PI, 0.5*PI, 1*PI) q[1]; Sdg q[2]; tk1(0.614175*PI, 0.45238*PI, 0.831835*PI) q[1]; tk1(0*PI, 0.5*PI, 0.5*PI) q[2]; CX q[1], q[0]; H q[2]; Rz(0.138039*PI) q[0]; Ry(3.74483*PI) q[1]; CX q[0], q[1]; Ry(0.456828*PI) q[1]; CX q[1], q[0]; tk1(0.809498*PI, 0.664389*PI, 0.669332*PI) q[0]; Sdg q[1]; H q[0]; tk1(0.737201*PI, 0.802211*PI, 3.78537*PI) q[1]; CX q[2], q[1]; CX q[1], q[0]; Rz(0.75*PI) q[0]; CX q[1], q[0]; H q[0]; CX q[2], q[1]; Measure q[1] --> m[1]; X q[0]; H q[2]; Measure q[0] --> m[0]; IF ([m[0], m[1]] == 3) THEN Rz(0.5*PI) q[2]; ]"
     },
     "metadata": {},
     "execution_count": 29
    }
   ],
   "source": [
    "from pytket.circuit import OpType\n",
    "\n",
    "c.add_gate(OpType.Rz, [0.5], [q[2]], condition_bits=[m[0], m[1]], condition_value=3)"
   ]
  },
  {
   "cell_type": "markdown",
   "metadata": {},
   "source": [
    "Note that many of the transforms and compilation passes will not accept circuits that contain classical controls."
   ]
  },
  {
   "cell_type": "code",
   "execution_count": null,
   "metadata": {},
   "outputs": [],
   "source": []
  }
 ],
 "metadata": {
  "kernelspec": {
   "name": "python3",
   "display_name": "Python 3.9.0 64-bit ('qc_env')",
   "metadata": {
    "interpreter": {
     "hash": "e2978d320601cc1acbea1801eb2fb1728f38a65b40fc129cb31ada20d753e2fe"
    }
   }
  },
  "language_info": {
   "codemirror_mode": {
    "name": "ipython",
    "version": 3
   },
   "file_extension": ".py",
   "mimetype": "text/x-python",
   "name": "python",
   "nbconvert_exporter": "python",
   "pygments_lexer": "ipython3",
   "version": "3.9.0-final"
  }
 },
 "nbformat": 4,
 "nbformat_minor": 2
}
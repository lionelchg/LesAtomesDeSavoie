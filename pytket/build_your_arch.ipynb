{
 "metadata": {
  "language_info": {
   "codemirror_mode": {
    "name": "ipython",
    "version": 3
   },
   "file_extension": ".py",
   "mimetype": "text/x-python",
   "name": "python",
   "nbconvert_exporter": "python",
   "pygments_lexer": "ipython3",
   "version": "3.9.0-final"
  },
  "orig_nbformat": 2,
  "kernelspec": {
   "name": "python3",
   "display_name": "Python 3.9.0 64-bit ('qc_env')",
   "metadata": {
    "interpreter": {
     "hash": "e2978d320601cc1acbea1801eb2fb1728f38a65b40fc129cb31ada20d753e2fe"
    }
   }
  }
 },
 "nbformat": 4,
 "nbformat_minor": 2,
 "cells": [
  {
   "source": [
    "# Build your own Quantum Architecture with tket\n",
    "\n",
    "Make sure you follow first the getting started guide for `pytket` available in the Hackathon repo.\n",
    "We recommend you first go through the example notebooks listed in the getting started guide.\n",
    "\n",
    "To run the following, you will need to have both `pytket` and `pytket-qiskit` installed, as well as standard\n",
    "python libraries such as `numpy`. If you can successfully run the following cell, you are good to go:\n"
   ],
   "cell_type": "markdown",
   "metadata": {}
  },
  {
   "cell_type": "code",
   "execution_count": 1,
   "metadata": {},
   "outputs": [],
   "source": [
    "import numpy as np\n",
    "from pytket.circuit import Circuit, Unitary1qBox, Unitary2qBox, OpType, Op\n",
    "from pytket.passes import (\n",
    "    RebaseQuil, RebaseIBM, CliffordSimp, SynthesiseIBM, SequencePass, DecomposeBoxes, FullPeepholeOptimise, EulerAngleReduction\n",
    ")\n",
    "from pytket.extensions.qiskit import tk_to_qiskit"
   ]
  },
  {
   "source": [
    "## Universal gatesets\n",
    "### Arbitrary one-qubit gates\n",
    "Quantum circuits are made of quantum gates. Quantum gates are unitary matrices, i.e. linear operations with determinant of norm one.\n",
    "In principle, any unitary matrix acting on a set of qubits\n",
    "could define such a gate (and thus in theory, any circuit can itself be seen\n",
    "as a single quantum gate, given that circuit are always defined as a composition of simpler quantum gates).\n",
    "\n",
    "In `pytket`, you can create a gate on a single qubit from an arbitrary unitary as follows:"
   ],
   "cell_type": "markdown",
   "metadata": {}
  },
  {
   "cell_type": "code",
   "execution_count": 2,
   "metadata": {},
   "outputs": [
    {
     "output_type": "stream",
     "name": "stdout",
     "text": [
      "Got random unitary:\n[[ 0.58743299+0.36845745j  0.2194812 +0.68628682j]\n [-0.2194812 +0.68628682j  0.58743299-0.36845745j]]\ndet = (0.9999999999999999-5.551115123125783e-17j)\n"
     ]
    },
    {
     "output_type": "execute_result",
     "data": {
      "text/plain": [
       "[Unitary1qBox q[0]; ]"
      ]
     },
     "metadata": {},
     "execution_count": 2
    }
   ],
   "source": [
    "def random_2dim_unitary():\n",
    "    \"\"\" returns a random 2x2 unitary\n",
    "\n",
    "    The details of this function do not matter, they are just meant to produce some unitary matrix\n",
    "    Note: this implementation is for demonstration only -- this does not generate matrices uniformly\n",
    "    \"\"\"\n",
    "    # a random 2dim vector\n",
    "    v = np.random.rand(2) + 1j * np.random.rand(2)\n",
    "    # normalise it\n",
    "    v /= np.linalg.norm(v)\n",
    "    # choose an orthogonal vector\n",
    "    w = np.array([-v[1].conj(), v[0].conj()])\n",
    "    # return matrix [v, w]\n",
    "    return np.stack([v, w])\n",
    "\n",
    "U = random_2dim_unitary()\n",
    "print(f\"Got random unitary:\\n{U}\")\n",
    "print(f\"det = {np.linalg.det(U)}\")\n",
    "\n",
    "# create single qubit gate given by U\n",
    "Ugate = Unitary1qBox(U)\n",
    "\n",
    "# Define empty circuit with just one qubit\n",
    "circ = Circuit(1)\n",
    "# add Ugate on qubit 0\n",
    "circ.add_unitary1qbox(Ugate, 0)"
   ]
  },
  {
   "source": [
    "However, when it comes to running circuits on actual machines, it makes sense to restrict the set of gates under consideration.\n",
    "Indeed, there are a lot of rather limited set of gates that we know can be used to produce arbitrary computations through composition of these gates.\n",
    "We call this property the _universality_ of the gateset.\n",
    "\n",
    "We can for example express the above random gate as a composition of rotation gates:"
   ],
   "cell_type": "markdown",
   "metadata": {}
  },
  {
   "cell_type": "code",
   "execution_count": 3,
   "metadata": {},
   "outputs": [
    {
     "output_type": "stream",
     "name": "stdout",
     "text": [
      "global phase: π\n     ┌────────────┐┌────────────┐┌────────────┐\nq_0: ┤ RZ(2.2719) ├┤ RX(1.6091) ├┤ RZ(2.8909) ├\n     └────────────┘└────────────┘└────────────┘\n"
     ]
    }
   ],
   "source": [
    "\n",
    "# we define a tket pass that proceeds in two steps\n",
    "#   1. decomposes the unitary gate Ugate with `DecomposeBoxes`\n",
    "#   2. expresses the resulting circuit in terms of rotations with `RebaseQuil`\n",
    "to_zx_rotations = SequencePass([\n",
    "    DecomposeBoxes(),\n",
    "    RebaseQuil()\n",
    "])\n",
    "# apply pass to the circuit\n",
    "to_zx_rotations.apply(circ)\n",
    "\n",
    "print(tk_to_qiskit(circ))"
   ]
  },
  {
   "source": [
    "We see that tket is able to decompose our original random gate as a composition of `Rx` and `Rz` gates, called `X`- and `Z`-rotations respectively.\n",
    "We won't go into detail why these gates are called rotations -- for our purposes it is enough to consider this a weird naming convention.\n",
    "If you are interested in learning more, looking up \"Bloch sphere\" should be a good place to start.\n",
    "\n",
    "### Generalising to several qubits\n",
    "For good performance, it is critical to look for gatesets that can be implemented easily on hardware, while at the same time giving\n",
    "us enough expressivity to perform computations efficiently.\n",
    "One of the most widely used sets of gates is a simple extension of the rotations above.\n",
    "Indeed, such rotations are enough to express any computation on a single qubit --\n",
    "and this can even be extended to any computation on arbitrary many qubits, using a single\n",
    "additional gate!\n",
    "In the following this additional gate will be the controlled Z-gate -- much of the literature uses\n",
    "either this, or equivalently, the controlled X-gate, also known as the controlled NOT (CNot) gate.\n",
    "\n",
    "Let us repeat the code above, generating a random unitary and then decomposing it into a circuit.\n",
    "This time, however, we are interested in a two-qubit circuit: this means our unitaries are now 4x4 dimensional."
   ],
   "cell_type": "markdown",
   "metadata": {}
  },
  {
   "cell_type": "code",
   "execution_count": 4,
   "metadata": {},
   "outputs": [
    {
     "output_type": "stream",
     "name": "stdout",
     "text": [
      "Got random unitary:\n[[ 0.56281451+0.15606603j  0.08863735+0.70386593j  0.01779412+0.35174953j\n   0.10372717+0.14420716j]\n [-0.24059424+0.4302829j   0.19151001-0.21191995j  0.54233288+0.34392159j\n  -0.03787221+0.51141331j]\n [ 0.39649492+0.41639649j  0.48454857-0.3728714j  -0.45577172-0.10464556j\n  -0.2752844 +0.03354535j]\n [-0.13187053+0.26051902j  0.09571109-0.17930148j -0.13576837+0.47585399j\n   0.59558599-0.52329497j]]\ndet = (-0.8013089989607016+0.5982506900828434j)\nglobal phase: 6.1229\n     ┌────────────┐┌────────────┐┌────────────┐                      »\nq_0: ┤ RZ(4.8676) ├┤ RX(1.2596) ├┤ RZ(11.199) ├──────────────────────»\n     ├────────────┤├────────────┤├────────────┤┌─────────┐┌─────────┐»\nq_1: ┤ RZ(1.8243) ├┤ RX(2.9666) ├┤ RZ(1.8751) ├┤ RZ(π/2) ├┤ RX(π/2) ├»\n     └────────────┘└────────────┘└────────────┘└─────────┘└─────────┘»\n«                   ┌──────────┐┌─────────┐┌────────────┐               »\n«q_0: ────────────■─┤ RZ(7π/2) ├┤ RX(π/2) ├┤ RZ(1.3657) ├───────────────»\n«     ┌─────────┐ │ ├─────────┬┘├─────────┤└┬─────────┬─┘┌─────────────┐»\n«q_1: ┤ RZ(π/2) ├─■─┤ RZ(π/2) ├─┤ RX(π/2) ├─┤ RZ(π/2) ├──┤ RZ(0.75979) ├»\n«     └─────────┘   └─────────┘ └─────────┘ └─────────┘  └─────────────┘»\n«                                         ┌─────────┐┌─────────┐┌─────────┐»\n«q_0: ──────────────────────────────────■─┤ RZ(π/2) ├┤ RX(π/2) ├┤ RZ(π/2) ├»\n«     ┌─────────┐┌─────────┐┌─────────┐ │ ├─────────┤├─────────┤├─────────┤»\n«q_1: ┤ RZ(π/2) ├┤ RX(π/2) ├┤ RZ(π/2) ├─■─┤ RZ(π/2) ├┤ RX(π/2) ├┤ RZ(π/2) ├»\n«     └─────────┘└─────────┘└─────────┘   └─────────┘└─────────┘└─────────┘»\n«                                                       ┌────────────┐»\n«q_0: ────────────────────────────────────────────────■─┤ RZ(1.7448) ├»\n«     ┌────────────┐┌─────────┐┌─────────┐┌─────────┐ │ └┬─────────┬─┘»\n«q_1: ┤ RZ(11.601) ├┤ RZ(π/2) ├┤ RX(π/2) ├┤ RZ(π/2) ├─■──┤ RZ(π/2) ├──»\n«     └────────────┘└─────────┘└─────────┘└─────────┘    └─────────┘  »\n«     ┌────────────┐┌───────────┐                                        \n«q_0: ┤ RX(2.7483) ├┤ RZ(1.177) ├────────────────────────────────────────\n«     └┬─────────┬─┘└┬─────────┬┘┌──────────┐┌────────────┐┌────────────┐\n«q_1: ─┤ RX(π/2) ├───┤ RZ(π/2) ├─┤ RZ(1.99) ├┤ RX(1.7563) ├┤ RZ(3.2302) ├\n«      └─────────┘   └─────────┘ └──────────┘└────────────┘└────────────┘\n"
     ]
    }
   ],
   "source": [
    "def random_4dim_unitary():\n",
    "    \"\"\" returns a random 4x4 unitary\n",
    "\n",
    "    The details of this function do not matter, they are just meant to produce some unitary matrix\n",
    "    Note: this implementation is for demonstration only -- this does not generate matrices uniformly\n",
    "    \"\"\"\n",
    "    # a random 4dim vector\n",
    "    v = np.random.rand(4) + 1j * np.random.rand(4)\n",
    "    # normalise it\n",
    "    v /= np.linalg.norm(v)\n",
    "    # choose three orthogonal vectors w1, w2, w3\n",
    "    ws = [v]\n",
    "    while len(ws) < 4:\n",
    "        new_w = np.random.rand(4) + 1j * np.random.rand(4)\n",
    "        # make new_w orthogonal to all previous vectors using GramSchmidt\n",
    "        for w in ws:\n",
    "            new_w -= np.vdot(w, new_w)*w\n",
    "        new_w /= np.linalg.norm(new_w)\n",
    "        ws.append(new_w)\n",
    "    # return matrix [v, w1, w2, w3]\n",
    "    return np.stack(ws)\n",
    "\n",
    "U = random_4dim_unitary()\n",
    "\n",
    "print(f\"Got random unitary:\\n{U}\")\n",
    "print(f\"det = {np.linalg.det(U)}\")\n",
    "\n",
    "# create single qubit gate given by U\n",
    "Ugate = Unitary2qBox(U)\n",
    "\n",
    "# Define empty circuit with two qubits\n",
    "circ = Circuit(2)\n",
    "# add Ugate on qubits 0 and 1\n",
    "circ.add_unitary2qbox(Ugate, 0, 1)\n",
    "\n",
    "# we now use the same pass as before:\n",
    "to_zx_rotations.apply(circ)\n",
    "print(tk_to_qiskit(circ))"
   ]
  },
  {
   "source": [
    "As you can see, tket has managed to express this arbitrary unitary using only rotations and the `CZ`\n",
    "gate, which is represented as two linked black boxes in the above circuit representation.\n",
    "We are thus able to express arbitrary two-qubit operations in this gateset!\n",
    "In fact, this gateset is indeed universal, that is, any operation on arbitrary many qubits can be expressed by these gates.\n",
    "While in theory we know how to decompose any such unitary transformation on $n$ qubits into circuit form, doing so\n",
    "efficiently actually turns out to be a really hard problem and is the subject of active research.\n",
    "\n",
    "### Simplifying our circuit\n",
    "The circuit we have just obtained for our two-qubit unitary is horribly long and ugly.\n",
    "This is where tket's circuit simplification capabilities come in.\n",
    "We can extend the `to_zx_rotations` pass that we defined earlier to include some optimisation:"
   ],
   "cell_type": "markdown",
   "metadata": {}
  },
  {
   "cell_type": "code",
   "execution_count": 5,
   "metadata": {},
   "outputs": [
    {
     "output_type": "stream",
     "name": "stdout",
     "text": [
      "global phase: 6.1229\n     ┌────────────┐┌────────────┐┌────────────┐                      »\nq_0: ┤ RZ(4.8676) ├┤ RX(1.2596) ├┤ RZ(11.199) ├──────────────────────»\n     ├────────────┤├────────────┤├────────────┤┌─────────┐┌─────────┐»\nq_1: ┤ RZ(1.8243) ├┤ RX(2.9666) ├┤ RZ(1.8751) ├┤ RZ(π/2) ├┤ RX(π/2) ├»\n     └────────────┘└────────────┘└────────────┘└─────────┘└─────────┘»\n«                   ┌──────────┐┌─────────┐┌────────────┐               »\n«q_0: ────────────■─┤ RZ(7π/2) ├┤ RX(π/2) ├┤ RZ(1.3657) ├───────────────»\n«     ┌─────────┐ │ ├─────────┬┘├─────────┤└┬─────────┬─┘┌─────────────┐»\n«q_1: ┤ RZ(π/2) ├─■─┤ RZ(π/2) ├─┤ RX(π/2) ├─┤ RZ(π/2) ├──┤ RZ(0.75979) ├»\n«     └─────────┘   └─────────┘ └─────────┘ └─────────┘  └─────────────┘»\n«                                         ┌─────────┐┌─────────┐┌─────────┐»\n«q_0: ──────────────────────────────────■─┤ RZ(π/2) ├┤ RX(π/2) ├┤ RZ(π/2) ├»\n«     ┌─────────┐┌─────────┐┌─────────┐ │ ├─────────┤├─────────┤├─────────┤»\n«q_1: ┤ RZ(π/2) ├┤ RX(π/2) ├┤ RZ(π/2) ├─■─┤ RZ(π/2) ├┤ RX(π/2) ├┤ RZ(π/2) ├»\n«     └─────────┘└─────────┘└─────────┘   └─────────┘└─────────┘└─────────┘»\n«                                                       ┌────────────┐»\n«q_0: ────────────────────────────────────────────────■─┤ RZ(1.7448) ├»\n«     ┌────────────┐┌─────────┐┌─────────┐┌─────────┐ │ └┬─────────┬─┘»\n«q_1: ┤ RZ(11.601) ├┤ RZ(π/2) ├┤ RX(π/2) ├┤ RZ(π/2) ├─■──┤ RZ(π/2) ├──»\n«     └────────────┘└─────────┘└─────────┘└─────────┘    └─────────┘  »\n«     ┌────────────┐┌───────────┐                                        \n«q_0: ┤ RX(2.7483) ├┤ RZ(1.177) ├────────────────────────────────────────\n«     └┬─────────┬─┘└┬─────────┬┘┌──────────┐┌────────────┐┌────────────┐\n«q_1: ─┤ RX(π/2) ├───┤ RZ(π/2) ├─┤ RZ(1.99) ├┤ RX(1.7563) ├┤ RZ(3.2302) ├\n«      └─────────┘   └─────────┘ └──────────┘└────────────┘└────────────┘\n"
     ]
    }
   ],
   "source": [
    "# for our purposes, this is sufficient:\n",
    "# we simply add a EulerAngleReduction pass at the end which finds the optimal\n",
    "# angles for the rotations to avoid duplicates\n",
    "#\n",
    "# use FullPeepholeOptimise as a general purpose optimiser that should work well on\n",
    "# pretty much any circuit\n",
    "to_zx_optimised = SequencePass([\n",
    "    DecomposeBoxes(),\n",
    "    # FullPeepholeOptimise(),  <-- add this for general-purpose optimisation\n",
    "    RebaseQuil(),\n",
    "    EulerAngleReduction(OpType.Rx, OpType.Rz)\n",
    "])\n",
    "\n",
    "# Define empty circuit with two qubits\n",
    "circ = Circuit(2)\n",
    "# add Ugate on qubits 0 and 1\n",
    "circ.add_unitary2qbox(Ugate, 0, 1)\n",
    "\n",
    "# we now use the same pass as before:\n",
    "to_zx_rotations.apply(circ)\n",
    "print(tk_to_qiskit(circ))"
   ]
  },
  {
   "source": [
    "## Your task\n",
    "\n",
    "Enough of me talking. Now is the time for you to start playing around, and do your bit for quantum research :)\n",
    "\n",
    "You have the job of the architecture designer for our newest quantum computer.\n",
    "Your task is to try and come up with a gatesets that results in circuits as short as possible: the shorter the circuit, the more likely we can run it sucessfully on our quantum device, and the more money\n",
    "you will make.\n",
    "\n",
    "### Out-of-the-box support\n",
    "tket comes with a host of supported gatesets, inspired by architectures of real machines.\n",
    "You can find all the suported gatesets by looking at the compiler passes with names that start with\n",
    "\"Rebase\" on [this page](https://cqcl.github.io/pytket/build/html/passes.html).\n",
    "Compiler passes will take your circuit and rewrite it such that it only contains\n",
    "gates in the respective gateset: you can use them as follows\n",
    "```python\n",
    "pass = RebaseSomething()\n",
    "pass.apply(circuit)\n",
    "```\n",
    "Examples of such passes are `RebaseQuil` (which we used earlier), `RebaseCirq` and many others.\n",
    "The names come from the architecture or platform these gatesets are used in.\n",
    "\n",
    "Along with rebase passes, it makes sense to use some simplification passes that will make sure your output circuit\n",
    "is as short as it can be.\n",
    "For your convenience, here is a sequence that should work for pretty much anything:"
   ],
   "cell_type": "markdown",
   "metadata": {}
  },
  {
   "cell_type": "code",
   "execution_count": 6,
   "metadata": {},
   "outputs": [],
   "source": [
    "# choose your target gateset\n",
    "RebaseXYZ = RebaseIBM\n",
    "\n",
    "compile_pass = SequencePass([\n",
    "    DecomposeBoxes(),\n",
    "    FullPeepholeOptimise(),\n",
    "    CliffordSimp(False),\n",
    "    SynthesiseIBM(),\n",
    "    RebaseXYZ(),\n",
    "    # if you use rotation gates, this can get rid of some additional gates\n",
    "    # EulerAngleReduction(OpType.Rx, OpType.Rz) \n",
    "])"
   ]
  },
  {
   "source": [
    "#### Where is this sequence pass coming from, and how do I come up with this?\n",
    "\n",
    "For all supported devices, tket will suggest a recommended compilation pass, which you can always obtain using\n",
    "`device.default_compilation_pass()`.\n",
    "For example, for an IBM device you obtain the following.\n",
    "You can see the result is similar to the pass defined above.\n",
    "\n",
    "You can get more information on compiler passes and what they do [here](https://cqcl.github.io/pytket/build/html/manual_compiler.html)."
   ],
   "cell_type": "markdown",
   "metadata": {}
  },
  {
   "cell_type": "code",
   "execution_count": 7,
   "metadata": {},
   "outputs": [
    {
     "output_type": "stream",
     "name": "stdout",
     "text": [
      "DecomposeBoxes\nFullPeepholeOptimise\nSequencePass\nCliffordSimp\nSynthesiseIBM\nRebasePass\nRemoveRedundancies\n"
     ]
    }
   ],
   "source": [
    "from pytket.extensions.qiskit import IBMQBackend\n",
    "\n",
    "# IBM has multiple devices. We need to specify which one we want\n",
    "# this will yield an error if you do not have a API key registered with qiskit\n",
    "# (you can get this for free by following the instructions here:\n",
    "# https://qiskit.org/documentation/install.html#access-ibm-quantum-systems)\n",
    "device_name = \"ibmq_16_melbourne\"\n",
    "device = IBMQBackend(device_name)\n",
    "\n",
    "compile_pass = device.default_compilation_pass(optimisation_level=2)\n",
    "for p in compile_pass.get_sequence():\n",
    "    print(p.get_config()['name'])"
   ]
  },
  {
   "source": [
    "### Circuits\n",
    "To try out these different passes, I have added a series of circuits to the repo.\n",
    "They are available in the `circuits` folder.\n",
    "They are all saved in the QASM format, which is a standard circuit format supported by virtually all\n",
    "quantum software.\n",
    "\n",
    "You can load such a circuit as follows"
   ],
   "cell_type": "markdown",
   "metadata": {}
  },
  {
   "cell_type": "code",
   "execution_count": 8,
   "metadata": {},
   "outputs": [
    {
     "output_type": "stream",
     "name": "stdout",
     "text": [
      "     ┌────────────┐┌─────────────┐┌────────────┐┌─────────┐┌─────────┐»\nq_0: ┤ RZ(4.7984) ├┤ RX(0.84427) ├┤ RZ(5.0173) ├┤ RZ(π/2) ├┤ RZ(π/2) ├»\n     ├────────────┤└┬────────────┤├────────────┤└─────────┘└─────────┘»\nq_1: ┤ RZ(3.7423) ├─┤ RX(2.4257) ├┤ RZ(5.2854) ├──────────────────────»\n     └────────────┘ └────────────┘└────────────┘                      »\nc: 2/═════════════════════════════════════════════════════════════════»\n                                                                      »\n«     ┌─────────┐┌─────────┐   ┌─────────┐  ┌─────────┐  ┌─────────┐»\n«q_0: ┤ RX(π/2) ├┤ RZ(π/2) ├─■─┤ RZ(π/2) ├──┤ RX(π/2) ├──┤ RZ(π/2) ├»\n«     └─────────┘└─────────┘ │ ├─────────┴┐┌┴─────────┴─┐├─────────┤»\n«q_1: ───────────────────────■─┤ RZ(3π/2) ├┤ RX(5.8818) ├┤ RZ(π/2) ├»\n«                              └──────────┘└────────────┘└─────────┘»\n«c: 2/══════════════════════════════════════════════════════════════»\n«                                                                   »\n«     ┌─────────────┐                         ┌─────────┐┌─────────┐┌─────────┐»\n«q_0: ┤ RZ(0.30433) ├───────────────────────■─┤ RZ(π/2) ├┤ RX(π/2) ├┤ RZ(π/2) ├»\n«     └─┬─────────┬─┘┌─────────┐┌─────────┐ │ ├─────────┤├─────────┤├─────────┤»\n«q_1: ──┤ RZ(π/2) ├──┤ RX(π/2) ├┤ RZ(π/2) ├─■─┤ RZ(π/2) ├┤ RX(π/2) ├┤ RZ(π/2) ├»\n«       └─────────┘  └─────────┘└─────────┘   └─────────┘└─────────┘└─────────┘»\n«c: 2/═════════════════════════════════════════════════════════════════════════»\n«                                                                              »\n«                                             ┌─────────┐  ┌─────────┐  »\n«q_0: ──────────────────────────────────────■─┤ RZ(π/2) ├──┤ RX(π/2) ├──»\n«     ┌──────────┐┌────────────┐┌─────────┐ │ ├─────────┴┐┌┴─────────┴─┐»\n«q_1: ┤ RZ(3π/2) ├┤ RX(2.0078) ├┤ RZ(π/2) ├─■─┤ RZ(3π/2) ├┤ RZ(4.4421) ├»\n«     └──────────┘└────────────┘└─────────┘   └──────────┘└────────────┘»\n«c: 2/══════════════════════════════════════════════════════════════════»\n«                                                                       »\n«      ┌─────────┐  ┌────────────┐┌────────────┐┌─────────────┐┌───────────┐ »\n«q_0: ─┤ RZ(π/2) ├──┤ RZ(5.0064) ├┤ RX(1.9175) ├┤ RZ(0.77355) ├┤ RZ(2.398) ├─»\n«     ┌┴─────────┴─┐├────────────┤├────────────┤└┬────────────┤├───────────┴┐»\n«q_1: ┤ RX(1.1238) ├┤ RZ(2.1313) ├┤ RZ(0.6609) ├─┤ RX(1.9915) ├┤ RZ(4.4178) ├»\n«     └────────────┘└────────────┘└────────────┘ └────────────┘└────────────┘»\n«c: 2/═══════════════════════════════════════════════════════════════════════»\n«                                                                            »\n«     ┌────────────┐┌────────────┐                         ┌──────────┐»\n«q_0: ┤ RX(2.3344) ├┤ RZ(5.7035) ├───────────────────────■─┤ RZ(3π/2) ├»\n«     └┬─────────┬─┘└┬─────────┬─┘┌─────────┐┌─────────┐ │ ├─────────┬┘»\n«q_1: ─┤ RZ(π/2) ├───┤ RZ(π/2) ├──┤ RX(π/2) ├┤ RZ(π/2) ├─■─┤ RZ(π/2) ├─»\n«      └─────────┘   └─────────┘  └─────────┘└─────────┘   └─────────┘ »\n«c: 2/═════════════════════════════════════════════════════════════════»\n«                                                                      »\n«     ┌────────────┐┌─────────┐  ┌─────────┐  ┌─────────┐┌─────────┐   »\n«q_0: ┤ RX(5.3139) ├┤ RZ(π/2) ├──┤ RZ(π/2) ├──┤ RX(π/2) ├┤ RZ(π/2) ├─■─»\n«     └┬─────────┬─┘├─────────┤┌─┴─────────┴─┐└─────────┘└─────────┘ │ »\n«q_1: ─┤ RX(π/2) ├──┤ RZ(π/2) ├┤ RZ(0.20728) ├───────────────────────■─»\n«      └─────────┘  └─────────┘└─────────────┘                         »\n«c: 2/═════════════════════════════════════════════════════════════════»\n«                                                                      »\n«     ┌─────────┐┌─────────┐┌─────────┐┌──────────┐┌────────────┐┌─────────┐   »\n«q_0: ┤ RZ(π/2) ├┤ RX(π/2) ├┤ RZ(π/2) ├┤ RZ(3π/2) ├┤ RX(2.0044) ├┤ RZ(π/2) ├─■─»\n«     ├─────────┤├─────────┤├─────────┤└──────────┘└────────────┘└─────────┘ │ »\n«q_1: ┤ RZ(π/2) ├┤ RX(π/2) ├┤ RZ(π/2) ├──────────────────────────────────────■─»\n«     └─────────┘└─────────┘└─────────┘                                        »\n«c: 2/═════════════════════════════════════════════════════════════════════════»\n«                                                                              »\n«     ┌──────────┐┌────────────┐┌────────────┐┌──────────────┐               »\n«q_0: ┤ RZ(3π/2) ├┤ RZ(2.6007) ├┤ RX(2.6815) ├┤ RZ(0.074017) ├───────────────»\n«     ├─────────┬┘└┬─────────┬─┘└┬─────────┬─┘└┬────────────┬┘┌─────────────┐»\n«q_1: ┤ RZ(π/2) ├──┤ RX(π/2) ├───┤ RZ(π/2) ├───┤ RZ(4.2629) ├─┤ RX(0.16138) ├»\n«     └─────────┘  └─────────┘   └─────────┘   └────────────┘ └─────────────┘»\n«c: 2/═══════════════════════════════════════════════════════════════════════»\n«                                                                            »\n«                   \n«q_0: ──────────────\n«     ┌────────────┐\n«q_1: ┤ RZ(2.6368) ├\n«     └────────────┘\n«c: 2/══════════════\n«                   \n"
     ]
    }
   ],
   "source": [
    "from pytket.qasm import circuit_from_qasm\n",
    "\n",
    "circ = circuit_from_qasm('circuits/small_1.qasm')\n",
    "print(tk_to_qiskit(circ))"
   ]
  },
  {
   "source": [
    "Have a look at all the circuits available and see what their compiled version looks like.\n",
    "\n",
    "Feel free to also construct your own circuits.\n",
    "Defining a simple circuit on 4 qubits, for example, is as simple as `Circuit(4).CX(1, 2).Rx(0.4, 3)`,\n",
    "where the `CX` and `Rx` calls define gates in your circuit.\n",
    "A good overview of how to construct circuits is given [here](https://cqcl.github.io/pytket/build/html/manual_circuit.html). "
   ],
   "cell_type": "markdown",
   "metadata": {}
  },
  {
   "source": [
    "## What next?\n",
    "Once you get a feeling about differences between gatesets and what tket passes do, there \n",
    "are several directions you can explore\n",
    "\n",
    " 1. You can define your own custom gatesets, using the `RebaseCustom` pass from tket. Look at the [documentation](https://cqcl.github.io/pytket/build/html/passes.html#pytket.passes.RebaseCustom) to understand what it does, and see if you can come up with interesting gatesets. You will find the list of all gates that you can use [here](https://cqcl.github.io/pytket/build/html/optype.html)\n",
    " 2. Beside limited gatesets, quantum computers also have further architecture constraints that limit the circuits that can be run. One such constraint is that two-qubit gates (such as CNots or CZ gates) can only be performed between certain gates. tket deals with that using the [CXMappingPass](https://cqcl.github.io/pytket/build/html/passes.html#pytket.passes.CXMappingPass), which takes arbitrary circuits and transforms them to make sure that there are only CNots between allowed qubits.\n",
    " Explore how that affects your circuits!\n",
    " 3. Beyond two-qubit gates, one can also imagine using gates that act on 3 qubits or more. How would you deal with these? Can you use `RebaseCustom` for that purpose? What are the difficulties?\n",
    "\n",
    "## Relevant references\n",
    "- tket getting started: https://cqcl.github.io/pytket/build/html/getting_started.html\n",
    "- tket demos: https://github.com/CQCL/pytket/tree/master/examples\n",
    "- Circuit construction: https://cqcl.github.io/pytket/build/html/manual_circuit.html\n",
    "- Compilation: https://cqcl.github.io/pytket/build/html/manual_compiler.html\n",
    "\n",
    "Don't hesitate to reach out to me if you have any questions or need a bit of help! Good luck!\n",
    "\n",
    "Luca\n",
    "\n",
    "[luca.mondada@cambridgequantum.com](mailto:luca.mondada@cambridgequantum.com) (or on slack)"
   ],
   "cell_type": "markdown",
   "metadata": {}
  }
 ]
}
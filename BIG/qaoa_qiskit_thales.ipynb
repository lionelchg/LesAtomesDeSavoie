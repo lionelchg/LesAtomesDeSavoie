{
 "cells": [
  {
   "cell_type": "code",
   "execution_count": 1,
   "id": "israeli-preview",
   "metadata": {},
   "outputs": [],
   "source": [
    "import networkx as nx\n",
    "import matplotlib.pyplot as plt\n",
    "import numpy as np"
   ]
  },
  {
   "cell_type": "code",
   "execution_count": 2,
   "id": "ethical-harvard",
   "metadata": {},
   "outputs": [],
   "source": [
    "from qiskit import QuantumCircuit, ClassicalRegister, QuantumRegister\n",
    "from qiskit import Aer, execute\n",
    "from qiskit.circuit import Parameter\n"
   ]
  },
  {
   "cell_type": "code",
   "execution_count": 3,
   "id": "tribal-haven",
   "metadata": {},
   "outputs": [],
   "source": [
    "def cost_function(x, nqubits):\n",
    "    \"\"\"\n",
    "    Given a bitstring as a solution, this function returns\n",
    "    the number of edges shared between the two partitions\n",
    "    of the graph.\n",
    "    \n",
    "    Args:\n",
    "        x: str\n",
    "           solution bitstring\n",
    "           \n",
    "        G: networkx graph\n",
    "        \n",
    "    Returns:\n",
    "        obj: float\n",
    "             Objective\n",
    "    \"\"\"\n",
    "    obj = 0\n",
    "   \n",
    "    for k in range(1,nqubits):\n",
    "        tmp = 0\n",
    "        for i in range(1,nqubits-k+1):\n",
    "            tmp += (2*int(x[i-1])-1)*(2*int(x[i+k-1])-1)\n",
    "        obj += tmp**2\n",
    "    \n",
    "            \n",
    "    return obj\n",
    "\n",
    "\n",
    "def compute_expectation(counts,  nqubits):\n",
    "    \n",
    "    \"\"\"\n",
    "    Computes expectation value based on measurement results\n",
    "    \n",
    "    Args:\n",
    "        counts: dict\n",
    "                key as bitstring, val as count\n",
    "           \n",
    "        G: networkx graph\n",
    "        \n",
    "    Returns:\n",
    "        avg: float\n",
    "             expectation value\n",
    "    \"\"\"\n",
    "    \n",
    "    avg = 0\n",
    "    sum_count = 0\n",
    "    for bitstring, count in counts.items():\n",
    "        \n",
    "        obj = cost_function(x=bitstring, nqubits=nqubits)\n",
    "        avg += obj * count\n",
    "        sum_count += count\n",
    "        \n",
    "    return avg/sum_count\n",
    "\n",
    "\n",
    "# We will also bring the different circuit components that\n",
    "# build the qaoa circuit under a single function\n",
    "def create_qaoa_circ(theta,nqubits):\n",
    "    \n",
    "    \"\"\"\n",
    "    Creates a parametrized qaoa circuit\n",
    "    \n",
    "    Args:  \n",
    "        G: networkx graph\n",
    "        theta: list\n",
    "               unitary parameters\n",
    "                     \n",
    "    Returns:\n",
    "        qc: qiskit circuit\n",
    "    \"\"\"\n",
    "    p = int(len(theta)/2)\n",
    "    #p = len(theta)//2  # number of alternating unitaries\n",
    "    qc = QuantumCircuit(nqubits)\n",
    "    \n",
    "    beta = theta[:p]\n",
    "    gamma = theta[p:]\n",
    "    #print(theta,beta,gamma)\n",
    "    \n",
    "    # initial_state\n",
    "    for i in range(0, nqubits):\n",
    "        qc.h(i)\n",
    "    \n",
    "    for irep in range(0, p):\n",
    "        \n",
    "        fourfactors = np.exp(-1j * 2 * gamma[irep] * np.array([1, -1, -1, 1, -1, 1, 1, -1, -1, 1, 1, -1, 1, -1, -1, 1]))\n",
    "        \n",
    "        # problem unitary\n",
    "        for k in range(1,nqubits):\n",
    "            for i in range(0, nqubits-k):\n",
    "                qc.rzz(4 * gamma[irep], i, i+k)\n",
    "            for i in range(0, nqubits-k):\n",
    "                for j in range(i + 1, nqubits-k):\n",
    "                    if i + k != j:\n",
    "                        qc.diagonal(list(fourfactors), qubit=[i, i+k, j, j+k])\n",
    "\n",
    "       \n",
    "        # mixer unitary\n",
    "        for i in range(0, nqubits):\n",
    "            qc.rx(2 * beta[irep], i)\n",
    "            \n",
    "    qc.measure_all()\n",
    "        \n",
    "    return qc\n",
    "\n",
    "# Finally we write a function that executes the circuit on the chosen backend\n",
    "def get_expectation(nqubits, p,shots=4096):\n",
    "    \n",
    "    \"\"\"\n",
    "    Runs parametrized circuit\n",
    "    \n",
    "    Args:\n",
    "        G: networkx graph\n",
    "        p: int,\n",
    "           Number of repetitions of unitaries\n",
    "    \"\"\"\n",
    "    shots = max(shots, 2**nqubits)\n",
    "    backend = Aer.get_backend('qasm_simulator')\n",
    "    backend.shots = shots\n",
    "    \n",
    "    def execute_circ(theta):\n",
    "        \n",
    "        qc = create_qaoa_circ(theta=theta,nqubits=nqubits)\n",
    "        counts = backend.run(circuits = qc, seed_simulator=1, \n",
    "                             nshots=shots).result().get_counts()\n",
    "        \n",
    "        return compute_expectation(counts=counts,nqubits=nqubits)\n",
    "    \n",
    "    return execute_circ\n"
   ]
  },
  {
   "cell_type": "code",
   "execution_count": 4,
   "id": "future-situation",
   "metadata": {},
   "outputs": [
    {
     "data": {
      "text/plain": [
       "     fun: 2.7265625\n",
       "   maxcv: 0.0\n",
       " message: 'Optimization terminated successfully.'\n",
       "    nfev: 249\n",
       "  status: 1\n",
       " success: True\n",
       "       x: array([ 0.41294759,  1.15268169,  0.33558795,  1.81858344,  1.5480238 ,\n",
       "        0.8080348 ,  0.95141834,  0.12391262, -0.0023688 , -0.03627421,\n",
       "        0.71997374,  0.51892862,  0.60096781,  0.35517154,  0.39588174,\n",
       "        0.02445126,  0.52702034,  0.74269787,  1.13849587,  0.75320772])"
      ]
     },
     "execution_count": 4,
     "metadata": {},
     "output_type": "execute_result"
    }
   ],
   "source": [
    "from scipy.optimize import minimize\n",
    "\n",
    "nqubits = 5\n",
    "expectation = get_expectation(nqubits=nqubits, p=1)\n",
    "p0= np.random.uniform(size = 20)\n",
    "res = minimize(expectation, \n",
    "                x0 = p0,\n",
    "               method='COBYLA')\n",
    "res"
   ]
  },
  {
   "cell_type": "code",
   "execution_count": 5,
   "id": "national-refund",
   "metadata": {},
   "outputs": [],
   "source": [
    "from qiskit.visualization import plot_histogram\n",
    "\n",
    "shots = min(4096*10,2**nqubits)\n",
    "backend = Aer.get_backend('aer_simulator')\n",
    "\n",
    "\n",
    "qc_res = create_qaoa_circ(res.x,nqubits)\n",
    "\n",
    "counts = backend.run(qc_res, seed_simulator=10, shots = 2*4096).result().get_counts()\n",
    "\n",
    "if nqubits < 6:\n",
    "    plot_histogram(counts)"
   ]
  },
  {
   "cell_type": "code",
   "execution_count": 6,
   "id": "japanese-surprise",
   "metadata": {},
   "outputs": [
    {
     "data": {
      "text/plain": [
       "{'11011': 1,\n",
       " '01111': 1,\n",
       " '11111': 1,\n",
       " '01101': 1,\n",
       " '10000': 1,\n",
       " '01001': 2,\n",
       " '10110': 2,\n",
       " '00000': 2,\n",
       " '00100': 2,\n",
       " '00001': 2,\n",
       " '00111': 2,\n",
       " '00011': 3,\n",
       " '11110': 4,\n",
       " '01100': 4,\n",
       " '00110': 4,\n",
       " '11000': 5,\n",
       " '10010': 5,\n",
       " '11001': 5,\n",
       " '11100': 6,\n",
       " '10011': 7,\n",
       " '01010': 8,\n",
       " '10101': 11,\n",
       " '11010': 151,\n",
       " '10100': 181,\n",
       " '01110': 182,\n",
       " '01011': 187,\n",
       " '00101': 192,\n",
       " '10001': 192,\n",
       " '00010': 1704,\n",
       " '01000': 1730,\n",
       " '11101': 1796,\n",
       " '10111': 1798}"
      ]
     },
     "execution_count": 6,
     "metadata": {},
     "output_type": "execute_result"
    }
   ],
   "source": [
    "dict(sorted(counts.items(), key=lambda item: item[1]))"
   ]
  },
  {
   "cell_type": "code",
   "execution_count": 7,
   "id": "statutory-clinton",
   "metadata": {},
   "outputs": [
    {
     "name": "stdout",
     "output_type": "stream",
     "text": [
      "8192\n"
     ]
    }
   ],
   "source": [
    "c = 0\n",
    "for key in counts.keys():\n",
    "    c += counts[key]\n",
    "print(c)"
   ]
  },
  {
   "cell_type": "code",
   "execution_count": 8,
   "id": "tropical-shopper",
   "metadata": {},
   "outputs": [
    {
     "data": {
      "text/plain": [
       "Text(0, 0.5, 'Counts')"
      ]
     },
     "execution_count": 8,
     "metadata": {},
     "output_type": "execute_result"
    },
    {
     "data": {
      "image/png": "[encoded data removed]",
      "text/plain": [
       "<Figure size 432x288 with 1 Axes>"
      ]
     },
     "metadata": {
      "needs_background": "light"
     },
     "output_type": "display_data"
    }
   ],
   "source": [
    "res_theo = []\n",
    "res_opt = []\n",
    "for key in counts.keys():\n",
    "    res_theo.append(cost_function(key, nqubits))\n",
    "    res_opt.append(counts[key])\n",
    "    \n",
    "plt.scatter(res_theo,res_opt)\n",
    "plt.xscale('log')\n",
    "plt.xlabel('Cost')\n",
    "plt.ylabel('Counts')"
   ]
  },
  {
   "cell_type": "markdown",
   "id": "configured-jerusalem",
   "metadata": {},
   "source": [
    "# Test"
   ]
  },
  {
   "cell_type": "code",
   "execution_count": 9,
   "id": "three-roller",
   "metadata": {},
   "outputs": [
    {
     "name": "stdout",
     "output_type": "stream",
     "text": [
      "[[0 0 0 1 0]\n",
      " [0 1 0 0 0]\n",
      " [1 0 1 1 1]\n",
      " [1 1 1 0 1]]\n",
      "2\n"
     ]
    }
   ],
   "source": [
    "import itertools\n",
    "\n",
    "all_conf = np.array([np.array(i) for i in itertools.product([0, 1], repeat = nqubits)])\n",
    "\n",
    "res_theo = []\n",
    "for x in all_conf:\n",
    "\n",
    "        \n",
    "    res_theo.append(cost_function(x, nqubits))\n",
    "\n",
    "res_theo = np.array(res_theo)\n",
    "    \n",
    "ind = np.where(res_theo == res_theo.min())\n",
    "    \n",
    "print(all_conf[ind])\n",
    "print(res_theo.min())\n"
   ]
  },
  {
   "cell_type": "code",
   "execution_count": null,
   "id": "dramatic-tourist",
   "metadata": {},
   "outputs": [],
   "source": []
  }
 ],
 "metadata": {
  "kernelspec": {
   "display_name": "Python 3",
   "language": "python",
   "name": "python3"
  },
  "language_info": {
   "codemirror_mode": {
    "name": "ipython",
    "version": 3
   },
   "file_extension": ".py",
   "mimetype": "text/x-python",
   "name": "python",
   "nbconvert_exporter": "python",
   "pygments_lexer": "ipython3",
   "version": "3.9.5"
  }
 },
 "nbformat": 4,
 "nbformat_minor": 5
}

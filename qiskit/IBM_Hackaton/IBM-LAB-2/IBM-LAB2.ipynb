{
 "cells": [
  {
   "cell_type": "markdown",
   "metadata": {},
   "source": [
    "<table>\n",
    "   <tr>     \n",
    "    <td><img src=\"./images/logo-qiskit.png\" alt=\"Note: In order for images to show up in this jupyter notebook you need to select File => Trusted Notebook\" width=\"300 px\" align=\"left\"></td>\n",
    "    <td>  </td>\n",
    "    <td><img src=\"./images/logo-IBM.png\" alt=\"Note: In order for images to show up in this jupyter notebook you need to select File => Trusted Notebook\" width=\"300 px\" align=\"left\"></td>\n",
    "   </tr>\n",
    "</table>\n",
    "<br>\n",
    "\n",
    "\n",
    "# <center>Welcome </center>\n",
    "\n",
    "\n",
    "# <center> Lab-2 : Quantum Circuits </center>\n",
    "\n",
    "\n",
    "<img src=\"./images/logo-hackathon.png\" alt=\"Note: In order for images to show up in this jupyter notebook you need to select File => Trusted Notebook\" width=\"800 px\" align=\"center\"></td>\n",
    "\n",
    "\n",
    "### Content :\n",
    "<ol>\n",
    "    <li>Warmup</li>\n",
    "    <br>\n",
    "    <li>Exercises</li>\n",
    "    <br>\n",
    "    <li>Challenges</li>  \n",
    "</ol>\n",
    "\n",
    "\n"
   ]
  },
  {
   "cell_type": "markdown",
   "metadata": {},
   "source": [
    "<div class=\"alert alert-block alert-info\">\n",
    "\n",
    "# 1. Warmup\n",
    "</div>"
   ]
  },
  {
   "cell_type": "markdown",
   "metadata": {},
   "source": [
    "### 1.1 What is the result of this circuit ?\n",
    "\n",
    "<img src=\"./images/3cx.png\" width=\"500\"/>\n",
    "\n",
    "Hint : qiskit and the composer do not provide formal calculation, but you can try with a few values.\n",
    "You may just decide to go with matrices multiplication..."
   ]
  },
  {
   "cell_type": "code",
   "execution_count": 1,
   "metadata": {},
   "outputs": [
    {
     "data": {
      "text/html": [
       "<pre style=\"word-wrap: normal;white-space: pre;background: #fff0;line-height: 1.1;font-family: &quot;Courier New&quot;,Courier,monospace\">             ┌───┐      ░ ┌─┐   \n",
       "   q_0: ──■──┤ X ├──■───░─┤M├───\n",
       "        ┌─┴─┐└─┬─┘┌─┴─┐ ░ └╥┘┌─┐\n",
       "   q_1: ┤ X ├──■──┤ X ├─░──╫─┤M├\n",
       "        └───┘     └───┘ ░  ║ └╥┘\n",
       "meas: 2/═══════════════════╩══╩═\n",
       "                           0  1 </pre>"
      ],
      "text/plain": [
       "             ┌───┐      ░ ┌─┐   \n",
       "   q_0: ──■──┤ X ├──■───░─┤M├───\n",
       "        ┌─┴─┐└─┬─┘┌─┴─┐ ░ └╥┘┌─┐\n",
       "   q_1: ┤ X ├──■──┤ X ├─░──╫─┤M├\n",
       "        └───┘     └───┘ ░  ║ └╥┘\n",
       "meas: 2/═══════════════════╩══╩═\n",
       "                           0  1 "
      ]
     },
     "execution_count": 1,
     "metadata": {},
     "output_type": "execute_result"
    }
   ],
   "source": [
    "from qiskit import QuantumCircuit, assemble, Aer\n",
    "qc = QuantumCircuit(2)\n",
    "#qc.initialize([0,1],0)\n",
    "#qc.initialize([1,0],1)\n",
    "qc.cx(0, 1)\n",
    "qc.cx(1, 0)\n",
    "qc.cx(0, 1)\n",
    "qc.measure_all()\n",
    "qc.draw()\n"
   ]
  },
  {
   "cell_type": "code",
   "execution_count": 2,
   "metadata": {},
   "outputs": [
    {
     "data": {
      "text/latex": [
       "$\\displaystyle \n",
       "\\text{Statevector} = \\begin{bmatrix}\n",
       "1 \\\\\n",
       "0 \\\\\n",
       "0 \\\\\n",
       "0\n",
       "\\end{bmatrix}\n",
       "$"
      ],
      "text/plain": [
       "<IPython.core.display.Math object>"
      ]
     },
     "metadata": {},
     "output_type": "display_data"
    }
   ],
   "source": [
    "svsim = Aer.get_backend('statevector_simulator')\n",
    "qobj = assemble(qc)\n",
    "final_state = svsim.run(qobj).result().get_statevector()\n",
    "\n",
    "# In Jupyter Notebooks we can display this nicely using Latex.\n",
    "# If not using Jupyter Notebooks you may need to remove the \n",
    "# array_to_latex function and use print(final_state) instead.\n",
    "from qiskit_textbook.tools import array_to_latex\n",
    "array_to_latex(final_state, pretext=\"\\\\text{Statevector} = \")\n"
   ]
  },
  {
   "cell_type": "code",
   "execution_count": 3,
   "metadata": {},
   "outputs": [
    {
     "data": {
      "text/latex": [
       "$\\displaystyle \n",
       "\\text{Circuit = } \\begin{bmatrix}\n",
       "1 & 0 & 0 & 0  \\\\\n",
       "0 & 0 & 1 & 0  \\\\\n",
       "0 & 1 & 0 & 0  \\\\\n",
       "0 & 0 & 0 & 1  \\\\\n",
       "\\end{bmatrix}\n",
       "$$\n",
       "$"
      ],
      "text/plain": [
       "<IPython.core.display.Math object>"
      ]
     },
     "metadata": {},
     "output_type": "display_data"
    }
   ],
   "source": [
    "qc = QuantumCircuit(2)\n",
    "#qc.initialize([0,1],0)\n",
    "#qc.initialize([1,0],1)\n",
    "qc.cx(0, 1)\n",
    "qc.cx(1, 0)\n",
    "qc.cx(0, 1)\n",
    "qc.draw()\n",
    "\n",
    "\n",
    "usim = Aer.get_backend('unitary_simulator')\n",
    "qobj = assemble(qc)\n",
    "unitary = usim.run(qobj).result().get_unitary()\n",
    "# Display the results:\n",
    "array_to_latex(unitary, pretext=\"\\\\text{Circuit = } \")\n"
   ]
  },
  {
   "cell_type": "markdown",
   "metadata": {},
   "source": [
    "### 1.2. Create a circuit with 4 qubits $q_0, q_1, q_2, q_3$ with the following rules:\n",
    "\n",
    "- swap $q_1$ with $q_3$ if $q_0 == 0$ \n",
    "- swap $q_2$ with $q_3$ if $q_0 == 1$\n",
    "- leave $q_0$ unchanged at the end\n",
    "\n",
    "- _you may use X, CNOT, CSWAP and CCNOT_\n"
   ]
  },
  {
   "cell_type": "code",
   "execution_count": 4,
   "metadata": {},
   "outputs": [
    {
     "data": {
      "text/latex": [
       "$\\displaystyle \n",
       "\\text{Statevector} = \\begin{bmatrix}\n",
       "1 \\\\\n",
       "0 \\\\\n",
       "0 \\\\\n",
       "0 \\\\\n",
       "0 \\\\\n",
       "0 \\\\\n",
       "0 \\\\\n",
       "0 \\\\\n",
       "0 \\\\\n",
       "0 \\\\\n",
       "0 \\\\\n",
       "0 \\\\\n",
       "0 \\\\\n",
       "0 \\\\\n",
       "0 \\\\\n",
       "0\n",
       "\\end{bmatrix}\n",
       "$"
      ],
      "text/plain": [
       "<IPython.core.display.Math object>"
      ]
     },
     "metadata": {},
     "output_type": "display_data"
    }
   ],
   "source": [
    "qc = QuantumCircuit(4)\n",
    "qc.x(0)\n",
    "qc.cswap(0,1,3)\n",
    "qc.x(0)\n",
    "qc.cswap(0,2,3)\n",
    "qc.draw()\n",
    "\n",
    "svsim = Aer.get_backend('statevector_simulator')\n",
    "qobj = assemble(qc)\n",
    "final_state = svsim.run(qobj).result().get_statevector()\n",
    "\n",
    "# In Jupyter Notebooks we can display this nicely using Latex.\n",
    "# If not using Jupyter Notebooks you may need to remove the \n",
    "# array_to_latex function and use print(final_state) instead.\n",
    "from qiskit_textbook.tools import array_to_latex\n",
    "array_to_latex(final_state, pretext=\"\\\\text{Statevector} = \")\n"
   ]
  },
  {
   "cell_type": "markdown",
   "metadata": {},
   "source": [
    "### 1.3 Create a circuit with qubits $q_0, q_1, q_2, q_3$  with the following rules: \n",
    "\n",
    "- swap $q_2$ with $q_3$ if and only if $q_0 == 1$ and $q_1 == 1$ \n",
    "- you may use an additionnal qubit $q_4$ (will start and end with value |0>)\n",
    "\n",
    "\n",
    "- _you may use X, CNOT, CSWAP and CCNOT_\n"
   ]
  },
  {
   "cell_type": "code",
   "execution_count": 5,
   "metadata": {},
   "outputs": [
    {
     "data": {
      "text/html": [
       "<pre style=\"word-wrap: normal;white-space: pre;background: #fff0;line-height: 1.1;font-family: &quot;Courier New&quot;,Courier,monospace\">             \n",
       "q_0: ──■─────\n",
       "       │     \n",
       "q_1: ──■─────\n",
       "       │     \n",
       "q_2: ──┼───X─\n",
       "       │   │ \n",
       "q_3: ──┼───X─\n",
       "     ┌─┴─┐ │ \n",
       "q_4: ┤ X ├─■─\n",
       "     └───┘   </pre>"
      ],
      "text/plain": [
       "             \n",
       "q_0: ──■─────\n",
       "       │     \n",
       "q_1: ──■─────\n",
       "       │     \n",
       "q_2: ──┼───X─\n",
       "       │   │ \n",
       "q_3: ──┼───X─\n",
       "     ┌─┴─┐ │ \n",
       "q_4: ┤ X ├─■─\n",
       "     └───┘   "
      ]
     },
     "execution_count": 5,
     "metadata": {},
     "output_type": "execute_result"
    }
   ],
   "source": [
    "qc = QuantumCircuit(5)\n",
    "qc.toffoli(0,1,4)\n",
    "qc.cswap(4,2,3)\n",
    "qc.draw()"
   ]
  },
  {
   "cell_type": "markdown",
   "metadata": {},
   "source": [
    "<div class=\"alert alert-block alert-info\">\n",
    "    \n",
    "# 2. Execrises\n",
    "</div>\n",
    "\n",
    "Let's review two of the basics quantum algorithms : Bernstein-Vazirani and Deutsch-Josza"
   ]
  },
  {
   "cell_type": "markdown",
   "metadata": {},
   "source": [
    "### 2.1 Bernstein-Vazirani"
   ]
  },
  {
   "cell_type": "code",
   "execution_count": 6,
   "metadata": {},
   "outputs": [],
   "source": [
    "%matplotlib inline\n",
    "from qiskit import QuantumRegister, ClassicalRegister, QuantumCircuit, execute, Aer\n",
    "from qiskit.tools.visualization import plot_histogram\n",
    "backend = Aer.get_backend('qasm_simulator')"
   ]
  },
  {
   "cell_type": "markdown",
   "metadata": {},
   "source": [
    "More informations here : https://youtu.be/sqJIpHYl7oo and there : https://community.qiskit.org/textbook/ch-algorithms/bernstein-vazirani.html\n",
    "\n",
    "\n",
    "Let $f_s$ be a function from $\\{0,1\\}^n$ to $\\{0,1\\}$, we know it returns XOR of bit to bit products ($and$) for $x$ as input and a \"secret\" string $s$ of length $n$ : \n",
    "\n",
    "\\begin{equation}\n",
    "f_s(x) = s_0.x_0 \\oplus s_1.x_1 \\oplus s_2.x_2 \\oplus \\hspace{0.3cm} ... \\hspace{0.3cm} \\oplus s_{n-1}.x_{n-1}  \n",
    "\\end{equation}\n",
    "\n",
    "Calssicaly, $n$ calls $f_s(x)$ aree needed to $s$ as follows: \n",
    "\n",
    "\\begin{equation}\n",
    "f_s(1000...0) = s_0 \\\\\n",
    "f_s(0100...0) = s_1 \\\\\n",
    "f_s(0010...0) = s_2 \\\\\n",
    "... \\\\\n",
    "f_s(0000...1) = s_{n-1}\n",
    "\\end{equation}\n",
    "\n",
    "Bernstein-Vazirani algorithm make it in one single call (but uses $𝓞(n)$ gates ...) \n",
    "\n",
    "The algorithm is as follows : \n",
    "\n",
    "<img src=\"./images/bv.png\" alt=\"Note: In order for images to show up in this jupyter notebook you need to select File => Trusted Notebook\" width=\"600 px\" align=\"center\">\n",
    "\n",
    "\n",
    "This algorithm is based on what we call the \"phase-kick back\" : \n"
   ]
  },
  {
   "cell_type": "markdown",
   "metadata": {},
   "source": [
    "\n",
    "\n",
    "This algorithm is based on what we call the \"phase-kick back\" : \n",
    "\n",
    "Let's compare what happensto qubit $q_0$ in these two cases : \n",
    "\n",
    "\n",
    "1- $q_0$ does not interfere with $q_1$:\n",
    "\n",
    "<img src=\"./images/BV-case1.png\" width=\"500\"/>\n",
    "\n",
    "In this case measuring $q_0$ will result in state $|0\\rangle$\n",
    "\n",
    "2- le qubit 0 contrôle le qubit 1:\n",
    "\n",
    "<img src=\"./images/BV-case2.png\" width=\"500\"/>\n",
    "\n",
    "In case 2, let's analyse what happens at each step \n",
    "The 2-qubits system starts in state $|00\\rangle$. \n",
    "\n",
    "\n",
    "Before CNOT, the system is in state  $H\\otimes HX |00\\rangle$\n",
    "\n",
    "\\begin{equation}HX = \\frac{1}{\\sqrt{2}}\\begin{pmatrix} 1&1\\\\1&-1 \\end{pmatrix}\\times \\begin{pmatrix} 0&1\\\\1&0\\end{pmatrix} = \\frac{1}{\\sqrt{2}}\\begin{pmatrix} 1&1\\\\-1&1 \\end{pmatrix}\\end{equation}\n",
    "\n",
    "\n",
    "\\begin{equation} H \\otimes HX = \\frac{1}{2}\\begin{pmatrix} 1&1&1&1\\\\-1&1&-1&1\\\\1&1&-1&-1\\\\-1&1&1&-1\\\\ \\end{pmatrix} \\end{equation}\n",
    "\n",
    "So: \n",
    "\\begin{equation} H \\otimes HX |00\\rangle = \\frac{1}{2}\\begin{pmatrix} 1&1&1&1\\\\-1&1&-1&1\\\\1&1&-1&-1\\\\-1&1&1&-1\\\\ \\end{pmatrix}\\times\\begin{pmatrix} 1\\\\0\\\\0\\\\0\\\\ \\end{pmatrix} = \\frac{1}{2} \\begin{pmatrix} 1\\\\-1\\\\1\\\\-1\\\\ \\end{pmatrix} \\end{equation}\n",
    "\n",
    "Then we apply CNOT to this state : \n",
    "\n",
    "\\begin{equation} CNOT \\times \\frac{1}{2}\\begin{pmatrix} 1\\\\-1\\\\1\\\\-1\\\\ \\end{pmatrix} = \\begin{pmatrix} 1&0&0&0\\\\0&1&0&0\\\\0&0&0&1\\\\0&0&1&0\\\\ \\end{pmatrix} \\times \\frac{1}{2} \\begin{pmatrix} 1\\\\-1\\\\1\\\\-1\\\\ \\end{pmatrix} = \\frac{1}{2}\\begin{pmatrix} 1\\\\-1\\\\-1\\\\1\\\\ \\end{pmatrix} \\end{equation}\n",
    "\n",
    "We end with $H\\otimes I$ :\n",
    "\n",
    "\\begin{equation} (H\\otimes I )\\frac{1}{2}\\begin{pmatrix} 1\\\\-1\\\\-1\\\\1\\\\ \\end{pmatrix} \n",
    "= \\frac{1}{\\sqrt{2}} \\begin{pmatrix} 1&0&1&0\\\\0&1&0&1\\\\1&0&-1&0\\\\0&1&0&-1\\\\\\end{pmatrix} \\times \\frac{1}{2}\\begin{pmatrix} 1\\\\-1\\\\-1\\\\1\\\\ \\end{pmatrix} = \\frac{1}{\\sqrt{2}} \\begin{pmatrix} 0\\\\0\\\\1\\\\-1\\\\ \\end{pmatrix} = \\frac{1}{\\sqrt{2}} (|10\\rangle - |11\\rangle )\\end{equation}\n",
    "\n",
    "Measuring $q_0$ results in $|0\\rangle$. \n",
    "\n",
    "This is phase kickback, and this is what we use in the BV algo."
   ]
  },
  {
   "cell_type": "code",
   "execution_count": 7,
   "metadata": {},
   "outputs": [],
   "source": [
    "# choose the value of s (\"hidden\" value, to be discovered\")\n",
    "s = '101001' "
   ]
  },
  {
   "cell_type": "code",
   "execution_count": 8,
   "metadata": {},
   "outputs": [],
   "source": [
    "# prepare your BV algo here (use bv as circuit name, or change bv in the execution parameter, next cell)\n",
    "# allow for s to be of variable length\n",
    "\n",
    "\n",
    "\n"
   ]
  },
  {
   "cell_type": "markdown",
   "metadata": {},
   "source": [
    "### 2.2 Deutsch-Josza\n",
    "\n",
    "\n",
    "#### Deutsch\n",
    "\n",
    "<img src=\"./images/Deutsch.jpg\" alt=\"Note: In order for images to show up in this jupyter notebook you need to select File => Trusted Notebook\" width=\"250 px\" align=\"center\">\n",
    "\n",
    "Let $f$ be a function from $\\{0,1\\}$ to $\\{0,1\\} :  f : x \\in \\{0,1\\} ⟼ \\{0,1\\}$, it can be *constant* or *balanced*. To find out if it is constant or balanced, a classical algorithm will need to evaluate $f$ for both 0 and 1 input values. \n",
    "\n",
    "\n",
    "\n",
    "In 1985, David Deutsch show that a quantum algorithm can find out with only one evaluation of $f$. \n",
    "Seven years later, David Deutsch et Richard Josza extend this algorithm to the case with $N$ input bits ($2^N$ possible values)\n",
    "\n",
    "\n",
    "#### Lets build the four functions  $f_0, f_1,f_2,f_3$, and run Deutsch algorithm. Result $0$ indicates a constant function, and  $1$ indicates a balanced function:\n",
    "\n",
    "<img src=\"./images/f0f1f2f3.png\" alt=\"Note: In order for images to show up in this jupyter notebook you need to select File => Trusted Notebook\" width=\"400 px\" align=\"center\">\n",
    "\n",
    "<img src=\"./images/deutschfunctions.png\" alt=\"Note : In order for images to show up in this jupyter notebook you need to select File => Trusted Notebook\" width=\"600 px\" align=\"center\">\n",
    "\n",
    "\n",
    "<img src=\"./images/DeutschAlgo.png\" alt=\"Note : In order for images to show up in this jupyter notebook you need to select File => Trusted Notebook\" width=\"600 px\" align=\"center\">\n"
   ]
  },
  {
   "cell_type": "code",
   "execution_count": 9,
   "metadata": {},
   "outputs": [],
   "source": [
    "#\n",
    "#\n",
    "# Your code here \n",
    "#\n",
    "#"
   ]
  },
  {
   "cell_type": "markdown",
   "metadata": {},
   "source": [
    "<!div class=\"alert alert-block alert-info\">\n",
    "Deutsch justification :  \n",
    "\n",
    "(Note  $\\oplus$ is xor (or modulus 2 addition) \n",
    "\n",
    "Let's analyze the states along the circuit. Inital state: \n",
    "\\begin{equation}\n",
    "|\\psi_1⟩ = |0⟩\\times|1⟩\n",
    "\\end{equation}\n",
    "\n",
    "Theen both qubits go through Hadamard : \n",
    "$|0⟩$ goes to $\\frac{1}{\\sqrt{2}}(|0⟩+|1⟩)$\n",
    "and  \n",
    "$|1⟩$ goes to $\\frac{1}{\\sqrt{2}}(|0⟩-|1⟩)$\n",
    "\n",
    "So we have state : $|\\psi_2⟩$\n",
    "\n",
    "\\begin{equation}\n",
    "|\\psi_2⟩ = \\frac{1}{\\sqrt{2}}(|0⟩+|1⟩) \\times \\frac{1}{\\sqrt{2}}(|0⟩-|1⟩)\n",
    "\\end{equation}\n",
    "\n",
    "Both $\\frac{1}{\\sqrt{2}}$ multiply together, and we develop : \n",
    "\n",
    "\\begin{equation}\n",
    "|\\psi_2⟩ = \\frac{1}{2}(|0⟩\\times(|0⟩-|1⟩) + |1⟩\\times(|0⟩-|1⟩)\n",
    "\\end{equation}\n",
    "\n",
    "With $|x⟩$ having value in $|0⟩$ and  $|1⟩$ we can factor like this : \n",
    "\n",
    "\\begin{equation}\n",
    "|\\psi_2⟩ = \\frac{1}{2}\\sum_{x=0}^{x=1}|x⟩(|0⟩-|1⟩)\n",
    "\\end{equation}\n",
    "\n",
    "Then:\n",
    "\n",
    "\\begin{equation}\n",
    "|\\psi_2⟩ = \\frac{1}{2}\\sum_{x=0}^{x=1}(|x⟩|0⟩-|x⟩|1⟩)\n",
    "\\end{equation}\n",
    "\n",
    "Going to $|\\psi_3⟩$ the second qubit state gets the xor of its value and the value of $f(x)$. So $|0⟩$ goes to  $|0\\oplus f(x)⟩$ and $|1⟩$ goes to $|1\\oplus f(x)⟩$ :\n",
    "\n",
    "\n",
    "\\begin{equation}\n",
    "|\\psi_3⟩ = \\frac{1}{2}\\sum_{x=0}^{x=1}(|x⟩|0\\oplus f(x)⟩-|x⟩|1\\oplus f(x)⟩)\n",
    "\\end{equation}\n",
    "\n",
    "With:\n",
    "- if $f(x) = 0$ then $0\\oplus f(x) = 0$ and $1\\oplus f(x) = 1$\n",
    "\n",
    "- if $f(x) = 1$ then $0\\oplus f(x) = 1$ and $1\\oplus f(x) = 0$  \n",
    "\n",
    "which gives:\n",
    "\n",
    "- if $f(x) = 0$ then $|x⟩|0\\oplus f(x)⟩- |x⟩|1\\oplus f(x) ⟩ = |x⟩|0⟩-|x⟩|1⟩ =|x⟩(|0⟩-|1⟩$\n",
    "\n",
    "- if $f(x) = 1$ then $|x⟩|0\\oplus f(x)⟩- |x⟩|1\\oplus f(x) ⟩ = |x⟩|1⟩-|x⟩|0⟩ = -|x⟩(|0⟩-|1⟩$\n",
    "\n",
    "Then: \n",
    "\n",
    "$|x⟩|0\\oplus f(x)⟩ - |x⟩|1 \\oplus f(x) ⟩ = (-1)^{f(x)}|x⟩(|0⟩-|1⟩)$\n",
    "\n",
    "and we can write:\n",
    "\n",
    "\\begin{equation}\n",
    "|\\psi_3⟩ = \\frac{1}{2}\\sum_{x=0}^{x=1}(-1)^{f(x)}|x⟩(|0⟩-|1⟩) = \\frac{1}{2}\\left(\\sum_{x=0}^{x=1}(-1)^{f(x)}|x⟩\\right)(|0⟩-|1⟩\n",
    "\\end{equation}\n",
    "\n",
    "\\begin{equation}\n",
    "|\\psi_3⟩  = \\frac{1}{2}\\left((-1)^{f(0)}|0⟩ + (-1)^{f(1)}|1⟩\\right)(|0⟩-|1⟩)\n",
    "\\end{equation}\n",
    "\n",
    "We now have to get $q_0$ throught thee last $H$ gate: \n",
    "\n",
    "\n",
    "\\begin{equation}\n",
    "|\\psi_4⟩  = \\frac{1}{2}\\left((-1)^{f(0)}\\frac{1}{\\sqrt{2}}(|0⟩+|1⟩) + (-1)^{f(1)}\\frac{1}{\\sqrt{2}}(|0⟩-|1⟩)\\right)(|0⟩-|1⟩)\n",
    "\\end{equation}\n",
    "\n",
    "\\begin{equation}\n",
    "|\\psi_4⟩ = \\frac{1}{2\\sqrt{2}}\\left(\\left((-1)^{f(0)}+(-1)^{f(1)}\\right)|0⟩ + \\left((-1)^{f(0)}-(-1)^{f(1)}\\right)|1⟩\\right) (|0⟩-|1⟩)\n",
    "\\end{equation}\n",
    "\n",
    "And we see that: \n",
    "\n",
    "- if $f(0) = f(1)$ then measuring $q_0$ will result in state $|0⟩$\n",
    "- if $f(0) ≠ f(1)$ then measuring $q_0$ will result in state $|1⟩$\n",
    "\n",
    "Deutsh-Josza expand the same problem to $N$ bits, we are egiven a function from 0,1 exp N to 0,1, and we are told that f is either constant or balanced. \n",
    "\n",
    "Here is a demo:\n",
    "\n"
   ]
  },
  {
   "cell_type": "code",
   "execution_count": 10,
   "metadata": {},
   "outputs": [
    {
     "name": "stderr",
     "output_type": "stream",
     "text": [
      "/Users/clement/opt/anaconda3/envs/myquantumenv/lib/python3.8/site-packages/qiskit/providers/ibmq/ibmqfactory.py:192: UserWarning: Timestamps in IBMQ backend properties, jobs, and job results are all now in local time instead of UTC.\n",
      "  warnings.warn('Timestamps in IBMQ backend properties, jobs, and job results '\n"
     ]
    }
   ],
   "source": [
    "# initialisations \n",
    "\n",
    "import numpy as np\n",
    "\n",
    "from qiskit import IBMQ, BasicAer\n",
    "from qiskit.providers.ibmq import least_busy\n",
    "from qiskit import QuantumCircuit, execute\n",
    "from qiskit.tools.jupyter import *\n",
    "provider = IBMQ.load_account()\n",
    "\n",
    "from qiskit.visualization import plot_histogram"
   ]
  },
  {
   "cell_type": "code",
   "execution_count": 11,
   "metadata": {},
   "outputs": [],
   "source": [
    "def dj_oracle(n, case): \n",
    "    # on construit un circuit, avec n+1 qubits \n",
    "    \n",
    "    oracle_qc = QuantumCircuit(n+1)\n",
    "    \n",
    "    # cas de l'oracle équilibré (balanced)\n",
    "    if case == \"balanced\": \n",
    "        # cnot gate de chaque qubit sur le qubit de sortie\n",
    "        for qubit in range(n):\n",
    "            oracle_qc.cx(qubit,n)\n",
    "            # ca fait qu'on on flip le qubit n autant de fois \n",
    "            # qu'on a un 1 en entrée, donc selon la parité du nombre\n",
    "            # de 1, il finit à 0 ou à 1.\n",
    "            \n",
    "    # cas de l'oracle constant\n",
    "    if case == \"constant\": \n",
    "        # il est constant à 0 ou à 1, on tire au sort un \n",
    "        # entier 0 ou 1 ce qui determine quel est le résultat (constant) de la fonction. \n",
    "        zero_un = np.random.randint(2) \n",
    "        if zero_un == 1:\n",
    "            oracle_qc.x(n)\n",
    "            # on sort toujours 1 quelque soit l'entrée\n",
    "        # sinon rien. le qubit n est à 0... toujours\n",
    "        \n",
    "    oracle_gate = oracle_qc.to_gate()\n",
    "    oracle_gate.name = \"Oracle\"\n",
    "    return oracle_gate\n",
    "            "
   ]
  },
  {
   "cell_type": "code",
   "execution_count": 12,
   "metadata": {},
   "outputs": [],
   "source": [
    "def dj_algo(n, case='random'): \n",
    "    dj_circuit = QuantumCircuit(n+1,n)\n",
    "    \n",
    "    # superpose les n premiers (0 à n-1) \n",
    "    for qubit in range(n): \n",
    "        dj_circuit.h(qubit)\n",
    "        \n",
    "    # on s'occuppe du dernier qubit (état moins)\n",
    "    dj_circuit.x(n)\n",
    "    dj_circuit.h(n)\n",
    "\n",
    "    # si l'utilisateur n'a pas spécifié le parametre random ou bien \n",
    "    # si il l'a spécifié à random\n",
    "    if case == 'random':\n",
    "        random = np.random.randint(2)\n",
    "        if random == 0: \n",
    "            case = 'constant'\n",
    "        else: \n",
    "            case = 'balanced'\n",
    "    # maintenant on crée l'oracle :\n",
    "    oracle = dj_oracle(n,case)\n",
    "    # et on l'ajoute au circuit que nous sommes en train de construire:\n",
    "    dj_circuit.append(oracle, range(n+1))\n",
    "    # range(n+1) est la liste des qubits que circuit \"connecte\" à oracle\n",
    "    \n",
    "    # et on termine le circuit avec les H et les measurement\n",
    "    for i in range(n):\n",
    "        dj_circuit.h(i)\n",
    "        dj_circuit.measure(i, i)\n",
    "    \n",
    "    return dj_circuit\n",
    "        \n",
    "    "
   ]
  },
  {
   "cell_type": "code",
   "execution_count": 13,
   "metadata": {},
   "outputs": [
    {
     "data": {
      "image/png": "[encoded data removed]",
      "text/plain": [
       "<Figure size 628.397x385.28 with 1 Axes>"
      ]
     },
     "execution_count": 13,
     "metadata": {},
     "output_type": "execute_result"
    }
   ],
   "source": [
    "n = 4\n",
    "dj = dj_algo(n)\n",
    "dj.draw(output= 'mpl')"
   ]
  },
  {
   "cell_type": "code",
   "execution_count": 14,
   "metadata": {},
   "outputs": [
    {
     "data": {
      "image/png": "[encoded data removed]",
      "text/plain": [
       "<Figure size 504x360 with 1 Axes>"
      ]
     },
     "execution_count": 14,
     "metadata": {},
     "output_type": "execute_result"
    }
   ],
   "source": [
    "# execution sur le simulateur local\n",
    "backend = BasicAer.get_backend('qasm_simulator')\n",
    "shots = 1024\n",
    "\n",
    "dj = dj_algo(n, 'constant')\n",
    "results = execute(dj, backend = backend, shots = shots).result()\n",
    "answer = results.get_counts()\n",
    "\n",
    "plot_histogram(answer)"
   ]
  },
  {
   "cell_type": "code",
   "execution_count": 15,
   "metadata": {},
   "outputs": [
    {
     "name": "stdout",
     "output_type": "stream",
     "text": [
      "least busy backend:  ibmq_belem\n"
     ]
    },
    {
     "data": {
      "application/vnd.jupyter.widget-view+json": {
       "model_id": "aff6bbc1d09c4ca0a0a304aad6b5c92d",
       "version_major": 2,
       "version_minor": 0
      },
      "text/plain": [
       "Accordion(children=(VBox(layout=Layout(max_width='710px', min_width='710px')),), layout=Layout(max_height='500…"
      ]
     },
     "metadata": {},
     "output_type": "display_data"
    },
    {
     "data": {
      "application/javascript": [
       "$('div.job_widget')\n",
       "        .detach()\n",
       "        .appendTo($('#header'))\n",
       "        .css({\n",
       "            'z-index': 999,\n",
       "             'position': 'fixed',\n",
       "            'box-shadow': '5px 5px 5px -3px black',\n",
       "            'opacity': 0.95,\n",
       "            'float': 'left,'\n",
       "        })\n",
       "        "
      ],
      "text/plain": [
       "<IPython.core.display.Javascript object>"
      ]
     },
     "metadata": {},
     "output_type": "display_data"
    }
   ],
   "source": [
    "backend = least_busy(provider.backends(filters = lambda x: x.configuration().n_qubits >= (n+1) and \n",
    "                                       not x.configuration().simulator and x.status().operational == True))\n",
    "\n",
    "print(\"least busy backend: \", backend)\n",
    "\n",
    "%qiskit_job_watcher\n",
    " \n",
    "dj = dj_algo(n, 'balanced')\n",
    "job = execute(dj, backend = backend, shots = shots, optimization_level = 3)\n"
   ]
  },
  {
   "cell_type": "code",
   "execution_count": 16,
   "metadata": {},
   "outputs": [
    {
     "data": {
      "image/png": "[encoded data removed]",
      "text/plain": [
       "<Figure size 504x360 with 1 Axes>"
      ]
     },
     "execution_count": 16,
     "metadata": {},
     "output_type": "execute_result"
    }
   ],
   "source": [
    "results = job.result()\n",
    "answer = results.get_counts()\n",
    "\n",
    "plot_histogram(answer)"
   ]
  },
  {
   "cell_type": "markdown",
   "metadata": {},
   "source": [
    "# 3. Challenges"
   ]
  },
  {
   "cell_type": "markdown",
   "metadata": {},
   "source": [
    "# 3.1 Challenge 1 : Four states coding"
   ]
  },
  {
   "cell_type": "markdown",
   "metadata": {},
   "source": [
    "## Quantum Cryptography : BB84\n",
    "\n",
    "### You can also ref to BB84.pdf in the GitHub repo\n",
    "\n",
    "**[BB84](https://en.wikipedia.org/wiki/BB84)** protocol was set up in 1984 by one of our famous IBM'ers Charles Bennett with his colleague Gilles Brassard. \n",
    "It has been experimented a few years later in the first demonstration of quantum key distribution  : [quantum key distribution](https://en.wikipedia.org/wiki/Quantum_key_distribution) by Charles Bennett and John Smolin in IBM [C. H. Bennett, F. Bessette, G. Brassard, L. Salvail, and J. Smolin, J. of Cryptography **5**, 3 (1992) ]. Charles and John are still part of the quantum IBM team. \n",
    "\n",
    "<img src=\"./images/charlie_john_qkd.jpg\" width=\"500\"/>\n",
    "<center>Charles Bennett and John Smolin at T.J. Watson IBM research center.</center>\n",
    "\n",
    "BB84 protocol allows to communicate a cryptographie key from one point to another and knowing that it has not been compromised. \n",
    "\n",
    "\n",
    "## BB84 Protocol \n",
    "\n",
    "The steps are the following : \n",
    "\n",
    "1. Alice chooses two random bit strings of length  $n$ : $k$ and $b$. The list $k$ has the key value. The list $b$ represents the bases choice for Alice to encode the bits of $k$. When  $b_i=0$ (meaning if the  $i^{th}$ base bit is zero ), she encodes the $i^{th}$ qubit in the standard base $\\{|0\\rangle, |1\\rangle \\}$, and if $b_i=1$, she uses the base  $\\{|+\\rangle, |-\\rangle \\}$, where $|+\\rangle:=\\frac{1}{\\sqrt{2}}(|0\\rangle +|1\\rangle)$, $|-\\rangle:=\\frac{1}{\\sqrt{2}}(|0\\rangle -|1\\rangle)$. \n",
    "\n",
    "This can be showned as follows : \n",
    "\n",
    "\n",
    "<img src=\"./images/encoding_Alice.png\" alt=\"drawing\" width=\"300\"/>\n",
    "\n",
    "2. After endoding $n$ bits, Alice sends them to Bob. He chooses a random bit string $\\tilde{b}$ of length $n$ for the measurement bases he will be using. Bob records his measurement results  $\\tilde{k_i}$ along with the bases used $\\tilde{b_i}$, in an array.\n",
    "\n",
    "3. Then Alice and Bob compare their bases $b_i$ and $\\tilde{b}_i$. Whenever  $b_i \\neq \\tilde{b}_i$, Bob did not measure in the same base Alice did encode. The probability of having measured the correct value for $k_i$ is $\\frac{1}{2}$, in this case this position is discarded. Howeever, if $b_i = \\tilde{b}_i$, then the qubit was preepared and measured in the same basis (and if noboby did spy on the communication) Bob did measure a correct value : $\\tilde{k}_i = k_i$. These values make the key \n",
    "\n",
    "## Example : \n",
    "\n",
    "Let's assume Alice random key value is :  $k=`0111001`$ and her bases choice : $b=`1101000`$, and let's assume Bob's bases are : $\\tilde{b}=`1001101`$. Look at the values below and note that when bases eare not hte same Bob has one chance out of two to get a correct measurement. \n",
    "<img src=\"./images/example_bb84.png\" alt=\"drawing\" width=\"600\"/>\n",
    "\n",
    "In this case, the key is '0110', and to know if it has been seen by Eve, Alice and Bob will have to sacrifice some of theses bits. If a measurement was made during the distribution, le qubit state would have change with probability $\\frac{1}{4}$. By verifying $m$ bits values, the probability of not detecting Eve decays as $\\left(\\frac{3}{4}\\right)^m$. So if the verify enough bits, they will gain confidence that Eve did not spy. \n",
    "\n",
    "### Message encryption\n",
    "\n",
    "One the key is known and secretely has been secretly distributed, Alice and Bob can use it very easily  :  [ref Masque Jetable](https://fr.wikipedia.org/wiki/Masque_jetable) : Alice just adds bitwise modulo 2 the two lists.  (in other words she performs bitwise XOR). With the above example, key is $\\text{key}=`0110`$. Secret message is $m=`1100`$, so encrypted message is : $c=m\\oplus \\text{key (mod 2)} = `1010`$. Bob can decipher in doing the same thing : add the key to the message : $m=c\\oplus \\text{key (mod 2)}$.\n",
    "\n",
    "## workshop : \n",
    "\n",
    "In this notebook you will be in Bob's role, and with Alice you will generate a key unsing BB84 protocol, then you will beable to decodee Alice's message.\n",
    "\n",
    "---\n",
    "\n",
    "There will be 4 steps : \n",
    "\n",
    "1. Alice prepares her key and bases. The function (provided) `alice_prepare_qubit` is used to send to you the qubits states. \n",
    "\n",
    "2. Bob (you) measure the recevied qubit states in your basis list, you will have to code the function  `build_bob_measure_circuit`. This function receives an index to point in the qubits and in Bob's basis list as well as in the quantum circuit list (which has prepared Alice's qubit state). The function returns a quantum circuit which can be appended to Alice's circuit used to prepare her qubit. Bob circuit simply performs a measure about Bob's base, for each index position. \n",
    "\n",
    "3. Then you will have to build the code for making the key Alice and Bob will agree on (by discarding the values that have been emitted and received on non identical basis).\n",
    "\n",
    "4. Finally, we will be able to write the function to decipher Alice's massage with the key. You generate a bit string, which is a morse code text, you will need to make it readable. \n",
    "\n",
    "---\n",
    "\n",
    "This workhop is derived from the IBM Quantum Computing Challenge, on may 4th, 2020. "
   ]
  },
  {
   "cell_type": "markdown",
   "metadata": {},
   "source": [
    "### Setup"
   ]
  },
  {
   "cell_type": "code",
   "execution_count": 33,
   "metadata": {},
   "outputs": [],
   "source": [
    "# import libraries\n",
    "import BB84HO\n",
    "from random import randint\n",
    "from qiskit import QuantumCircuit, execute, Aer\n",
    "backend = Aer.get_backend('qasm_simulator')\n",
    "\n",
    "bases_length = 1500"
   ]
  },
  {
   "cell_type": "code",
   "execution_count": 34,
   "metadata": {},
   "outputs": [
    {
     "name": "stdout",
     "output_type": "stream",
     "text": [
      "101100100111101011101000000101101111101010011011001010111111010110011101001111110100101111000011101010110001111010011100100011001100011000011011011101110101000010110001100111110000001000100011000000101000000011000011100100010111001111010000000000111011100101110010110110111000110111000101100101001100101011010001100110001010000010000000010010101010110101110010010001101000101001010100111000010100001001000110001011001011111010011110101001010010000001101011011000101011100001000010011110111000001010011110001011110100100010000011111101111011011101011010001100001100101001111110011010110001011011000110000010111010001010010001101111110000011011000110010110001110100100101111000100001110000010100100111010111110111100000110011011001001000100111110011011001111111001000101011110011101111000000110101011001110110101111000000000000001011001110110010011010001001110100011111010101011110010110101101111111111011101011101010101100001000101110000101001000010110001000010100110110000011010100010101001010110010100001010011111101001100100010000010010110111101111101101011101010010011110101110011111101111110011010110011001010001100000111111101000000001011100110110111001001001110000000101111011011101110110101110100111010101011000101111101000110110001110000110001000000011100100011110011010010000001110011010101001101111111010011110000101001110110010100111110111111111010010100011101001100010100110110110010001000000101110101010001110101110010111111011101110010111110111111100110011110010100111011100101010001100\n",
      "zxxzzzxxzxzzzxxxzxxxxxzzxxzxzzzxxxzzzxxxzzxzxzzxxzxxzxzzxzzzzzxzxzxzzzxxxzxzxxzxxzzzxxxzxxzzxzzxzxxxzxzzxzzxzxzzzzxzzzzzxzzzxxzxxzxxxxxzxzxxzxxxzzxxxxzxzxzzxzxzxzxzxzxzxxxxzxzzzzzzzzxxzxzxzxzzxzxzzzzzzzzzzzxzzzxxzzxxxzxxxzzzzzzxxxxxzzzxxxzxxzxxxzxxzzzzxzzxxxzxxxzxxzzxxxzzxzxxxxxxzzxxxzzzzxzzzzxxxxxzxxxxxzzxzzzxzzzxxxzxxzxxxxxxxxzzzzxzzzxzzxzxzzxzxxxzzzzzxxxzzzzxzxzxzzzzxzxzzzxzzzxxzzxxzxxxzzxzzzxzzzzxzzxxxxzzxxzxzxzxzzzxzxxxxxzxxzzxxzzxxzzxzxzxzxzxzzxxzxzzxxzxxxxzxxxxxxxzxzxxxzzxxxxxxxzxzxxzzzxzzzxxzxxxxzxzxxzxxxzzzxzxzzxxzxzxzxzzzxxzxzxzzxzxxxzxxxzxxzzzxxzxxzxzxzxzzxzzxzzxxxzxzzzzzxxxzxxxxxzzzxzxxxxzzzzxxzxzzxzzzzxzzzzzzxxxzxxxzxxzxxzxzzxzxxxzzxxxxzxzzzzxzzxzzzzzxxzzzzzxzxzxzzxzzxxzzzzzzzxxxzxzxxzzxzzxzxxxzxzxzxzzzzxzzxzzzzxzxxzzzxxzxzzzxzxxxzzzzzxxzxzxzxzzzzzzzxzzzzzzxzxxzzxzxxzzxxxxzxzzzzzzzxzzzzzzzzzzxzxzxzxzzxzzxzzzzxxxzzzzzzxzzxxzxxxzxzzxzxxxxzzzzzzxxzzzzxxxxxzzxxzzzzzxzzzzxxxzzxzxxzzxxzxzzxzxzzxzzxzzxxzxxzxzzxxzzzxzxzxzzxxzzzzzzzxxzzzzzzxxxzzzzzzzzxzxzxzzzzzxzxzzxxxzzxzzxzzxxxzzzzzzzzxzzxzxzxxzzzxxxxxxzxxzxzzzzxzxxxzxxxzzxzxzzzzzxxzzxxxzxxxzzxzzxzzxxzzzzzxxxzxxxzzzzxxzzxzxxzzzxzzzxxxxzxzxxxzzxxxzxxxzzxxzzzxzxzzxzzzzzzxzxxxxxxzxzxxxzzxzxzzxzxzzxxxxzxxzzzzzxzxxzzxxxxzzxxxzxzzzxzxzzxxzzzzzxxzzxzzzzxzxzxxxzzzxzxxxzxxzxxxxzxzxzzzxzzxxxzzxzxzzzxxxzxxzzzzzxxxxxxxzzxzxxzxxzxxzzxzzxzxxxzzxxxzzzxzxxzzxzxxxxxzzxxzxxxxxzxzxxxzxzxxxzxzxzzxxzxzxxzxzxxzzxzzxxzzxzxxzzxxxzxzzxxxzxxxzzzxxzxxxxxzxzzzzxxzzzxxzzxxxxxxxxzxxxxzzzxxxzxxzzzxxxzxzxxxxxxzxzzzzzzxzxzzxxzxzzxzzxxzxzzzzzxxxxxxxxzzz\n"
     ]
    }
   ],
   "source": [
    "# clef aléatoire\n",
    "alice_key = \"\"\n",
    "for i in range(bases_length): \n",
    "    alice_key += str(randint(0,1))\n",
    "\n",
    "# bases aléatoires\n",
    "alice_bases = \"\"\n",
    "for i in range(bases_length):\n",
    "    if randint(0,1):\n",
    "        alice_bases += \"z\"\n",
    "    else:\n",
    "        alice_bases += \"x\"\n",
    "        \n",
    "print(alice_key)\n",
    "print(alice_bases)"
   ]
  },
  {
   "cell_type": "markdown",
   "metadata": {},
   "source": [
    "### Bob prepares his bases :"
   ]
  },
  {
   "cell_type": "code",
   "execution_count": 35,
   "metadata": {},
   "outputs": [
    {
     "name": "stdout",
     "output_type": "stream",
     "text": [
      "Bob's bases : xzzzxxxzzxxzzxxxxzzzzxzzxxxxxzzxzzxzzxzzxzxzxzzzzxxxzxxxxzzxzxxxzzxxxxxxzxzxzxzzxxzzzxzzzzxzzxzxzxxxzzzxxxxxzxxxzxzzzzzxxzzzzzxxzxxzxzzxzzxzzxzzxxxzxxzzxzzxzxzxxzxzzzzzxxxxzxxxzxxxxxxxxxzxzxxzxxxxxzxzxzxxxzxxxxxxzxzzzxzxzxxxzzzxxxxzxzxzxzzxxxxzzxxzzxxxzxxzzxxzxzzzzxzxxxzxxzxzxxzzzzxxzxzxxxzxxxzxxzxzxxzzzxxxzxzxxzzxzxzzxxxxzxzxxxzxzzzzxzxxzzzzzzzzzxxxzxxxxzzxzxzzxxzxzxxzzxzxzzxzxxzxxzxzzzzxzxxzzzzxzxxzzxzxxxzzxxxzzzxzxxzzxxzxzzxzxxzxzxxxxxzxxxzzzxxzzxxzxxxxxzxxzxxxxzxzxzxxxzzzzzzzzzzzxzzxxxxxxxzzzxzzzzxzzxxxzzzxzzxxzxzxzzxxzxxzzxzzzxxxxzxxxxzzxxxzzzxzzzxxxxzzxzzxxzxxzxzxxxzzzzxzzzxxzzzzzxxzxxxxzxxxzzxxxzzzxzxzxxxzzzzxzxxxzxxzxxxzzzxxxzzzzzzxzzzxzzzzxzxzzzzzxzxzxxzxxxzzzzzzxxzxxzxzxxzxzzzxxxxxxzxxxxzzxzzzxxxxzzxzxxxzxxxxzzxzzxzzxxzxzxxxzzxxxzzzxxzzxxzzxxxxxxxxzzzxzxzxzxzxzxzzxzxzxxzxxxzzxzzzxxzxxxxzzzzzzzzxxxzxxzxxzxzxxzzxzzxxxxxzxzxxxxxxxzzxzzzxxzzxxzzzzzxzzxxzxzxzxxxxzzzxxzxxzzxzzxzzxzxxxzzxxxzxzxzzxxxxzxxzxxzzzzxzzxxzxxzxzxzzxzzxxxzzxxxxzzzzzzxzzxzzxzxzzzzxzxzxxxzzzzzzxzzzxxzzzzzxxzxzzxxxzxxzzxzzxxzzxzxzzzxzzxxzzxxzxxzzxzzzxxzxzxxxxxxxxzzxxxzzzxxxxzxxxxxxzxzxxzxxzxzzzzxxzxxxxzxzzzxxxzzxzxxxxxxzxxxxxzxxzzzzzxxzxzzxzxzxxxxzxzxzxxzzxzxxzzxxzxxxzzzzxzxxxzxzxxxzxzxxzzxxxzxxxzzzxxzzxxxxzzxxxzxxxzxzzzxxzzxzzzzxzzxxxzzxxzzzzzzzxxzxxxxxxzxxxxzzxxxzxzzzxxxzxxxxxxxxzzxzxzzzzzxzzzzxzxzzxxxxxzxxxzxxxzzxzzxxzxxxzxzxxzxzxzxzxzxzzxxxxzxzxzzzxzzxzzxzzxxxzzxzxxxzxxzzxzxzzzzxzzxxxzzzzxxxxxxxzxzxxxzzxxxxxxzxxzzxzzzzxxzxxxzxxzxxxxzzxzxxzzzxzxzxxxzzzzzzxzxxxxzxxzzzxxxxzzzxzzxzxzxzzxzzzxxzzzxxxzzx\n"
     ]
    }
   ],
   "source": [
    "bob_bases = \"\"\n",
    "for i in range(bases_length):\n",
    "    if randint(0,1):\n",
    "        bob_bases += \"z\"\n",
    "    else:\n",
    "        bob_bases += \"x\"\n",
    "        \n",
    "print('Bob\\'s bases :', bob_bases)"
   ]
  },
  {
   "cell_type": "markdown",
   "metadata": {},
   "source": [
    "### Now Bob performs the measurements (with his bases) on states prepared by Alice (with her key and bases): "
   ]
  },
  {
   "cell_type": "code",
   "execution_count": 86,
   "metadata": {},
   "outputs": [
    {
     "data": {
      "text/plain": [
       "'zzzxzzzzzxzzxxzxzxzxxzxxzzzzxxzxzzzxxzxzxxzxxxxxxzzzzzzxxzzxzxzzxxzxxxzxxxzxxzxzzzxxzxzzxxzzzzzzxxxxzzzzxzxxzxxzzzxzzxxxzxzzxzzxzzzzxxzxxzzzzzxxxzzxxzxxzxxzzzzxxzzzzzxzzxxxxzxxxxzxxxxxzxzxzxzzzxzzxxxxxzxxzzzzxxxzxzxzxxxxzzzxzxzzxxxzzzzxxxxzxzzzzzxxzzzxxxzzzzxzzzzzzxxzzzzxzzzxzzzxxxzxzzzxxxxzxzzzxxxzzzzxxzzzxxzzxzxzzxxxxxzzzzzzzzxxxxzxzzxxxzzzzxzzzxxxxzzzxzxzzxxxxxxzxzzxxxxzxxzxzxxzzxzzzzxzzxzxxzzxxxxzxzzzxxxzxzzzzxxxzxzxzzxxxxxzxzzxxxzzxxxxzxzxzzxxxzzxzzzxxxxxxxzxxzxzxxzzzzzxxzxxzxxzxzxzxzzzzzxzxxzxzzzxzzzxxxxzzzxzxzxzzzxzxxzzxzxxzzxzxxxxxzzzxxzxzzxxxxxxzxxzzzzzzzxzxxxxzxxxzzzzzxxxxxxxxxxxxzzzxzxxxxzzxxxxzxzzxxzzzxxxzxxzzzxzxzzxxzxxxxxzxzxzzzxzxxzxzzxxxzxxxxxzxxxzzxzxzzzzzzzzxxzzxxxxzxxxzzzzxzxzzxzzzzxxzxzzxzzzzxxxxzxzxzzxzzzxzzxzxzxxzzxzzzxzzzxxzxzzzxxzxzzxzzzxzxzzxzxzzxxxzzzzzzzzxzzxxzzxzxxzxzzxzxxxzxzzxzzxxxxxzzxxzzxxxxxzxzxzxzxzxzzzxxzxxxzxzxxxzzzzzxzzzxxxzxxzxzxxxxxxxxzzzxxzzxzxzzzxxzzzzxzzxxxzzxxxxxzzxxzzxxxxxxxxzzxxzzxzzxxxzxzzxzxxzzzxxxxzzzxzxzxzzxzzzzxxxzxzxxzzxzxxzzzxxxzxzzzzxxxzxzxzxxxxzzzxxzzxxzzzxxxxxxzzzxzzzxxxzxzzxxzxxzxzxzzxxzzzxxxxxxxzzzzzxxxxzzzzxxzzzzxzzxzxxzxxzzxzzxxzzzxzxxzxxzzxzxxzzzxxxxxxxxxzxxzzxzzzzzzxxxzzzxxzzzxxxxzxzxzxzxxzzzxxxzxxxxxzzxzzzzxxxxxxzxzxxzxxxzxzxzxxxxzxzzzzzzxxzxxxzzxxxxxzzxzxzxxzxzzzxzxxxxzzzxzzxxzxzxzxxzxzxzzzxzzzzxzzzzzxxxzzzzxxxxxzxzxxxzxzxxxxzzzxzxzxxxxzzzzzzzxzxzzzzxxxzxzxzxxxzxzzzxzzzzzxxzxxxxzzzzzzzxxzzzzxxxxzzxzzzzzxxzxxzzxzxzxxxxzxzxxxzzzxxxxxxxxzxzzxxzxzzzzzxxxxzzxzzzzxxzzzzzzzzxxzzxxxzxzzzxxxxxxxzzzzxzxzzxxzxxzzxxxzxxzzzzzx'"
      ]
     },
     "execution_count": 86,
     "metadata": {},
     "output_type": "execute_result"
    }
   ],
   "source": [
    "bob_bases"
   ]
  },
  {
   "cell_type": "code",
   "execution_count": 37,
   "metadata": {},
   "outputs": [
    {
     "name": "stdout",
     "output_type": "stream",
     "text": [
      "Bob's bases: xzzzxxxzzxxzzxxxxzzzzxzzxxxxxzzxzzxzzxzzxzxzxzzzzxxxzxxxxzzxzxxxzzxxxxxxzxzxzxzzxxzzzxzzzzxzzxzxzxxxzzzxxxxxzxxxzxzzzzzxxzzzzzxxzxxzxzzxzzxzzxzzxxxzxxzzxzzxzxzxxzxzzzzzxxxxzxxxzxxxxxxxxxzxzxxzxxxxxzxzxzxxxzxxxxxxzxzzzxzxzxxxzzzxxxxzxzxzxzzxxxxzzxxzzxxxzxxzzxxzxzzzzxzxxxzxxzxzxxzzzzxxzxzxxxzxxxzxxzxzxxzzzxxxzxzxxzzxzxzzxxxxzxzxxxzxzzzzxzxxzzzzzzzzzxxxzxxxxzzxzxzzxxzxzxxzzxzxzzxzxxzxxzxzzzzxzxxzzzzxzxxzzxzxxxzzxxxzzzxzxxzzxxzxzzxzxxzxzxxxxxzxxxzzzxxzzxxzxxxxxzxxzxxxxzxzxzxxxzzzzzzzzzzzxzzxxxxxxxzzzxzzzzxzzxxxzzzxzzxxzxzxzzxxzxxzzxzzzxxxxzxxxxzzxxxzzzxzzzxxxxzzxzzxxzxxzxzxxxzzzzxzzzxxzzzzzxxzxxxxzxxxzzxxxzzzxzxzxxxzzzzxzxxxzxxzxxxzzzxxxzzzzzzxzzzxzzzzxzxzzzzzxzxzxxzxxxzzzzzzxxzxxzxzxxzxzzzxxxxxxzxxxxzzxzzzxxxxzzxzxxxzxxxxzzxzzxzzxxzxzxxxzzxxxzzzxxzzxxzzxxxxxxxxzzzxzxzxzxzxzxzzxzxzxxzxxxzzxzzzxxzxxxxzzzzzzzzxxxzxxzxxzxzxxzzxzzxxxxxzxzxxxxxxxzzxzzzxxzzxxzzzzzxzzxxzxzxzxxxxzzzxxzxxzzxzzxzzxzxxxzzxxxzxzxzzxxxxzxxzxxzzzzxzzxxzxxzxzxzzxzzxxxzzxxxxzzzzzzxzzxzzxzxzzzzxzxzxxxzzzzzzxzzzxxzzzzzxxzxzzxxxzxxzzxzzxxzzxzxzzzxzzxxzzxxzxxzzxzzzxxzxzxxxxxxxxzzxxxzzzxxxxzxxxxxxzxzxxzxxzxzzzzxxzxxxxzxzzzxxxzzxzxxxxxxzxxxxxzxxzzzzzxxzxzzxzxzxxxxzxzxzxxzzxzxxzzxxzxxxzzzzxzxxxzxzxxxzxzxxzzxxxzxxxzzzxxzzxxxxzzxxxzxxxzxzzzxxzzxzzzzxzzxxxzzxxzzzzzzzxxzxxxxxxzxxxxzzxxxzxzzzxxxzxxxxxxxxzzxzxzzzzzxzzzzxzxzzxxxxxzxxxzxxxzzxzzxxzxxxzxzxxzxzxzxzxzxzzxxxxzxzxzzzxzzxzzxzzxxxzzxzxxxzxxzzxzxzzzzxzzxxxzzzzxxxxxxxzxzxxxzzxxxxxxzxxzzxzzzzxxzxxxzxxzxxxxzzxzxxzzzxzxzxxxzzzzzzxzxxxxzxxzzzxxxxzzzxzzxzxzxzzxzzzxxzzzxxxzzx\n",
      "Bob's bits:  001110110101101011010000000101100001100110011010101010101111000000010101010111110000100110001111101011110001110110011100100000001000000010011011101001101101101110111001100111110101011000100011000110000010100110000010011100100111001101000100000101111101001101110011110110111001111011000100100111001000101100010001000100011110101010000000010111101010110001100111010101101000111001011000011000110100000000100000001011011100111000011111111011110110000101011011111101101011110001000010011101001100001100111011001010110100110110000011111101111010011111011001111100001101101001111111001000110001000111000111000001111011001000110010111011101001011111010110101111011110100110100110000100011110000000110101111010111110111000000111110001001101011100111111010111001111111111000110011010001100101110000111100101000011110101111001001100010001011000110100010111010111001110000011110101100010111000110101100111110011011100101101110001000000100101111010110000001010100001000011010100110100011100110110101001010110001100111010011101001001000100010100010011110110001000111100011111000000000111101110101111101110000011010111011011100011100111111111000101001011111100110110101001010000101101011101010001011101110110101000000110010111110000101111111010110100000110100100100010100100010100001111000100000100001000011000101101101111101010011000000101101011110110000001110011111110010000100001111101010000110100111110010001100001101110101011000100101110010111110111100011010101101011011001110011110001111111011000101110001100\n"
     ]
    }
   ],
   "source": [
    "bob_results = \"\"\n",
    "\n",
    "def bb84():\n",
    "    print('Bob\\'s bases:', bob_bases)\n",
    "\n",
    "    # now Alice prepares her qubits one at a time, using her basis list, \n",
    "    # Bob measures, using his basis list.\n",
    "    bob_results = \"\"\n",
    "    \n",
    "    # for each bit\n",
    "    for index in range(bases_length):\n",
    "        # Alice create her qubit state\n",
    "        thisqubit_circuit = BB84HO.prepare_alice_qubit(index, alice_bases, alice_key)\n",
    "        \n",
    "        # Bob prepares for measure (function to be coded below) \n",
    "        bob_measure = build_bob_measure_circuit(index, bob_bases, thisqubit_circuit)\n",
    "        \n",
    "        # now we execute and measure on the simulator \n",
    "        bob_job = execute(bob_measure, backend=backend, shots=1)\n",
    "        bob_reading = bob_job.result()\n",
    "        \n",
    "        # for each result we build the list\n",
    "        bob_results += list(bob_reading.get_counts(bob_measure))[0]\n",
    "    return bob_results\n",
    "\n",
    "# this is the function to be writen : \n",
    "# you need to \"continue\" a quantum cicruit sent by Alice (qc) using one qubit so that you\n",
    "# make the measurement in Bob's basis at index = index.\n",
    "# the function returns the quantum circuit. \n",
    "\n",
    "\n",
    "def build_bob_measure_circuit(index, bob_bases, qc):    \n",
    "    if bob_bases[index]==\"x\":\n",
    "        qc.h(0)\n",
    "    else:\n",
    "        pass\n",
    "\n",
    "    \n",
    "    qc.measure(0,0)\n",
    "    return qc\n",
    "    # START : write your code here \n",
    "   \n",
    "\n",
    "    # END ------------------------ \n",
    "    \n",
    "bob_bits = bb84()        \n",
    "print('Bob\\'s bits: ', bob_bits)\n"
   ]
  },
  {
   "cell_type": "markdown",
   "metadata": {},
   "source": [
    "### After Bob made his measurement, Alice and Bob share their bases: \n"
   ]
  },
  {
   "cell_type": "code",
   "execution_count": 38,
   "metadata": {},
   "outputs": [
    {
     "name": "stdout",
     "output_type": "stream",
     "text": [
      "alice_bases =  zxxzzzxxzxzzzxxxzxxxxxzzxxzxzzzxxxzzzxxxzzxzxzzxxzxxzxzzxzzzzzxzxzxzzzxxxzxzxxzxxzzzxxxzxxzzxzzxzxxxzxzzxzzxzxzzzzxzzzzzxzzzxxzxxzxxxxxzxzxxzxxxzzxxxxzxzxzzxzxzxzxzxzxzxxxxzxzzzzzzzzxxzxzxzxzzxzxzzzzzzzzzzzxzzzxxzzxxxzxxxzzzzzzxxxxxzzzxxxzxxzxxxzxxzzzzxzzxxxzxxxzxxzzxxxzzxzxxxxxxzzxxxzzzzxzzzzxxxxxzxxxxxzzxzzzxzzzxxxzxxzxxxxxxxxzzzzxzzzxzzxzxzzxzxxxzzzzzxxxzzzzxzxzxzzzzxzxzzzxzzzxxzzxxzxxxzzxzzzxzzzzxzzxxxxzzxxzxzxzxzzzxzxxxxxzxxzzxxzzxxzzxzxzxzxzxzzxxzxzzxxzxxxxzxxxxxxxzxzxxxzzxxxxxxxzxzxxzzzxzzzxxzxxxxzxzxxzxxxzzzxzxzzxxzxzxzxzzzxxzxzxzzxzxxxzxxxzxxzzzxxzxxzxzxzxzzxzzxzzxxxzxzzzzzxxxzxxxxxzzzxzxxxxzzzzxxzxzzxzzzzxzzzzzzxxxzxxxzxxzxxzxzzxzxxxzzxxxxzxzzzzxzzxzzzzzxxzzzzzxzxzxzzxzzxxzzzzzzzxxxzxzxxzzxzzxzxxxzxzxzxzzzzxzzxzzzzxzxxzzzxxzxzzzxzxxxzzzzzxxzxzxzxzzzzzzzxzzzzzzxzxxzzxzxxzzxxxxzxzzzzzzzxzzzzzzzzzzxzxzxzxzzxzzxzzzzxxxzzzzzzxzzxxzxxxzxzzxzxxxxzzzzzzxxzzzzxxxxxzzxxzzzzzxzzzzxxxzzxzxxzzxxzxzzxzxzzxzzxzzxxzxxzxzzxxzzzxzxzxzzxxzzzzzzzxxzzzzzzxxxzzzzzzzzxzxzxzzzzzxzxzzxxxzzxzzxzzxxxzzzzzzzzxzzxzxzxxzzzxxxxxxzxxzxzzzzxzxxxzxxxzzxzxzzzzzxxzzxxxzxxxzzxzzxzzxxzzzzzxxxzxxxzzzzxxzzxzxxzzzxzzzxxxxzxzxxxzzxxxzxxxzzxxzzzxzxzzxzzzzzzxzxxxxxxzxzxxxzzxzxzzxzxzzxxxxzxxzzzzzxzxxzzxxxxzzxxxzxzzzxzxzzxxzzzzzxxzzxzzzzxzxzxxxzzzxzxxxzxxzxxxxzxzxzzzxzzxxxzzxzxzzzxxxzxxzzzzzxxxxxxxzzxzxxzxxzxxzzxzzxzxxxzzxxxzzzxzxxzzxzxxxxxzzxxzxxxxxzxzxxxzxzxxxzxzxzzxxzxzxxzxzxxzzxzzxxzzxzxxzzxxxzxzzxxxzxxxzzzxxzxxxxxzxzzzzxxzzzxxzzxxxxxxxxzxxxxzzzxxxzxxzzzxxxzxzxxxxxxzxzzzzzzxzxzzxxzxzzxzzxxzxzzzzzxxxxxxxxzzz \n",
      "\n",
      "bob_bases   =  xzzzxxxzzxxzzxxxxzzzzxzzxxxxxzzxzzxzzxzzxzxzxzzzzxxxzxxxxzzxzxxxzzxxxxxxzxzxzxzzxxzzzxzzzzxzzxzxzxxxzzzxxxxxzxxxzxzzzzzxxzzzzzxxzxxzxzzxzzxzzxzzxxxzxxzzxzzxzxzxxzxzzzzzxxxxzxxxzxxxxxxxxxzxzxxzxxxxxzxzxzxxxzxxxxxxzxzzzxzxzxxxzzzxxxxzxzxzxzzxxxxzzxxzzxxxzxxzzxxzxzzzzxzxxxzxxzxzxxzzzzxxzxzxxxzxxxzxxzxzxxzzzxxxzxzxxzzxzxzzxxxxzxzxxxzxzzzzxzxxzzzzzzzzzxxxzxxxxzzxzxzzxxzxzxxzzxzxzzxzxxzxxzxzzzzxzxxzzzzxzxxzzxzxxxzzxxxzzzxzxxzzxxzxzzxzxxzxzxxxxxzxxxzzzxxzzxxzxxxxxzxxzxxxxzxzxzxxxzzzzzzzzzzzxzzxxxxxxxzzzxzzzzxzzxxxzzzxzzxxzxzxzzxxzxxzzxzzzxxxxzxxxxzzxxxzzzxzzzxxxxzzxzzxxzxxzxzxxxzzzzxzzzxxzzzzzxxzxxxxzxxxzzxxxzzzxzxzxxxzzzzxzxxxzxxzxxxzzzxxxzzzzzzxzzzxzzzzxzxzzzzzxzxzxxzxxxzzzzzzxxzxxzxzxxzxzzzxxxxxxzxxxxzzxzzzxxxxzzxzxxxzxxxxzzxzzxzzxxzxzxxxzzxxxzzzxxzzxxzzxxxxxxxxzzzxzxzxzxzxzxzzxzxzxxzxxxzzxzzzxxzxxxxzzzzzzzzxxxzxxzxxzxzxxzzxzzxxxxxzxzxxxxxxxzzxzzzxxzzxxzzzzzxzzxxzxzxzxxxxzzzxxzxxzzxzzxzzxzxxxzzxxxzxzxzzxxxxzxxzxxzzzzxzzxxzxxzxzxzzxzzxxxzzxxxxzzzzzzxzzxzzxzxzzzzxzxzxxxzzzzzzxzzzxxzzzzzxxzxzzxxxzxxzzxzzxxzzxzxzzzxzzxxzzxxzxxzzxzzzxxzxzxxxxxxxxzzxxxzzzxxxxzxxxxxxzxzxxzxxzxzzzzxxzxxxxzxzzzxxxzzxzxxxxxxzxxxxxzxxzzzzzxxzxzzxzxzxxxxzxzxzxxzzxzxxzzxxzxxxzzzzxzxxxzxzxxxzxzxxzzxxxzxxxzzzxxzzxxxxzzxxxzxxxzxzzzxxzzxzzzzxzzxxxzzxxzzzzzzzxxzxxxxxxzxxxxzzxxxzxzzzxxxzxxxxxxxxzzxzxzzzzzxzzzzxzxzzxxxxxzxxxzxxxzzxzzxxzxxxzxzxxzxzxzxzxzxzzxxxxzxzxzzzxzzxzzxzzxxxzzxzxxxzxxzzxzxzzzzxzzxxxzzzzxxxxxxxzxzxxxzzxxxxxxzxxzzxzzzzxxzxxxzxxzxxxxzzxzxxzzzxzxzxxxzzzzzzxzxxxxzxxzzzxxxxzzzxzzxzxzxzzxzzzxxzzzxxxzzx\n"
     ]
    }
   ],
   "source": [
    "print(\"alice_bases = \", alice_bases, \"\\n\")\n",
    "print(\"bob_bases   = \", bob_bases)"
   ]
  },
  {
   "cell_type": "markdown",
   "metadata": {},
   "source": [
    "### Now Alice and Bob can construct their key :\n",
    "They will keep only the bits corresponding to index where the bases were identical. \n"
   ]
  },
  {
   "cell_type": "code",
   "execution_count": 40,
   "metadata": {},
   "outputs": [
    {
     "name": "stdout",
     "output_type": "stream",
     "text": [
      "aliceKey: 101100100111101011101000000101101111101010011011001010111111010110011101001111110100101111000011101010110001111010011100100011001100011000011011011101110101000010110001100111110000001000100011000000101000000011000011100100010111001111010000000000111011100101110010110110111000110111000101100101001100101011010001100110001010000010000000010010101010110101110010010001101000101001010100111000010100001001000110001011001011111010011110101001010010000001101011011000101011100001000010011110111000001010011110001011110100100010000011111101111011011101011010001100001100101001111110011010110001011011000110000010111010001010010001101111110000011011000110010110001110100100101111000100001110000010100100111010111110111100000110011011001001000100111110011011001111111001000101011110011101111000000110101011001110110101111000000000000001011001110110010011010001001110100011111010101011110010110101101111111111011101011101010101100001000101110000101001000010110001000010100110110000011010100010101001010110010100001010011111101001100100010000010010110111101111101101011101010010011110101110011111101111110011010110011001010001100000111111101000000001011100110110111001001001110000000101111011011101110110101110100111010101011000101111101000110110001110000110001000000011100100011110011010010000001110011010101001101111111010011110000101001110110010100111110111111111010010100011101001100010100110110110010001000000101110101010001110101110010111111011101110010111110111111100110011110010100111011100101010001100\n",
      "aliceBases: zxxzzzxxzxzzzxxxzxxxxxzzxxzxzzzxxxzzzxxxzzxzxzzxxzxxzxzzxzzzzzxzxzxzzzxxxzxzxxzxxzzzxxxzxxzzxzzxzxxxzxzzxzzxzxzzzzxzzzzzxzzzxxzxxzxxxxxzxzxxzxxxzzxxxxzxzxzzxzxzxzxzxzxzxxxxzxzzzzzzzzxxzxzxzxzzxzxzzzzzzzzzzzxzzzxxzzxxxzxxxzzzzzzxxxxxzzzxxxzxxzxxxzxxzzzzxzzxxxzxxxzxxzzxxxzzxzxxxxxxzzxxxzzzzxzzzzxxxxxzxxxxxzzxzzzxzzzxxxzxxzxxxxxxxxzzzzxzzzxzzxzxzzxzxxxzzzzzxxxzzzzxzxzxzzzzxzxzzzxzzzxxzzxxzxxxzzxzzzxzzzzxzzxxxxzzxxzxzxzxzzzxzxxxxxzxxzzxxzzxxzzxzxzxzxzxzzxxzxzzxxzxxxxzxxxxxxxzxzxxxzzxxxxxxxzxzxxzzzxzzzxxzxxxxzxzxxzxxxzzzxzxzzxxzxzxzxzzzxxzxzxzzxzxxxzxxxzxxzzzxxzxxzxzxzxzzxzzxzzxxxzxzzzzzxxxzxxxxxzzzxzxxxxzzzzxxzxzzxzzzzxzzzzzzxxxzxxxzxxzxxzxzzxzxxxzzxxxxzxzzzzxzzxzzzzzxxzzzzzxzxzxzzxzzxxzzzzzzzxxxzxzxxzzxzzxzxxxzxzxzxzzzzxzzxzzzzxzxxzzzxxzxzzzxzxxxzzzzzxxzxzxzxzzzzzzzxzzzzzzxzxxzzxzxxzzxxxxzxzzzzzzzxzzzzzzzzzzxzxzxzxzzxzzxzzzzxxxzzzzzzxzzxxzxxxzxzzxzxxxxzzzzzzxxzzzzxxxxxzzxxzzzzzxzzzzxxxzzxzxxzzxxzxzzxzxzzxzzxzzxxzxxzxzzxxzzzxzxzxzzxxzzzzzzzxxzzzzzzxxxzzzzzzzzxzxzxzzzzzxzxzzxxxzzxzzxzzxxxzzzzzzzzxzzxzxzxxzzzxxxxxxzxxzxzzzzxzxxxzxxxzzxzxzzzzzxxzzxxxzxxxzzxzzxzzxxzzzzzxxxzxxxzzzzxxzzxzxxzzzxzzzxxxxzxzxxxzzxxxzxxxzzxxzzzxzxzzxzzzzzzxzxxxxxxzxzxxxzzxzxzzxzxzzxxxxzxxzzzzzxzxxzzxxxxzzxxxzxzzzxzxzzxxzzzzzxxzzxzzzzxzxzxxxzzzxzxxxzxxzxxxxzxzxzzzxzzxxxzzxzxzzzxxxzxxzzzzzxxxxxxxzzxzxxzxxzxxzzxzzxzxxxzzxxxzzzxzxxzzxzxxxxxzzxxzxxxxxzxzxxxzxzxxxzxzxzzxxzxzxxzxzxxzzxzzxxzzxzxxzzxxxzxzzxxxzxxxzzzxxzxxxxxzxzzzzxxzzzxxzzxxxxxxxxzxxxxzzzxxxzxxzzzxxxzxzxxxxxxzxzzzzzzxzxzzxxzxzzxzzxxzxzzzzzxxxxxxxxzzz\n",
      "bobBases: xzzzxxxzzxxzzxxxxzzzzxzzxxxxxzzxzzxzzxzzxzxzxzzzzxxxzxxxxzzxzxxxzzxxxxxxzxzxzxzzxxzzzxzzzzxzzxzxzxxxzzzxxxxxzxxxzxzzzzzxxzzzzzxxzxxzxzzxzzxzzxzzxxxzxxzzxzzxzxzxxzxzzzzzxxxxzxxxzxxxxxxxxxzxzxxzxxxxxzxzxzxxxzxxxxxxzxzzzxzxzxxxzzzxxxxzxzxzxzzxxxxzzxxzzxxxzxxzzxxzxzzzzxzxxxzxxzxzxxzzzzxxzxzxxxzxxxzxxzxzxxzzzxxxzxzxxzzxzxzzxxxxzxzxxxzxzzzzxzxxzzzzzzzzzxxxzxxxxzzxzxzzxxzxzxxzzxzxzzxzxxzxxzxzzzzxzxxzzzzxzxxzzxzxxxzzxxxzzzxzxxzzxxzxzzxzxxzxzxxxxxzxxxzzzxxzzxxzxxxxxzxxzxxxxzxzxzxxxzzzzzzzzzzzxzzxxxxxxxzzzxzzzzxzzxxxzzzxzzxxzxzxzzxxzxxzzxzzzxxxxzxxxxzzxxxzzzxzzzxxxxzzxzzxxzxxzxzxxxzzzzxzzzxxzzzzzxxzxxxxzxxxzzxxxzzzxzxzxxxzzzzxzxxxzxxzxxxzzzxxxzzzzzzxzzzxzzzzxzxzzzzzxzxzxxzxxxzzzzzzxxzxxzxzxxzxzzzxxxxxxzxxxxzzxzzzxxxxzzxzxxxzxxxxzzxzzxzzxxzxzxxxzzxxxzzzxxzzxxzzxxxxxxxxzzzxzxzxzxzxzxzzxzxzxxzxxxzzxzzzxxzxxxxzzzzzzzzxxxzxxzxxzxzxxzzxzzxxxxxzxzxxxxxxxzzxzzzxxzzxxzzzzzxzzxxzxzxzxxxxzzzxxzxxzzxzzxzzxzxxxzzxxxzxzxzzxxxxzxxzxxzzzzxzzxxzxxzxzxzzxzzxxxzzxxxxzzzzzzxzzxzzxzxzzzzxzxzxxxzzzzzzxzzzxxzzzzzxxzxzzxxxzxxzzxzzxxzzxzxzzzxzzxxzzxxzxxzzxzzzxxzxzxxxxxxxxzzxxxzzzxxxxzxxxxxxzxzxxzxxzxzzzzxxzxxxxzxzzzxxxzzxzxxxxxxzxxxxxzxxzzzzzxxzxzzxzxzxxxxzxzxzxxzzxzxxzzxxzxxxzzzzxzxxxzxzxxxzxzxxzzxxxzxxxzzzxxzzxxxxzzxxxzxxxzxzzzxxzzxzzzzxzzxxxzzxxzzzzzzzxxzxxxxxxzxxxxzzxxxzxzzzxxxzxxxxxxxxzzxzxzzzzzxzzzzxzxzzxxxxxzxxxzxxxzzxzzxxzxxxzxzxxzxzxzxzxzxzzxxxxzxzxzzzxzzxzzxzzxxxzzxzxxxzxxzzxzxzzzzxzzxxxzzzzxxxxxxxzxzxxxzzxxxxxxzxxzzxzzzzxxzxxxzxxzxxxxzzxzxxzzzxzxzxxxzzzzzzxzxxxxzxxzzzxxxxzzzxzzxzxzxzzxzzzxxzzzxxxzzx\n",
      "bobBbits: 001110110101101011010000000101100001100110011010101010101111000000010101010111110000100110001111101011110001110110011100100000001000000010011011101001101101101110111001100111110101011000100011000110000010100110000010011100100111001101000100000101111101001101110011110110111001111011000100100111001000101100010001000100011110101010000000010111101010110001100111010101101000111001011000011000110100000000100000001011011100111000011111111011110110000101011011111101101011110001000010011101001100001100111011001010110100110110000011111101111010011111011001111100001101101001111111001000110001000111000111000001111011001000110010111011101001011111010110101111011110100110100110000100011110000000110101111010111110111000000111110001001101011100111111010111001111111111000110011010001100101110000111100101000011110101111001001100010001011000110100010111010111001110000011110101100010111000110101100111110011011100101101110001000000100101111010110000001010100001000011010100110100011100110110101001010110001100111010011101001001000100010100010011110110001000111100011111000000000111101110101111101110000011010111011011100011100111111111000101001011111100110110101001010000101101011101010001011101110110101000000110010111110000101111111010110100000110100100100010100100010100001111000100000100001000011000101101101111101010011000000101101011110110000001110011111110010000100001111101010000110100111110010001100001101110101011000100101110010111110111100011010101101011011001110011110001111111011000101110001100\n",
      "768\n",
      "key=  110111010000001110110001101101011100000111000010111010110111111101000000001010110101101100111010010001000000000010111001100000111010110110011110000001001010010010011000100000101110010000011010010101101000000000010111101110101000011110001100000111000111011001000001111011110101110100110100111110100011001000101001001001111000110011111010001010001000110000001010101111011100001001101001111111111101011100100000111000111011110000000000110110101000110001111011111110111101110110001000000101110100001000010101000011101010101110010110011100000001010110111100111001111011111011110100101111100011110000110000000101110110110110010001100111110011011001000001001100000110000110111111100010011010001111101001000111010101111101000010111101001100101111111111011101011011110010100110\n"
     ]
    }
   ],
   "source": [
    "# conserver les bits de la clef d'Alice (ou de ceux qu'a lu Bob) si et seulement si la base choisie\n",
    "# par Alice et la base choisie par Bob étaient les mêmes \n",
    "key = \"\"\n",
    "# START : write your code here \n",
    "for qubit_index in range(len(bob_bases)):\n",
    "    if alice_bases[qubit_index] == bob_bases[qubit_index]:\n",
    "            key = key + bob_bits[qubit_index]\n",
    "    else:\n",
    "        continue\n",
    "    \n",
    "# END ------------------------ \n",
    "\n",
    "print(\"aliceKey:\", alice_key)\n",
    "print(\"aliceBases:\", alice_bases)\n",
    "print(\"bobBases:\", bob_bases)\n",
    "print(\"bobBbits:\", bob_bits)\n",
    "\n",
    "print(len(key))\n",
    "print(\"key= \", key)"
   ]
  },
  {
   "cell_type": "markdown",
   "metadata": {},
   "source": [
    "### Now Alice can use the key to encode her message : \n",
    "\n",
    "execute the following cell"
   ]
  },
  {
   "cell_type": "code",
   "execution_count": 96,
   "metadata": {},
   "outputs": [
    {
     "name": "stdout",
     "output_type": "stream",
     "text": [
      "000001000010111010000100000100001101011100010001100001111101001111110100011111101100000001011100000111100100010100100000000100001110000100111000110111010000001001001101001100110100100100111100011110100100100101111101111010001101110110101001010100000001101011110011011101010011100111100110001101110000001110111011111101001110100111001110100001011100000110100001110111101001011011011101010011010111101111111011111110010110101011000\n",
      "429\n"
     ]
    }
   ],
   "source": [
    "mess = BB84HO.code(BB84HO.alice_message_clair, key)\n",
    "\n",
    "print(mess)\n",
    "print(len(mess))"
   ]
  },
  {
   "cell_type": "markdown",
   "metadata": {},
   "source": [
    "### Function to decode the message using the key: "
   ]
  },
  {
   "cell_type": "code",
   "execution_count": 133,
   "metadata": {},
   "outputs": [
    {
     "name": "stdout",
     "output_type": "stream",
     "text": [
      "429\n",
      "clair   : 110110010010110100110101101001010001011011010011011011001010110010110100010101011001101101100110010110100100010110011001100100110100110010100110110110011010011011010101101100011010110100100110001011001100100101101010010100100101101000100101010011000110110010110010100110100110010011010010110011010011000110010010110100110110010100110100101011010100110110101011011000110101010010110100101100101010110011011011000110101101011011\n"
     ]
    }
   ],
   "source": [
    "# this is Alice message : print(\"message :\", mess)\n",
    "print(len(mess))\n",
    "\n",
    "# here we decode Alice message, using our key\n",
    "def decode(message,clef):\n",
    "    # premierement vérifier que la clef est assez longue (> message length)\n",
    "    # sinon presentez un message, il faut recommencer\n",
    "    \n",
    "    # START : write your code here \n",
    "    \n",
    "    return BB84HO.code(mess,key)\n",
    "   \n",
    "    \n",
    "    \n",
    "    # END ------------------------ \n",
    "\n",
    "    \n",
    "clair = decode(mess,key)\n",
    "clair = clair.rstrip(\"0\")\n",
    "print(\"clair   :\" ,clair)"
   ]
  },
  {
   "cell_type": "markdown",
   "metadata": {},
   "source": [
    "Message is in morse code :\n",
    "\n",
    "- point : '1' (\"ti\")\n",
    "- dash : '11' (\"ta\")\n",
    "- separator : '0'\n",
    "- letter separator :  '00'\n",
    "- word separator: '000'.\n",
    "\n",
    "For example :\n",
    "<img src=\"./images/qiskit_morse.png\" alt=\"drawing\" width=\"500\"/>"
   ]
  },
  {
   "cell_type": "markdown",
   "metadata": {},
   "source": [
    "### Try and decode Alice message  !\n",
    "\n",
    "One usefull Python method can be \"split()\" : `string.split(separator, maxsplit)`\n",
    "\n",
    "You may \"split\" the string into a word list `texte.split(\"000\")`, then split words into letters with `mot.split(\"00\")`, finally split letters into signs (\"ti\" and \"ta\"), then pick up each letter from the provided dictionnary to display the message. "
   ]
  },
  {
   "cell_type": "code",
   "execution_count": 143,
   "metadata": {},
   "outputs": [
    {
     "name": "stdout",
     "output_type": "stream",
     "text": [
      "merci pour votre attention, cet atelier est maintenant terminé, bravo ! \n"
     ]
    }
   ],
   "source": [
    "M = { '.-':'a', '-...':'b', '-.-.':'c', '-..':'d', '.':'e', '..-.':'f', '--.':'g', \n",
    "     '....':'h', '..':'i', '.---':'j', '-.-':'k', '.-..':'l', '--':'m', '-.':'n',\n",
    "     '---':'o', '.--.':'p', '--.-':'q', '.-.':'r', '...':'s', '-':'t', '..-':'u',\n",
    "     '...-':'v', '.--':'w', '-..-':'x', '-.--':'y', '--..':'z', '.----':'1', \n",
    "     '..---':'2', '...--':'3', '....-':'4', '.....':'5', '-....':'6', '--...':'7',\n",
    "     '---..':'8', '----.':'9', '-----':'0', '--..--':',', '.-.-.-':'.', '..--..':'?',\n",
    "     '-..-.':'/', '-....-':'-', '--..--':',', '---...':':', '-.--.':'(', '-.--.-':')',\n",
    "     '..-..':'é','.--.-':'à', '-.-.--':'!'} \n",
    "\n",
    "# ecrivez une focntion qui rend lisible le code morse de \"clair\"\n",
    "\n",
    "# START : write your code here \n",
    "final = ''\n",
    "for mot in clair.split(\"000\"):\n",
    "    new_word = []\n",
    "    for letter in mot.split('00'):\n",
    "        new_letter = []\n",
    "        for letter_bis in letter.split('0'):\n",
    "            if letter_bis == '11':\n",
    "                new_letter.append('-')\n",
    "            else:\n",
    "                new_letter.append('.')\n",
    "                       \n",
    "        new_word.append(M[\"\".join(new_letter)])\n",
    "        \n",
    "    final += ''.join(new_word) + ' '\n",
    "    \n",
    "print(final)\n",
    "         \n",
    "\n",
    "# END ------------------------ "
   ]
  },
  {
   "cell_type": "markdown",
   "metadata": {},
   "source": [
    "## 3.2 : Challenge 2 Quantum Teleportation\n",
    "\n",
    "\n",
    "<img src=\"./images/lab-header.png\" alt=\"drawing\" width=\"800\"/>"
   ]
  },
  {
   "cell_type": "markdown",
   "metadata": {},
   "source": [
    "\n",
    "### You may review Telportation.pdf in the repo\n",
    "\n",
    "\n",
    "In this exercise, you will teleport the quantum state \n",
    "$$\\sqrt{0.70}\\vert0\\rangle + \\sqrt{0.30}\\vert1\\rangle$$ from Alice's qubit to Bob's qubit. Recall that the teleportation algorithm consists of four major components:\n",
    "\n",
    "1. Initializing the state to be teleported. We will do this on Alice's qubit `q0`.\n",
    "2. Creating entanglement between two qubits. We will use qubits `q1` and `q2` for this. Recall that Alice owns `q1`, and Bob owns `q2`.\n",
    "3. Applying a Bell measurement on Alice's qubits `q0` and `q1`.\n",
    "4. Applying classically controlled operations on Bob's qubit `q2` depending on the outcomes of the Bell measurement on Alice's qubits.\n",
    "\n",
    "This exercise guides you through each of these steps."
   ]
  },
  {
   "cell_type": "markdown",
   "metadata": {},
   "source": [
    "### Initializing the state to be teleported"
   ]
  },
  {
   "cell_type": "markdown",
   "metadata": {},
   "source": [
    "First, create a quantum circuit that creates the state $$\\sqrt{0.70}\\vert0\\rangle + \\sqrt{0.30}\\vert1\\rangle$$ You can do this by using `Qiskit`'s `initialize` function (`quantum_circuit.initialize(state_as_a_list_of_2_complex,qubit`)"
   ]
  },
  {
   "cell_type": "code",
   "execution_count": 144,
   "metadata": {},
   "outputs": [],
   "source": [
    "def initialize_qubit(given_circuit, qubit_index):\n",
    "    \n",
    "    import numpy as np\n",
    "    ### WRITE YOUR CODE BETWEEN THESE LINES - START\n",
    "    given_circuit.initialize([np.sqrt(0.7),np.sqrt(0.3)],qubit_index)\n",
    "   \n",
    "    \n",
    "    ### WRITE YOUR CODE BETWEEN THESE LINES - END\n",
    "    \n",
    "    return given_circuit"
   ]
  },
  {
   "cell_type": "markdown",
   "metadata": {},
   "source": [
    "Next, we need to create entanglement between Alice's and Bob's qubits."
   ]
  },
  {
   "cell_type": "code",
   "execution_count": 145,
   "metadata": {},
   "outputs": [],
   "source": [
    "def entangle_qubits(given_circuit, qubit_Alice, qubit_Bob):\n",
    "    \n",
    "    ### WRITE YOUR CODE BETWEEN THESE LINES - START\n",
    "    given_circuit.h(qubit_Alice)\n",
    "    given_circuit.cx(qubit_Alice,qubit_Bob)\n",
    "    \n",
    "   \n",
    "    \n",
    "    ### WRITE YOUR CODE BETWEEN THESE LINES - END\n",
    "    \n",
    "    return given_circuit"
   ]
  },
  {
   "cell_type": "markdown",
   "metadata": {},
   "source": [
    "Next, we need to do a Bell measurement of Alice's qubits."
   ]
  },
  {
   "cell_type": "code",
   "execution_count": 155,
   "metadata": {},
   "outputs": [],
   "source": [
    "def bell_meas_Alice_qubits(given_circuit, qubit1_Alice, qubit2_Alice, clbit1_Alice, clbit2_Alice):\n",
    "    \n",
    "    ### WRITE YOUR CODE BETWEEN THESE LINES - START\n",
    "    given_circuit.cx(qubit1_Alice,qubit2_Alice)\n",
    "    given_circuit.h(qubit1_Alice)\n",
    "    given_circuit.measure(qubit1_Alice,clbit1_Alice)\n",
    "    given_circuit.measure(qubit2_Alice,clbit2_Alice)\n",
    "   \n",
    "    ### WRITE YOUR CODE BETWEEN THESE LINES - END\n",
    "\n",
    "    return given_circuit"
   ]
  },
  {
   "cell_type": "markdown",
   "metadata": {},
   "source": [
    "Finally, we apply controlled operations on Bob's qubit. Recall that the controlled operations are applied in this order:\n",
    "\n",
    "- an $X$ gate is applied on Bob's qubit if the measurement coutcome of Alice's second qubit, `clbit2_Alice`, is `1`.\n",
    "- a $Z$ gate is applied on Bob's qubit if the measurement coutcome of Alice's first qubit, `clbit1_Alice`, is `1`.\n",
    "\n",
    "- use `c_if` qiskit instruction : `given_circuit.gate(qubit).c_if(cbit,1)`"
   ]
  },
  {
   "cell_type": "code",
   "execution_count": 156,
   "metadata": {},
   "outputs": [],
   "source": [
    "def controlled_ops_Bob_qubit(given_circuit, qubit_Bob, clbit1_Alice, clbit2_Alice):\n",
    "    \n",
    "    ### WRITE YOUR CODE BETWEEN THESE LINES - START\n",
    "    given_circuit.x(qubit_Bob).c_if(clbit2_Alice,1)\n",
    "    given_circuit.z(qubit_Bob).c_if(clbit1_Alice,1)\n",
    "   \n",
    "    ### WRITE YOUR CODE BETWEEN THESE LINES - END\n",
    "    \n",
    "    return given_circuit"
   ]
  },
  {
   "cell_type": "markdown",
   "metadata": {},
   "source": [
    "The next lines of code put everything together. **You do not need to modify anything below, but you will need to run the cell.**"
   ]
  },
  {
   "cell_type": "code",
   "execution_count": 157,
   "metadata": {},
   "outputs": [
    {
     "data": {
      "image/png": "[encoded data removed]",
      "text/plain": [
       "<Figure size 874.918x385.28 with 1 Axes>"
      ]
     },
     "execution_count": 157,
     "metadata": {},
     "output_type": "execute_result"
    }
   ],
   "source": [
    "### imports\n",
    "from qiskit import QuantumRegister, ClassicalRegister, QuantumCircuit\n",
    "\n",
    "### set up the qubits and classical bits\n",
    "all_qubits_Alice = QuantumRegister(2)\n",
    "all_qubits_Bob = QuantumRegister(1)\n",
    "creg1_Alice = ClassicalRegister(1)\n",
    "creg2_Alice = ClassicalRegister(1)\n",
    "creg_target = ClassicalRegister(1)\n",
    "\n",
    "### quantum teleportation circuit here\n",
    "# Initialize\n",
    "mycircuit = QuantumCircuit(all_qubits_Alice, all_qubits_Bob, creg1_Alice, creg2_Alice, creg_target)\n",
    "initialize_qubit(mycircuit, 0)\n",
    "mycircuit.barrier()\n",
    "# Entangle\n",
    "entangle_qubits(mycircuit, 1, 2)\n",
    "mycircuit.barrier()\n",
    "# Do a Bell measurement\n",
    "bell_meas_Alice_qubits(mycircuit, all_qubits_Alice[0], all_qubits_Alice[1], creg1_Alice, creg2_Alice)\n",
    "mycircuit.barrier()\n",
    "# Apply classically controlled quantum gates\n",
    "controlled_ops_Bob_qubit(mycircuit, all_qubits_Bob[0], creg1_Alice, creg2_Alice)\n",
    "\n",
    "### Look at the complete circuit\n",
    "mycircuit.draw(output='mpl')"
   ]
  },
  {
   "cell_type": "markdown",
   "metadata": {},
   "source": [
    "Now you can add a measurement on creg_target and verify teleportation has happened"
   ]
  },
  {
   "cell_type": "code",
   "execution_count": 171,
   "metadata": {},
   "outputs": [
    {
     "name": "stdout",
     "output_type": "stream",
     "text": [
      "p0 = 0.7006\n",
      "p1 = 0.2994\n"
     ]
    }
   ],
   "source": [
    "# add measure on Bob's qubit to Bob's c-bit (creg-target)\n",
    "mycircuit.measure(all_qubits_Bob[0],creg_target[0])\n",
    "\n",
    "# require needed objects for local sim xecution\n",
    "from qiskit import execute, Aer\n",
    "backend = Aer.get_backend('qasm_simulator')\n",
    "result = execute(mycircuit, backend, shots=10000).result()\n",
    "\n",
    "# dictionnaire qui reçoit les résultats\n",
    "d = result.get_counts(mycircuit)\n",
    "\n",
    "# because we had measurements already on Alices bit, the results are 3 qubits results\n",
    "# we want to count (agregating) results 0 on one side and result 1 on the other side for 3rd qubit, \n",
    "# comes at left position (most significant bit) : position 0 => k[0]\n",
    "### WRITE YOUR CODE BETWEEN THESE LINES - START\n",
    "\n",
    "plot_histogram(d)\n",
    "\n",
    "p0 = 0\n",
    "p1 = 0\n",
    "norm = 0\n",
    "for key in ['0 0 0','0 0 1','0 1 0','0 1 1']:\n",
    "    p0 += d[key]\n",
    "    \n",
    "for key in ['1 0 0','1 0 1','1 1 0','1 1 1']:\n",
    "    p1 += d[key]\n",
    "    \n",
    "norm = p0 + p1\n",
    "print('p0 = %s' %(p0/norm))\n",
    "print('p1 = %s' %(p1/norm))\n",
    "### WRITE YOUR CODE BETWEEN THESE LINES - END"
   ]
  },
  {
   "cell_type": "markdown",
   "metadata": {},
   "source": [
    "# 3.3 Challenge 3 : Getting the best performance from the available machines\n",
    "\n",
    "Create the non trivial state $Rx(\\pi/5)|0\\rangle$\n",
    "\n",
    "Using the calibration data for the available machines, select the best 2 neighbours qubits for a swapp. \n",
    "\n",
    "<img src=\"./images/best-swap.png\" alt=\"drawing\" width=\"800\"/>\n",
    "\n",
    "Run and evaluate the result.\n",
    "\n",
    "# The following cells give you an example on how to query qubit error rates data \n",
    "\n",
    "This is from : \n",
    "https://github.com/Qiskit/qiskit-tutorials/blob/master/tutorials/circuits_advanced/08_gathering_system_information.ipynb wheree you can find more information on this subject."
   ]
  },
  {
   "cell_type": "code",
   "execution_count": 172,
   "metadata": {},
   "outputs": [],
   "source": [
    "from qiskit import IBMQ # for provider access"
   ]
  },
  {
   "cell_type": "code",
   "execution_count": 173,
   "metadata": {},
   "outputs": [
    {
     "name": "stderr",
     "output_type": "stream",
     "text": [
      "/Users/clement/opt/anaconda3/envs/myquantumenv/lib/python3.8/site-packages/qiskit/providers/ibmq/ibmqfactory.py:192: UserWarning: Timestamps in IBMQ backend properties, jobs, and job results are all now in local time instead of UTC.\n",
      "  warnings.warn('Timestamps in IBMQ backend properties, jobs, and job results '\n",
      "ibmqfactory.load_account:WARNING:2021-03-13 20:28:33,087: Credentials are already in use. The existing account in the session will be replaced.\n"
     ]
    },
    {
     "data": {
      "text/plain": [
       "<AccountProvider for IBMQ(hub='ibm-q', group='open', project='main')>"
      ]
     },
     "execution_count": 173,
     "metadata": {},
     "output_type": "execute_result"
    }
   ],
   "source": [
    "IBMQ.load_account() # to autenticate using your API key, see Lab1 if needed "
   ]
  },
  {
   "cell_type": "code",
   "execution_count": 174,
   "metadata": {},
   "outputs": [],
   "source": [
    "selected_provider = IBMQ.get_provider(hub='ibm-q')  # select default provider ibm-q"
   ]
  },
  {
   "cell_type": "code",
   "execution_count": 175,
   "metadata": {},
   "outputs": [
    {
     "data": {
      "text/plain": [
       "[<IBMQSimulator('ibmq_qasm_simulator') from IBMQ(hub='ibm-q', group='open', project='main')>,\n",
       " <IBMQBackend('ibmqx2') from IBMQ(hub='ibm-q', group='open', project='main')>,\n",
       " <IBMQBackend('ibmq_16_melbourne') from IBMQ(hub='ibm-q', group='open', project='main')>,\n",
       " <IBMQBackend('ibmq_armonk') from IBMQ(hub='ibm-q', group='open', project='main')>,\n",
       " <IBMQBackend('ibmq_athens') from IBMQ(hub='ibm-q', group='open', project='main')>,\n",
       " <IBMQBackend('ibmq_santiago') from IBMQ(hub='ibm-q', group='open', project='main')>,\n",
       " <IBMQBackend('ibmq_lima') from IBMQ(hub='ibm-q', group='open', project='main')>,\n",
       " <IBMQBackend('ibmq_belem') from IBMQ(hub='ibm-q', group='open', project='main')>,\n",
       " <IBMQBackend('ibmq_quito') from IBMQ(hub='ibm-q', group='open', project='main')>,\n",
       " <IBMQSimulator('simulator_statevector') from IBMQ(hub='ibm-q', group='open', project='main')>,\n",
       " <IBMQSimulator('simulator_mps') from IBMQ(hub='ibm-q', group='open', project='main')>,\n",
       " <IBMQSimulator('simulator_extended_stabilizer') from IBMQ(hub='ibm-q', group='open', project='main')>,\n",
       " <IBMQSimulator('simulator_stabilizer') from IBMQ(hub='ibm-q', group='open', project='main')>]"
      ]
     },
     "execution_count": 175,
     "metadata": {},
     "output_type": "execute_result"
    }
   ],
   "source": [
    "selected_provider.backends() # optional : show me the backends"
   ]
  },
  {
   "cell_type": "markdown",
   "metadata": {},
   "source": [
    "From there you could use that result to iterate on online backends having more than one qubit and which are not simulators. The following shows you some of the qiskit syntax you may use, to find the best 2 qubits  :"
   ]
  },
  {
   "cell_type": "code",
   "execution_count": 188,
   "metadata": {},
   "outputs": [],
   "source": [
    "backend = selected_provider.get_backend('ibmq_santiago')  # for example"
   ]
  },
  {
   "cell_type": "code",
   "execution_count": 189,
   "metadata": {},
   "outputs": [],
   "source": [
    "prop = backend.properties()\n",
    "conf = backend.configuration()"
   ]
  },
  {
   "cell_type": "code",
   "execution_count": 229,
   "metadata": {},
   "outputs": [
    {
     "name": "stdout",
     "output_type": "stream",
     "text": [
      "Qubit 0 has a sx gate error of     0.0006 \n",
      "Qubit 1 has a sx gate error of     0.0011 \n",
      "Qubit 2 has a sx gate error of     0.0005 \n",
      "Qubit 3 has a sx gate error of     0.0003 \n",
      "Qubit 4 has a sx gate error of     0.0002 \n",
      "Qubit 0 has a measurement error of 0.0185 \n",
      "Qubit 1 has a measurement error of 0.055 \n",
      "Qubit 2 has a measurement error of 0.0506 \n",
      "Qubit 3 has a measurement error of 0.0158 \n",
      "Qubit 4 has a measurement error of 0.0091 \n",
      "Cx from Qubit 0 to Qubit 1 has error rate of 0.0233\n",
      "Cx from Qubit 1 to Qubit 0 has error rate of 0.0233\n",
      "Cx from Qubit 1 to Qubit 2 has error rate of 0.0183\n",
      "Cx from Qubit 2 to Qubit 1 has error rate of 0.0183\n",
      "Cx from Qubit 2 to Qubit 3 has error rate of 0.01\n",
      "Cx from Qubit 3 to Qubit 2 has error rate of 0.01\n",
      "Cx from Qubit 3 to Qubit 4 has error rate of 0.0112\n",
      "Cx from Qubit 4 to Qubit 3 has error rate of 0.0112\n"
     ]
    }
   ],
   "source": [
    "for i in range(conf.n_qubits):\n",
    "    print(f\"Qubit {i} has a sx gate error of     {round(prop.gate_error('sx',i),4)} \")\n",
    "              \n",
    "for i in range(conf.n_qubits):\n",
    "     print(f\"Qubit {i} has a measurement error of {round(prop.readout_error(i),4)} \")\n",
    "              \n",
    "for c in conf.coupling_map:\n",
    "    q_c = c[0]  # control qubit \n",
    "    q_t = c[1]  # target qubit\n",
    "    print(f\"Cx from Qubit {q_c} to Qubit {q_t} has error rate of {round(prop.gate_error('cx',(q_c,q_t)),4)}\")"
   ]
  },
  {
   "cell_type": "code",
   "execution_count": 228,
   "metadata": {},
   "outputs": [
    {
     "name": "stdout",
     "output_type": "stream",
     "text": [
      "(2, 3)\n",
      "(3, 4)\n"
     ]
    }
   ],
   "source": [
    "#when we consider only the swap gate\n",
    "def find_min(conf):\n",
    "    min_ = np.inf\n",
    "    for c in conf.coupling_map:\n",
    "        q_c = c[0]  # control qubit \n",
    "        q_t = c[1]  # target qubit\n",
    "        if round(prop.gate_error('cx',(q_c,q_t)),4)<min_:\n",
    "            min_ = round(prop.gate_error('cx',(q_c,q_t)),4)\n",
    "            q_c_0 = c[0]\n",
    "            q_t_0 = c[1]\n",
    "    return q_c_0,q_t_0\n",
    "# your code to find the \"best\" two neighbour qubits\n",
    "\n",
    "print(find_min(conf))\n",
    "def find_min_with_measure(conf):\n",
    "    max_ = -np.inf\n",
    "    for c in conf.coupling_map:\n",
    "        q_c = c[0]  # control qubit \n",
    "        q_t = c[1]  # target qubit\n",
    "        p_swap = round(prop.gate_error('cx',(q_c,q_t)),4)\n",
    "        p_mes_1 = prop.readout_error(q_c)\n",
    "        p_mes_2 = prop.readout_error(q_t)\n",
    "        if np.log(1-p_swap)+np.log(1-p_mes_1)+np.log(1-p_mes_2)>max_:\n",
    "            max_ = np.log(1-p_swap)+np.log(1-p_mes_1)+np.log(1-p_mes_2)\n",
    "            q_c_0 = c[0]\n",
    "            q_t_0 = c[1]\n",
    "    return q_c_0,q_t_0\n",
    "\n",
    "print(find_min_with_measure(conf))"
   ]
  },
  {
   "cell_type": "markdown",
   "metadata": {},
   "source": [
    "### Can you generalize to find the best place to perform a swap between 2 qubits that are n qubits away ?"
   ]
  },
  {
   "cell_type": "code",
   "execution_count": 238,
   "metadata": {},
   "outputs": [
    {
     "name": "stdout",
     "output_type": "stream",
     "text": [
      "0.02357573652870569\n",
      "0.02357573652870569\n",
      "0.018469516283661322\n",
      "0.018469516283661322\n",
      "0.01005033585350145\n",
      "0.01005033585350145\n",
      "0.011263192278710714\n",
      "0.011263192278710714\n"
     ]
    }
   ],
   "source": [
    "# your code here\n",
    "import networkx as nx\n",
    "G = nx.Graph()\n",
    "G_weighted = nx.Graph()\n",
    "for c in conf.coupling_map:\n",
    "    q_c = c[0]  # control qubit \n",
    "    q_t = c[1]  # target qubit\n",
    "    cost = -np.log(1-round(prop.gate_error('cx',(q_c,q_t)),4))\n",
    "    print(cost)\n",
    "    G_weighted.add_edge(q_c,q_t,weight = cost)\n",
    "    G.add_edge(q_c,q_t,weight = 1)"
   ]
  },
  {
   "cell_type": "code",
   "execution_count": 240,
   "metadata": {},
   "outputs": [
    {
     "name": "stdout",
     "output_type": "stream",
     "text": [
      "1 4\n"
     ]
    }
   ],
   "source": [
    "N = 3\n",
    "cost_tmp = np.inf\n",
    "for node1 in G.nodes:\n",
    "    for node2 in G.nodes:\n",
    "        if node1 != node2:\n",
    "            cost_dij , path = nx.single_source_dijkstra(G_weighted, source=node1, target=node2)\n",
    "            cost_dist, _ =  nx.single_source_dijkstra(G, source=node1, target=node2)\n",
    "            if cost_dist == N:\n",
    "                if cost_dij < cost_tmp:\n",
    "                    cost_tmp = cost_dij\n",
    "                    fin_node1 = node1\n",
    "                    fin_node2 = node2\n",
    "\n",
    "                \n",
    "print(fin_node1,fin_node2)"
   ]
  },
  {
   "cell_type": "code",
   "execution_count": null,
   "metadata": {},
   "outputs": [],
   "source": []
  }
 ],
 "metadata": {
  "kernelspec": {
   "display_name": "Python 3",
   "language": "python",
   "name": "python3"
  },
  "language_info": {
   "codemirror_mode": {
    "name": "ipython",
    "version": 3
   },
   "file_extension": ".py",
   "mimetype": "text/x-python",
   "name": "python",
   "nbconvert_exporter": "python",
   "pygments_lexer": "ipython3",
   "version": "3.8.8"
  }
 },
 "nbformat": 4,
 "nbformat_minor": 2
}

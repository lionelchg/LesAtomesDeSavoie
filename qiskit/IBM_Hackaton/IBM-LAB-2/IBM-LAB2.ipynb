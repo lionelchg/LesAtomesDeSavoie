{
 "cells": [
  {
   "cell_type": "markdown",
   "metadata": {},
   "source": [
    "<table>\n",
    "   <tr>     \n",
    "    <td><img src=\"./images/logo-qiskit.png\" alt=\"Note: In order for images to show up in this jupyter notebook you need to select File => Trusted Notebook\" width=\"300 px\" align=\"left\"></td>\n",
    "    <td>  </td>\n",
    "    <td><img src=\"./images/logo-IBM.png\" alt=\"Note: In order for images to show up in this jupyter notebook you need to select File => Trusted Notebook\" width=\"300 px\" align=\"left\"></td>\n",
    "   </tr>\n",
    "</table>\n",
    "<br>\n",
    "\n",
    "\n",
    "# <center>Welcome </center>\n",
    "\n",
    "\n",
    "# <center> Lab-2 : Quantum Circuits </center>\n",
    "\n",
    "\n",
    "<img src=\"./images/logo-hackathon.png\" alt=\"Note: In order for images to show up in this jupyter notebook you need to select File => Trusted Notebook\" width=\"800 px\" align=\"center\"></td>\n",
    "\n",
    "\n",
    "### Content :\n",
    "<ol>\n",
    "    <li>Warmup</li>\n",
    "    <br>\n",
    "    <li>Exercises</li>\n",
    "    <br>\n",
    "    <li>Challenges</li>  \n",
    "</ol>\n",
    "\n",
    "\n"
   ]
  },
  {
   "cell_type": "markdown",
   "metadata": {},
   "source": [
    "<div class=\"alert alert-block alert-info\">\n",
    "\n",
    "# 1. Warmup\n",
    "</div>"
   ]
  },
  {
   "cell_type": "markdown",
   "metadata": {},
   "source": [
    "### 1.1 What is the result of this circuit ?\n",
    "\n",
    "<img src=\"./images/3cx.png\" width=\"500\"/>\n",
    "\n",
    "Hint : qiskit and the composer do not provide formal calculation, but you can try with a few values.\n",
    "You may just decide to go with matrices multiplication..."
   ]
  },
  {
   "cell_type": "code",
   "execution_count": 5,
   "metadata": {},
   "outputs": [
    {
     "output_type": "execute_result",
     "data": {
      "text/plain": [
       "<Figure size 478.079x204.68 with 1 Axes>"
      ],
      "image/svg+xml": "<?xml version=\"1.0\" encoding=\"utf-8\" standalone=\"no\"?>\n<!DOCTYPE svg PUBLIC \"-//W3C//DTD SVG 1.1//EN\"\n  \"http://www.w3.org/Graphics/SVG/1.1/DTD/svg11.dtd\">\n<!-- Created with matplotlib (https://matplotlib.org/) -->\n<svg height=\"168.9334pt\" version=\"1.1\" viewBox=\"0 0 375.349344 168.9334\" width=\"375.349344pt\" xmlns=\"http://www.w3.org/2000/svg\" xmlns:xlink=\"http://www.w3.org/1999/xlink\">\n <metadata>\n  <rdf:RDF xmlns:cc=\"http://creativecommons.org/ns#\" xmlns:dc=\"http://purl.org/dc/elements/1.1/\" xmlns:rdf=\"http://www.w3.org/1999/02/22-rdf-syntax-ns#\">\n   <cc:Work>\n    <dc:type rdf:resource=\"http://purl.org/dc/dcmitype/StillImage\"/>\n    <dc:date>2021-03-13T23:47:01.423680</dc:date>\n    <dc:format>image/svg+xml</dc:format>\n    <dc:creator>\n     <cc:Agent>\n      <dc:title>Matplotlib v3.3.4, https://matplotlib.org/</dc:title>\n     </cc:Agent>\n    </dc:creator>\n   </cc:Work>\n  </rdf:RDF>\n </metadata>\n <defs>\n  <style type=\"text/css\">*{stroke-linecap:butt;stroke-linejoin:round;}</style>\n </defs>\n <g id=\"figure_1\">\n  <g id=\"patch_1\">\n   <path d=\"M 0 168.9334 \nL 375.349344 168.9334 \nL 375.349344 0 \nL 0 0 \nz\n\" style=\"fill:#ffffff;\"/>\n  </g>\n  <g id=\"axes_1\">\n   <g id=\"patch_2\">\n    <path clip-path=\"url(#p972289e9fe)\" d=\"M 286.792054 124.122697 \nL 298.609314 124.122697 \nL 292.700684 132.64476 \nz\n\" style=\"fill:#778899;\"/>\n   </g>\n   <g id=\"patch_3\">\n    <path clip-path=\"url(#p972289e9fe)\" d=\"M 332.243054 124.122697 \nL 344.060314 124.122697 \nL 338.151684 132.64476 \nz\n\" style=\"fill:#778899;\"/>\n   </g>\n   <g id=\"line2d_1\">\n    <path clip-path=\"url(#p972289e9fe)\" d=\"M 86.353144 43.5608 \nL 363.604244 43.5608 \n\" style=\"fill:none;stroke:#000000;stroke-linecap:square;stroke-width:2;\"/>\n   </g>\n   <g id=\"line2d_2\">\n    <path clip-path=\"url(#p972289e9fe)\" d=\"M 86.353144 89.0118 \nL 363.604244 89.0118 \n\" style=\"fill:none;stroke:#000000;stroke-linecap:square;stroke-width:2;\"/>\n   </g>\n   <g id=\"line2d_3\">\n    <path clip-path=\"url(#p972289e9fe)\" d=\"M 86.353144 132.985642 \nL 363.604244 132.985642 \n\" style=\"fill:none;stroke:#778899;stroke-linecap:square;stroke-width:2;\"/>\n   </g>\n   <g id=\"line2d_4\">\n    <path clip-path=\"url(#p972289e9fe)\" d=\"M 86.353144 135.939957 \nL 363.604244 135.939957 \n\" style=\"fill:none;stroke:#778899;stroke-linecap:square;stroke-width:2;\"/>\n   </g>\n   <g id=\"patch_4\">\n    <path clip-path=\"url(#p972289e9fe)\" d=\"M 238.386739 66.2863 \nL 256.112629 66.2863 \nL 256.112629 20.8353 \nL 238.386739 20.8353 \nz\n\" style=\"fill:#bdbdbd;opacity:0.6;\"/>\n   </g>\n   <g id=\"patch_5\">\n    <path clip-path=\"url(#p972289e9fe)\" d=\"M 238.386739 111.7373 \nL 256.112629 111.7373 \nL 256.112629 66.2863 \nL 238.386739 66.2863 \nz\n\" style=\"fill:#bdbdbd;opacity:0.6;\"/>\n   </g>\n   <g id=\"line2d_5\">\n    <path clip-path=\"url(#p972289e9fe)\" d=\"M 110.896684 89.0118 \nL 110.896684 43.5608 \n\" style=\"fill:none;stroke:#6fa4ff;stroke-linecap:square;stroke-width:2;\"/>\n   </g>\n   <g id=\"line2d_6\">\n    <path clip-path=\"url(#p972289e9fe)\" d=\"M 156.347684 89.0118 \nL 156.347684 43.5608 \n\" style=\"fill:none;stroke:#6fa4ff;stroke-linecap:square;stroke-width:2;\"/>\n   </g>\n   <g id=\"line2d_7\">\n    <path clip-path=\"url(#p972289e9fe)\" d=\"M 201.798684 89.0118 \nL 201.798684 43.5608 \n\" style=\"fill:none;stroke:#6fa4ff;stroke-linecap:square;stroke-width:2;\"/>\n   </g>\n   <g id=\"line2d_8\">\n    <path clip-path=\"url(#p972289e9fe)\" d=\"M 294.177841 43.5608 \nL 294.177841 124.122697 \n\" style=\"fill:none;stroke:#778899;stroke-linecap:square;stroke-width:2;\"/>\n   </g>\n   <g id=\"line2d_9\">\n    <path clip-path=\"url(#p972289e9fe)\" d=\"M 291.223526 43.5608 \nL 291.223526 124.122697 \n\" style=\"fill:none;stroke:#778899;stroke-linecap:square;stroke-width:2;\"/>\n   </g>\n   <g id=\"line2d_10\">\n    <path clip-path=\"url(#p972289e9fe)\" d=\"M 339.628841 89.0118 \nL 339.628841 124.122697 \n\" style=\"fill:none;stroke:#778899;stroke-linecap:square;stroke-width:2;\"/>\n   </g>\n   <g id=\"line2d_11\">\n    <path clip-path=\"url(#p972289e9fe)\" d=\"M 336.674526 89.0118 \nL 336.674526 124.122697 \n\" style=\"fill:none;stroke:#778899;stroke-linecap:square;stroke-width:2;\"/>\n   </g>\n   <g id=\"line2d_12\">\n    <path clip-path=\"url(#p972289e9fe)\" d=\"M 95.443344 139.0079 \nL 99.988444 129.9177 \n\" style=\"fill:none;stroke:#778899;stroke-linecap:square;stroke-width:1.5;\"/>\n   </g>\n   <g id=\"patch_6\">\n    <path clip-path=\"url(#p972289e9fe)\" d=\"M 110.896684 47.992272 \nC 112.071924 47.992272 113.199188 47.525345 114.030208 46.694324 \nC 114.861228 45.863304 115.328156 44.73604 115.328156 43.5608 \nC 115.328156 42.38556 114.861228 41.258296 114.030208 40.427276 \nC 113.199188 39.596255 112.071924 39.129327 110.896684 39.129327 \nC 109.721444 39.129327 108.59418 39.596255 107.763159 40.427276 \nC 106.932139 41.258296 106.465211 42.38556 106.465211 43.5608 \nC 106.465211 44.73604 106.932139 45.863304 107.763159 46.694324 \nC 108.59418 47.525345 109.721444 47.992272 110.896684 47.992272 \nz\n\" style=\"fill:#6fa4ff;stroke:#6fa4ff;stroke-linejoin:miter;stroke-width:1.5;\"/>\n   </g>\n   <g id=\"patch_7\">\n    <path clip-path=\"url(#p972289e9fe)\" d=\"M 110.896684 99.351902 \nC 113.638911 99.351902 116.269193 98.262404 118.20824 96.323357 \nC 120.147288 94.384309 121.236786 91.754027 121.236786 89.0118 \nC 121.236786 86.269573 120.147288 83.639291 118.20824 81.700243 \nC 116.269193 79.761196 113.638911 78.671697 110.896684 78.671697 \nC 108.154457 78.671697 105.524175 79.761196 103.585127 81.700243 \nC 101.64608 83.639291 100.556581 86.269573 100.556581 89.0118 \nC 100.556581 91.754027 101.64608 94.384309 103.585127 96.323357 \nC 105.524175 98.262404 108.154457 99.351902 110.896684 99.351902 \nz\n\" style=\"fill:#6fa4ff;stroke:#6fa4ff;stroke-linejoin:miter;stroke-width:2;\"/>\n   </g>\n   <g id=\"patch_8\">\n    <path clip-path=\"url(#p972289e9fe)\" d=\"M 156.347684 93.443272 \nC 157.522924 93.443272 158.650188 92.976345 159.481208 92.145324 \nC 160.312228 91.314304 160.779156 90.18704 160.779156 89.0118 \nC 160.779156 87.83656 160.312228 86.709296 159.481208 85.878276 \nC 158.650188 85.047255 157.522924 84.580327 156.347684 84.580327 \nC 155.172444 84.580327 154.04518 85.047255 153.214159 85.878276 \nC 152.383139 86.709296 151.916211 87.83656 151.916211 89.0118 \nC 151.916211 90.18704 152.383139 91.314304 153.214159 92.145324 \nC 154.04518 92.976345 155.172444 93.443272 156.347684 93.443272 \nz\n\" style=\"fill:#6fa4ff;stroke:#6fa4ff;stroke-linejoin:miter;stroke-width:1.5;\"/>\n   </g>\n   <g id=\"patch_9\">\n    <path clip-path=\"url(#p972289e9fe)\" d=\"M 156.347684 53.900902 \nC 159.089911 53.900902 161.720193 52.811404 163.65924 50.872357 \nC 165.598288 48.933309 166.687786 46.303027 166.687786 43.5608 \nC 166.687786 40.818573 165.598288 38.188291 163.65924 36.249243 \nC 161.720193 34.310196 159.089911 33.220697 156.347684 33.220697 \nC 153.605457 33.220697 150.975175 34.310196 149.036127 36.249243 \nC 147.09708 38.188291 146.007581 40.818573 146.007581 43.5608 \nC 146.007581 46.303027 147.09708 48.933309 149.036127 50.872357 \nC 150.975175 52.811404 153.605457 53.900902 156.347684 53.900902 \nz\n\" style=\"fill:#6fa4ff;stroke:#6fa4ff;stroke-linejoin:miter;stroke-width:2;\"/>\n   </g>\n   <g id=\"patch_10\">\n    <path clip-path=\"url(#p972289e9fe)\" d=\"M 201.798684 47.992272 \nC 202.973924 47.992272 204.101188 47.525345 204.932208 46.694324 \nC 205.763228 45.863304 206.230156 44.73604 206.230156 43.5608 \nC 206.230156 42.38556 205.763228 41.258296 204.932208 40.427276 \nC 204.101188 39.596255 202.973924 39.129327 201.798684 39.129327 \nC 200.623444 39.129327 199.49618 39.596255 198.665159 40.427276 \nC 197.834139 41.258296 197.367211 42.38556 197.367211 43.5608 \nC 197.367211 44.73604 197.834139 45.863304 198.665159 46.694324 \nC 199.49618 47.525345 200.623444 47.992272 201.798684 47.992272 \nz\n\" style=\"fill:#6fa4ff;stroke:#6fa4ff;stroke-linejoin:miter;stroke-width:1.5;\"/>\n   </g>\n   <g id=\"patch_11\">\n    <path clip-path=\"url(#p972289e9fe)\" d=\"M 201.798684 99.351902 \nC 204.540911 99.351902 207.171193 98.262404 209.11024 96.323357 \nC 211.049288 94.384309 212.138786 91.754027 212.138786 89.0118 \nC 212.138786 86.269573 211.049288 83.639291 209.11024 81.700243 \nC 207.171193 79.761196 204.540911 78.671697 201.798684 78.671697 \nC 199.056457 78.671697 196.426175 79.761196 194.487127 81.700243 \nC 192.54808 83.639291 191.458581 86.269573 191.458581 89.0118 \nC 191.458581 91.754027 192.54808 94.384309 194.487127 96.323357 \nC 196.426175 98.262404 199.056457 99.351902 201.798684 99.351902 \nz\n\" style=\"fill:#6fa4ff;stroke:#6fa4ff;stroke-linejoin:miter;stroke-width:2;\"/>\n   </g>\n   <g id=\"patch_12\">\n    <path clip-path=\"url(#p972289e9fe)\" d=\"M 277.929109 58.332375 \nL 307.472259 58.332375 \nL 307.472259 28.789225 \nL 277.929109 28.789225 \nz\n\" style=\"stroke:#000000;stroke-linejoin:miter;stroke-width:1.5;\"/>\n   </g>\n   <g id=\"patch_13\">\n    <path clip-path=\"url(#p972289e9fe)\" d=\"M 303.040786 47.992272 \nC 303.040786 45.250959 301.950642 42.619118 300.01224 40.680716 \nC 298.073839 38.742314 295.441998 37.65217 292.700684 37.65217 \nC 289.95937 37.65217 287.327529 38.742314 285.389127 40.680716 \nC 283.450725 42.619118 282.360581 45.250959 282.360581 47.992272 \n\" style=\"fill:none;stroke:#ffffff;stroke-linejoin:miter;stroke-width:2;\"/>\n   </g>\n   <g id=\"patch_14\">\n    <path clip-path=\"url(#p972289e9fe)\" d=\"M 323.380109 103.783375 \nL 352.923259 103.783375 \nL 352.923259 74.240225 \nL 323.380109 74.240225 \nz\n\" style=\"stroke:#000000;stroke-linejoin:miter;stroke-width:1.5;\"/>\n   </g>\n   <g id=\"patch_15\">\n    <path clip-path=\"url(#p972289e9fe)\" d=\"M 348.491786 93.443272 \nC 348.491786 90.701959 347.401642 88.070118 345.46324 86.131716 \nC 343.524839 84.193314 340.892998 83.10317 338.151684 83.10317 \nC 335.41037 83.10317 332.778529 84.193314 330.840127 86.131716 \nC 328.901725 88.070118 327.811581 90.701959 327.811581 93.443272 \n\" style=\"fill:none;stroke:#ffffff;stroke-linejoin:miter;stroke-width:2;\"/>\n   </g>\n   <g id=\"line2d_13\">\n    <path clip-path=\"url(#p972289e9fe)\" d=\"M 292.700684 47.992272 \nL 303.040786 37.65217 \n\" style=\"fill:none;stroke:#ffffff;stroke-linecap:square;stroke-width:2;\"/>\n   </g>\n   <g id=\"line2d_14\">\n    <path clip-path=\"url(#p972289e9fe)\" d=\"M 338.151684 93.443272 \nL 348.491786 83.10317 \n\" style=\"fill:none;stroke:#ffffff;stroke-linecap:square;stroke-width:2;\"/>\n   </g>\n   <g id=\"line2d_15\">\n    <path clip-path=\"url(#p972289e9fe)\" d=\"M 110.896684 94.92043 \nL 110.896684 83.10317 \n\" style=\"fill:none;stroke:#ffffff;stroke-linecap:square;stroke-width:2;\"/>\n   </g>\n   <g id=\"line2d_16\">\n    <path clip-path=\"url(#p972289e9fe)\" d=\"M 104.988054 89.0118 \nL 116.805314 89.0118 \n\" style=\"fill:none;stroke:#ffffff;stroke-linecap:square;stroke-width:2;\"/>\n   </g>\n   <g id=\"line2d_17\">\n    <path clip-path=\"url(#p972289e9fe)\" d=\"M 156.347684 49.46943 \nL 156.347684 37.65217 \n\" style=\"fill:none;stroke:#ffffff;stroke-linecap:square;stroke-width:2;\"/>\n   </g>\n   <g id=\"line2d_18\">\n    <path clip-path=\"url(#p972289e9fe)\" d=\"M 150.439054 43.5608 \nL 162.256314 43.5608 \n\" style=\"fill:none;stroke:#ffffff;stroke-linecap:square;stroke-width:2;\"/>\n   </g>\n   <g id=\"line2d_19\">\n    <path clip-path=\"url(#p972289e9fe)\" d=\"M 201.798684 94.92043 \nL 201.798684 83.10317 \n\" style=\"fill:none;stroke:#ffffff;stroke-linecap:square;stroke-width:2;\"/>\n   </g>\n   <g id=\"line2d_20\">\n    <path clip-path=\"url(#p972289e9fe)\" d=\"M 195.890054 89.0118 \nL 207.707314 89.0118 \n\" style=\"fill:none;stroke:#ffffff;stroke-linecap:square;stroke-width:2;\"/>\n   </g>\n   <g id=\"line2d_21\">\n    <path clip-path=\"url(#p972289e9fe)\" d=\"M 247.249684 20.8353 \nL 247.249684 66.2863 \n\" style=\"fill:none;stroke:#000000;stroke-dasharray:3.7,1.6;stroke-dashoffset:0;\"/>\n   </g>\n   <g id=\"line2d_22\">\n    <path clip-path=\"url(#p972289e9fe)\" d=\"M 247.249684 66.2863 \nL 247.249684 111.7373 \n\" style=\"fill:none;stroke:#000000;stroke-dasharray:3.7,1.6;stroke-dashoffset:0;\"/>\n   </g>\n   <g id=\"text_1\">\n    <g clip-path=\"url(#p972289e9fe)\">\n     <!-- 0 -->\n     <g transform=\"translate(304.063434 127.754825)scale(0.104 -0.104)\">\n      <defs>\n       <path d=\"M 31.78125 66.40625 \nQ 24.171875 66.40625 20.328125 58.90625 \nQ 16.5 51.421875 16.5 36.375 \nQ 16.5 21.390625 20.328125 13.890625 \nQ 24.171875 6.390625 31.78125 6.390625 \nQ 39.453125 6.390625 43.28125 13.890625 \nQ 47.125 21.390625 47.125 36.375 \nQ 47.125 51.421875 43.28125 58.90625 \nQ 39.453125 66.40625 31.78125 66.40625 \nz\nM 31.78125 74.21875 \nQ 44.046875 74.21875 50.515625 64.515625 \nQ 56.984375 54.828125 56.984375 36.375 \nQ 56.984375 17.96875 50.515625 8.265625 \nQ 44.046875 -1.421875 31.78125 -1.421875 \nQ 19.53125 -1.421875 13.0625 8.265625 \nQ 6.59375 17.96875 6.59375 36.375 \nQ 6.59375 54.828125 13.0625 64.515625 \nQ 19.53125 74.21875 31.78125 74.21875 \nz\n\" id=\"DejaVuSans-48\"/>\n      </defs>\n      <use xlink:href=\"#DejaVuSans-48\"/>\n     </g>\n    </g>\n   </g>\n   <g id=\"text_2\">\n    <g clip-path=\"url(#p972289e9fe)\">\n     <!-- 1 -->\n     <g transform=\"translate(349.514434 127.754825)scale(0.104 -0.104)\">\n      <defs>\n       <path d=\"M 12.40625 8.296875 \nL 28.515625 8.296875 \nL 28.515625 63.921875 \nL 10.984375 60.40625 \nL 10.984375 69.390625 \nL 28.421875 72.90625 \nL 38.28125 72.90625 \nL 38.28125 8.296875 \nL 54.390625 8.296875 \nL 54.390625 0 \nL 12.40625 0 \nz\n\" id=\"DejaVuSans-49\"/>\n      </defs>\n      <use xlink:href=\"#DejaVuSans-49\"/>\n     </g>\n    </g>\n   </g>\n   <g id=\"text_3\">\n    <g clip-path=\"url(#p972289e9fe)\">\n     <!-- ${q}_{0}$ -->\n     <g transform=\"translate(59.225444 48.011777)scale(0.1625 -0.1625)\">\n      <defs>\n       <path d=\"M 41.703125 8.203125 \nQ 38.09375 3.46875 33.171875 1.015625 \nQ 28.265625 -1.421875 22.3125 -1.421875 \nQ 14.015625 -1.421875 9.296875 4.171875 \nQ 4.59375 9.765625 4.59375 19.578125 \nQ 4.59375 27.484375 7.5 34.859375 \nQ 10.40625 42.234375 15.828125 48.09375 \nQ 19.34375 51.90625 23.90625 53.953125 \nQ 28.46875 56 33.5 56 \nQ 39.546875 56 43.453125 53.609375 \nQ 47.359375 51.21875 49.125 46.390625 \nL 50.6875 54.59375 \nL 59.71875 54.59375 \nL 45.125 -20.609375 \nL 36.078125 -20.609375 \nz\nM 13.921875 20.90625 \nQ 13.921875 13.671875 16.9375 9.890625 \nQ 19.96875 6.109375 25.6875 6.109375 \nQ 34.1875 6.109375 40.1875 14.234375 \nQ 46.1875 22.359375 46.1875 33.984375 \nQ 46.1875 41.015625 43.078125 44.75 \nQ 39.984375 48.484375 34.1875 48.484375 \nQ 29.9375 48.484375 26.3125 46.5 \nQ 22.703125 44.53125 20.015625 40.71875 \nQ 17.1875 36.71875 15.546875 31.34375 \nQ 13.921875 25.984375 13.921875 20.90625 \nz\n\" id=\"DejaVuSans-Oblique-113\"/>\n      </defs>\n      <use xlink:href=\"#DejaVuSans-Oblique-113\"/>\n      <use transform=\"translate(63.476562 -16.40625)scale(0.7)\" xlink:href=\"#DejaVuSans-48\"/>\n     </g>\n    </g>\n   </g>\n   <g id=\"text_4\">\n    <g clip-path=\"url(#p972289e9fe)\">\n     <!-- ${q}_{1}$ -->\n     <g transform=\"translate(59.225444 93.462777)scale(0.1625 -0.1625)\">\n      <use xlink:href=\"#DejaVuSans-Oblique-113\"/>\n      <use transform=\"translate(63.476562 -16.40625)scale(0.7)\" xlink:href=\"#DejaVuSans-49\"/>\n     </g>\n    </g>\n   </g>\n   <g id=\"text_5\">\n    <g clip-path=\"url(#p972289e9fe)\">\n     <!-- 2 -->\n     <g transform=\"translate(90.898244 127.754825)scale(0.104 -0.104)\">\n      <defs>\n       <path d=\"M 19.1875 8.296875 \nL 53.609375 8.296875 \nL 53.609375 0 \nL 7.328125 0 \nL 7.328125 8.296875 \nQ 12.9375 14.109375 22.625 23.890625 \nQ 32.328125 33.6875 34.8125 36.53125 \nQ 39.546875 41.84375 41.421875 45.53125 \nQ 43.3125 49.21875 43.3125 52.78125 \nQ 43.3125 58.59375 39.234375 62.25 \nQ 35.15625 65.921875 28.609375 65.921875 \nQ 23.96875 65.921875 18.8125 64.3125 \nQ 13.671875 62.703125 7.8125 59.421875 \nL 7.8125 69.390625 \nQ 13.765625 71.78125 18.9375 73 \nQ 24.125 74.21875 28.421875 74.21875 \nQ 39.75 74.21875 46.484375 68.546875 \nQ 53.21875 62.890625 53.21875 53.421875 \nQ 53.21875 48.921875 51.53125 44.890625 \nQ 49.859375 40.875 45.40625 35.40625 \nQ 44.1875 33.984375 37.640625 27.21875 \nQ 31.109375 20.453125 19.1875 8.296875 \nz\n\" id=\"DejaVuSans-50\"/>\n      </defs>\n      <use xlink:href=\"#DejaVuSans-50\"/>\n     </g>\n    </g>\n   </g>\n   <g id=\"text_6\">\n    <g clip-path=\"url(#p972289e9fe)\">\n     <!-- meas -->\n     <g transform=\"translate(33.012163 138.946784)scale(0.1625 -0.1625)\">\n      <defs>\n       <path d=\"M 52 44.1875 \nQ 55.375 50.25 60.0625 53.125 \nQ 64.75 56 71.09375 56 \nQ 79.640625 56 84.28125 50.015625 \nQ 88.921875 44.046875 88.921875 33.015625 \nL 88.921875 0 \nL 79.890625 0 \nL 79.890625 32.71875 \nQ 79.890625 40.578125 77.09375 44.375 \nQ 74.3125 48.1875 68.609375 48.1875 \nQ 61.625 48.1875 57.5625 43.546875 \nQ 53.515625 38.921875 53.515625 30.90625 \nL 53.515625 0 \nL 44.484375 0 \nL 44.484375 32.71875 \nQ 44.484375 40.625 41.703125 44.40625 \nQ 38.921875 48.1875 33.109375 48.1875 \nQ 26.21875 48.1875 22.15625 43.53125 \nQ 18.109375 38.875 18.109375 30.90625 \nL 18.109375 0 \nL 9.078125 0 \nL 9.078125 54.6875 \nL 18.109375 54.6875 \nL 18.109375 46.1875 \nQ 21.1875 51.21875 25.484375 53.609375 \nQ 29.78125 56 35.6875 56 \nQ 41.65625 56 45.828125 52.96875 \nQ 50 49.953125 52 44.1875 \nz\n\" id=\"DejaVuSans-109\"/>\n       <path d=\"M 56.203125 29.59375 \nL 56.203125 25.203125 \nL 14.890625 25.203125 \nQ 15.484375 15.921875 20.484375 11.0625 \nQ 25.484375 6.203125 34.421875 6.203125 \nQ 39.59375 6.203125 44.453125 7.46875 \nQ 49.3125 8.734375 54.109375 11.28125 \nL 54.109375 2.78125 \nQ 49.265625 0.734375 44.1875 -0.34375 \nQ 39.109375 -1.421875 33.890625 -1.421875 \nQ 20.796875 -1.421875 13.15625 6.1875 \nQ 5.515625 13.8125 5.515625 26.8125 \nQ 5.515625 40.234375 12.765625 48.109375 \nQ 20.015625 56 32.328125 56 \nQ 43.359375 56 49.78125 48.890625 \nQ 56.203125 41.796875 56.203125 29.59375 \nz\nM 47.21875 32.234375 \nQ 47.125 39.59375 43.09375 43.984375 \nQ 39.0625 48.390625 32.421875 48.390625 \nQ 24.90625 48.390625 20.390625 44.140625 \nQ 15.875 39.890625 15.1875 32.171875 \nz\n\" id=\"DejaVuSans-101\"/>\n       <path d=\"M 34.28125 27.484375 \nQ 23.390625 27.484375 19.1875 25 \nQ 14.984375 22.515625 14.984375 16.5 \nQ 14.984375 11.71875 18.140625 8.90625 \nQ 21.296875 6.109375 26.703125 6.109375 \nQ 34.1875 6.109375 38.703125 11.40625 \nQ 43.21875 16.703125 43.21875 25.484375 \nL 43.21875 27.484375 \nz\nM 52.203125 31.203125 \nL 52.203125 0 \nL 43.21875 0 \nL 43.21875 8.296875 \nQ 40.140625 3.328125 35.546875 0.953125 \nQ 30.953125 -1.421875 24.3125 -1.421875 \nQ 15.921875 -1.421875 10.953125 3.296875 \nQ 6 8.015625 6 15.921875 \nQ 6 25.140625 12.171875 29.828125 \nQ 18.359375 34.515625 30.609375 34.515625 \nL 43.21875 34.515625 \nL 43.21875 35.40625 \nQ 43.21875 41.609375 39.140625 45 \nQ 35.0625 48.390625 27.6875 48.390625 \nQ 23 48.390625 18.546875 47.265625 \nQ 14.109375 46.140625 10.015625 43.890625 \nL 10.015625 52.203125 \nQ 14.9375 54.109375 19.578125 55.046875 \nQ 24.21875 56 28.609375 56 \nQ 40.484375 56 46.34375 49.84375 \nQ 52.203125 43.703125 52.203125 31.203125 \nz\n\" id=\"DejaVuSans-97\"/>\n       <path d=\"M 44.28125 53.078125 \nL 44.28125 44.578125 \nQ 40.484375 46.53125 36.375 47.5 \nQ 32.28125 48.484375 27.875 48.484375 \nQ 21.1875 48.484375 17.84375 46.4375 \nQ 14.5 44.390625 14.5 40.28125 \nQ 14.5 37.15625 16.890625 35.375 \nQ 19.28125 33.59375 26.515625 31.984375 \nL 29.59375 31.296875 \nQ 39.15625 29.25 43.1875 25.515625 \nQ 47.21875 21.78125 47.21875 15.09375 \nQ 47.21875 7.46875 41.1875 3.015625 \nQ 35.15625 -1.421875 24.609375 -1.421875 \nQ 20.21875 -1.421875 15.453125 -0.5625 \nQ 10.6875 0.296875 5.421875 2 \nL 5.421875 11.28125 \nQ 10.40625 8.6875 15.234375 7.390625 \nQ 20.0625 6.109375 24.8125 6.109375 \nQ 31.15625 6.109375 34.5625 8.28125 \nQ 37.984375 10.453125 37.984375 14.40625 \nQ 37.984375 18.0625 35.515625 20.015625 \nQ 33.0625 21.96875 24.703125 23.78125 \nL 21.578125 24.515625 \nQ 13.234375 26.265625 9.515625 29.90625 \nQ 5.8125 33.546875 5.8125 39.890625 \nQ 5.8125 47.609375 11.28125 51.796875 \nQ 16.75 56 26.8125 56 \nQ 31.78125 56 36.171875 55.265625 \nQ 40.578125 54.546875 44.28125 53.078125 \nz\n\" id=\"DejaVuSans-115\"/>\n      </defs>\n      <use xlink:href=\"#DejaVuSans-109\"/>\n      <use x=\"97.412109\" xlink:href=\"#DejaVuSans-101\"/>\n      <use x=\"158.935547\" xlink:href=\"#DejaVuSans-97\"/>\n      <use x=\"220.214844\" xlink:href=\"#DejaVuSans-115\"/>\n     </g>\n    </g>\n   </g>\n  </g>\n </g>\n <defs>\n  <clipPath id=\"p972289e9fe\">\n   <rect height=\"154.5334\" width=\"360.949344\" x=\"7.2\" y=\"7.2\"/>\n  </clipPath>\n </defs>\n</svg>\n",
      "image/png": "[encoded data removed]"
     },
     "metadata": {},
     "execution_count": 5
    }
   ],
   "source": [
    "from qiskit import QuantumCircuit, assemble, Aer\n",
    "qc = QuantumCircuit(2)\n",
    "#qc.initialize([0,1],0)\n",
    "#qc.initialize([1,0],1)\n",
    "qc.cx(0, 1)\n",
    "qc.cx(1, 0)\n",
    "qc.cx(0, 1)\n",
    "qc.measure_all()\n",
    "qc.draw(output='mpl')"
   ]
  },
  {
   "cell_type": "code",
   "execution_count": 6,
   "metadata": {},
   "outputs": [
    {
     "output_type": "display_data",
     "data": {
      "text/plain": "<IPython.core.display.Math object>",
      "text/latex": "$\\displaystyle \n\\text{Statevector} = \\begin{bmatrix}\n1 \\\\\n0 \\\\\n0 \\\\\n0\n\\end{bmatrix}\n$"
     },
     "metadata": {}
    }
   ],
   "source": [
    "svsim = Aer.get_backend('statevector_simulator')\n",
    "qobj = assemble(qc)\n",
    "final_state = svsim.run(qobj).result().get_statevector()\n",
    "\n",
    "# In Jupyter Notebooks we can display this nicely using Latex.\n",
    "# If not using Jupyter Notebooks you may need to remove the \n",
    "# array_to_latex function and use print(final_state) instead.\n",
    "from qiskit_textbook.tools import array_to_latex\n",
    "array_to_latex(final_state, pretext=\"\\\\text{Statevector} = \")"
   ]
  },
  {
   "source": [
    "The Unitary matrix associated with the circuit is:"
   ],
   "cell_type": "markdown",
   "metadata": {}
  },
  {
   "cell_type": "code",
   "execution_count": 7,
   "metadata": {},
   "outputs": [
    {
     "output_type": "display_data",
     "data": {
      "text/plain": "<IPython.core.display.Math object>",
      "text/latex": "$\\displaystyle \n\\text{Circuit = } \\begin{bmatrix}\n1 & 0 & 0 & 0  \\\\\n0 & 0 & 1 & 0  \\\\\n0 & 1 & 0 & 0  \\\\\n0 & 0 & 0 & 1  \\\\\n\\end{bmatrix}\n$$\n$"
     },
     "metadata": {}
    }
   ],
   "source": [
    "qc = QuantumCircuit(2)\n",
    "#qc.initialize([0,1],0)\n",
    "#qc.initialize([1,0],1)\n",
    "qc.cx(0, 1)\n",
    "qc.cx(1, 0)\n",
    "qc.cx(0, 1)\n",
    "qc.draw()\n",
    "\n",
    "usim = Aer.get_backend('unitary_simulator')\n",
    "qobj = assemble(qc)\n",
    "unitary = usim.run(qobj).result().get_unitary()\n",
    "# Display the results:\n",
    "array_to_latex(unitary, pretext=\"\\\\text{Circuit = } \")"
   ]
  },
  {
   "cell_type": "markdown",
   "metadata": {},
   "source": [
    "### 1.2. Create a circuit with 4 qubits $q_0, q_1, q_2, q_3$ with the following rules:\n",
    "\n",
    "- swap $q_1$ with $q_3$ if $q_0 == 0$ \n",
    "- swap $q_2$ with $q_3$ if $q_0 == 1$\n",
    "- leave $q_0$ unchanged at the end\n",
    "\n",
    "- _you may use X, CNOT, CSWAP and CCNOT_\n"
   ]
  },
  {
   "cell_type": "code",
   "execution_count": 8,
   "metadata": {},
   "outputs": [
    {
     "output_type": "display_data",
     "data": {
      "text/plain": "<IPython.core.display.Math object>",
      "text/latex": "$\\displaystyle \n\\text{Statevector} = \\begin{bmatrix}\n1 \\\\\n0 \\\\\n0 \\\\\n0 \\\\\n0 \\\\\n0 \\\\\n0 \\\\\n0 \\\\\n0 \\\\\n0 \\\\\n0 \\\\\n0 \\\\\n0 \\\\\n0 \\\\\n0 \\\\\n0\n\\end{bmatrix}\n$"
     },
     "metadata": {}
    }
   ],
   "source": [
    "qc = QuantumCircuit(4)\n",
    "qc.x(0)\n",
    "qc.cswap(0, 1, 3)\n",
    "qc.x(0)\n",
    "qc.cswap(0, 2, 3)\n",
    "qc.draw()\n",
    "\n",
    "svsim = Aer.get_backend('statevector_simulator')\n",
    "qobj = assemble(qc)\n",
    "final_state = svsim.run(qobj).result().get_statevector()\n",
    "\n",
    "# In Jupyter Notebooks we can display this nicely using Latex.\n",
    "# If not using Jupyter Notebooks you may need to remove the \n",
    "# array_to_latex function and use print(final_state) instead.\n",
    "from qiskit_textbook.tools import array_to_latex\n",
    "array_to_latex(final_state, pretext=\"\\\\text{Statevector} = \")"
   ]
  },
  {
   "cell_type": "markdown",
   "metadata": {},
   "source": [
    "### 1.3 Create a circuit with qubits $q_0, q_1, q_2, q_3$  with the following rules: \n",
    "\n",
    "- swap $q_2$ with $q_3$ if and only if $q_0 == 1$ and $q_1 == 1$ \n",
    "- you may use an additionnal qubit $q_4$ (will start and end with value |0>)\n",
    "\n",
    "\n",
    "- _you may use X, CNOT, CSWAP and CCNOT_\n"
   ]
  },
  {
   "cell_type": "code",
   "execution_count": 4,
   "metadata": {},
   "outputs": [
    {
     "output_type": "execute_result",
     "data": {
      "text/plain": [
       "<Figure size 267.197x325.08 with 1 Axes>"
      ],
      "image/svg+xml": "<?xml version=\"1.0\" encoding=\"utf-8\" standalone=\"no\"?>\n<!DOCTYPE svg PUBLIC \"-//W3C//DTD SVG 1.1//EN\"\n  \"http://www.w3.org/Graphics/SVG/1.1/DTD/svg11.dtd\">\n<!-- Created with matplotlib (https://matplotlib.org/) -->\n<svg height=\"259.8354pt\" version=\"1.1\" viewBox=\"0 0 216.134036 259.8354\" width=\"216.134036pt\" xmlns=\"http://www.w3.org/2000/svg\" xmlns:xlink=\"http://www.w3.org/1999/xlink\">\n <metadata>\n  <rdf:RDF xmlns:cc=\"http://creativecommons.org/ns#\" xmlns:dc=\"http://purl.org/dc/elements/1.1/\" xmlns:rdf=\"http://www.w3.org/1999/02/22-rdf-syntax-ns#\">\n   <cc:Work>\n    <dc:type rdf:resource=\"http://purl.org/dc/dcmitype/StillImage\"/>\n    <dc:date>2021-03-13T21:37:45.935498</dc:date>\n    <dc:format>image/svg+xml</dc:format>\n    <dc:creator>\n     <cc:Agent>\n      <dc:title>Matplotlib v3.3.4, https://matplotlib.org/</dc:title>\n     </cc:Agent>\n    </dc:creator>\n   </cc:Work>\n  </rdf:RDF>\n </metadata>\n <defs>\n  <style type=\"text/css\">*{stroke-linecap:butt;stroke-linejoin:round;}</style>\n </defs>\n <g id=\"figure_1\">\n  <g id=\"patch_1\">\n   <path d=\"M 0 259.8354 \nL 216.134036 259.8354 \nL 216.134036 0 \nL 0 0 \nz\n\" style=\"fill:#ffffff;\"/>\n  </g>\n  <g id=\"axes_1\">\n   <g id=\"line2d_1\">\n    <path clip-path=\"url(#p6965a2d447)\" d=\"M 63.490836 43.5608 \nL 204.388936 43.5608 \n\" style=\"fill:none;stroke:#000000;stroke-linecap:square;stroke-width:2;\"/>\n   </g>\n   <g id=\"line2d_2\">\n    <path clip-path=\"url(#p6965a2d447)\" d=\"M 63.490836 89.0118 \nL 204.388936 89.0118 \n\" style=\"fill:none;stroke:#000000;stroke-linecap:square;stroke-width:2;\"/>\n   </g>\n   <g id=\"line2d_3\">\n    <path clip-path=\"url(#p6965a2d447)\" d=\"M 63.490836 134.4628 \nL 204.388936 134.4628 \n\" style=\"fill:none;stroke:#000000;stroke-linecap:square;stroke-width:2;\"/>\n   </g>\n   <g id=\"line2d_4\">\n    <path clip-path=\"url(#p6965a2d447)\" d=\"M 63.490836 179.9138 \nL 204.388936 179.9138 \n\" style=\"fill:none;stroke:#000000;stroke-linecap:square;stroke-width:2;\"/>\n   </g>\n   <g id=\"line2d_5\">\n    <path clip-path=\"url(#p6965a2d447)\" d=\"M 63.490836 225.3648 \nL 204.388936 225.3648 \n\" style=\"fill:none;stroke:#000000;stroke-linecap:square;stroke-width:2;\"/>\n   </g>\n   <g id=\"line2d_6\">\n    <path clip-path=\"url(#p6965a2d447)\" d=\"M 88.034376 225.3648 \nL 88.034376 43.5608 \n\" style=\"fill:none;stroke:#bb8bff;stroke-linecap:square;stroke-width:2;\"/>\n   </g>\n   <g id=\"line2d_7\">\n    <path clip-path=\"url(#p6965a2d447)\" d=\"M 133.485376 225.3648 \nL 133.485376 134.4628 \n\" style=\"fill:none;stroke:#bb8bff;stroke-linecap:square;stroke-width:2;\"/>\n   </g>\n   <g id=\"line2d_8\">\n    <path clip-path=\"url(#p6965a2d447)\" d=\"M 178.936376 225.3648 \nL 178.936376 43.5608 \n\" style=\"fill:none;stroke:#bb8bff;stroke-linecap:square;stroke-width:2;\"/>\n   </g>\n   <g id=\"line2d_9\">\n    <path clip-path=\"url(#p6965a2d447)\" d=\"M 127.576746 140.37143 \nL 139.394006 128.55417 \n\" style=\"fill:none;stroke:#bb8bff;stroke-linecap:square;stroke-width:2;\"/>\n   </g>\n   <g id=\"line2d_10\">\n    <path clip-path=\"url(#p6965a2d447)\" d=\"M 127.576746 128.55417 \nL 139.394006 140.37143 \n\" style=\"fill:none;stroke:#bb8bff;stroke-linecap:square;stroke-width:2;\"/>\n   </g>\n   <g id=\"line2d_11\">\n    <path clip-path=\"url(#p6965a2d447)\" d=\"M 127.576746 185.82243 \nL 139.394006 174.00517 \n\" style=\"fill:none;stroke:#bb8bff;stroke-linecap:square;stroke-width:2;\"/>\n   </g>\n   <g id=\"line2d_12\">\n    <path clip-path=\"url(#p6965a2d447)\" d=\"M 127.576746 174.00517 \nL 139.394006 185.82243 \n\" style=\"fill:none;stroke:#bb8bff;stroke-linecap:square;stroke-width:2;\"/>\n   </g>\n   <g id=\"patch_2\">\n    <path clip-path=\"url(#p6965a2d447)\" d=\"M 88.034376 47.992272 \nC 89.209616 47.992272 90.33688 47.525345 91.167901 46.694324 \nC 91.998921 45.863304 92.465849 44.73604 92.465849 43.5608 \nC 92.465849 42.38556 91.998921 41.258296 91.167901 40.427276 \nC 90.33688 39.596255 89.209616 39.129328 88.034376 39.129328 \nC 86.859136 39.129328 85.731872 39.596255 84.900852 40.427276 \nC 84.069832 41.258296 83.602904 42.38556 83.602904 43.5608 \nC 83.602904 44.73604 84.069832 45.863304 84.900852 46.694324 \nC 85.731872 47.525345 86.859136 47.992272 88.034376 47.992272 \nz\n\" style=\"fill:#bb8bff;stroke:#bb8bff;stroke-linejoin:miter;stroke-width:1.5;\"/>\n   </g>\n   <g id=\"patch_3\">\n    <path clip-path=\"url(#p6965a2d447)\" d=\"M 88.034376 93.443272 \nC 89.209616 93.443272 90.33688 92.976345 91.167901 92.145324 \nC 91.998921 91.314304 92.465849 90.18704 92.465849 89.0118 \nC 92.465849 87.83656 91.998921 86.709296 91.167901 85.878276 \nC 90.33688 85.047255 89.209616 84.580327 88.034376 84.580327 \nC 86.859136 84.580327 85.731872 85.047255 84.900852 85.878276 \nC 84.069832 86.709296 83.602904 87.83656 83.602904 89.0118 \nC 83.602904 90.18704 84.069832 91.314304 84.900852 92.145324 \nC 85.731872 92.976345 86.859136 93.443272 88.034376 93.443272 \nz\n\" style=\"fill:#bb8bff;stroke:#bb8bff;stroke-linejoin:miter;stroke-width:1.5;\"/>\n   </g>\n   <g id=\"patch_4\">\n    <path clip-path=\"url(#p6965a2d447)\" d=\"M 88.034376 235.704903 \nC 90.776603 235.704903 93.406885 234.615404 95.345933 232.676357 \nC 97.28498 230.737309 98.374479 228.107027 98.374479 225.3648 \nC 98.374479 222.622573 97.28498 219.992291 95.345933 218.053243 \nC 93.406885 216.114196 90.776603 215.024698 88.034376 215.024698 \nC 85.292149 215.024698 82.661867 216.114196 80.72282 218.053243 \nC 78.783772 219.992291 77.694274 222.622573 77.694274 225.3648 \nC 77.694274 228.107027 78.783772 230.737309 80.72282 232.676357 \nC 82.661867 234.615404 85.292149 235.704903 88.034376 235.704903 \nz\n\" style=\"fill:#bb8bff;stroke:#bb8bff;stroke-linejoin:miter;stroke-width:2;\"/>\n   </g>\n   <g id=\"patch_5\">\n    <path clip-path=\"url(#p6965a2d447)\" d=\"M 133.485376 229.796273 \nC 134.660616 229.796273 135.78788 229.329345 136.618901 228.498324 \nC 137.449921 227.667304 137.916849 226.54004 137.916849 225.3648 \nC 137.916849 224.18956 137.449921 223.062296 136.618901 222.231276 \nC 135.78788 221.400255 134.660616 220.933328 133.485376 220.933328 \nC 132.310136 220.933328 131.182872 221.400255 130.351852 222.231276 \nC 129.520832 223.062296 129.053904 224.18956 129.053904 225.3648 \nC 129.053904 226.54004 129.520832 227.667304 130.351852 228.498324 \nC 131.182872 229.329345 132.310136 229.796273 133.485376 229.796273 \nz\n\" style=\"fill:#bb8bff;stroke:#bb8bff;stroke-linejoin:miter;stroke-width:1.5;\"/>\n   </g>\n   <g id=\"patch_6\">\n    <path clip-path=\"url(#p6965a2d447)\" d=\"M 178.936376 47.992272 \nC 180.111616 47.992272 181.23888 47.525345 182.069901 46.694324 \nC 182.900921 45.863304 183.367849 44.73604 183.367849 43.5608 \nC 183.367849 42.38556 182.900921 41.258296 182.069901 40.427276 \nC 181.23888 39.596255 180.111616 39.129328 178.936376 39.129328 \nC 177.761136 39.129328 176.633872 39.596255 175.802852 40.427276 \nC 174.971832 41.258296 174.504904 42.38556 174.504904 43.5608 \nC 174.504904 44.73604 174.971832 45.863304 175.802852 46.694324 \nC 176.633872 47.525345 177.761136 47.992272 178.936376 47.992272 \nz\n\" style=\"fill:#bb8bff;stroke:#bb8bff;stroke-linejoin:miter;stroke-width:1.5;\"/>\n   </g>\n   <g id=\"patch_7\">\n    <path clip-path=\"url(#p6965a2d447)\" d=\"M 178.936376 93.443272 \nC 180.111616 93.443272 181.23888 92.976345 182.069901 92.145324 \nC 182.900921 91.314304 183.367849 90.18704 183.367849 89.0118 \nC 183.367849 87.83656 182.900921 86.709296 182.069901 85.878276 \nC 181.23888 85.047255 180.111616 84.580327 178.936376 84.580327 \nC 177.761136 84.580327 176.633872 85.047255 175.802852 85.878276 \nC 174.971832 86.709296 174.504904 87.83656 174.504904 89.0118 \nC 174.504904 90.18704 174.971832 91.314304 175.802852 92.145324 \nC 176.633872 92.976345 177.761136 93.443272 178.936376 93.443272 \nz\n\" style=\"fill:#bb8bff;stroke:#bb8bff;stroke-linejoin:miter;stroke-width:1.5;\"/>\n   </g>\n   <g id=\"patch_8\">\n    <path clip-path=\"url(#p6965a2d447)\" d=\"M 178.936376 235.704903 \nC 181.678603 235.704903 184.308885 234.615404 186.247933 232.676357 \nC 188.18698 230.737309 189.276479 228.107027 189.276479 225.3648 \nC 189.276479 222.622573 188.18698 219.992291 186.247933 218.053243 \nC 184.308885 216.114196 181.678603 215.024698 178.936376 215.024698 \nC 176.194149 215.024698 173.563867 216.114196 171.62482 218.053243 \nC 169.685772 219.992291 168.596274 222.622573 168.596274 225.3648 \nC 168.596274 228.107027 169.685772 230.737309 171.62482 232.676357 \nC 173.563867 234.615404 176.194149 235.704903 178.936376 235.704903 \nz\n\" style=\"fill:#bb8bff;stroke:#bb8bff;stroke-linejoin:miter;stroke-width:2;\"/>\n   </g>\n   <g id=\"line2d_13\">\n    <path clip-path=\"url(#p6965a2d447)\" d=\"M 88.034376 231.27343 \nL 88.034376 219.45617 \n\" style=\"fill:none;stroke:#ffffff;stroke-linecap:square;stroke-width:2;\"/>\n   </g>\n   <g id=\"line2d_14\">\n    <path clip-path=\"url(#p6965a2d447)\" d=\"M 82.125746 225.3648 \nL 93.943006 225.3648 \n\" style=\"fill:none;stroke:#ffffff;stroke-linecap:square;stroke-width:2;\"/>\n   </g>\n   <g id=\"line2d_15\">\n    <path clip-path=\"url(#p6965a2d447)\" d=\"M 178.936376 231.27343 \nL 178.936376 219.45617 \n\" style=\"fill:none;stroke:#ffffff;stroke-linecap:square;stroke-width:2;\"/>\n   </g>\n   <g id=\"line2d_16\">\n    <path clip-path=\"url(#p6965a2d447)\" d=\"M 173.027746 225.3648 \nL 184.845006 225.3648 \n\" style=\"fill:none;stroke:#ffffff;stroke-linecap:square;stroke-width:2;\"/>\n   </g>\n   <g id=\"text_1\">\n    <g clip-path=\"url(#p6965a2d447)\">\n     <!-- ${q}_{0}$ -->\n     <g transform=\"translate(36.363136 48.011777)scale(0.1625 -0.1625)\">\n      <defs>\n       <path d=\"M 41.703125 8.203125 \nQ 38.09375 3.46875 33.171875 1.015625 \nQ 28.265625 -1.421875 22.3125 -1.421875 \nQ 14.015625 -1.421875 9.296875 4.171875 \nQ 4.59375 9.765625 4.59375 19.578125 \nQ 4.59375 27.484375 7.5 34.859375 \nQ 10.40625 42.234375 15.828125 48.09375 \nQ 19.34375 51.90625 23.90625 53.953125 \nQ 28.46875 56 33.5 56 \nQ 39.546875 56 43.453125 53.609375 \nQ 47.359375 51.21875 49.125 46.390625 \nL 50.6875 54.59375 \nL 59.71875 54.59375 \nL 45.125 -20.609375 \nL 36.078125 -20.609375 \nz\nM 13.921875 20.90625 \nQ 13.921875 13.671875 16.9375 9.890625 \nQ 19.96875 6.109375 25.6875 6.109375 \nQ 34.1875 6.109375 40.1875 14.234375 \nQ 46.1875 22.359375 46.1875 33.984375 \nQ 46.1875 41.015625 43.078125 44.75 \nQ 39.984375 48.484375 34.1875 48.484375 \nQ 29.9375 48.484375 26.3125 46.5 \nQ 22.703125 44.53125 20.015625 40.71875 \nQ 17.1875 36.71875 15.546875 31.34375 \nQ 13.921875 25.984375 13.921875 20.90625 \nz\n\" id=\"DejaVuSans-Oblique-113\"/>\n       <path d=\"M 31.78125 66.40625 \nQ 24.171875 66.40625 20.328125 58.90625 \nQ 16.5 51.421875 16.5 36.375 \nQ 16.5 21.390625 20.328125 13.890625 \nQ 24.171875 6.390625 31.78125 6.390625 \nQ 39.453125 6.390625 43.28125 13.890625 \nQ 47.125 21.390625 47.125 36.375 \nQ 47.125 51.421875 43.28125 58.90625 \nQ 39.453125 66.40625 31.78125 66.40625 \nz\nM 31.78125 74.21875 \nQ 44.046875 74.21875 50.515625 64.515625 \nQ 56.984375 54.828125 56.984375 36.375 \nQ 56.984375 17.96875 50.515625 8.265625 \nQ 44.046875 -1.421875 31.78125 -1.421875 \nQ 19.53125 -1.421875 13.0625 8.265625 \nQ 6.59375 17.96875 6.59375 36.375 \nQ 6.59375 54.828125 13.0625 64.515625 \nQ 19.53125 74.21875 31.78125 74.21875 \nz\n\" id=\"DejaVuSans-48\"/>\n      </defs>\n      <use xlink:href=\"#DejaVuSans-Oblique-113\"/>\n      <use transform=\"translate(63.476562 -16.40625)scale(0.7)\" xlink:href=\"#DejaVuSans-48\"/>\n     </g>\n    </g>\n   </g>\n   <g id=\"text_2\">\n    <g clip-path=\"url(#p6965a2d447)\">\n     <!-- ${q}_{1}$ -->\n     <g transform=\"translate(36.363136 93.462777)scale(0.1625 -0.1625)\">\n      <defs>\n       <path d=\"M 12.40625 8.296875 \nL 28.515625 8.296875 \nL 28.515625 63.921875 \nL 10.984375 60.40625 \nL 10.984375 69.390625 \nL 28.421875 72.90625 \nL 38.28125 72.90625 \nL 38.28125 8.296875 \nL 54.390625 8.296875 \nL 54.390625 0 \nL 12.40625 0 \nz\n\" id=\"DejaVuSans-49\"/>\n      </defs>\n      <use xlink:href=\"#DejaVuSans-Oblique-113\"/>\n      <use transform=\"translate(63.476562 -16.40625)scale(0.7)\" xlink:href=\"#DejaVuSans-49\"/>\n     </g>\n    </g>\n   </g>\n   <g id=\"text_3\">\n    <g clip-path=\"url(#p6965a2d447)\">\n     <!-- ${q}_{2}$ -->\n     <g transform=\"translate(36.363136 138.913777)scale(0.1625 -0.1625)\">\n      <defs>\n       <path d=\"M 19.1875 8.296875 \nL 53.609375 8.296875 \nL 53.609375 0 \nL 7.328125 0 \nL 7.328125 8.296875 \nQ 12.9375 14.109375 22.625 23.890625 \nQ 32.328125 33.6875 34.8125 36.53125 \nQ 39.546875 41.84375 41.421875 45.53125 \nQ 43.3125 49.21875 43.3125 52.78125 \nQ 43.3125 58.59375 39.234375 62.25 \nQ 35.15625 65.921875 28.609375 65.921875 \nQ 23.96875 65.921875 18.8125 64.3125 \nQ 13.671875 62.703125 7.8125 59.421875 \nL 7.8125 69.390625 \nQ 13.765625 71.78125 18.9375 73 \nQ 24.125 74.21875 28.421875 74.21875 \nQ 39.75 74.21875 46.484375 68.546875 \nQ 53.21875 62.890625 53.21875 53.421875 \nQ 53.21875 48.921875 51.53125 44.890625 \nQ 49.859375 40.875 45.40625 35.40625 \nQ 44.1875 33.984375 37.640625 27.21875 \nQ 31.109375 20.453125 19.1875 8.296875 \nz\n\" id=\"DejaVuSans-50\"/>\n      </defs>\n      <use xlink:href=\"#DejaVuSans-Oblique-113\"/>\n      <use transform=\"translate(63.476562 -16.40625)scale(0.7)\" xlink:href=\"#DejaVuSans-50\"/>\n     </g>\n    </g>\n   </g>\n   <g id=\"text_4\">\n    <g clip-path=\"url(#p6965a2d447)\">\n     <!-- ${q}_{3}$ -->\n     <g transform=\"translate(36.363136 184.364777)scale(0.1625 -0.1625)\">\n      <defs>\n       <path d=\"M 40.578125 39.3125 \nQ 47.65625 37.796875 51.625 33 \nQ 55.609375 28.21875 55.609375 21.1875 \nQ 55.609375 10.40625 48.1875 4.484375 \nQ 40.765625 -1.421875 27.09375 -1.421875 \nQ 22.515625 -1.421875 17.65625 -0.515625 \nQ 12.796875 0.390625 7.625 2.203125 \nL 7.625 11.71875 \nQ 11.71875 9.328125 16.59375 8.109375 \nQ 21.484375 6.890625 26.8125 6.890625 \nQ 36.078125 6.890625 40.9375 10.546875 \nQ 45.796875 14.203125 45.796875 21.1875 \nQ 45.796875 27.640625 41.28125 31.265625 \nQ 36.765625 34.90625 28.71875 34.90625 \nL 20.21875 34.90625 \nL 20.21875 43.015625 \nL 29.109375 43.015625 \nQ 36.375 43.015625 40.234375 45.921875 \nQ 44.09375 48.828125 44.09375 54.296875 \nQ 44.09375 59.90625 40.109375 62.90625 \nQ 36.140625 65.921875 28.71875 65.921875 \nQ 24.65625 65.921875 20.015625 65.03125 \nQ 15.375 64.15625 9.8125 62.3125 \nL 9.8125 71.09375 \nQ 15.4375 72.65625 20.34375 73.4375 \nQ 25.25 74.21875 29.59375 74.21875 \nQ 40.828125 74.21875 47.359375 69.109375 \nQ 53.90625 64.015625 53.90625 55.328125 \nQ 53.90625 49.265625 50.4375 45.09375 \nQ 46.96875 40.921875 40.578125 39.3125 \nz\n\" id=\"DejaVuSans-51\"/>\n      </defs>\n      <use xlink:href=\"#DejaVuSans-Oblique-113\"/>\n      <use transform=\"translate(63.476562 -16.40625)scale(0.7)\" xlink:href=\"#DejaVuSans-51\"/>\n     </g>\n    </g>\n   </g>\n   <g id=\"text_5\">\n    <g clip-path=\"url(#p6965a2d447)\">\n     <!-- ${q}_{4}$ -->\n     <g transform=\"translate(36.363136 229.815777)scale(0.1625 -0.1625)\">\n      <defs>\n       <path d=\"M 37.796875 64.3125 \nL 12.890625 25.390625 \nL 37.796875 25.390625 \nz\nM 35.203125 72.90625 \nL 47.609375 72.90625 \nL 47.609375 25.390625 \nL 58.015625 25.390625 \nL 58.015625 17.1875 \nL 47.609375 17.1875 \nL 47.609375 0 \nL 37.796875 0 \nL 37.796875 17.1875 \nL 4.890625 17.1875 \nL 4.890625 26.703125 \nz\n\" id=\"DejaVuSans-52\"/>\n      </defs>\n      <use xlink:href=\"#DejaVuSans-Oblique-113\"/>\n      <use transform=\"translate(63.476562 -16.40625)scale(0.7)\" xlink:href=\"#DejaVuSans-52\"/>\n     </g>\n    </g>\n   </g>\n  </g>\n </g>\n <defs>\n  <clipPath id=\"p6965a2d447\">\n   <rect height=\"245.4354\" width=\"201.734036\" x=\"7.2\" y=\"7.2\"/>\n  </clipPath>\n </defs>\n</svg>\n",
      "image/png": "[encoded data removed]"
     },
     "metadata": {},
     "execution_count": 4
    }
   ],
   "source": [
    "# with Toffoli\n",
    "qc = QuantumCircuit(5)\n",
    "qc.toffoli(0, 1, 4)\n",
    "qc.cswap(4, 2, 3)\n",
    "qc.toffoli(0, 1, 4)\n",
    "qc.draw(output='mpl')"
   ]
  },
  {
   "cell_type": "code",
   "execution_count": 9,
   "metadata": {},
   "outputs": [],
   "source": [
    "# without Toffoli"
   ]
  },
  {
   "cell_type": "markdown",
   "metadata": {},
   "source": [
    "<div class=\"alert alert-block alert-info\">\n",
    "    \n",
    "# 2. Exercises\n",
    "</div>\n",
    "\n",
    "Let's review two of the basics quantum algorithms : Bernstein-Vazirani and Deutsch-Josza"
   ]
  },
  {
   "cell_type": "markdown",
   "metadata": {},
   "source": [
    "### 2.1 Bernstein-Vazirani"
   ]
  },
  {
   "cell_type": "code",
   "execution_count": 10,
   "metadata": {},
   "outputs": [],
   "source": [
    "%matplotlib inline\n",
    "from qiskit import QuantumRegister, ClassicalRegister, QuantumCircuit, execute, Aer\n",
    "from qiskit.tools.visualization import plot_histogram\n",
    "backend = Aer.get_backend('qasm_simulator')"
   ]
  },
  {
   "cell_type": "markdown",
   "metadata": {},
   "source": [
    "More informations here : https://youtu.be/sqJIpHYl7oo and there : https://community.qiskit.org/textbook/ch-algorithms/bernstein-vazirani.html\n",
    "\n",
    "\n",
    "Let $f_s$ be a function from $\\{0,1\\}^n$ to $\\{0,1\\}$, we know it returns XOR of bit to bit products ($and$) for $x$ as input and a \"secret\" string $s$ of length $n$ : \n",
    "\n",
    "\\begin{equation}\n",
    "f_s(x) = s_0.x_0 \\oplus s_1.x_1 \\oplus s_2.x_2 \\oplus \\hspace{0.3cm} ... \\hspace{0.3cm} \\oplus s_{n-1}.x_{n-1}  \n",
    "\\end{equation}\n",
    "\n",
    "Calssicaly, $n$ calls $f_s(x)$ aree needed to $s$ as follows: \n",
    "\n",
    "\\begin{equation}\n",
    "f_s(1000...0) = s_0 \\\\\n",
    "f_s(0100...0) = s_1 \\\\\n",
    "f_s(0010...0) = s_2 \\\\\n",
    "... \\\\\n",
    "f_s(0000...1) = s_{n-1}\n",
    "\\end{equation}\n",
    "\n",
    "Bernstein-Vazirani algorithm make it in one single call (but uses $𝓞(n)$ gates ...) \n",
    "\n",
    "The algorithm is as follows : \n",
    "\n",
    "<img src=\"./images/bv.png\" alt=\"Note: In order for images to show up in this jupyter notebook you need to select File => Trusted Notebook\" width=\"600 px\" align=\"center\">\n",
    "\n",
    "\n",
    "This algorithm is based on what we call the \"phase-kick back\" : \n"
   ]
  },
  {
   "cell_type": "markdown",
   "metadata": {},
   "source": [
    "\n",
    "\n",
    "This algorithm is based on what we call the \"phase-kick back\" : \n",
    "\n",
    "Let's compare what happensto qubit $q_0$ in these two cases : \n",
    "\n",
    "\n",
    "1- $q_0$ does not interfere with $q_1$:\n",
    "\n",
    "<img src=\"./images/BV-case1.png\" width=\"500\"/>\n",
    "\n",
    "In this case measuring $q_0$ will result in state $|0\\rangle$\n",
    "\n",
    "2- le qubit 0 contrôle le qubit 1:\n",
    "\n",
    "<img src=\"./images/BV-case2.png\" width=\"500\"/>\n",
    "\n",
    "In case 2, let's analyse what happens at each step \n",
    "The 2-qubits system starts in state $|00\\rangle$. \n",
    "\n",
    "\n",
    "Before CNOT, the system is in state  $H\\otimes HX |00\\rangle$\n",
    "\n",
    "\\begin{equation}HX = \\frac{1}{\\sqrt{2}}\\begin{pmatrix} 1&1\\\\1&-1 \\end{pmatrix}\\times \\begin{pmatrix} 0&1\\\\1&0\\end{pmatrix} = \\frac{1}{\\sqrt{2}}\\begin{pmatrix} 1&1\\\\-1&1 \\end{pmatrix}\\end{equation}\n",
    "\n",
    "\n",
    "\\begin{equation} H \\otimes HX = \\frac{1}{2}\\begin{pmatrix} 1&1&1&1\\\\-1&1&-1&1\\\\1&1&-1&-1\\\\-1&1&1&-1\\\\ \\end{pmatrix} \\end{equation}\n",
    "\n",
    "So: \n",
    "\\begin{equation} H \\otimes HX |00\\rangle = \\frac{1}{2}\\begin{pmatrix} 1&1&1&1\\\\-1&1&-1&1\\\\1&1&-1&-1\\\\-1&1&1&-1\\\\ \\end{pmatrix}\\times\\begin{pmatrix} 1\\\\0\\\\0\\\\0\\\\ \\end{pmatrix} = \\frac{1}{2} \\begin{pmatrix} 1\\\\-1\\\\1\\\\-1\\\\ \\end{pmatrix} \\end{equation}\n",
    "\n",
    "Then we apply CNOT to this state : \n",
    "\n",
    "\\begin{equation} CNOT \\times \\frac{1}{2}\\begin{pmatrix} 1\\\\-1\\\\1\\\\-1\\\\ \\end{pmatrix} = \\begin{pmatrix} 1&0&0&0\\\\0&1&0&0\\\\0&0&0&1\\\\0&0&1&0\\\\ \\end{pmatrix} \\times \\frac{1}{2} \\begin{pmatrix} 1\\\\-1\\\\1\\\\-1\\\\ \\end{pmatrix} = \\frac{1}{2}\\begin{pmatrix} 1\\\\-1\\\\-1\\\\1\\\\ \\end{pmatrix} \\end{equation}\n",
    "\n",
    "We end with $H\\otimes I$ :\n",
    "\n",
    "\\begin{equation} (H\\otimes I )\\frac{1}{2}\\begin{pmatrix} 1\\\\-1\\\\-1\\\\1\\\\ \\end{pmatrix} \n",
    "= \\frac{1}{\\sqrt{2}} \\begin{pmatrix} 1&0&1&0\\\\0&1&0&1\\\\1&0&-1&0\\\\0&1&0&-1\\\\\\end{pmatrix} \\times \\frac{1}{2}\\begin{pmatrix} 1\\\\-1\\\\-1\\\\1\\\\ \\end{pmatrix} = \\frac{1}{\\sqrt{2}} \\begin{pmatrix} 0\\\\0\\\\1\\\\-1\\\\ \\end{pmatrix} = \\frac{1}{\\sqrt{2}} (|10\\rangle - |11\\rangle )\\end{equation}\n",
    "\n",
    "Measuring $q_0$ results in $|0\\rangle$. \n",
    "\n",
    "This is phase kickback, and this is what we use in the BV algo."
   ]
  },
  {
   "cell_type": "code",
   "execution_count": 11,
   "metadata": {},
   "outputs": [],
   "source": [
    "# choose the value of s (\"hidden\" value, to be discovered\")\n",
    "s = '101001' "
   ]
  },
  {
   "cell_type": "code",
   "execution_count": 12,
   "metadata": {},
   "outputs": [
    {
     "output_type": "stream",
     "name": "stdout",
     "text": [
      "{'101001': 1}\n"
     ]
    }
   ],
   "source": [
    "# prepare your BV algo here (use bv as circuit name, or change bv in the execution parameter, next cell)\n",
    "# allow for s to be of variable length\n",
    "\n",
    "longueur = len(s)\n",
    "\n",
    "# System init\n",
    "circ = QuantumCircuit(longueur+1, longueur)\n",
    "circ.h(range(longueur))\n",
    "circ.x(longueur)\n",
    "circ.h(longueur)\n",
    "circ.barrier()\n",
    "\n",
    "# CNOT gates application\n",
    "for k,bit in enumerate(reversed(s)):\n",
    "    if bit == '1':\n",
    "        circ.cx(k,longueur)\n",
    "        \n",
    "# Last step and measures\n",
    "circ.barrier()\n",
    "circ.h(range(longueur))\n",
    "circ.measure(range(longueur),range(longueur))\n",
    "\n",
    "# Draw circuit\n",
    "circ.draw(output='mpl')\n",
    "\n",
    "# Simulation\n",
    "sim= Aer.get_backend('qasm_simulator')\n",
    "result = execute(circ,backend=sim,shots=1).result()\n",
    "counts=result.get_counts()\n",
    "print(counts)"
   ]
  },
  {
   "cell_type": "markdown",
   "metadata": {},
   "source": [
    "### 2.2 Deutsch-Josza\n",
    "\n",
    "\n",
    "#### Deutsch\n",
    "\n",
    "<img src=\"./images/Deutsch.jpg\" alt=\"Note: In order for images to show up in this jupyter notebook you need to select File => Trusted Notebook\" width=\"250 px\" align=\"center\">\n",
    "\n",
    "Let $f$ be a function from $\\{0,1\\}$ to $\\{0,1\\} :  f : x \\in \\{0,1\\} ⟼ \\{0,1\\}$, it can be *constant* or *balanced*. To find out if it is constant or balanced, a classical algorithm will need to evaluate $f$ for both 0 and 1 input values. \n",
    "\n",
    "\n",
    "\n",
    "In 1985, David Deutsch show that a quantum algorithm can find out with only one evaluation of $f$. \n",
    "Seven years later, David Deutsch et Richard Josza extend this algorithm to the case with $N$ input bits ($2^N$ possible values)\n",
    "\n",
    "\n",
    "#### Lets build the four functions  $f_0, f_1,f_2,f_3$, and run Deutsch algorithm. Result $0$ indicates a constant function, and  $1$ indicates a balanced function:\n",
    "\n",
    "<img src=\"./images/f0f1f2f3.png\" alt=\"Note: In order for images to show up in this jupyter notebook you need to select File => Trusted Notebook\" width=\"400 px\" align=\"center\">\n",
    "\n",
    "<img src=\"./images/deutschfunctions.png\" alt=\"Note : In order for images to show up in this jupyter notebook you need to select File => Trusted Notebook\" width=\"600 px\" align=\"center\">\n",
    "\n",
    "\n",
    "<img src=\"./images/DeutschAlgo.png\" alt=\"Note : In order for images to show up in this jupyter notebook you need to select File => Trusted Notebook\" width=\"600 px\" align=\"center\">\n"
   ]
  },
  {
   "cell_type": "code",
   "execution_count": 13,
   "metadata": {},
   "outputs": [],
   "source": [
    "#\n",
    "#\n",
    "# Your code here \n",
    "#\n",
    "#"
   ]
  },
  {
   "cell_type": "markdown",
   "metadata": {},
   "source": [
    "<!div class=\"alert alert-block alert-info\">\n",
    "Deutsch justification :  \n",
    "\n",
    "(Note  $\\oplus$ is xor (or modulus 2 addition) \n",
    "\n",
    "Let's analyze the states along the circuit. Inital state: \n",
    "\\begin{equation}\n",
    "|\\psi_1⟩ = |0⟩\\times|1⟩\n",
    "\\end{equation}\n",
    "\n",
    "Theen both qubits go through Hadamard : \n",
    "$|0⟩$ goes to $\\frac{1}{\\sqrt{2}}(|0⟩+|1⟩)$\n",
    "and  \n",
    "$|1⟩$ goes to $\\frac{1}{\\sqrt{2}}(|0⟩-|1⟩)$\n",
    "\n",
    "So we have state : $|\\psi_2⟩$\n",
    "\n",
    "\\begin{equation}\n",
    "|\\psi_2⟩ = \\frac{1}{\\sqrt{2}}(|0⟩+|1⟩) \\times \\frac{1}{\\sqrt{2}}(|0⟩-|1⟩)\n",
    "\\end{equation}\n",
    "\n",
    "Both $\\frac{1}{\\sqrt{2}}$ multiply together, and we develop : \n",
    "\n",
    "\\begin{equation}\n",
    "|\\psi_2⟩ = \\frac{1}{2}(|0⟩\\times(|0⟩-|1⟩) + |1⟩\\times(|0⟩-|1⟩)\n",
    "\\end{equation}\n",
    "\n",
    "With $|x⟩$ having value in $|0⟩$ and  $|1⟩$ we can factor like this : \n",
    "\n",
    "\\begin{equation}\n",
    "|\\psi_2⟩ = \\frac{1}{2}\\sum_{x=0}^{x=1}|x⟩(|0⟩-|1⟩)\n",
    "\\end{equation}\n",
    "\n",
    "Then:\n",
    "\n",
    "\\begin{equation}\n",
    "|\\psi_2⟩ = \\frac{1}{2}\\sum_{x=0}^{x=1}(|x⟩|0⟩-|x⟩|1⟩)\n",
    "\\end{equation}\n",
    "\n",
    "Going to $|\\psi_3⟩$ the second qubit state gets the xor of its value and the value of $f(x)$. So $|0⟩$ goes to  $|0\\oplus f(x)⟩$ and $|1⟩$ goes to $|1\\oplus f(x)⟩$ :\n",
    "\n",
    "\n",
    "\\begin{equation}\n",
    "|\\psi_3⟩ = \\frac{1}{2}\\sum_{x=0}^{x=1}(|x⟩|0\\oplus f(x)⟩-|x⟩|1\\oplus f(x)⟩)\n",
    "\\end{equation}\n",
    "\n",
    "With:\n",
    "- if $f(x) = 0$ then $0\\oplus f(x) = 0$ and $1\\oplus f(x) = 1$\n",
    "\n",
    "- if $f(x) = 1$ then $0\\oplus f(x) = 1$ and $1\\oplus f(x) = 0$  \n",
    "\n",
    "which gives:\n",
    "\n",
    "- if $f(x) = 0$ then $|x⟩|0\\oplus f(x)⟩- |x⟩|1\\oplus f(x) ⟩ = |x⟩|0⟩-|x⟩|1⟩ =|x⟩(|0⟩-|1⟩$\n",
    "\n",
    "- if $f(x) = 1$ then $|x⟩|0\\oplus f(x)⟩- |x⟩|1\\oplus f(x) ⟩ = |x⟩|1⟩-|x⟩|0⟩ = -|x⟩(|0⟩-|1⟩$\n",
    "\n",
    "Then: \n",
    "\n",
    "$|x⟩|0\\oplus f(x)⟩ - |x⟩|1 \\oplus f(x) ⟩ = (-1)^{f(x)}|x⟩(|0⟩-|1⟩)$\n",
    "\n",
    "and we can write:\n",
    "\n",
    "\\begin{equation}\n",
    "|\\psi_3⟩ = \\frac{1}{2}\\sum_{x=0}^{x=1}(-1)^{f(x)}|x⟩(|0⟩-|1⟩) = \\frac{1}{2}\\left(\\sum_{x=0}^{x=1}(-1)^{f(x)}|x⟩\\right)(|0⟩-|1⟩\n",
    "\\end{equation}\n",
    "\n",
    "\\begin{equation}\n",
    "|\\psi_3⟩  = \\frac{1}{2}\\left((-1)^{f(0)}|0⟩ + (-1)^{f(1)}|1⟩\\right)(|0⟩-|1⟩)\n",
    "\\end{equation}\n",
    "\n",
    "We now have to get $q_0$ throught thee last $H$ gate: \n",
    "\n",
    "\n",
    "\\begin{equation}\n",
    "|\\psi_4⟩  = \\frac{1}{2}\\left((-1)^{f(0)}\\frac{1}{\\sqrt{2}}(|0⟩+|1⟩) + (-1)^{f(1)}\\frac{1}{\\sqrt{2}}(|0⟩-|1⟩)\\right)(|0⟩-|1⟩)\n",
    "\\end{equation}\n",
    "\n",
    "\\begin{equation}\n",
    "|\\psi_4⟩ = \\frac{1}{2\\sqrt{2}}\\left(\\left((-1)^{f(0)}+(-1)^{f(1)}\\right)|0⟩ + \\left((-1)^{f(0)}-(-1)^{f(1)}\\right)|1⟩\\right) (|0⟩-|1⟩)\n",
    "\\end{equation}\n",
    "\n",
    "And we see that: \n",
    "\n",
    "- if $f(0) = f(1)$ then measuring $q_0$ will result in state $|0⟩$\n",
    "- if $f(0) ≠ f(1)$ then measuring $q_0$ will result in state $|1⟩$\n",
    "\n",
    "Deutsh-Josza expand the same problem to $N$ bits, we are egiven a function from 0,1 exp N to 0,1, and we are told that f is either constant or balanced. \n",
    "\n",
    "Here is a demo:\n",
    "\n"
   ]
  },
  {
   "cell_type": "code",
   "execution_count": 14,
   "metadata": {},
   "outputs": [
    {
     "output_type": "stream",
     "name": "stderr",
     "text": [
      "/Users/cheng/code/envs/qc_env/lib/python3.9/site-packages/qiskit/providers/ibmq/ibmqfactory.py:192: UserWarning: Timestamps in IBMQ backend properties, jobs, and job results are all now in local time instead of UTC.\n  warnings.warn('Timestamps in IBMQ backend properties, jobs, and job results '\n"
     ]
    }
   ],
   "source": [
    "# initialisations \n",
    "\n",
    "import numpy as np\n",
    "\n",
    "from qiskit import IBMQ, BasicAer\n",
    "from qiskit.providers.ibmq import least_busy\n",
    "from qiskit import QuantumCircuit, execute\n",
    "from qiskit.tools.jupyter import *\n",
    "provider = IBMQ.load_account()\n",
    "\n",
    "from qiskit.visualization import plot_histogram"
   ]
  },
  {
   "cell_type": "code",
   "execution_count": 11,
   "metadata": {},
   "outputs": [],
   "source": [
    "def dj_oracle(n, case): \n",
    "    # on construit un circuit, avec n+1 qubits \n",
    "    \n",
    "    oracle_qc = QuantumCircuit(n+1)\n",
    "    \n",
    "    # cas de l'oracle équilibré (balanced)\n",
    "    if case == \"balanced\": \n",
    "        # cnot gate de chaque qubit sur le qubit de sortie\n",
    "        for qubit in range(n):\n",
    "            oracle_qc.cx(qubit,n)\n",
    "            # ca fait qu'on on flip le qubit n autant de fois \n",
    "            # qu'on a un 1 en entrée, donc selon la parité du nombre\n",
    "            # de 1, il finit à 0 ou à 1.\n",
    "            \n",
    "    # cas de l'oracle constant\n",
    "    if case == \"constant\": \n",
    "        # il est constant à 0 ou à 1, on tire au sort un \n",
    "        # entier 0 ou 1 ce qui determine quel est le résultat (constant) de la fonction. \n",
    "        zero_un = np.random.randint(2) \n",
    "        if zero_un == 1:\n",
    "            oracle_qc.x(n)\n",
    "            # on sort toujours 1 quelque soit l'entrée\n",
    "        # sinon rien. le qubit n est à 0... toujours\n",
    "        \n",
    "    oracle_gate = oracle_qc.to_gate()\n",
    "    oracle_gate.name = \"Oracle\"\n",
    "    return oracle_gate\n",
    "            "
   ]
  },
  {
   "cell_type": "code",
   "execution_count": 12,
   "metadata": {},
   "outputs": [],
   "source": [
    "def dj_algo(n, case='random'): \n",
    "    dj_circuit = QuantumCircuit(n+1,n)\n",
    "    \n",
    "    # superpose les n premiers (0 à n-1) \n",
    "    for qubit in range(n): \n",
    "        dj_circuit.h(qubit)\n",
    "        \n",
    "    # on s'occuppe du dernier qubit (état moins)\n",
    "    dj_circuit.x(n)\n",
    "    dj_circuit.h(n)\n",
    "\n",
    "    # si l'utilisateur n'a pas spécifié le parametre random ou bien \n",
    "    # si il l'a spécifié à random\n",
    "    if case == 'random':\n",
    "        random = np.random.randint(2)\n",
    "        if random == 0: \n",
    "            case = 'constant'\n",
    "        else: \n",
    "            case = 'balanced'\n",
    "    # maintenant on crée l'oracle :\n",
    "    oracle = dj_oracle(n,case)\n",
    "    # et on l'ajoute au circuit que nous sommes en train de construire:\n",
    "    dj_circuit.append(oracle, range(n+1))\n",
    "    # range(n+1) est la liste des qubits que circuit \"connecte\" à oracle\n",
    "    \n",
    "    # et on termine le circuit avec les H et les measurement\n",
    "    for i in range(n):\n",
    "        dj_circuit.h(i)\n",
    "        dj_circuit.measure(i, i)\n",
    "    \n",
    "    return dj_circuit\n",
    "        \n",
    "    "
   ]
  },
  {
   "cell_type": "code",
   "execution_count": 13,
   "metadata": {},
   "outputs": [
    {
     "data": {
      "image/png": "[encoded data removed]",
      "text/plain": [
       "<Figure size 628.397x385.28 with 1 Axes>"
      ]
     },
     "execution_count": 13,
     "metadata": {},
     "output_type": "execute_result"
    }
   ],
   "source": [
    "n = 4\n",
    "dj = dj_algo(n)\n",
    "dj.draw(output= 'mpl')"
   ]
  },
  {
   "cell_type": "code",
   "execution_count": 14,
   "metadata": {},
   "outputs": [
    {
     "data": {
      "image/png": "[encoded data removed]",
      "text/plain": [
       "<Figure size 504x360 with 1 Axes>"
      ]
     },
     "execution_count": 14,
     "metadata": {},
     "output_type": "execute_result"
    }
   ],
   "source": [
    "# execution sur le simulateur local\n",
    "backend = BasicAer.get_backend('qasm_simulator')\n",
    "shots = 1024\n",
    "\n",
    "dj = dj_algo(n, 'constant')\n",
    "results = execute(dj, backend = backend, shots = shots).result()\n",
    "answer = results.get_counts()\n",
    "\n",
    "plot_histogram(answer)"
   ]
  },
  {
   "cell_type": "code",
   "execution_count": 15,
   "metadata": {},
   "outputs": [
    {
     "name": "stdout",
     "output_type": "stream",
     "text": [
      "least busy backend:  ibmq_belem\n"
     ]
    },
    {
     "data": {
      "application/vnd.jupyter.widget-view+json": {
       "model_id": "aff6bbc1d09c4ca0a0a304aad6b5c92d",
       "version_major": 2,
       "version_minor": 0
      },
      "text/plain": [
       "Accordion(children=(VBox(layout=Layout(max_width='710px', min_width='710px')),), layout=Layout(max_height='500…"
      ]
     },
     "metadata": {},
     "output_type": "display_data"
    },
    {
     "data": {
      "application/javascript": [
       "$('div.job_widget')\n",
       "        .detach()\n",
       "        .appendTo($('#header'))\n",
       "        .css({\n",
       "            'z-index': 999,\n",
       "             'position': 'fixed',\n",
       "            'box-shadow': '5px 5px 5px -3px black',\n",
       "            'opacity': 0.95,\n",
       "            'float': 'left,'\n",
       "        })\n",
       "        "
      ],
      "text/plain": [
       "<IPython.core.display.Javascript object>"
      ]
     },
     "metadata": {},
     "output_type": "display_data"
    }
   ],
   "source": [
    "backend = least_busy(provider.backends(filters = lambda x: x.configuration().n_qubits >= (n+1) and \n",
    "                                       not x.configuration().simulator and x.status().operational == True))\n",
    "\n",
    "print(\"least busy backend: \", backend)\n",
    "\n",
    "%qiskit_job_watcher\n",
    " \n",
    "dj = dj_algo(n, 'balanced')\n",
    "job = execute(dj, backend = backend, shots = shots, optimization_level = 3)\n"
   ]
  },
  {
   "cell_type": "code",
   "execution_count": 16,
   "metadata": {},
   "outputs": [
    {
     "data": {
      "image/png": "[encoded data removed]",
      "text/plain": [
       "<Figure size 504x360 with 1 Axes>"
      ]
     },
     "execution_count": 16,
     "metadata": {},
     "output_type": "execute_result"
    }
   ],
   "source": [
    "results = job.result()\n",
    "answer = results.get_counts()\n",
    "\n",
    "plot_histogram(answer)"
   ]
  },
  {
   "cell_type": "markdown",
   "metadata": {},
   "source": [
    "# 3. Challenges"
   ]
  },
  {
   "cell_type": "markdown",
   "metadata": {},
   "source": [
    "# 3.1 Challenge 1 : Four states coding"
   ]
  },
  {
   "cell_type": "markdown",
   "metadata": {},
   "source": [
    "## Quantum Cryptography : BB84\n",
    "\n",
    "### You can also ref to BB84.pdf in the GitHub repo\n",
    "\n",
    "**[BB84](https://en.wikipedia.org/wiki/BB84)** protocol was set up in 1984 by one of our famous IBM'ers Charles Bennett with his colleague Gilles Brassard. \n",
    "It has been experimented a few years later in the first demonstration of quantum key distribution  : [quantum key distribution](https://en.wikipedia.org/wiki/Quantum_key_distribution) by Charles Bennett and John Smolin in IBM [C. H. Bennett, F. Bessette, G. Brassard, L. Salvail, and J. Smolin, J. of Cryptography **5**, 3 (1992) ]. Charles and John are still part of the quantum IBM team. \n",
    "\n",
    "<img src=\"./images/charlie_john_qkd.jpg\" width=\"500\"/>\n",
    "<center>Charles Bennett and John Smolin at T.J. Watson IBM research center.</center>\n",
    "\n",
    "BB84 protocol allows to communicate a cryptographie key from one point to another and knowing that it has not been compromised. \n",
    "\n",
    "\n",
    "## BB84 Protocol \n",
    "\n",
    "The steps are the following : \n",
    "\n",
    "1. Alice chooses two random bit strings of length  $n$ : $k$ and $b$. The list $k$ has the key value. The list $b$ represents the bases choice for Alice to encode the bits of $k$. When  $b_i=0$ (meaning if the  $i^{th}$ base bit is zero ), she encodes the $i^{th}$ qubit in the standard base $\\{|0\\rangle, |1\\rangle \\}$, and if $b_i=1$, she uses the base  $\\{|+\\rangle, |-\\rangle \\}$, where $|+\\rangle:=\\frac{1}{\\sqrt{2}}(|0\\rangle +|1\\rangle)$, $|-\\rangle:=\\frac{1}{\\sqrt{2}}(|0\\rangle -|1\\rangle)$. \n",
    "\n",
    "This can be showned as follows : \n",
    "\n",
    "\n",
    "<img src=\"./images/encoding_Alice.png\" alt=\"drawing\" width=\"300\"/>\n",
    "\n",
    "2. After endoding $n$ bits, Alice sends them to Bob. He chooses a random bit string $\\tilde{b}$ of length $n$ for the measurement bases he will be using. Bob records his measurement results  $\\tilde{k_i}$ along with the bases used $\\tilde{b_i}$, in an array.\n",
    "\n",
    "3. Then Alice and Bob compare their bases $b_i$ and $\\tilde{b}_i$. Whenever  $b_i \\neq \\tilde{b}_i$, Bob did not measure in the same base Alice did encode. The probability of having measured the correct value for $k_i$ is $\\frac{1}{2}$, in this case this position is discarded. Howeever, if $b_i = \\tilde{b}_i$, then the qubit was preepared and measured in the same basis (and if noboby did spy on the communication) Bob did measure a correct value : $\\tilde{k}_i = k_i$. These values make the key \n",
    "\n",
    "## Example : \n",
    "\n",
    "Let's assume Alice random key value is :  $k=`0111001`$ and her bases choice : $b=`1101000`$, and let's assume Bob's bases are : $\\tilde{b}=`1001101`$. Look at the values below and note that when bases eare not hte same Bob has one chance out of two to get a correct measurement. \n",
    "<img src=\"./images/example_bb84.png\" alt=\"drawing\" width=\"600\"/>\n",
    "\n",
    "In this case, the key is '0110', and to know if it has been seen by Eve, Alice and Bob will have to sacrifice some of theses bits. If a measurement was made during the distribution, le qubit state would have change with probability $\\frac{1}{4}$. By verifying $m$ bits values, the probability of not detecting Eve decays as $\\left(\\frac{3}{4}\\right)^m$. So if the verify enough bits, they will gain confidence that Eve did not spy. \n",
    "\n",
    "### Message encryption\n",
    "\n",
    "One the key is known and secretely has been secretly distributed, Alice and Bob can use it very easily  :  [ref Masque Jetable](https://fr.wikipedia.org/wiki/Masque_jetable) : Alice just adds bitwise modulo 2 the two lists.  (in other words she performs bitwise XOR). With the above example, key is $\\text{key}=`0110`$. Secret message is $m=`1100`$, so encrypted message is : $c=m\\oplus \\text{key (mod 2)} = `1010`$. Bob can decipher in doing the same thing : add the key to the message : $m=c\\oplus \\text{key (mod 2)}$.\n",
    "\n",
    "## workshop : \n",
    "\n",
    "In this notebook you will be in Bob's role, and with Alice you will generate a key unsing BB84 protocol, then you will beable to decodee Alice's message.\n",
    "\n",
    "---\n",
    "\n",
    "There will be 4 steps : \n",
    "\n",
    "1. Alice prepares her key and bases. The function (provided) `alice_prepare_qubit` is used to send to you the qubits states. \n",
    "\n",
    "2. Bob (you) measure the recevied qubit states in your basis list, you will have to code the function  `build_bob_measure_circuit`. This function receives an index to point in the qubits and in Bob's basis list as well as in the quantum circuit list (which has prepared Alice's qubit state). The function returns a quantum circuit which can be appended to Alice's circuit used to prepare her qubit. Bob circuit simply performs a measure about Bob's base, for each index position. \n",
    "\n",
    "3. Then you will have to build the code for making the key Alice and Bob will agree on (by discarding the values that have been emitted and received on non identical basis).\n",
    "\n",
    "4. Finally, we will be able to write the function to decipher Alice's massage with the key. You generate a bit string, which is a morse code text, you will need to make it readable. \n",
    "\n",
    "---\n",
    "\n",
    "This workhop is derived from the IBM Quantum Computing Challenge, on may 4th, 2020. "
   ]
  },
  {
   "cell_type": "markdown",
   "metadata": {},
   "source": [
    "### Setup"
   ]
  },
  {
   "cell_type": "code",
   "execution_count": 15,
   "metadata": {},
   "outputs": [],
   "source": [
    "# import libraries\n",
    "import BB84HO\n",
    "from random import randint\n",
    "from qiskit import QuantumCircuit, execute, Aer\n",
    "backend = Aer.get_backend('qasm_simulator')\n",
    "\n",
    "bases_length = 1500"
   ]
  },
  {
   "cell_type": "code",
   "execution_count": 16,
   "metadata": {},
   "outputs": [
    {
     "output_type": "stream",
     "name": "stdout",
     "text": [
      "101001110101000011111000101001010001010111100011100110011100000000010110000111111111000110100010110010111000101011101010100100101111101010100100010001110100001011100101110011000100010011110101110011111101110101100000010101010100010010101000101111110001111100001101011011011010010001110001111001100010100111110011101011000111110011010100000100110000000010000011001100111111101010010101100000111011010011110101110100000010111010001011110111010001100101010101111111110101101011100111000001000010100000100101101100011110001001000000101011000100100011111010000110001110001010100110110100101110111000011100100010101101001001010100010110101010110100110111011010100001110101110111111111010010101110000010001011100001101000100110110101001011000000110000111010010111110111010111000011100000010101000110100001100100101000111110100000001000000001011101101000110000010100001011001110000010001000100111100001011010111100101101111111000011000100000010110111111111111100111011000010011010011111000101101110011110001100101100111101111101100011111001110100111001101011000100100010010001001101000010010100011110111110101010011110010101110000111001010101110101011111100001100001001001100000101101101110100111011110110001101110011011110000010100001011011001100111110000001101110101111010100001101011111111100011001000111111001010111110000101000110000011001011010110001111010001100011110011001111111011110110011011000010101101000011011001001110101100010001010011001001011001001100100101011000000011111000000001010110110000\nzzzzxzxzzxxxzxxzzxzxxxzzzzzzxxzxzxxzzzzxzxzzzxxxzxxzzxxxxxxxxzxzzzzxzzxzxxxzzzzxxxzzxxxzzzzzzxzxxxxxxxzxxxxxzzzxzzzzzzxxzzxxzxzxzzzxxzzzzzzxzxzxzzzzzzxzxxzzzxzzzxzxzzzxzxxxzxzxzzxxxzxzzxzxzzzzzzzzzzxzzxzxxxxzxzxxxzxxzzxxzxxzxzxzxxxzxxzxxxzxxxzxzzzxzxzxzxzxzzxxzxzzzxxxxxzzxzxxzxzzzxzxxxxzzxxzzzzzxzzxxxzzxxxzxzxxzzzzxzzxzxxzxzxzzxzxzzzxzzxzxzzzzzxxzzxzzzzxxzzzxzzzzzzxxxzzzxzzzzzzxxxxxzxzxxxzzzxzxzzxzxzzxzzxxzzzzzzzxzzxzxzxzxxzzxzzxxzxzzzzzxzzzxzxxzzxzxzxzxxzxxxxzxzxxzxzzzxxzzzzzzzzxzzzzzxxxxzxxxzzxxzzxxxxxxzzxzxzzzxzzzxxxzxzzxzxzxxxxzzzzzxzxxxxzxzzzxxzxxzzzxxzzzxzxzzxxzzzxxzzzzxxxzzzxxxxzxzzzzxzzxxxxzxxzzxxxzxzzxzxzzxzxxzxxzxxzxzzzxzxxzzxxzzzxzxzxxxzxzxxzxxzzxxxzxxzzxzzzxxzxzxzzzzxxxzzxxzzzxzzzzxzzzzzxxzxzzxzxzxxzzxzxzzxxzzxxzxxxzzxxzxzxzxzzzzzzxzxxxxxxxxzzzzxxxxxzzxzxzxxxxxzzzxzxxzzxxzzxxxzzzzxzzzzxzzxxxzxzzzzxzzzzxzzxzzxxxxzxxxxxzzzzzzzxzzxzzzzxzxzxxxzxxzxzzzzzzzxzzzzzxzzzxzxxxxzzzzzzzzxzxxzzzxxxxxxxzzxxxxzzzxxzxxzzxxxzxxzxzxzzxxxxzzxxzxzxzzxxxxxxxxzzxxzxzxxxzxzzzzxxxzzzzxzxxxzxzxxzxzzzzzxzxxzzzxxxxxxzxzzxxzzxxzzzzzzxxzzzxzzxzxzxxzxzzxzzzzzzxzxzxxzxxxzxzxzxxzxzxzzxxzzzxzxxzzxxzzxxxxxzxxzxxxxxzzzxxxxzxxzzzxzxzzxxxxxxzzzzzxxzxxzxzxxzxzzxzxxxzxzzzzzxxxzzzzxzzzxzxzzxxxxxxzxxzxzxzxxxxxzxzzxzzzxxzzzzxzxxxzxxzzxxzxzzzxxzxxxxxzxxxxzzzxzzzxxzxzxxxxzzzxxxzxxzxzxxzzzxzxxzxzzxxzxxxxxzzxxzxzxzxxzzxzxzzxzxxzzzzzxzxzxxzxxxxzzzxzzxzxxxxzzxzxxzxzzzxzzxxxzxxzxxxxxzxxzxzzzzzzxzzzxxxzxzzzzxxzxzzxxzzzxxzzzzzxzzxxxzxxzxxzxzzxxzxxzxxxzxxzxxzzxxzxxzzzxxzzzxzxzxzxzxxxzxxzxzxxxxzxzzzzxzzxxxzzxzxxzzzxx\n"
     ]
    }
   ],
   "source": [
    "# clef aléatoire\n",
    "alice_key = \"\"\n",
    "for i in range(bases_length): \n",
    "    alice_key += str(randint(0,1))\n",
    "\n",
    "# bases aléatoires\n",
    "alice_bases = \"\"\n",
    "for i in range(bases_length):\n",
    "    if randint(0,1):\n",
    "        alice_bases += \"z\"\n",
    "    else:\n",
    "        alice_bases += \"x\"\n",
    "        \n",
    "print(alice_key)\n",
    "print(alice_bases)"
   ]
  },
  {
   "cell_type": "markdown",
   "metadata": {},
   "source": [
    "### Bob prepares his bases :"
   ]
  },
  {
   "cell_type": "code",
   "execution_count": 17,
   "metadata": {},
   "outputs": [
    {
     "output_type": "stream",
     "name": "stdout",
     "text": [
      "Bob's bases : xzzzzzxzxxxxxzzzzzzxzzxzzzzxzzzxzxzxxzxxxzzxxzzzzxzxxxxzzzxxxzzzxxxxxzxxxxxzzzxxzxxzxxxxzzxzzxzxxzxzzxxzzxzzzzzzzxxzzzxxzzxxxxzzzzxxxxxzzzxzxxxxxzxzxxxxzxxzxzxzxzzxzzzzxzxzzzzxzzzzxzzzzzzzxzxzxzxzzxxzxxxxzxxxzxxzzxzzxxxxxzzxxxzxzzzxzzzxzxzxxxxxxzzzxzzzxzzzxzzxxxzxxzxxxzzzxxzxxxzxzxxzxxzzxxxzxzxxzzxxxxzxzzxxzxzxzzxxxxxzzzxzxxxxxzzxzxzxxxxxxxxxxxzzxxzzzzzxzxzzzzzzxzzzxxxzxxzxzzxzxxxzzxzxzzxxzxzzxzxzxxxxxzxzzzzxxxzzzxzzxzxzzxzxzzxxxxzxxzzzxzxzxzzzxzzzzxzxzzxzxxzzzzzzzzzzxzxzzzzxzzxxxxzxzxzxzzxzxxzxzzzxxxzzxzzxzxxzxxzxzxxxzzzzxxzzzzzzzxxzzzxxxzxxxzzxxxxxxzzxzxxxxzxzxxzxzzxzzzzzzzxzzxxxxzxxzxxzzxxzxxzzzxxzxzzzzxxxzxzxxxxzzzzzxzzxxxxzxzzzxxzxzxxxzxxzxxxzxxxxxxxxzzzxxzzxxxzzzzxxxzzxxzzxzxzxxxzzxxzxxxzzzxzxzxzzzxzzxzzxzzxxxxzxxxxxxxzzzxzxzzxzzzxzxxzxxxzxzzxxzzxzxzxzzxzzzxzxzzxzxxxzzzzxxxzzzzzzzzxzzxxzzzxxzzxxxzzxxxxxxxxxxzzxzxxxzzzzzxzzxxxxzzxzxzzzxzzxzzzxxxzzxxzzxzxzxxzxxzxzzxxzxzzzzxxzxzzxzzxxzxzxzxzxzxzzzzzzxzzzzxxzxzzxzxzzzxxxzxxzxzxxxxzzzxzzzzzzxxxzzxxzzzxxzxxxzxzxxzxxzxxxzzxxxxxxzzxxzxxxxxzzzxxzxxxzxzzxzzzxzxxzxzxzxzxzzzxxxxxxzxzxxzzzxxzzxxzzzxzxxxzxzzxzzxzxzxzzxxxzzxxxxzzxzxzxzzzxzzxxzzzxxxxxzzxzxzzxzzxxxxzxzxxzzzxxxzxxzxxzzzxxzxxzxzxxxxxxzzxzzzxzxxzzxzxxzzzxzzzxzzxzzxxxxxzzzzxxxzzzzxxxxzxxxxxxxzxzxxzxxzzzzzxxzzzxzxzzzzxxzxzxxxxzxxxxzzzxxzxxzxzxzxxxzxzzxzzzxzxzzzzzxxzxzzxzxxxxzxxzxzxxzxzzxxxxzxzzxzxxzxxzzzzxxzzxzzzxxxzxxzxzzzxzzzzxzxzxxxzxxxxzzzzxzzxxzzzxzzxzzxzzzxxzxzxzxxzzxxzzxzxzxxxxxzxzzxzxxxxxxzxzxzxzxzxzzxzzzzzxxxzzzxzzzzzzxxxxxxxxxxzxxxxzxzxxxzxzxxzxzzzzxzzzzxxxxzzzzzzz\n"
     ]
    }
   ],
   "source": [
    "bob_bases = \"\"\n",
    "for i in range(bases_length):\n",
    "    if randint(0,1):\n",
    "        bob_bases += \"z\"\n",
    "    else:\n",
    "        bob_bases += \"x\"\n",
    "        \n",
    "print('Bob\\'s bases :', bob_bases)"
   ]
  },
  {
   "cell_type": "markdown",
   "metadata": {},
   "source": [
    "### Now Bob performs the measurements (with his bases) on states prepared by Alice (with her key and bases): "
   ]
  },
  {
   "cell_type": "code",
   "execution_count": 18,
   "metadata": {},
   "outputs": [
    {
     "output_type": "execute_result",
     "data": {
      "text/plain": [
       "'xzzzzzxzxxxxxzzzzzzxzzxzzzzxzzzxzxzxxzxxxzzxxzzzzxzxxxxzzzxxxzzzxxxxxzxxxxxzzzxxzxxzxxxxzzxzzxzxxzxzzxxzzxzzzzzzzxxzzzxxzzxxxxzzzzxxxxxzzzxzxxxxxzxzxxxxzxxzxzxzxzzxzzzzxzxzzzzxzzzzxzzzzzzzxzxzxzxzzxxzxxxxzxxxzxxzzxzzxxxxxzzxxxzxzzzxzzzxzxzxxxxxxzzzxzzzxzzzxzzxxxzxxzxxxzzzxxzxxxzxzxxzxxzzxxxzxzxxzzxxxxzxzzxxzxzxzzxxxxxzzzxzxxxxxzzxzxzxxxxxxxxxxxzzxxzzzzzxzxzzzzzzxzzzxxxzxxzxzzxzxxxzzxzxzzxxzxzzxzxzxxxxxzxzzzzxxxzzzxzzxzxzzxzxzzxxxxzxxzzzxzxzxzzzxzzzzxzxzzxzxxzzzzzzzzzzxzxzzzzxzzxxxxzxzxzxzzxzxxzxzzzxxxzzxzzxzxxzxxzxzxxxzzzzxxzzzzzzzxxzzzxxxzxxxzzxxxxxxzzxzxxxxzxzxxzxzzxzzzzzzzxzzxxxxzxxzxxzzxxzxxzzzxxzxzzzzxxxzxzxxxxzzzzzxzzxxxxzxzzzxxzxzxxxzxxzxxxzxxxxxxxxzzzxxzzxxxzzzzxxxzzxxzzxzxzxxxzzxxzxxxzzzxzxzxzzzxzzxzzxzzxxxxzxxxxxxxzzzxzxzzxzzzxzxxzxxxzxzzxxzzxzxzxzzxzzzxzxzzxzxxxzzzzxxxzzzzzzzzxzzxxzzzxxzzxxxzzxxxxxxxxxxzzxzxxxzzzzzxzzxxxxzzxzxzzzxzzxzzzxxxzzxxzzxzxzxxzxxzxzzxxzxzzzzxxzxzzxzzxxzxzxzxzxzxzzzzzzxzzzzxxzxzzxzxzzzxxxzxxzxzxxxxzzzxzzzzzzxxxzzxxzzzxxzxxxzxzxxzxxzxxxzzxxxxxxzzxxzxxxxxzzzxxzxxxzxzzxzzzxzxxzxzxzxzxzzzxxxxxxzxzxxzzzxxzzxxzzzxzxxxzxzzxzzxzxzxzzxxxzzxxxxzzxzxzxzzzxzzxxzzzxxxxxzzxzxzzxzzxxxxzxzxxzzzxxxzxxzxxzzzxxzxxzxzxxxxxxzzxzzzxzxxzzxzxxzzzxzzzxzzxzzxxxxxzzzzxxxzzzzxxxxzxxxxxxxzxzxxzxxzzzzzxxzzzxzxzzzzxxzxzxxxxzxxxxzzzxxzxxzxzxzxxxzxzzxzzzxzxzzzzzxxzxzzxzxxxxzxxzxzxxzxzzxxxxzxzzxzxxzxxzzzzxxzzxzzzxxxzxxzxzzzxzzzzxzxzxxxzxxxxzzzzxzzxxzzzxzzxzzxzzzxxzxzxzxxzzxxzzxzxzxxxxxzxzzxzxxxxxxzxzxzxzxzxzzxzzzzzxxxzzzxzzzzzzxxxxxxxxxxzxxxxzxzxxxzxzxxzxzzzzxzzzzxxxxzzzzzzz'"
      ]
     },
     "metadata": {},
     "execution_count": 18
    }
   ],
   "source": [
    "bob_bases"
   ]
  },
  {
   "cell_type": "code",
   "execution_count": 19,
   "metadata": {},
   "outputs": [
    {
     "output_type": "stream",
     "name": "stdout",
     "text": [
      "Bob's bases: xzzzzzxzxxxxxzzzzzzxzzxzzzzxzzzxzxzxxzxxxzzxxzzzzxzxxxxzzzxxxzzzxxxxxzxxxxxzzzxxzxxzxxxxzzxzzxzxxzxzzxxzzxzzzzzzzxxzzzxxzzxxxxzzzzxxxxxzzzxzxxxxxzxzxxxxzxxzxzxzxzzxzzzzxzxzzzzxzzzzxzzzzzzzxzxzxzxzzxxzxxxxzxxxzxxzzxzzxxxxxzzxxxzxzzzxzzzxzxzxxxxxxzzzxzzzxzzzxzzxxxzxxzxxxzzzxxzxxxzxzxxzxxzzxxxzxzxxzzxxxxzxzzxxzxzxzzxxxxxzzzxzxxxxxzzxzxzxxxxxxxxxxxzzxxzzzzzxzxzzzzzzxzzzxxxzxxzxzzxzxxxzzxzxzzxxzxzzxzxzxxxxxzxzzzzxxxzzzxzzxzxzzxzxzzxxxxzxxzzzxzxzxzzzxzzzzxzxzzxzxxzzzzzzzzzzxzxzzzzxzzxxxxzxzxzxzzxzxxzxzzzxxxzzxzzxzxxzxxzxzxxxzzzzxxzzzzzzzxxzzzxxxzxxxzzxxxxxxzzxzxxxxzxzxxzxzzxzzzzzzzxzzxxxxzxxzxxzzxxzxxzzzxxzxzzzzxxxzxzxxxxzzzzzxzzxxxxzxzzzxxzxzxxxzxxzxxxzxxxxxxxxzzzxxzzxxxzzzzxxxzzxxzzxzxzxxxzzxxzxxxzzzxzxzxzzzxzzxzzxzzxxxxzxxxxxxxzzzxzxzzxzzzxzxxzxxxzxzzxxzzxzxzxzzxzzzxzxzzxzxxxzzzzxxxzzzzzzzzxzzxxzzzxxzzxxxzzxxxxxxxxxxzzxzxxxzzzzzxzzxxxxzzxzxzzzxzzxzzzxxxzzxxzzxzxzxxzxxzxzzxxzxzzzzxxzxzzxzzxxzxzxzxzxzxzzzzzzxzzzzxxzxzzxzxzzzxxxzxxzxzxxxxzzzxzzzzzzxxxzzxxzzzxxzxxxzxzxxzxxzxxxzzxxxxxxzzxxzxxxxxzzzxxzxxxzxzzxzzzxzxxzxzxzxzxzzzxxxxxxzxzxxzzzxxzzxxzzzxzxxxzxzzxzzxzxzxzzxxxzzxxxxzzxzxzxzzzxzzxxzzzxxxxxzzxzxzzxzzxxxxzxzxxzzzxxxzxxzxxzzzxxzxxzxzxxxxxxzzxzzzxzxxzzxzxxzzzxzzzxzzxzzxxxxxzzzzxxxzzzzxxxxzxxxxxxxzxzxxzxxzzzzzxxzzzxzxzzzzxxzxzxxxxzxxxxzzzxxzxxzxzxzxxxzxzzxzzzxzxzzzzzxxzxzzxzxxxxzxxzxzxxzxzzxxxxzxzzxzxxzxxzzzzxxzzxzzzxxxzxxzxzzzxzzzzxzxzxxxzxxxxzzzzxzzxxzzzxzzxzzxzzzxxzxzxzxxzzxxzzxzxzxxxxxzxzzxzxxxxxxzxzxzxzxzxzzxzzzzzxxxzzzxzzzzzzxxxxxxxxxxzxxxxzxzxxxzxzxxzxzzzzxzzzzxxxxzzzzzzz\n",
      "Bob's bits:  101001110101011010111000101011010010110111111001100000010100001001110111000111011111000110100010100110101000101010001010100100111111110010111100110000110100000011100100100111000111011010100101011011111101110111100101110101000001101101100000100101111000101110100101011010011010110001000001111001011010100111100001100011000011110000010100110100000100001010001011101110111111101110010100101000101001011011000110010001000110000110111101110111010111010001010101111111010001000001110110000001000000000000110000100001011110011001001010101111100100100011111010100011001110101010101100100100101010101000111100101001110100001001011000000010100000000100111101001010100101110100011110011111010000101100010010101100100100001001000110110001001011011111111000011011010111000100010101100011110001010101100110010000100101100010111110111100000100001000010101101000010000010100011001001100000010000000100011100001001000110000000110011110000110111000000010110100111110000110111011100011000110110011001110101110010110001001111100101100111100000011011001100110111100101011100000100010000001000111000010110010011110111101101010011100010011110000111111100101100100001010111011100001001001101010001101111101111111010100110101001110011011000100010100001111011011011111110100001101110100101000100001101011111011100011011000111001001010001100000111000100000111011011010000001011000000100011000011011011101010100100100011000111011100010001011001101011011101000001010011001001001000011001100110011001100111110000000000111100010011\n"
     ]
    }
   ],
   "source": [
    "bob_results = \"\"\n",
    "\n",
    "def bb84():\n",
    "    print('Bob\\'s bases:', bob_bases)\n",
    "\n",
    "    # now Alice prepares her qubits one at a time, using her basis list, \n",
    "    # Bob measures, using his basis list.\n",
    "    bob_results = \"\"\n",
    "    \n",
    "    # for each bit\n",
    "    for index in range(bases_length):\n",
    "        # Alice create her qubit state\n",
    "        thisqubit_circuit = BB84HO.prepare_alice_qubit(index, alice_bases, alice_key)\n",
    "        \n",
    "        # Bob prepares for measure (function to be coded below) \n",
    "        bob_measure = build_bob_measure_circuit(index, bob_bases, thisqubit_circuit)\n",
    "        \n",
    "        # now we execute and measure on the simulator \n",
    "        bob_job = execute(bob_measure, backend=backend, shots=1)\n",
    "        bob_reading = bob_job.result()\n",
    "        \n",
    "        # for each result we build the list\n",
    "        bob_results += list(bob_reading.get_counts(bob_measure))[0]\n",
    "    return bob_results\n",
    "\n",
    "# this is the function to be writen : \n",
    "# you need to \"continue\" a quantum cicruit sent by Alice (qc) using one qubit so that you\n",
    "# make the measurement in Bob's basis at index = index.\n",
    "# the function returns the quantum circuit. \n",
    "\n",
    "\n",
    "def build_bob_measure_circuit(index, bob_bases, qc):    \n",
    "    # START : write your code here \n",
    "    if bob_bases[index]==\"x\":\n",
    "        qc.h(0)\n",
    "    qc.measure(0, 0)\n",
    "    return qc\n",
    "    # END ------------------------ \n",
    "    \n",
    "bob_bits = bb84()        \n",
    "print('Bob\\'s bits: ', bob_bits)\n"
   ]
  },
  {
   "cell_type": "markdown",
   "metadata": {},
   "source": [
    "### After Bob made his measurement, Alice and Bob share their bases: \n"
   ]
  },
  {
   "cell_type": "code",
   "execution_count": 20,
   "metadata": {},
   "outputs": [
    {
     "output_type": "stream",
     "name": "stdout",
     "text": [
      "alice_bases =  zzzzxzxzzxxxzxxzzxzxxxzzzzzzxxzxzxxzzzzxzxzzzxxxzxxzzxxxxxxxxzxzzzzxzzxzxxxzzzzxxxzzxxxzzzzzzxzxxxxxxxzxxxxxzzzxzzzzzzxxzzxxzxzxzzzxxzzzzzzxzxzxzzzzzzxzxxzzzxzzzxzxzzzxzxxxzxzxzzxxxzxzzxzxzzzzzzzzzzxzzxzxxxxzxzxxxzxxzzxxzxxzxzxzxxxzxxzxxxzxxxzxzzzxzxzxzxzxzzxxzxzzzxxxxxzzxzxxzxzzzxzxxxxzzxxzzzzzxzzxxxzzxxxzxzxxzzzzxzzxzxxzxzxzzxzxzzzxzzxzxzzzzzxxzzxzzzzxxzzzxzzzzzzxxxzzzxzzzzzzxxxxxzxzxxxzzzxzxzzxzxzzxzzxxzzzzzzzxzzxzxzxzxxzzxzzxxzxzzzzzxzzzxzxxzzxzxzxzxxzxxxxzxzxxzxzzzxxzzzzzzzzxzzzzzxxxxzxxxzzxxzzxxxxxxzzxzxzzzxzzzxxxzxzzxzxzxxxxzzzzzxzxxxxzxzzzxxzxxzzzxxzzzxzxzzxxzzzxxzzzzxxxzzzxxxxzxzzzzxzzxxxxzxxzzxxxzxzzxzxzzxzxxzxxzxxzxzzzxzxxzzxxzzzxzxzxxxzxzxxzxxzzxxxzxxzzxzzzxxzxzxzzzzxxxzzxxzzzxzzzzxzzzzzxxzxzzxzxzxxzzxzxzzxxzzxxzxxxzzxxzxzxzxzzzzzzxzxxxxxxxxzzzzxxxxxzzxzxzxxxxxzzzxzxxzzxxzzxxxzzzzxzzzzxzzxxxzxzzzzxzzzzxzzxzzxxxxzxxxxxzzzzzzzxzzxzzzzxzxzxxxzxxzxzzzzzzzxzzzzzxzzzxzxxxxzzzzzzzzxzxxzzzxxxxxxxzzxxxxzzzxxzxxzzxxxzxxzxzxzzxxxxzzxxzxzxzzxxxxxxxxzzxxzxzxxxzxzzzzxxxzzzzxzxxxzxzxxzxzzzzzxzxxzzzxxxxxxzxzzxxzzxxzzzzzzxxzzzxzzxzxzxxzxzzxzzzzzzxzxzxxzxxxzxzxzxxzxzxzzxxzzzxzxxzzxxzzxxxxxzxxzxxxxxzzzxxxxzxxzzzxzxzzxxxxxxzzzzzxxzxxzxzxxzxzzxzxxxzxzzzzzxxxzzzzxzzzxzxzzxxxxxxzxxzxzxzxxxxxzxzzxzzzxxzzzzxzxxxzxxzzxxzxzzzxxzxxxxxzxxxxzzzxzzzxxzxzxxxxzzzxxxzxxzxzxxzzzxzxxzxzzxxzxxxxxzzxxzxzxzxxzzxzxzzxzxxzzzzzxzxzxxzxxxxzzzxzzxzxxxxzzxzxxzxzzzxzzxxxzxxzxxxxxzxxzxzzzzzzxzzzxxxzxzzzzxxzxzzxxzzzxxzzzzzxzzxxxzxxzxxzxzzxxzxxzxxxzxxzxxzzxxzxxzzzxxzzzxzxzxzxzxxxzxxzxzxxxxzxzzzzxzzxxxzzxzxxzzzxx \n\nbob_bases   =  xzzzzzxzxxxxxzzzzzzxzzxzzzzxzzzxzxzxxzxxxzzxxzzzzxzxxxxzzzxxxzzzxxxxxzxxxxxzzzxxzxxzxxxxzzxzzxzxxzxzzxxzzxzzzzzzzxxzzzxxzzxxxxzzzzxxxxxzzzxzxxxxxzxzxxxxzxxzxzxzxzzxzzzzxzxzzzzxzzzzxzzzzzzzxzxzxzxzzxxzxxxxzxxxzxxzzxzzxxxxxzzxxxzxzzzxzzzxzxzxxxxxxzzzxzzzxzzzxzzxxxzxxzxxxzzzxxzxxxzxzxxzxxzzxxxzxzxxzzxxxxzxzzxxzxzxzzxxxxxzzzxzxxxxxzzxzxzxxxxxxxxxxxzzxxzzzzzxzxzzzzzzxzzzxxxzxxzxzzxzxxxzzxzxzzxxzxzzxzxzxxxxxzxzzzzxxxzzzxzzxzxzzxzxzzxxxxzxxzzzxzxzxzzzxzzzzxzxzzxzxxzzzzzzzzzzxzxzzzzxzzxxxxzxzxzxzzxzxxzxzzzxxxzzxzzxzxxzxxzxzxxxzzzzxxzzzzzzzxxzzzxxxzxxxzzxxxxxxzzxzxxxxzxzxxzxzzxzzzzzzzxzzxxxxzxxzxxzzxxzxxzzzxxzxzzzzxxxzxzxxxxzzzzzxzzxxxxzxzzzxxzxzxxxzxxzxxxzxxxxxxxxzzzxxzzxxxzzzzxxxzzxxzzxzxzxxxzzxxzxxxzzzxzxzxzzzxzzxzzxzzxxxxzxxxxxxxzzzxzxzzxzzzxzxxzxxxzxzzxxzzxzxzxzzxzzzxzxzzxzxxxzzzzxxxzzzzzzzzxzzxxzzzxxzzxxxzzxxxxxxxxxxzzxzxxxzzzzzxzzxxxxzzxzxzzzxzzxzzzxxxzzxxzzxzxzxxzxxzxzzxxzxzzzzxxzxzzxzzxxzxzxzxzxzxzzzzzzxzzzzxxzxzzxzxzzzxxxzxxzxzxxxxzzzxzzzzzzxxxzzxxzzzxxzxxxzxzxxzxxzxxxzzxxxxxxzzxxzxxxxxzzzxxzxxxzxzzxzzzxzxxzxzxzxzxzzzxxxxxxzxzxxzzzxxzzxxzzzxzxxxzxzzxzzxzxzxzzxxxzzxxxxzzxzxzxzzzxzzxxzzzxxxxxzzxzxzzxzzxxxxzxzxxzzzxxxzxxzxxzzzxxzxxzxzxxxxxxzzxzzzxzxxzzxzxxzzzxzzzxzzxzzxxxxxzzzzxxxzzzzxxxxzxxxxxxxzxzxxzxxzzzzzxxzzzxzxzzzzxxzxzxxxxzxxxxzzzxxzxxzxzxzxxxzxzzxzzzxzxzzzzzxxzxzzxzxxxxzxxzxzxxzxzzxxxxzxzzxzxxzxxzzzzxxzzxzzzxxxzxxzxzzzxzzzzxzxzxxxzxxxxzzzzxzzxxzzzxzzxzzxzzzxxzxzxzxxzzxxzzxzxzxxxxxzxzzxzxxxxxxzxzxzxzxzxzzxzzzzzxxxzzzxzzzzzzxxxxxxxxxxzxxxxzxzxxxzxzxxzxzzzzxzzzzxxxxzzzzzzz\n"
     ]
    }
   ],
   "source": [
    "print(\"alice_bases = \", alice_bases, \"\\n\")\n",
    "print(\"bob_bases   = \", bob_bases)"
   ]
  },
  {
   "cell_type": "markdown",
   "metadata": {},
   "source": [
    "### Now Alice and Bob can construct their key :\n",
    "They will keep only the bits corresponding to index where the bases were identical. \n"
   ]
  },
  {
   "cell_type": "code",
   "execution_count": 21,
   "metadata": {},
   "outputs": [
    {
     "output_type": "stream",
     "name": "stdout",
     "text": [
      "aliceKey: 101001110101000011111000101001010001010111100011100110011100000000010110000111111111000110100010110010111000101011101010100100101111101010100100010001110100001011100101110011000100010011110101110011111101110101100000010101010100010010101000101111110001111100001101011011011010010001110001111001100010100111110011101011000111110011010100000100110000000010000011001100111111101010010101100000111011010011110101110100000010111010001011110111010001100101010101111111110101101011100111000001000010100000100101101100011110001001000000101011000100100011111010000110001110001010100110110100101110111000011100100010101101001001010100010110101010110100110111011010100001110101110111111111010010101110000010001011100001101000100110110101001011000000110000111010010111110111010111000011100000010101000110100001100100101000111110100000001000000001011101101000110000010100001011001110000010001000100111100001011010111100101101111111000011000100000010110111111111111100111011000010011010011111000101101110011110001100101100111101111101100011111001110100111001101011000100100010010001001101000010010100011110111110101010011110010101110000111001010101110101011111100001100001001001100000101101101110100111011110110001101110011011110000010100001011011001100111110000001101110101111010100001101011111111100011001000111111001010111110000101000110000011001011010110001111010001100011110011001111111011110110011011000010101101000011011001001110101100010001010011001001011001001100100101011000000011111000000001010110110000\naliceBases: zzzzxzxzzxxxzxxzzxzxxxzzzzzzxxzxzxxzzzzxzxzzzxxxzxxzzxxxxxxxxzxzzzzxzzxzxxxzzzzxxxzzxxxzzzzzzxzxxxxxxxzxxxxxzzzxzzzzzzxxzzxxzxzxzzzxxzzzzzzxzxzxzzzzzzxzxxzzzxzzzxzxzzzxzxxxzxzxzzxxxzxzzxzxzzzzzzzzzzxzzxzxxxxzxzxxxzxxzzxxzxxzxzxzxxxzxxzxxxzxxxzxzzzxzxzxzxzxzzxxzxzzzxxxxxzzxzxxzxzzzxzxxxxzzxxzzzzzxzzxxxzzxxxzxzxxzzzzxzzxzxxzxzxzzxzxzzzxzzxzxzzzzzxxzzxzzzzxxzzzxzzzzzzxxxzzzxzzzzzzxxxxxzxzxxxzzzxzxzzxzxzzxzzxxzzzzzzzxzzxzxzxzxxzzxzzxxzxzzzzzxzzzxzxxzzxzxzxzxxzxxxxzxzxxzxzzzxxzzzzzzzzxzzzzzxxxxzxxxzzxxzzxxxxxxzzxzxzzzxzzzxxxzxzzxzxzxxxxzzzzzxzxxxxzxzzzxxzxxzzzxxzzzxzxzzxxzzzxxzzzzxxxzzzxxxxzxzzzzxzzxxxxzxxzzxxxzxzzxzxzzxzxxzxxzxxzxzzzxzxxzzxxzzzxzxzxxxzxzxxzxxzzxxxzxxzzxzzzxxzxzxzzzzxxxzzxxzzzxzzzzxzzzzzxxzxzzxzxzxxzzxzxzzxxzzxxzxxxzzxxzxzxzxzzzzzzxzxxxxxxxxzzzzxxxxxzzxzxzxxxxxzzzxzxxzzxxzzxxxzzzzxzzzzxzzxxxzxzzzzxzzzzxzzxzzxxxxzxxxxxzzzzzzzxzzxzzzzxzxzxxxzxxzxzzzzzzzxzzzzzxzzzxzxxxxzzzzzzzzxzxxzzzxxxxxxxzzxxxxzzzxxzxxzzxxxzxxzxzxzzxxxxzzxxzxzxzzxxxxxxxxzzxxzxzxxxzxzzzzxxxzzzzxzxxxzxzxxzxzzzzzxzxxzzzxxxxxxzxzzxxzzxxzzzzzzxxzzzxzzxzxzxxzxzzxzzzzzzxzxzxxzxxxzxzxzxxzxzxzzxxzzzxzxxzzxxzzxxxxxzxxzxxxxxzzzxxxxzxxzzzxzxzzxxxxxxzzzzzxxzxxzxzxxzxzzxzxxxzxzzzzzxxxzzzzxzzzxzxzzxxxxxxzxxzxzxzxxxxxzxzzxzzzxxzzzzxzxxxzxxzzxxzxzzzxxzxxxxxzxxxxzzzxzzzxxzxzxxxxzzzxxxzxxzxzxxzzzxzxxzxzzxxzxxxxxzzxxzxzxzxxzzxzxzzxzxxzzzzzxzxzxxzxxxxzzzxzzxzxxxxzzxzxxzxzzzxzzxxxzxxzxxxxxzxxzxzzzzzzxzzzxxxzxzzzzxxzxzzxxzzzxxzzzzzxzzxxxzxxzxxzxzzxxzxxzxxxzxxzxxzzxxzxxzzzxxzzzxzxzxzxzxxxzxxzxzxxxxzxzzzzxzzxxxzzxzxxzzzxx\nbobBases: xzzzzzxzxxxxxzzzzzzxzzxzzzzxzzzxzxzxxzxxxzzxxzzzzxzxxxxzzzxxxzzzxxxxxzxxxxxzzzxxzxxzxxxxzzxzzxzxxzxzzxxzzxzzzzzzzxxzzzxxzzxxxxzzzzxxxxxzzzxzxxxxxzxzxxxxzxxzxzxzxzzxzzzzxzxzzzzxzzzzxzzzzzzzxzxzxzxzzxxzxxxxzxxxzxxzzxzzxxxxxzzxxxzxzzzxzzzxzxzxxxxxxzzzxzzzxzzzxzzxxxzxxzxxxzzzxxzxxxzxzxxzxxzzxxxzxzxxzzxxxxzxzzxxzxzxzzxxxxxzzzxzxxxxxzzxzxzxxxxxxxxxxxzzxxzzzzzxzxzzzzzzxzzzxxxzxxzxzzxzxxxzzxzxzzxxzxzzxzxzxxxxxzxzzzzxxxzzzxzzxzxzzxzxzzxxxxzxxzzzxzxzxzzzxzzzzxzxzzxzxxzzzzzzzzzzxzxzzzzxzzxxxxzxzxzxzzxzxxzxzzzxxxzzxzzxzxxzxxzxzxxxzzzzxxzzzzzzzxxzzzxxxzxxxzzxxxxxxzzxzxxxxzxzxxzxzzxzzzzzzzxzzxxxxzxxzxxzzxxzxxzzzxxzxzzzzxxxzxzxxxxzzzzzxzzxxxxzxzzzxxzxzxxxzxxzxxxzxxxxxxxxzzzxxzzxxxzzzzxxxzzxxzzxzxzxxxzzxxzxxxzzzxzxzxzzzxzzxzzxzzxxxxzxxxxxxxzzzxzxzzxzzzxzxxzxxxzxzzxxzzxzxzxzzxzzzxzxzzxzxxxzzzzxxxzzzzzzzzxzzxxzzzxxzzxxxzzxxxxxxxxxxzzxzxxxzzzzzxzzxxxxzzxzxzzzxzzxzzzxxxzzxxzzxzxzxxzxxzxzzxxzxzzzzxxzxzzxzzxxzxzxzxzxzxzzzzzzxzzzzxxzxzzxzxzzzxxxzxxzxzxxxxzzzxzzzzzzxxxzzxxzzzxxzxxxzxzxxzxxzxxxzzxxxxxxzzxxzxxxxxzzzxxzxxxzxzzxzzzxzxxzxzxzxzxzzzxxxxxxzxzxxzzzxxzzxxzzzxzxxxzxzzxzzxzxzxzzxxxzzxxxxzzxzxzxzzzxzzxxzzzxxxxxzzxzxzzxzzxxxxzxzxxzzzxxxzxxzxxzzzxxzxxzxzxxxxxxzzxzzzxzxxzzxzxxzzzxzzzxzzxzzxxxxxzzzzxxxzzzzxxxxzxxxxxxxzxzxxzxxzzzzzxxzzzxzxzzzzxxzxzxxxxzxxxxzzzxxzxxzxzxzxxxzxzzxzzzxzxzzzzzxxzxzzxzxxxxzxxzxzxxzxzzxxxxzxzzxzxxzxxzzzzxxzzxzzzxxxzxxzxzzzxzzzzxzxzxxxzxxxxzzzzxzzxxzzzxzzxzzxzzzxxzxzxzxxzzxxzzxzxzxxxxxzxzzxzxxxxxxzxzxzxzxzxzzxzzzzzxxxzzzxzzzzzzxxxxxxxxxxzxxxxzxzxxxzxzxxzxzzzzxzzzzxxxxzzzzzzz\nbobBbits: 101001110101011010111000101011010010110111111001100000010100001001110111000111011111000110100010100110101000101010001010100100111111110010111100110000110100000011100100100111000111011010100101011011111101110111100101110101000001101101100000100101111000101110100101011010011010110001000001111001011010100111100001100011000011110000010100110100000100001010001011101110111111101110010100101000101001011011000110010001000110000110111101110111010111010001010101111111010001000001110110000001000000000000110000100001011110011001001010101111100100100011111010100011001110101010101100100100101010101000111100101001110100001001011000000010100000000100111101001010100101110100011110011111010000101100010010101100100100001001000110110001001011011111111000011011010111000100010101100011110001010101100110010000100101100010111110111100000100001000010101101000010000010100011001001100000010000000100011100001001000110000000110011110000110111000000010110100111110000110111011100011000110110011001110101110010110001001111100101100111100000011011001100110111100101011100000100010000001000111000010110010011110111101101010011100010011110000111111100101100100001010111011100001001001101010001101111101111111010100110101001110011011000100010100001111011011011111110100001101110100101000100001101011111011100011011000111001001010001100000111000100000111011011010000001011000000100011000011011011101010100100100011000111011100010001011001101011011101000001010011001001001000011001100110011001100111110000000000111100010011\n747\nkey=  010111101011101010100111100000000111000111111000100001010001011010101001011111010101011001001001000101011111011111101010100001011101001010101101001001110100100111010111001000000100011011011110110101011101101100011011101101100100101111110000110110000000010100010000000110100111100101110101101001001110001100011101010001000000111010100011001111100001100001001000010001011000011011000110011101011010001010101100010010011100001110010001001010010010000001000101001100111100100001011111101101000101010110110011000111001011000110101100010000011000101101111010111010110010100011100100101100001101111110101101101100010100111110110011011001010000101011111110000001101011000110000010111000110000101110111101000100010101101011100011110110000100110001100001100\n"
     ]
    }
   ],
   "source": [
    "# conserver les bits de la clef d'Alice (ou de ceux qu'a lu Bob) si et seulement si la base choisie\n",
    "# par Alice et la base choisie par Bob étaient les mêmes \n",
    "key = \"\"\n",
    "# START : write your code here \n",
    "for qubit_index in range(len(bob_bases)):\n",
    "    if alice_bases[qubit_index] == bob_bases[qubit_index]:\n",
    "            key = key + bob_bits[qubit_index]\n",
    "    else:\n",
    "        continue\n",
    "    \n",
    "# END ------------------------ \n",
    "\n",
    "print(\"aliceKey:\", alice_key)\n",
    "print(\"aliceBases:\", alice_bases)\n",
    "print(\"bobBases:\", bob_bases)\n",
    "print(\"bobBbits:\", bob_bits)\n",
    "\n",
    "print(len(key))\n",
    "print(\"key= \", key)"
   ]
  },
  {
   "cell_type": "markdown",
   "metadata": {},
   "source": [
    "### Now Alice can use the key to encode her message : \n",
    "\n",
    "execute the following cell"
   ]
  },
  {
   "cell_type": "code",
   "execution_count": 22,
   "metadata": {},
   "outputs": [
    {
     "output_type": "stream",
     "name": "stdout",
     "text": [
      "100001111001011110010010001001010110011100101011111010011011101000011101001010001100110100101111010011111011001001110011000101101001111000001011111111101110111100000010100100011110101111111000111110010001001001110001111001000001000111010101100101000110100110100010100000000001110110100111011010011101001010001111100101110110101110010111100100110101010111100011001001101101001001110010110001110000111001110111010100110001010101010\n429\n"
     ]
    }
   ],
   "source": [
    "mess = BB84HO.code(BB84HO.alice_message_clair, key)\n",
    "\n",
    "print(mess)\n",
    "print(len(mess))"
   ]
  },
  {
   "cell_type": "markdown",
   "metadata": {},
   "source": [
    "### Function to decode the message using the key: "
   ]
  },
  {
   "cell_type": "code",
   "execution_count": 23,
   "metadata": {},
   "outputs": [
    {
     "output_type": "stream",
     "name": "stdout",
     "text": [
      "429\nclair   : 110110010010110100110101101001010001011011010011011011001010110010110100010101011001101101100110010110100100010110011001100100110100110010100110110110011010011011010101101100011010110100100110001011001100100101101010010100100101101000100101010011000110110010110010100110100110010011010010110011010011000110010010110100110110010100110100101011010100110110101011011000110101010010110100101100101010110011011011000110101101011011\n"
     ]
    }
   ],
   "source": [
    "# this is Alice message : print(\"message :\", mess)\n",
    "print(len(mess))\n",
    "\n",
    "# here we decode Alice message, using our key\n",
    "def decode(message,clef):\n",
    "    # premierement vérifier que la clef est assez longue (> message length)\n",
    "    # sinon presentez un message, il faut recommencer\n",
    "    \n",
    "    # START : write your code here \n",
    "    \n",
    "    return BB84HO.code(mess,key)\n",
    "   \n",
    "    \n",
    "    \n",
    "    # END ------------------------ \n",
    "\n",
    "    \n",
    "clair = decode(mess,key)\n",
    "clair = clair.rstrip(\"0\")\n",
    "print(\"clair   :\" ,clair)"
   ]
  },
  {
   "cell_type": "markdown",
   "metadata": {},
   "source": [
    "Message is in morse code :\n",
    "\n",
    "- point : '1' (\"ti\")\n",
    "- dash : '11' (\"ta\")\n",
    "- separator : '0'\n",
    "- letter separator :  '00'\n",
    "- word separator: '000'.\n",
    "\n",
    "For example :\n",
    "<img src=\"./images/qiskit_morse.png\" alt=\"drawing\" width=\"500\"/>"
   ]
  },
  {
   "cell_type": "markdown",
   "metadata": {},
   "source": [
    "### Try and decode Alice message  !\n",
    "\n",
    "One usefull Python method can be \"split()\" : `string.split(separator, maxsplit)`\n",
    "\n",
    "You may \"split\" the string into a word list `texte.split(\"000\")`, then split words into letters with `mot.split(\"00\")`, finally split letters into signs (\"ti\" and \"ta\"), then pick up each letter from the provided dictionnary to display the message. "
   ]
  },
  {
   "cell_type": "code",
   "execution_count": 24,
   "metadata": {},
   "outputs": [
    {
     "output_type": "stream",
     "name": "stdout",
     "text": [
      "merci pour votre attention, cet atelier est maintenant terminé, bravo ! \n"
     ]
    }
   ],
   "source": [
    "M = { '.-':'a', '-...':'b', '-.-.':'c', '-..':'d', '.':'e', '..-.':'f', '--.':'g', \n",
    "     '....':'h', '..':'i', '.---':'j', '-.-':'k', '.-..':'l', '--':'m', '-.':'n',\n",
    "     '---':'o', '.--.':'p', '--.-':'q', '.-.':'r', '...':'s', '-':'t', '..-':'u',\n",
    "     '...-':'v', '.--':'w', '-..-':'x', '-.--':'y', '--..':'z', '.----':'1', \n",
    "     '..---':'2', '...--':'3', '....-':'4', '.....':'5', '-....':'6', '--...':'7',\n",
    "     '---..':'8', '----.':'9', '-----':'0', '--..--':',', '.-.-.-':'.', '..--..':'?',\n",
    "     '-..-.':'/', '-....-':'-', '--..--':',', '---...':':', '-.--.':'(', '-.--.-':')',\n",
    "     '..-..':'é','.--.-':'à', '-.-.--':'!'} \n",
    "\n",
    "# ecrivez une focntion qui rend lisible le code morse de \"clair\"\n",
    "\n",
    "# START : write your code here \n",
    "final = ''\n",
    "for mot in clair.split(\"000\"):\n",
    "    new_word = []\n",
    "    for letter in mot.split('00'):\n",
    "        new_letter = []\n",
    "        for letter_bis in letter.split('0'):\n",
    "            if letter_bis == '11':\n",
    "                new_letter.append('-')\n",
    "            else:\n",
    "                new_letter.append('.')\n",
    "                       \n",
    "        new_word.append(M[\"\".join(new_letter)])\n",
    "        \n",
    "    final += ''.join(new_word) + ' '\n",
    "    \n",
    "print(final)\n",
    "         \n",
    "\n",
    "# END ------------------------ "
   ]
  },
  {
   "cell_type": "markdown",
   "metadata": {},
   "source": [
    "## 3.2 : Challenge 2 Quantum Teleportation\n",
    "\n",
    "\n",
    "<img src=\"./images/lab-header.png\" alt=\"drawing\" width=\"800\"/>"
   ]
  },
  {
   "cell_type": "markdown",
   "metadata": {},
   "source": [
    "\n",
    "### You may review Telportation.pdf in the repo\n",
    "\n",
    "\n",
    "In this exercise, you will teleport the quantum state \n",
    "$$\\sqrt{0.70}\\vert0\\rangle + \\sqrt{0.30}\\vert1\\rangle$$ from Alice's qubit to Bob's qubit. Recall that the teleportation algorithm consists of four major components:\n",
    "\n",
    "1. Initializing the state to be teleported. We will do this on Alice's qubit `q0`.\n",
    "2. Creating entanglement between two qubits. We will use qubits `q1` and `q2` for this. Recall that Alice owns `q1`, and Bob owns `q2`.\n",
    "3. Applying a Bell measurement on Alice's qubits `q0` and `q1`.\n",
    "4. Applying classically controlled operations on Bob's qubit `q2` depending on the outcomes of the Bell measurement on Alice's qubits.\n",
    "\n",
    "This exercise guides you through each of these steps."
   ]
  },
  {
   "cell_type": "markdown",
   "metadata": {},
   "source": [
    "### Initializing the state to be teleported"
   ]
  },
  {
   "cell_type": "markdown",
   "metadata": {},
   "source": [
    "First, create a quantum circuit that creates the state $$\\sqrt{0.70}\\vert0\\rangle + \\sqrt{0.30}\\vert1\\rangle$$ You can do this by using `Qiskit`'s `initialize` function (`quantum_circuit.initialize(state_as_a_list_of_2_complex,qubit`)"
   ]
  },
  {
   "cell_type": "code",
   "execution_count": 25,
   "metadata": {},
   "outputs": [],
   "source": [
    "def initialize_qubit(given_circuit, qubit_index):\n",
    "    \n",
    "    import numpy as np\n",
    "    ### WRITE YOUR CODE BETWEEN THESE LINES - START\n",
    "    given_circuit.initialize([np.sqrt(0.7), np.sqrt(0.3)], qubit_index)    \n",
    "    ### WRITE YOUR CODE BETWEEN THESE LINES - END\n",
    "    \n",
    "    return given_circuit"
   ]
  },
  {
   "cell_type": "markdown",
   "metadata": {},
   "source": [
    "Next, we need to create entanglement between Alice's and Bob's qubits."
   ]
  },
  {
   "cell_type": "code",
   "execution_count": 26,
   "metadata": {},
   "outputs": [],
   "source": [
    "def entangle_qubits(given_circuit, qubit_Alice, qubit_Bob):\n",
    "    \n",
    "    ### WRITE YOUR CODE BETWEEN THESE LINES - START\n",
    "    given_circuit.h(qubit_Alice)\n",
    "    given_circuit.cx(qubit_Alice, qubit_Bob)\n",
    "    ### WRITE YOUR CODE BETWEEN THESE LINES - END\n",
    "    \n",
    "    return given_circuit"
   ]
  },
  {
   "cell_type": "markdown",
   "metadata": {},
   "source": [
    "Next, we need to do a Bell measurement of Alice's qubits."
   ]
  },
  {
   "cell_type": "code",
   "execution_count": 27,
   "metadata": {},
   "outputs": [],
   "source": [
    "def bell_meas_Alice_qubits(given_circuit, qubit1_Alice, qubit2_Alice, clbit1_Alice, clbit2_Alice):\n",
    "    \n",
    "    ### WRITE YOUR CODE BETWEEN THESE LINES - START\n",
    "    given_circuit.cx(qubit1_Alice, qubit2_Alice)\n",
    "    given_circuit.h(qubit1_Alice)\n",
    "    given_circuit.measure(qubit1_Alice, clbit1_Alice)\n",
    "    given_circuit.measure(qubit2_Alice, clbit2_Alice)\n",
    "    ### WRITE YOUR CODE BETWEEN THESE LINES - END\n",
    "\n",
    "    return given_circuit"
   ]
  },
  {
   "cell_type": "markdown",
   "metadata": {},
   "source": [
    "Finally, we apply controlled operations on Bob's qubit. Recall that the controlled operations are applied in this order:\n",
    "\n",
    "- an $X$ gate is applied on Bob's qubit if the measurement coutcome of Alice's second qubit, `clbit2_Alice`, is `1`.\n",
    "- a $Z$ gate is applied on Bob's qubit if the measurement coutcome of Alice's first qubit, `clbit1_Alice`, is `1`.\n",
    "\n",
    "- use `c_if` qiskit instruction : `given_circuit.gate(qubit).c_if(cbit,1)`"
   ]
  },
  {
   "cell_type": "code",
   "execution_count": 28,
   "metadata": {},
   "outputs": [],
   "source": [
    "def controlled_ops_Bob_qubit(given_circuit, qubit_Bob, clbit1_Alice, clbit2_Alice):\n",
    "    \n",
    "    ### WRITE YOUR CODE BETWEEN THESE LINES - START\n",
    "    given_circuit.x(qubit_Bob).c_if(clbit2_Alice, 1)\n",
    "    given_circuit.z(qubit_Bob).c_if(clbit1_Alice, 1)\n",
    "    ### WRITE YOUR CODE BETWEEN THESE LINES - END\n",
    "    \n",
    "    return given_circuit"
   ]
  },
  {
   "cell_type": "markdown",
   "metadata": {},
   "source": [
    "The next lines of code put everything together. **You do not need to modify anything below, but you will need to run the cell.**"
   ]
  },
  {
   "cell_type": "code",
   "execution_count": 29,
   "metadata": {},
   "outputs": [
    {
     "output_type": "execute_result",
     "data": {
      "text/plain": [
       "<Figure size 861.647x385.28 with 1 Axes>"
      ],
      "image/svg+xml": "<?xml version=\"1.0\" encoding=\"utf-8\" standalone=\"no\"?>\n<!DOCTYPE svg PUBLIC \"-//W3C//DTD SVG 1.1//EN\"\n  \"http://www.w3.org/Graphics/SVG/1.1/DTD/svg11.dtd\">\n<!-- Created with matplotlib (https://matplotlib.org/) -->\n<svg height=\"305.2864pt\" version=\"1.1\" viewBox=\"0 0 664.943345 305.2864\" width=\"664.943345pt\" xmlns=\"http://www.w3.org/2000/svg\" xmlns:xlink=\"http://www.w3.org/1999/xlink\">\n <metadata>\n  <rdf:RDF xmlns:cc=\"http://creativecommons.org/ns#\" xmlns:dc=\"http://purl.org/dc/elements/1.1/\" xmlns:rdf=\"http://www.w3.org/1999/02/22-rdf-syntax-ns#\">\n   <cc:Work>\n    <dc:type rdf:resource=\"http://purl.org/dc/dcmitype/StillImage\"/>\n    <dc:date>2021-03-14T00:16:02.357033</dc:date>\n    <dc:format>image/svg+xml</dc:format>\n    <dc:creator>\n     <cc:Agent>\n      <dc:title>Matplotlib v3.3.4, https://matplotlib.org/</dc:title>\n     </cc:Agent>\n    </dc:creator>\n   </cc:Work>\n  </rdf:RDF>\n </metadata>\n <defs>\n  <style type=\"text/css\">*{stroke-linecap:butt;stroke-linejoin:round;}</style>\n </defs>\n <g id=\"figure_1\">\n  <g id=\"patch_1\">\n   <path d=\"M -0 305.2864 \nL 664.943345 305.2864 \nL 664.943345 0 \nL -0 0 \nz\n\" style=\"fill:#ffffff;\"/>\n  </g>\n  <g id=\"axes_1\">\n   <g id=\"patch_2\">\n    <path clip-path=\"url(#p21c60d127b)\" d=\"M 440.033055 215.024697 \nL 451.850315 215.024697 \nL 445.941685 223.54676 \nz\n\" style=\"fill:#778899;\"/>\n   </g>\n   <g id=\"patch_3\">\n    <path clip-path=\"url(#p21c60d127b)\" d=\"M 485.484055 169.573697 \nL 497.301315 169.573697 \nL 491.392685 178.09576 \nz\n\" style=\"fill:#778899;\"/>\n   </g>\n   <g id=\"line2d_1\">\n    <path clip-path=\"url(#p21c60d127b)\" d=\"M 103.241145 43.5608 \nL 653.198245 43.5608 \n\" style=\"fill:none;stroke:#000000;stroke-linecap:square;stroke-width:2;\"/>\n   </g>\n   <g id=\"line2d_2\">\n    <path clip-path=\"url(#p21c60d127b)\" d=\"M 103.241145 89.0118 \nL 653.198245 89.0118 \n\" style=\"fill:none;stroke:#000000;stroke-linecap:square;stroke-width:2;\"/>\n   </g>\n   <g id=\"line2d_3\">\n    <path clip-path=\"url(#p21c60d127b)\" d=\"M 103.241145 134.4628 \nL 653.198245 134.4628 \n\" style=\"fill:none;stroke:#000000;stroke-linecap:square;stroke-width:2;\"/>\n   </g>\n   <g id=\"line2d_4\">\n    <path clip-path=\"url(#p21c60d127b)\" d=\"M 103.241145 178.436642 \nL 653.198245 178.436642 \n\" style=\"fill:none;stroke:#778899;stroke-linecap:square;stroke-width:2;\"/>\n   </g>\n   <g id=\"line2d_5\">\n    <path clip-path=\"url(#p21c60d127b)\" d=\"M 103.241145 181.390957 \nL 653.198245 181.390957 \n\" style=\"fill:none;stroke:#778899;stroke-linecap:square;stroke-width:2;\"/>\n   </g>\n   <g id=\"line2d_6\">\n    <path clip-path=\"url(#p21c60d127b)\" d=\"M 103.241145 223.887642 \nL 653.198245 223.887642 \n\" style=\"fill:none;stroke:#778899;stroke-linecap:square;stroke-width:2;\"/>\n   </g>\n   <g id=\"line2d_7\">\n    <path clip-path=\"url(#p21c60d127b)\" d=\"M 103.241145 226.841957 \nL 653.198245 226.841957 \n\" style=\"fill:none;stroke:#778899;stroke-linecap:square;stroke-width:2;\"/>\n   </g>\n   <g id=\"line2d_8\">\n    <path clip-path=\"url(#p21c60d127b)\" d=\"M 103.241145 269.338642 \nL 653.198245 269.338642 \n\" style=\"fill:none;stroke:#778899;stroke-linecap:square;stroke-width:2;\"/>\n   </g>\n   <g id=\"line2d_9\">\n    <path clip-path=\"url(#p21c60d127b)\" d=\"M 103.241145 272.292957 \nL 653.198245 272.292957 \n\" style=\"fill:none;stroke:#778899;stroke-linecap:square;stroke-width:2;\"/>\n   </g>\n   <g id=\"patch_4\">\n    <path clip-path=\"url(#p21c60d127b)\" d=\"M 209.82374 66.2863 \nL 227.54963 66.2863 \nL 227.54963 20.8353 \nL 209.82374 20.8353 \nz\n\" style=\"fill:#bdbdbd;opacity:0.6;\"/>\n   </g>\n   <g id=\"patch_5\">\n    <path clip-path=\"url(#p21c60d127b)\" d=\"M 209.82374 111.7373 \nL 227.54963 111.7373 \nL 227.54963 66.2863 \nL 209.82374 66.2863 \nz\n\" style=\"fill:#bdbdbd;opacity:0.6;\"/>\n   </g>\n   <g id=\"patch_6\">\n    <path clip-path=\"url(#p21c60d127b)\" d=\"M 209.82374 157.1883 \nL 227.54963 157.1883 \nL 227.54963 111.7373 \nL 209.82374 111.7373 \nz\n\" style=\"fill:#bdbdbd;opacity:0.6;\"/>\n   </g>\n   <g id=\"patch_7\">\n    <path clip-path=\"url(#p21c60d127b)\" d=\"M 346.17674 66.2863 \nL 363.90263 66.2863 \nL 363.90263 20.8353 \nL 346.17674 20.8353 \nz\n\" style=\"fill:#bdbdbd;opacity:0.6;\"/>\n   </g>\n   <g id=\"patch_8\">\n    <path clip-path=\"url(#p21c60d127b)\" d=\"M 346.17674 111.7373 \nL 363.90263 111.7373 \nL 363.90263 66.2863 \nL 346.17674 66.2863 \nz\n\" style=\"fill:#bdbdbd;opacity:0.6;\"/>\n   </g>\n   <g id=\"patch_9\">\n    <path clip-path=\"url(#p21c60d127b)\" d=\"M 346.17674 157.1883 \nL 363.90263 157.1883 \nL 363.90263 111.7373 \nL 346.17674 111.7373 \nz\n\" style=\"fill:#bdbdbd;opacity:0.6;\"/>\n   </g>\n   <g id=\"patch_10\">\n    <path clip-path=\"url(#p21c60d127b)\" d=\"M 527.98074 66.2863 \nL 545.70663 66.2863 \nL 545.70663 20.8353 \nL 527.98074 20.8353 \nz\n\" style=\"fill:#bdbdbd;opacity:0.6;\"/>\n   </g>\n   <g id=\"patch_11\">\n    <path clip-path=\"url(#p21c60d127b)\" d=\"M 527.98074 111.7373 \nL 545.70663 111.7373 \nL 545.70663 66.2863 \nL 527.98074 66.2863 \nz\n\" style=\"fill:#bdbdbd;opacity:0.6;\"/>\n   </g>\n   <g id=\"patch_12\">\n    <path clip-path=\"url(#p21c60d127b)\" d=\"M 527.98074 157.1883 \nL 545.70663 157.1883 \nL 545.70663 111.7373 \nL 527.98074 111.7373 \nz\n\" style=\"fill:#bdbdbd;opacity:0.6;\"/>\n   </g>\n   <g id=\"line2d_10\">\n    <path clip-path=\"url(#p21c60d127b)\" d=\"M 309.588685 134.4628 \nL 309.588685 89.0118 \n\" style=\"fill:none;stroke:#6fa4ff;stroke-linecap:square;stroke-width:2;\"/>\n   </g>\n   <g id=\"line2d_11\">\n    <path clip-path=\"url(#p21c60d127b)\" d=\"M 400.490685 89.0118 \nL 400.490685 43.5608 \n\" style=\"fill:none;stroke:#6fa4ff;stroke-linecap:square;stroke-width:2;\"/>\n   </g>\n   <g id=\"line2d_12\">\n    <path clip-path=\"url(#p21c60d127b)\" d=\"M 447.418842 89.0118 \nL 447.418842 215.024697 \n\" style=\"fill:none;stroke:#778899;stroke-linecap:square;stroke-width:2;\"/>\n   </g>\n   <g id=\"line2d_13\">\n    <path clip-path=\"url(#p21c60d127b)\" d=\"M 444.464527 89.0118 \nL 444.464527 215.024697 \n\" style=\"fill:none;stroke:#778899;stroke-linecap:square;stroke-width:2;\"/>\n   </g>\n   <g id=\"line2d_14\">\n    <path clip-path=\"url(#p21c60d127b)\" d=\"M 492.869842 43.5608 \nL 492.869842 169.573697 \n\" style=\"fill:none;stroke:#778899;stroke-linecap:square;stroke-width:2;\"/>\n   </g>\n   <g id=\"line2d_15\">\n    <path clip-path=\"url(#p21c60d127b)\" d=\"M 489.915527 43.5608 \nL 489.915527 169.573697 \n\" style=\"fill:none;stroke:#778899;stroke-linecap:square;stroke-width:2;\"/>\n   </g>\n   <g id=\"line2d_16\">\n    <path clip-path=\"url(#p21c60d127b)\" d=\"M 583.771842 134.4628 \nL 583.771842 225.3648 \n\" style=\"fill:none;stroke:#778899;stroke-linecap:square;stroke-width:2;\"/>\n   </g>\n   <g id=\"line2d_17\">\n    <path clip-path=\"url(#p21c60d127b)\" d=\"M 580.817527 134.4628 \nL 580.817527 225.3648 \n\" style=\"fill:none;stroke:#778899;stroke-linecap:square;stroke-width:2;\"/>\n   </g>\n   <g id=\"line2d_18\">\n    <path clip-path=\"url(#p21c60d127b)\" d=\"M 629.222842 134.4628 \nL 629.222842 179.9138 \n\" style=\"fill:none;stroke:#778899;stroke-linecap:square;stroke-width:2;\"/>\n   </g>\n   <g id=\"line2d_19\">\n    <path clip-path=\"url(#p21c60d127b)\" d=\"M 626.268527 134.4628 \nL 626.268527 179.9138 \n\" style=\"fill:none;stroke:#778899;stroke-linecap:square;stroke-width:2;\"/>\n   </g>\n   <g id=\"patch_13\">\n    <path clip-path=\"url(#p21c60d127b)\" d=\"M 120.346628 58.332375 \nL 180.673741 58.332375 \nL 180.673741 28.789225 \nL 120.346628 28.789225 \nz\n\" style=\"fill:#bb8bff;stroke:#bb8bff;stroke-linejoin:miter;stroke-width:1.5;\"/>\n   </g>\n   <g id=\"patch_14\">\n    <path clip-path=\"url(#p21c60d127b)\" d=\"M 249.36611 103.783375 \nL 278.90926 103.783375 \nL 278.90926 74.240225 \nL 249.36611 74.240225 \nz\n\" style=\"fill:#6fa4ff;stroke:#6fa4ff;stroke-linejoin:miter;stroke-width:1.5;\"/>\n   </g>\n   <g id=\"patch_15\">\n    <path clip-path=\"url(#p21c60d127b)\" d=\"M 309.588685 93.443272 \nC 310.763925 93.443272 311.891188 92.976345 312.722209 92.145324 \nC 313.553229 91.314304 314.020157 90.18704 314.020157 89.0118 \nC 314.020157 87.83656 313.553229 86.709296 312.722209 85.878276 \nC 311.891188 85.047255 310.763925 84.580327 309.588685 84.580327 \nC 308.413444 84.580327 307.286181 85.047255 306.45516 85.878276 \nC 305.62414 86.709296 305.157212 87.83656 305.157212 89.0118 \nC 305.157212 90.18704 305.62414 91.314304 306.45516 92.145324 \nC 307.286181 92.976345 308.413444 93.443272 309.588685 93.443272 \nz\n\" style=\"fill:#6fa4ff;stroke:#6fa4ff;stroke-linejoin:miter;stroke-width:1.5;\"/>\n   </g>\n   <g id=\"patch_16\">\n    <path clip-path=\"url(#p21c60d127b)\" d=\"M 309.588685 144.802902 \nC 312.330912 144.802902 314.961194 143.713404 316.900241 141.774357 \nC 318.839289 139.835309 319.928787 137.205027 319.928787 134.4628 \nC 319.928787 131.720573 318.839289 129.090291 316.900241 127.151243 \nC 314.961194 125.212196 312.330912 124.122697 309.588685 124.122697 \nC 306.846457 124.122697 304.216175 125.212196 302.277128 127.151243 \nC 300.33808 129.090291 299.248582 131.720573 299.248582 134.4628 \nC 299.248582 137.205027 300.33808 139.835309 302.277128 141.774357 \nC 304.216175 143.713404 306.846457 144.802902 309.588685 144.802902 \nz\n\" style=\"fill:#6fa4ff;stroke:#6fa4ff;stroke-linejoin:miter;stroke-width:2;\"/>\n   </g>\n   <g id=\"patch_17\">\n    <path clip-path=\"url(#p21c60d127b)\" d=\"M 400.490685 47.992272 \nC 401.665925 47.992272 402.793188 47.525345 403.624209 46.694324 \nC 404.455229 45.863304 404.922157 44.73604 404.922157 43.5608 \nC 404.922157 42.38556 404.455229 41.258296 403.624209 40.427276 \nC 402.793188 39.596255 401.665925 39.129327 400.490685 39.129327 \nC 399.315444 39.129327 398.188181 39.596255 397.35716 40.427276 \nC 396.52614 41.258296 396.059212 42.38556 396.059212 43.5608 \nC 396.059212 44.73604 396.52614 45.863304 397.35716 46.694324 \nC 398.188181 47.525345 399.315444 47.992272 400.490685 47.992272 \nz\n\" style=\"fill:#6fa4ff;stroke:#6fa4ff;stroke-linejoin:miter;stroke-width:1.5;\"/>\n   </g>\n   <g id=\"patch_18\">\n    <path clip-path=\"url(#p21c60d127b)\" d=\"M 400.490685 99.351902 \nC 403.232912 99.351902 405.863194 98.262404 407.802241 96.323357 \nC 409.741289 94.384309 410.830787 91.754027 410.830787 89.0118 \nC 410.830787 86.269573 409.741289 83.639291 407.802241 81.700243 \nC 405.863194 79.761196 403.232912 78.671697 400.490685 78.671697 \nC 397.748457 78.671697 395.118175 79.761196 393.179128 81.700243 \nC 391.24008 83.639291 390.150582 86.269573 390.150582 89.0118 \nC 390.150582 91.754027 391.24008 94.384309 393.179128 96.323357 \nC 395.118175 98.262404 397.748457 99.351902 400.490685 99.351902 \nz\n\" style=\"fill:#6fa4ff;stroke:#6fa4ff;stroke-linejoin:miter;stroke-width:2;\"/>\n   </g>\n   <g id=\"patch_19\">\n    <path clip-path=\"url(#p21c60d127b)\" d=\"M 431.17011 58.332375 \nL 460.71326 58.332375 \nL 460.71326 28.789225 \nL 431.17011 28.789225 \nz\n\" style=\"fill:#6fa4ff;stroke:#6fa4ff;stroke-linejoin:miter;stroke-width:1.5;\"/>\n   </g>\n   <g id=\"patch_20\">\n    <path clip-path=\"url(#p21c60d127b)\" d=\"M 431.17011 103.783375 \nL 460.71326 103.783375 \nL 460.71326 74.240225 \nL 431.17011 74.240225 \nz\n\" style=\"stroke:#000000;stroke-linejoin:miter;stroke-width:1.5;\"/>\n   </g>\n   <g id=\"patch_21\">\n    <path clip-path=\"url(#p21c60d127b)\" d=\"M 456.281787 93.443272 \nC 456.281787 90.701959 455.191643 88.070118 453.253241 86.131716 \nC 451.314839 84.193314 448.682999 83.10317 445.941685 83.10317 \nC 443.200371 83.10317 440.56853 84.193314 438.630128 86.131716 \nC 436.691726 88.070118 435.601582 90.701959 435.601582 93.443272 \n\" style=\"fill:none;stroke:#ffffff;stroke-linejoin:miter;stroke-width:2;\"/>\n   </g>\n   <g id=\"patch_22\">\n    <path clip-path=\"url(#p21c60d127b)\" d=\"M 476.62111 58.332375 \nL 506.16426 58.332375 \nL 506.16426 28.789225 \nL 476.62111 28.789225 \nz\n\" style=\"stroke:#000000;stroke-linejoin:miter;stroke-width:1.5;\"/>\n   </g>\n   <g id=\"patch_23\">\n    <path clip-path=\"url(#p21c60d127b)\" d=\"M 501.732787 47.992272 \nC 501.732787 45.250959 500.642643 42.619118 498.704241 40.680716 \nC 496.765839 38.742314 494.133999 37.65217 491.392685 37.65217 \nC 488.651371 37.65217 486.01953 38.742314 484.081128 40.680716 \nC 482.142726 42.619118 481.052582 45.250959 481.052582 47.992272 \n\" style=\"fill:none;stroke:#ffffff;stroke-linejoin:miter;stroke-width:2;\"/>\n   </g>\n   <g id=\"patch_24\">\n    <path clip-path=\"url(#p21c60d127b)\" d=\"M 582.294685 229.796272 \nC 583.469925 229.796272 584.597188 229.329345 585.428209 228.498324 \nC 586.259229 227.667304 586.726157 226.54004 586.726157 225.3648 \nC 586.726157 224.18956 586.259229 223.062296 585.428209 222.231276 \nC 584.597188 221.400255 583.469925 220.933327 582.294685 220.933327 \nC 581.119444 220.933327 579.992181 221.400255 579.16116 222.231276 \nC 578.33014 223.062296 577.863212 224.18956 577.863212 225.3648 \nC 577.863212 226.54004 578.33014 227.667304 579.16116 228.498324 \nC 579.992181 229.329345 581.119444 229.796272 582.294685 229.796272 \nz\n\" style=\"stroke:#000000;stroke-linejoin:miter;stroke-width:1.5;\"/>\n   </g>\n   <g id=\"patch_25\">\n    <path clip-path=\"url(#p21c60d127b)\" d=\"M 567.52311 149.234375 \nL 597.06626 149.234375 \nL 597.06626 119.691225 \nL 567.52311 119.691225 \nz\n\" style=\"fill:#05bab6;stroke:#05bab6;stroke-linejoin:miter;stroke-width:1.5;\"/>\n   </g>\n   <g id=\"patch_26\">\n    <path clip-path=\"url(#p21c60d127b)\" d=\"M 627.745685 184.345272 \nC 628.920925 184.345272 630.048188 183.878345 630.879209 183.047324 \nC 631.710229 182.216304 632.177157 181.08904 632.177157 179.9138 \nC 632.177157 178.73856 631.710229 177.611296 630.879209 176.780276 \nC 630.048188 175.949255 628.920925 175.482327 627.745685 175.482327 \nC 626.570444 175.482327 625.443181 175.949255 624.61216 176.780276 \nC 623.78114 177.611296 623.314212 178.73856 623.314212 179.9138 \nC 623.314212 181.08904 623.78114 182.216304 624.61216 183.047324 \nC 625.443181 183.878345 626.570444 184.345272 627.745685 184.345272 \nz\n\" style=\"stroke:#000000;stroke-linejoin:miter;stroke-width:1.5;\"/>\n   </g>\n   <g id=\"patch_27\">\n    <path clip-path=\"url(#p21c60d127b)\" d=\"M 612.97411 149.234375 \nL 642.51726 149.234375 \nL 642.51726 119.691225 \nL 612.97411 119.691225 \nz\n\" style=\"fill:#05bab6;stroke:#05bab6;stroke-linejoin:miter;stroke-width:1.5;\"/>\n   </g>\n   <g id=\"line2d_20\">\n    <path clip-path=\"url(#p21c60d127b)\" d=\"M 445.941685 93.443272 \nL 456.281787 83.10317 \n\" style=\"fill:none;stroke:#ffffff;stroke-linecap:square;stroke-width:2;\"/>\n   </g>\n   <g id=\"line2d_21\">\n    <path clip-path=\"url(#p21c60d127b)\" d=\"M 491.392685 47.992272 \nL 501.732787 37.65217 \n\" style=\"fill:none;stroke:#ffffff;stroke-linecap:square;stroke-width:2;\"/>\n   </g>\n   <g id=\"line2d_22\">\n    <path clip-path=\"url(#p21c60d127b)\" d=\"M 218.686685 20.8353 \nL 218.686685 66.2863 \n\" style=\"fill:none;stroke:#000000;stroke-dasharray:3.7,1.6;stroke-dashoffset:0;\"/>\n   </g>\n   <g id=\"line2d_23\">\n    <path clip-path=\"url(#p21c60d127b)\" d=\"M 218.686685 66.2863 \nL 218.686685 111.7373 \n\" style=\"fill:none;stroke:#000000;stroke-dasharray:3.7,1.6;stroke-dashoffset:0;\"/>\n   </g>\n   <g id=\"line2d_24\">\n    <path clip-path=\"url(#p21c60d127b)\" d=\"M 218.686685 111.7373 \nL 218.686685 157.1883 \n\" style=\"fill:none;stroke:#000000;stroke-dasharray:3.7,1.6;stroke-dashoffset:0;\"/>\n   </g>\n   <g id=\"line2d_25\">\n    <path clip-path=\"url(#p21c60d127b)\" d=\"M 309.588685 140.37143 \nL 309.588685 128.55417 \n\" style=\"fill:none;stroke:#ffffff;stroke-linecap:square;stroke-width:2;\"/>\n   </g>\n   <g id=\"line2d_26\">\n    <path clip-path=\"url(#p21c60d127b)\" d=\"M 303.680055 134.4628 \nL 315.497315 134.4628 \n\" style=\"fill:none;stroke:#ffffff;stroke-linecap:square;stroke-width:2;\"/>\n   </g>\n   <g id=\"line2d_27\">\n    <path clip-path=\"url(#p21c60d127b)\" d=\"M 355.039685 20.8353 \nL 355.039685 66.2863 \n\" style=\"fill:none;stroke:#000000;stroke-dasharray:3.7,1.6;stroke-dashoffset:0;\"/>\n   </g>\n   <g id=\"line2d_28\">\n    <path clip-path=\"url(#p21c60d127b)\" d=\"M 355.039685 66.2863 \nL 355.039685 111.7373 \n\" style=\"fill:none;stroke:#000000;stroke-dasharray:3.7,1.6;stroke-dashoffset:0;\"/>\n   </g>\n   <g id=\"line2d_29\">\n    <path clip-path=\"url(#p21c60d127b)\" d=\"M 355.039685 111.7373 \nL 355.039685 157.1883 \n\" style=\"fill:none;stroke:#000000;stroke-dasharray:3.7,1.6;stroke-dashoffset:0;\"/>\n   </g>\n   <g id=\"line2d_30\">\n    <path clip-path=\"url(#p21c60d127b)\" d=\"M 400.490685 94.92043 \nL 400.490685 83.10317 \n\" style=\"fill:none;stroke:#ffffff;stroke-linecap:square;stroke-width:2;\"/>\n   </g>\n   <g id=\"line2d_31\">\n    <path clip-path=\"url(#p21c60d127b)\" d=\"M 394.582055 89.0118 \nL 406.399315 89.0118 \n\" style=\"fill:none;stroke:#ffffff;stroke-linecap:square;stroke-width:2;\"/>\n   </g>\n   <g id=\"line2d_32\">\n    <path clip-path=\"url(#p21c60d127b)\" d=\"M 536.843685 20.8353 \nL 536.843685 66.2863 \n\" style=\"fill:none;stroke:#000000;stroke-dasharray:3.7,1.6;stroke-dashoffset:0;\"/>\n   </g>\n   <g id=\"line2d_33\">\n    <path clip-path=\"url(#p21c60d127b)\" d=\"M 536.843685 66.2863 \nL 536.843685 111.7373 \n\" style=\"fill:none;stroke:#000000;stroke-dasharray:3.7,1.6;stroke-dashoffset:0;\"/>\n   </g>\n   <g id=\"line2d_34\">\n    <path clip-path=\"url(#p21c60d127b)\" d=\"M 536.843685 111.7373 \nL 536.843685 157.1883 \n\" style=\"fill:none;stroke:#000000;stroke-dasharray:3.7,1.6;stroke-dashoffset:0;\"/>\n   </g>\n   <g id=\"text_1\">\n    <g clip-path=\"url(#p21c60d127b)\">\n     <!-- $|\\psi\\rangle$ -->\n     <g transform=\"translate(141.475185 42.574327)scale(0.13 -0.13)\">\n      <defs>\n       <path d=\"M 21 76.421875 \nL 21 -23.578125 \nL 12.703125 -23.578125 \nL 12.703125 76.421875 \nz\n\" id=\"DejaVuSans-124\"/>\n       <path d=\"M 24.859375 -1.21875 \nQ 13.921875 0.59375 9.625 5.328125 \nQ 4.34375 11.140625 6.640625 23 \nL 12.796875 54.6875 \nL 21.875 54.6875 \nL 15.765625 23.34375 \nQ 14.0625 14.40625 17.484375 10.6875 \nQ 20.515625 7.46875 26.421875 6.78125 \nL 35.6875 54.6875 \nL 44.625 54.6875 \nL 35.359375 6.84375 \nQ 41.890625 7.515625 45.75 10.75 \nQ 50.734375 14.84375 52.390625 23.390625 \nL 58.453125 54.6875 \nL 67.53125 54.6875 \nL 61.375 23.046875 \nQ 58.984375 10.75 51.5625 5.375 \nQ 44.875 0.53125 33.796875 -1.171875 \nL 29.984375 -20.796875 \nL 21.046875 -20.796875 \nz\n\" id=\"DejaVuSans-Oblique-968\"/>\n       <path d=\"M 30.078125 31.34375 \nL 16.3125 -13.1875 \nL 8.015625 -13.1875 \nL 21.78125 31.34375 \nL 8.015625 75.875 \nL 16.3125 75.875 \nz\n\" id=\"DejaVuSans-10217\"/>\n      </defs>\n      <use transform=\"translate(0 0.578125)\" xlink:href=\"#DejaVuSans-124\"/>\n      <use transform=\"translate(33.691406 0.578125)\" xlink:href=\"#DejaVuSans-Oblique-968\"/>\n      <use transform=\"translate(99.658203 0.578125)\" xlink:href=\"#DejaVuSans-10217\"/>\n     </g>\n    </g>\n   </g>\n   <g id=\"text_2\">\n    <g clip-path=\"url(#p21c60d127b)\">\n     <!-- $[0.837, 0.548]$ -->\n     <g transform=\"translate(122.510185 54.631245)scale(0.08 -0.08)\">\n      <defs>\n       <path d=\"M 8.59375 75.984375 \nL 29.296875 75.984375 \nL 29.296875 69 \nL 17.578125 69 \nL 17.578125 -6.203125 \nL 29.296875 -6.203125 \nL 29.296875 -13.1875 \nL 8.59375 -13.1875 \nz\n\" id=\"DejaVuSans-91\"/>\n       <path d=\"M 31.78125 66.40625 \nQ 24.171875 66.40625 20.328125 58.90625 \nQ 16.5 51.421875 16.5 36.375 \nQ 16.5 21.390625 20.328125 13.890625 \nQ 24.171875 6.390625 31.78125 6.390625 \nQ 39.453125 6.390625 43.28125 13.890625 \nQ 47.125 21.390625 47.125 36.375 \nQ 47.125 51.421875 43.28125 58.90625 \nQ 39.453125 66.40625 31.78125 66.40625 \nz\nM 31.78125 74.21875 \nQ 44.046875 74.21875 50.515625 64.515625 \nQ 56.984375 54.828125 56.984375 36.375 \nQ 56.984375 17.96875 50.515625 8.265625 \nQ 44.046875 -1.421875 31.78125 -1.421875 \nQ 19.53125 -1.421875 13.0625 8.265625 \nQ 6.59375 17.96875 6.59375 36.375 \nQ 6.59375 54.828125 13.0625 64.515625 \nQ 19.53125 74.21875 31.78125 74.21875 \nz\n\" id=\"DejaVuSans-48\"/>\n       <path d=\"M 10.6875 12.40625 \nL 21 12.40625 \nL 21 0 \nL 10.6875 0 \nz\n\" id=\"DejaVuSans-46\"/>\n       <path d=\"M 31.78125 34.625 \nQ 24.75 34.625 20.71875 30.859375 \nQ 16.703125 27.09375 16.703125 20.515625 \nQ 16.703125 13.921875 20.71875 10.15625 \nQ 24.75 6.390625 31.78125 6.390625 \nQ 38.8125 6.390625 42.859375 10.171875 \nQ 46.921875 13.96875 46.921875 20.515625 \nQ 46.921875 27.09375 42.890625 30.859375 \nQ 38.875 34.625 31.78125 34.625 \nz\nM 21.921875 38.8125 \nQ 15.578125 40.375 12.03125 44.71875 \nQ 8.5 49.078125 8.5 55.328125 \nQ 8.5 64.0625 14.71875 69.140625 \nQ 20.953125 74.21875 31.78125 74.21875 \nQ 42.671875 74.21875 48.875 69.140625 \nQ 55.078125 64.0625 55.078125 55.328125 \nQ 55.078125 49.078125 51.53125 44.71875 \nQ 48 40.375 41.703125 38.8125 \nQ 48.828125 37.15625 52.796875 32.3125 \nQ 56.78125 27.484375 56.78125 20.515625 \nQ 56.78125 9.90625 50.3125 4.234375 \nQ 43.84375 -1.421875 31.78125 -1.421875 \nQ 19.734375 -1.421875 13.25 4.234375 \nQ 6.78125 9.90625 6.78125 20.515625 \nQ 6.78125 27.484375 10.78125 32.3125 \nQ 14.796875 37.15625 21.921875 38.8125 \nz\nM 18.3125 54.390625 \nQ 18.3125 48.734375 21.84375 45.5625 \nQ 25.390625 42.390625 31.78125 42.390625 \nQ 38.140625 42.390625 41.71875 45.5625 \nQ 45.3125 48.734375 45.3125 54.390625 \nQ 45.3125 60.0625 41.71875 63.234375 \nQ 38.140625 66.40625 31.78125 66.40625 \nQ 25.390625 66.40625 21.84375 63.234375 \nQ 18.3125 60.0625 18.3125 54.390625 \nz\n\" id=\"DejaVuSans-56\"/>\n       <path d=\"M 40.578125 39.3125 \nQ 47.65625 37.796875 51.625 33 \nQ 55.609375 28.21875 55.609375 21.1875 \nQ 55.609375 10.40625 48.1875 4.484375 \nQ 40.765625 -1.421875 27.09375 -1.421875 \nQ 22.515625 -1.421875 17.65625 -0.515625 \nQ 12.796875 0.390625 7.625 2.203125 \nL 7.625 11.71875 \nQ 11.71875 9.328125 16.59375 8.109375 \nQ 21.484375 6.890625 26.8125 6.890625 \nQ 36.078125 6.890625 40.9375 10.546875 \nQ 45.796875 14.203125 45.796875 21.1875 \nQ 45.796875 27.640625 41.28125 31.265625 \nQ 36.765625 34.90625 28.71875 34.90625 \nL 20.21875 34.90625 \nL 20.21875 43.015625 \nL 29.109375 43.015625 \nQ 36.375 43.015625 40.234375 45.921875 \nQ 44.09375 48.828125 44.09375 54.296875 \nQ 44.09375 59.90625 40.109375 62.90625 \nQ 36.140625 65.921875 28.71875 65.921875 \nQ 24.65625 65.921875 20.015625 65.03125 \nQ 15.375 64.15625 9.8125 62.3125 \nL 9.8125 71.09375 \nQ 15.4375 72.65625 20.34375 73.4375 \nQ 25.25 74.21875 29.59375 74.21875 \nQ 40.828125 74.21875 47.359375 69.109375 \nQ 53.90625 64.015625 53.90625 55.328125 \nQ 53.90625 49.265625 50.4375 45.09375 \nQ 46.96875 40.921875 40.578125 39.3125 \nz\n\" id=\"DejaVuSans-51\"/>\n       <path d=\"M 8.203125 72.90625 \nL 55.078125 72.90625 \nL 55.078125 68.703125 \nL 28.609375 0 \nL 18.3125 0 \nL 43.21875 64.59375 \nL 8.203125 64.59375 \nz\n\" id=\"DejaVuSans-55\"/>\n       <path d=\"M 11.71875 12.40625 \nL 22.015625 12.40625 \nL 22.015625 4 \nL 14.015625 -11.625 \nL 7.71875 -11.625 \nL 11.71875 4 \nz\n\" id=\"DejaVuSans-44\"/>\n       <path d=\"M 10.796875 72.90625 \nL 49.515625 72.90625 \nL 49.515625 64.59375 \nL 19.828125 64.59375 \nL 19.828125 46.734375 \nQ 21.96875 47.46875 24.109375 47.828125 \nQ 26.265625 48.1875 28.421875 48.1875 \nQ 40.625 48.1875 47.75 41.5 \nQ 54.890625 34.8125 54.890625 23.390625 \nQ 54.890625 11.625 47.5625 5.09375 \nQ 40.234375 -1.421875 26.90625 -1.421875 \nQ 22.3125 -1.421875 17.546875 -0.640625 \nQ 12.796875 0.140625 7.71875 1.703125 \nL 7.71875 11.625 \nQ 12.109375 9.234375 16.796875 8.0625 \nQ 21.484375 6.890625 26.703125 6.890625 \nQ 35.15625 6.890625 40.078125 11.328125 \nQ 45.015625 15.765625 45.015625 23.390625 \nQ 45.015625 31 40.078125 35.4375 \nQ 35.15625 39.890625 26.703125 39.890625 \nQ 22.75 39.890625 18.8125 39.015625 \nQ 14.890625 38.140625 10.796875 36.28125 \nz\n\" id=\"DejaVuSans-53\"/>\n       <path d=\"M 37.796875 64.3125 \nL 12.890625 25.390625 \nL 37.796875 25.390625 \nz\nM 35.203125 72.90625 \nL 47.609375 72.90625 \nL 47.609375 25.390625 \nL 58.015625 25.390625 \nL 58.015625 17.1875 \nL 47.609375 17.1875 \nL 47.609375 0 \nL 37.796875 0 \nL 37.796875 17.1875 \nL 4.890625 17.1875 \nL 4.890625 26.703125 \nz\n\" id=\"DejaVuSans-52\"/>\n       <path d=\"M 30.421875 75.984375 \nL 30.421875 -13.1875 \nL 9.71875 -13.1875 \nL 9.71875 -6.203125 \nL 21.390625 -6.203125 \nL 21.390625 69 \nL 9.71875 69 \nL 9.71875 75.984375 \nz\n\" id=\"DejaVuSans-93\"/>\n      </defs>\n      <use transform=\"translate(0 0.015625)\" xlink:href=\"#DejaVuSans-91\"/>\n      <use transform=\"translate(39.013672 0.015625)\" xlink:href=\"#DejaVuSans-48\"/>\n      <use transform=\"translate(102.636719 0.015625)\" xlink:href=\"#DejaVuSans-46\"/>\n      <use transform=\"translate(131.798828 0.015625)\" xlink:href=\"#DejaVuSans-56\"/>\n      <use transform=\"translate(195.421875 0.015625)\" xlink:href=\"#DejaVuSans-51\"/>\n      <use transform=\"translate(259.044922 0.015625)\" xlink:href=\"#DejaVuSans-55\"/>\n      <use transform=\"translate(322.667969 0.015625)\" xlink:href=\"#DejaVuSans-44\"/>\n      <use transform=\"translate(373.9375 0.015625)\" xlink:href=\"#DejaVuSans-48\"/>\n      <use transform=\"translate(437.560547 0.015625)\" xlink:href=\"#DejaVuSans-46\"/>\n      <use transform=\"translate(469.347656 0.015625)\" xlink:href=\"#DejaVuSans-53\"/>\n      <use transform=\"translate(532.970703 0.015625)\" xlink:href=\"#DejaVuSans-52\"/>\n      <use transform=\"translate(596.59375 0.015625)\" xlink:href=\"#DejaVuSans-56\"/>\n      <use transform=\"translate(660.216797 0.015625)\" xlink:href=\"#DejaVuSans-93\"/>\n     </g>\n    </g>\n   </g>\n   <g id=\"text_3\">\n    <g clip-path=\"url(#p21c60d127b)\">\n     <!-- H -->\n     <g transform=\"translate(259.249481 92.598987)scale(0.13 -0.13)\">\n      <defs>\n       <path d=\"M 9.8125 72.90625 \nL 19.671875 72.90625 \nL 19.671875 43.015625 \nL 55.515625 43.015625 \nL 55.515625 72.90625 \nL 65.375 72.90625 \nL 65.375 0 \nL 55.515625 0 \nL 55.515625 34.71875 \nL 19.671875 34.71875 \nL 19.671875 0 \nL 9.8125 0 \nz\n\" id=\"DejaVuSans-72\"/>\n      </defs>\n      <use xlink:href=\"#DejaVuSans-72\"/>\n     </g>\n    </g>\n   </g>\n   <g id=\"text_4\">\n    <g clip-path=\"url(#p21c60d127b)\">\n     <!-- H -->\n     <g transform=\"translate(441.053481 47.147987)scale(0.13 -0.13)\">\n      <use xlink:href=\"#DejaVuSans-72\"/>\n     </g>\n    </g>\n   </g>\n   <g id=\"text_5\">\n    <g clip-path=\"url(#p21c60d127b)\">\n     <!-- 0 -->\n     <g transform=\"translate(457.304435 218.656825)scale(0.104 -0.104)\">\n      <use xlink:href=\"#DejaVuSans-48\"/>\n     </g>\n    </g>\n   </g>\n   <g id=\"text_6\">\n    <g clip-path=\"url(#p21c60d127b)\">\n     <!-- 0 -->\n     <g transform=\"translate(502.755435 173.205825)scale(0.104 -0.104)\">\n      <use xlink:href=\"#DejaVuSans-48\"/>\n     </g>\n    </g>\n   </g>\n   <g id=\"text_7\">\n    <g clip-path=\"url(#p21c60d127b)\">\n     <!-- 0x1 -->\n     <g transform=\"translate(574.837185 240.306495)scale(0.08 -0.08)\">\n      <defs>\n       <path d=\"M 54.890625 54.6875 \nL 35.109375 28.078125 \nL 55.90625 0 \nL 45.3125 0 \nL 29.390625 21.484375 \nL 13.484375 0 \nL 2.875 0 \nL 24.125 28.609375 \nL 4.6875 54.6875 \nL 15.28125 54.6875 \nL 29.78125 35.203125 \nL 44.28125 54.6875 \nz\n\" id=\"DejaVuSans-120\"/>\n       <path d=\"M 12.40625 8.296875 \nL 28.515625 8.296875 \nL 28.515625 63.921875 \nL 10.984375 60.40625 \nL 10.984375 69.390625 \nL 28.421875 72.90625 \nL 38.28125 72.90625 \nL 38.28125 8.296875 \nL 54.390625 8.296875 \nL 54.390625 0 \nL 12.40625 0 \nz\n\" id=\"DejaVuSans-49\"/>\n      </defs>\n      <use xlink:href=\"#DejaVuSans-48\"/>\n      <use x=\"63.623047\" xlink:href=\"#DejaVuSans-120\"/>\n      <use x=\"122.802734\" xlink:href=\"#DejaVuSans-49\"/>\n     </g>\n    </g>\n   </g>\n   <g id=\"text_8\">\n    <g clip-path=\"url(#p21c60d127b)\">\n     <!-- X -->\n     <g transform=\"translate(577.842185 138.049987)scale(0.13 -0.13)\">\n      <defs>\n       <path d=\"M 6.296875 72.90625 \nL 16.890625 72.90625 \nL 35.015625 45.796875 \nL 53.21875 72.90625 \nL 63.8125 72.90625 \nL 40.375 37.890625 \nL 65.375 0 \nL 54.78125 0 \nL 34.28125 31 \nL 13.625 0 \nL 2.984375 0 \nL 29 38.921875 \nz\n\" id=\"DejaVuSans-88\"/>\n      </defs>\n      <use xlink:href=\"#DejaVuSans-88\"/>\n     </g>\n    </g>\n   </g>\n   <g id=\"text_9\">\n    <g clip-path=\"url(#p21c60d127b)\">\n     <!-- 0x1 -->\n     <g transform=\"translate(620.288185 194.855495)scale(0.08 -0.08)\">\n      <use xlink:href=\"#DejaVuSans-48\"/>\n      <use x=\"63.623047\" xlink:href=\"#DejaVuSans-120\"/>\n      <use x=\"122.802734\" xlink:href=\"#DejaVuSans-49\"/>\n     </g>\n    </g>\n   </g>\n   <g id=\"text_10\">\n    <g clip-path=\"url(#p21c60d127b)\">\n     <!-- Z -->\n     <g transform=\"translate(623.293185 138.049987)scale(0.13 -0.13)\">\n      <defs>\n       <path d=\"M 5.609375 72.90625 \nL 62.890625 72.90625 \nL 62.890625 65.375 \nL 16.796875 8.296875 \nL 64.015625 8.296875 \nL 64.015625 0 \nL 4.5 0 \nL 4.5 7.515625 \nL 50.59375 64.59375 \nL 5.609375 64.59375 \nz\n\" id=\"DejaVuSans-90\"/>\n      </defs>\n      <use xlink:href=\"#DejaVuSans-90\"/>\n     </g>\n    </g>\n   </g>\n   <g id=\"text_11\">\n    <g clip-path=\"url(#p21c60d127b)\">\n     <!-- ${q3368}_{0}$ -->\n     <g transform=\"translate(34.513445 48.011777)scale(0.1625 -0.1625)\">\n      <defs>\n       <path d=\"M 41.703125 8.203125 \nQ 38.09375 3.46875 33.171875 1.015625 \nQ 28.265625 -1.421875 22.3125 -1.421875 \nQ 14.015625 -1.421875 9.296875 4.171875 \nQ 4.59375 9.765625 4.59375 19.578125 \nQ 4.59375 27.484375 7.5 34.859375 \nQ 10.40625 42.234375 15.828125 48.09375 \nQ 19.34375 51.90625 23.90625 53.953125 \nQ 28.46875 56 33.5 56 \nQ 39.546875 56 43.453125 53.609375 \nQ 47.359375 51.21875 49.125 46.390625 \nL 50.6875 54.59375 \nL 59.71875 54.59375 \nL 45.125 -20.609375 \nL 36.078125 -20.609375 \nz\nM 13.921875 20.90625 \nQ 13.921875 13.671875 16.9375 9.890625 \nQ 19.96875 6.109375 25.6875 6.109375 \nQ 34.1875 6.109375 40.1875 14.234375 \nQ 46.1875 22.359375 46.1875 33.984375 \nQ 46.1875 41.015625 43.078125 44.75 \nQ 39.984375 48.484375 34.1875 48.484375 \nQ 29.9375 48.484375 26.3125 46.5 \nQ 22.703125 44.53125 20.015625 40.71875 \nQ 17.1875 36.71875 15.546875 31.34375 \nQ 13.921875 25.984375 13.921875 20.90625 \nz\n\" id=\"DejaVuSans-Oblique-113\"/>\n       <path d=\"M 33.015625 40.375 \nQ 26.375 40.375 22.484375 35.828125 \nQ 18.609375 31.296875 18.609375 23.390625 \nQ 18.609375 15.53125 22.484375 10.953125 \nQ 26.375 6.390625 33.015625 6.390625 \nQ 39.65625 6.390625 43.53125 10.953125 \nQ 47.40625 15.53125 47.40625 23.390625 \nQ 47.40625 31.296875 43.53125 35.828125 \nQ 39.65625 40.375 33.015625 40.375 \nz\nM 52.59375 71.296875 \nL 52.59375 62.3125 \nQ 48.875 64.0625 45.09375 64.984375 \nQ 41.3125 65.921875 37.59375 65.921875 \nQ 27.828125 65.921875 22.671875 59.328125 \nQ 17.53125 52.734375 16.796875 39.40625 \nQ 19.671875 43.65625 24.015625 45.921875 \nQ 28.375 48.1875 33.59375 48.1875 \nQ 44.578125 48.1875 50.953125 41.515625 \nQ 57.328125 34.859375 57.328125 23.390625 \nQ 57.328125 12.15625 50.6875 5.359375 \nQ 44.046875 -1.421875 33.015625 -1.421875 \nQ 20.359375 -1.421875 13.671875 8.265625 \nQ 6.984375 17.96875 6.984375 36.375 \nQ 6.984375 53.65625 15.1875 63.9375 \nQ 23.390625 74.21875 37.203125 74.21875 \nQ 40.921875 74.21875 44.703125 73.484375 \nQ 48.484375 72.75 52.59375 71.296875 \nz\n\" id=\"DejaVuSans-54\"/>\n      </defs>\n      <use transform=\"translate(0 0.78125)\" xlink:href=\"#DejaVuSans-Oblique-113\"/>\n      <use transform=\"translate(63.476562 0.78125)\" xlink:href=\"#DejaVuSans-51\"/>\n      <use transform=\"translate(127.099609 0.78125)\" xlink:href=\"#DejaVuSans-51\"/>\n      <use transform=\"translate(190.722656 0.78125)\" xlink:href=\"#DejaVuSans-54\"/>\n      <use transform=\"translate(254.345703 0.78125)\" xlink:href=\"#DejaVuSans-56\"/>\n      <use transform=\"translate(318.925781 -15.625)scale(0.7)\" xlink:href=\"#DejaVuSans-48\"/>\n     </g>\n    </g>\n   </g>\n   <g id=\"text_12\">\n    <g clip-path=\"url(#p21c60d127b)\">\n     <!-- ${q3368}_{1}$ -->\n     <g transform=\"translate(34.513445 93.462777)scale(0.1625 -0.1625)\">\n      <use transform=\"translate(0 0.78125)\" xlink:href=\"#DejaVuSans-Oblique-113\"/>\n      <use transform=\"translate(63.476562 0.78125)\" xlink:href=\"#DejaVuSans-51\"/>\n      <use transform=\"translate(127.099609 0.78125)\" xlink:href=\"#DejaVuSans-51\"/>\n      <use transform=\"translate(190.722656 0.78125)\" xlink:href=\"#DejaVuSans-54\"/>\n      <use transform=\"translate(254.345703 0.78125)\" xlink:href=\"#DejaVuSans-56\"/>\n      <use transform=\"translate(318.925781 -15.625)scale(0.7)\" xlink:href=\"#DejaVuSans-49\"/>\n     </g>\n    </g>\n   </g>\n   <g id=\"text_13\">\n    <g clip-path=\"url(#p21c60d127b)\">\n     <!-- ${q3369}_{0}$ -->\n     <g transform=\"translate(34.513445 138.913777)scale(0.1625 -0.1625)\">\n      <defs>\n       <path d=\"M 10.984375 1.515625 \nL 10.984375 10.5 \nQ 14.703125 8.734375 18.5 7.8125 \nQ 22.3125 6.890625 25.984375 6.890625 \nQ 35.75 6.890625 40.890625 13.453125 \nQ 46.046875 20.015625 46.78125 33.40625 \nQ 43.953125 29.203125 39.59375 26.953125 \nQ 35.25 24.703125 29.984375 24.703125 \nQ 19.046875 24.703125 12.671875 31.3125 \nQ 6.296875 37.9375 6.296875 49.421875 \nQ 6.296875 60.640625 12.9375 67.421875 \nQ 19.578125 74.21875 30.609375 74.21875 \nQ 43.265625 74.21875 49.921875 64.515625 \nQ 56.59375 54.828125 56.59375 36.375 \nQ 56.59375 19.140625 48.40625 8.859375 \nQ 40.234375 -1.421875 26.421875 -1.421875 \nQ 22.703125 -1.421875 18.890625 -0.6875 \nQ 15.09375 0.046875 10.984375 1.515625 \nz\nM 30.609375 32.421875 \nQ 37.25 32.421875 41.125 36.953125 \nQ 45.015625 41.5 45.015625 49.421875 \nQ 45.015625 57.28125 41.125 61.84375 \nQ 37.25 66.40625 30.609375 66.40625 \nQ 23.96875 66.40625 20.09375 61.84375 \nQ 16.21875 57.28125 16.21875 49.421875 \nQ 16.21875 41.5 20.09375 36.953125 \nQ 23.96875 32.421875 30.609375 32.421875 \nz\n\" id=\"DejaVuSans-57\"/>\n      </defs>\n      <use transform=\"translate(0 0.78125)\" xlink:href=\"#DejaVuSans-Oblique-113\"/>\n      <use transform=\"translate(63.476562 0.78125)\" xlink:href=\"#DejaVuSans-51\"/>\n      <use transform=\"translate(127.099609 0.78125)\" xlink:href=\"#DejaVuSans-51\"/>\n      <use transform=\"translate(190.722656 0.78125)\" xlink:href=\"#DejaVuSans-54\"/>\n      <use transform=\"translate(254.345703 0.78125)\" xlink:href=\"#DejaVuSans-57\"/>\n      <use transform=\"translate(318.925781 -15.625)scale(0.7)\" xlink:href=\"#DejaVuSans-48\"/>\n     </g>\n    </g>\n   </g>\n   <g id=\"text_14\">\n    <g clip-path=\"url(#p21c60d127b)\">\n     <!-- c0 -->\n     <g transform=\"translate(74.876921 184.397784)scale(0.1625 -0.1625)\">\n      <defs>\n       <path d=\"M 48.78125 52.59375 \nL 48.78125 44.1875 \nQ 44.96875 46.296875 41.140625 47.34375 \nQ 37.3125 48.390625 33.40625 48.390625 \nQ 24.65625 48.390625 19.8125 42.84375 \nQ 14.984375 37.3125 14.984375 27.296875 \nQ 14.984375 17.28125 19.8125 11.734375 \nQ 24.65625 6.203125 33.40625 6.203125 \nQ 37.3125 6.203125 41.140625 7.25 \nQ 44.96875 8.296875 48.78125 10.40625 \nL 48.78125 2.09375 \nQ 45.015625 0.34375 40.984375 -0.53125 \nQ 36.96875 -1.421875 32.421875 -1.421875 \nQ 20.0625 -1.421875 12.78125 6.34375 \nQ 5.515625 14.109375 5.515625 27.296875 \nQ 5.515625 40.671875 12.859375 48.328125 \nQ 20.21875 56 33.015625 56 \nQ 37.15625 56 41.109375 55.140625 \nQ 45.0625 54.296875 48.78125 52.59375 \nz\n\" id=\"DejaVuSans-99\"/>\n      </defs>\n      <use xlink:href=\"#DejaVuSans-99\"/>\n      <use x=\"54.980469\" xlink:href=\"#DejaVuSans-48\"/>\n     </g>\n    </g>\n   </g>\n   <g id=\"text_15\">\n    <g clip-path=\"url(#p21c60d127b)\">\n     <!-- c1 -->\n     <g transform=\"translate(74.876921 229.848784)scale(0.1625 -0.1625)\">\n      <use xlink:href=\"#DejaVuSans-99\"/>\n      <use x=\"54.980469\" xlink:href=\"#DejaVuSans-49\"/>\n     </g>\n    </g>\n   </g>\n   <g id=\"text_16\">\n    <g clip-path=\"url(#p21c60d127b)\">\n     <!-- c2 -->\n     <g transform=\"translate(74.876921 275.299784)scale(0.1625 -0.1625)\">\n      <defs>\n       <path d=\"M 19.1875 8.296875 \nL 53.609375 8.296875 \nL 53.609375 0 \nL 7.328125 0 \nL 7.328125 8.296875 \nQ 12.9375 14.109375 22.625 23.890625 \nQ 32.328125 33.6875 34.8125 36.53125 \nQ 39.546875 41.84375 41.421875 45.53125 \nQ 43.3125 49.21875 43.3125 52.78125 \nQ 43.3125 58.59375 39.234375 62.25 \nQ 35.15625 65.921875 28.609375 65.921875 \nQ 23.96875 65.921875 18.8125 64.3125 \nQ 13.671875 62.703125 7.8125 59.421875 \nL 7.8125 69.390625 \nQ 13.765625 71.78125 18.9375 73 \nQ 24.125 74.21875 28.421875 74.21875 \nQ 39.75 74.21875 46.484375 68.546875 \nQ 53.21875 62.890625 53.21875 53.421875 \nQ 53.21875 48.921875 51.53125 44.890625 \nQ 49.859375 40.875 45.40625 35.40625 \nQ 44.1875 33.984375 37.640625 27.21875 \nQ 31.109375 20.453125 19.1875 8.296875 \nz\n\" id=\"DejaVuSans-50\"/>\n      </defs>\n      <use xlink:href=\"#DejaVuSans-99\"/>\n      <use x=\"54.980469\" xlink:href=\"#DejaVuSans-50\"/>\n     </g>\n    </g>\n   </g>\n  </g>\n </g>\n <defs>\n  <clipPath id=\"p21c60d127b\">\n   <rect height=\"290.8864\" width=\"650.543345\" x=\"7.2\" y=\"7.2\"/>\n  </clipPath>\n </defs>\n</svg>\n",
      "image/png": "[encoded data removed]"
     },
     "metadata": {},
     "execution_count": 29
    }
   ],
   "source": [
    "### imports\n",
    "from qiskit import QuantumRegister, ClassicalRegister, QuantumCircuit\n",
    "\n",
    "### set up the qubits and classical bits\n",
    "all_qubits_Alice = QuantumRegister(2)\n",
    "all_qubits_Bob = QuantumRegister(1)\n",
    "creg1_Alice = ClassicalRegister(1)\n",
    "creg2_Alice = ClassicalRegister(1)\n",
    "creg_target = ClassicalRegister(1)\n",
    "\n",
    "### quantum teleportation circuit here\n",
    "# Initialize\n",
    "mycircuit = QuantumCircuit(all_qubits_Alice, all_qubits_Bob, creg1_Alice, creg2_Alice, creg_target)\n",
    "initialize_qubit(mycircuit, 0)\n",
    "mycircuit.barrier()\n",
    "# Entangle\n",
    "entangle_qubits(mycircuit, 1, 2)\n",
    "mycircuit.barrier()\n",
    "# Do a Bell measurement\n",
    "bell_meas_Alice_qubits(mycircuit, all_qubits_Alice[0], all_qubits_Alice[1], creg1_Alice, creg2_Alice)\n",
    "mycircuit.barrier()\n",
    "# Apply classically controlled quantum gates\n",
    "controlled_ops_Bob_qubit(mycircuit, all_qubits_Bob[0], creg1_Alice, creg2_Alice)\n",
    "\n",
    "### Look at the complete circuit\n",
    "mycircuit.draw(output='mpl')"
   ]
  },
  {
   "cell_type": "markdown",
   "metadata": {},
   "source": [
    "Now you can add a measurement on creg_target and verify teleportation has happened"
   ]
  },
  {
   "cell_type": "code",
   "execution_count": 30,
   "metadata": {},
   "outputs": [
    {
     "output_type": "stream",
     "name": "stdout",
     "text": [
      "p0 = 0.7013\np1 = 0.2987\n"
     ]
    }
   ],
   "source": [
    "# add measure on Bob's qubit to Bob's c-bit (creg-target)\n",
    "mycircuit.measure(all_qubits_Bob[0],creg_target[0])\n",
    "\n",
    "# require needed objects for local sim xecution\n",
    "from qiskit import execute, Aer\n",
    "backend = Aer.get_backend('qasm_simulator')\n",
    "result = execute(mycircuit, backend, shots=10000).result()\n",
    "\n",
    "# dictionnaire qui reçoit les résultats\n",
    "d = result.get_counts(mycircuit)\n",
    "\n",
    "# because we had measurements already on Alices bit, the results are 3 qubits results\n",
    "# we want to count (agregating) results 0 on one side and result 1 on the other side for 3rd qubit, \n",
    "# comes at left position (most significant bit) : position 0 => k[0]\n",
    "### WRITE YOUR CODE BETWEEN THESE LINES - START\n",
    "\n",
    "plot_histogram(d)\n",
    "\n",
    "p0 = 0\n",
    "p1 = 0\n",
    "norm = 0\n",
    "for key in ['0 0 0', '0 0 1', '0 1 0', '0 1 1']:\n",
    "    p0 += d[key]\n",
    "    \n",
    "for key in ['1 0 0', '1 0 1', '1 1 0', '1 1 1']:\n",
    "    p1 += d[key]\n",
    "    \n",
    "norm = p0 + p1\n",
    "print('p0 = %s' %(p0/norm))\n",
    "print('p1 = %s' %(p1/norm))\n",
    "### WRITE YOUR CODE BETWEEN THESE LINES - END"
   ]
  },
  {
   "cell_type": "markdown",
   "metadata": {},
   "source": [
    "# 3.3 Challenge 3 : Getting the best performance from the available machines\n",
    "\n",
    "Create the non trivial state $Rx(\\pi/5)|0\\rangle$\n",
    "\n",
    "Using the calibration data for the available machines, select the best 2 neighbours qubits for a swapp. \n",
    "\n",
    "<img src=\"./images/best-swap.png\" alt=\"drawing\" width=\"800\"/>\n",
    "\n",
    "Run and evaluate the result.\n",
    "\n",
    "# The following cells give you an example on how to query qubit error rates data \n",
    "\n",
    "This is from : \n",
    "https://github.com/Qiskit/qiskit-tutorials/blob/master/tutorials/circuits_advanced/08_gathering_system_information.ipynb wheree you can find more information on this subject."
   ]
  },
  {
   "cell_type": "code",
   "execution_count": 172,
   "metadata": {},
   "outputs": [],
   "source": [
    "from qiskit import IBMQ # for provider access"
   ]
  },
  {
   "cell_type": "code",
   "execution_count": 173,
   "metadata": {},
   "outputs": [
    {
     "name": "stderr",
     "output_type": "stream",
     "text": [
      "/Users/clement/opt/anaconda3/envs/myquantumenv/lib/python3.8/site-packages/qiskit/providers/ibmq/ibmqfactory.py:192: UserWarning: Timestamps in IBMQ backend properties, jobs, and job results are all now in local time instead of UTC.\n",
      "  warnings.warn('Timestamps in IBMQ backend properties, jobs, and job results '\n",
      "ibmqfactory.load_account:WARNING:2021-03-13 20:28:33,087: Credentials are already in use. The existing account in the session will be replaced.\n"
     ]
    },
    {
     "data": {
      "text/plain": [
       "<AccountProvider for IBMQ(hub='ibm-q', group='open', project='main')>"
      ]
     },
     "execution_count": 173,
     "metadata": {},
     "output_type": "execute_result"
    }
   ],
   "source": [
    "IBMQ.load_account() # to autenticate using your API key, see Lab1 if needed "
   ]
  },
  {
   "cell_type": "code",
   "execution_count": 32,
   "metadata": {},
   "outputs": [],
   "source": [
    "selected_provider = IBMQ.get_provider(hub='ibm-q')  # select default provider ibm-q"
   ]
  },
  {
   "cell_type": "code",
   "execution_count": 33,
   "metadata": {},
   "outputs": [
    {
     "output_type": "execute_result",
     "data": {
      "text/plain": [
       "[<IBMQSimulator('ibmq_qasm_simulator') from IBMQ(hub='ibm-q', group='open', project='main')>,\n",
       " <IBMQBackend('ibmqx2') from IBMQ(hub='ibm-q', group='open', project='main')>,\n",
       " <IBMQBackend('ibmq_16_melbourne') from IBMQ(hub='ibm-q', group='open', project='main')>,\n",
       " <IBMQBackend('ibmq_armonk') from IBMQ(hub='ibm-q', group='open', project='main')>,\n",
       " <IBMQBackend('ibmq_athens') from IBMQ(hub='ibm-q', group='open', project='main')>,\n",
       " <IBMQBackend('ibmq_santiago') from IBMQ(hub='ibm-q', group='open', project='main')>,\n",
       " <IBMQBackend('ibmq_lima') from IBMQ(hub='ibm-q', group='open', project='main')>,\n",
       " <IBMQBackend('ibmq_belem') from IBMQ(hub='ibm-q', group='open', project='main')>,\n",
       " <IBMQBackend('ibmq_quito') from IBMQ(hub='ibm-q', group='open', project='main')>,\n",
       " <IBMQSimulator('simulator_statevector') from IBMQ(hub='ibm-q', group='open', project='main')>,\n",
       " <IBMQSimulator('simulator_mps') from IBMQ(hub='ibm-q', group='open', project='main')>,\n",
       " <IBMQSimulator('simulator_extended_stabilizer') from IBMQ(hub='ibm-q', group='open', project='main')>,\n",
       " <IBMQSimulator('simulator_stabilizer') from IBMQ(hub='ibm-q', group='open', project='main')>]"
      ]
     },
     "metadata": {},
     "execution_count": 33
    }
   ],
   "source": [
    "selected_provider.backends() # optional : show me the backends"
   ]
  },
  {
   "cell_type": "markdown",
   "metadata": {},
   "source": [
    "From there you could use that result to iterate on online backends having more than one qubit and which are not simulators. The following shows you some of the qiskit syntax you may use, to find the best 2 qubits  :"
   ]
  },
  {
   "cell_type": "code",
   "execution_count": 34,
   "metadata": {},
   "outputs": [],
   "source": [
    "backend = selected_provider.get_backend('ibmq_santiago')  # for example"
   ]
  },
  {
   "cell_type": "code",
   "execution_count": 35,
   "metadata": {},
   "outputs": [],
   "source": [
    "prop = backend.properties()\n",
    "conf = backend.configuration()"
   ]
  },
  {
   "cell_type": "code",
   "execution_count": 36,
   "metadata": {},
   "outputs": [
    {
     "output_type": "stream",
     "name": "stdout",
     "text": [
      "Qubit 0 has a sx gate error of     0.0006 \nQubit 1 has a sx gate error of     0.0011 \nQubit 2 has a sx gate error of     0.0005 \nQubit 3 has a sx gate error of     0.0003 \nQubit 4 has a sx gate error of     0.0002 \nQubit 0 has a measurement error of 0.0185 \nQubit 1 has a measurement error of 0.055 \nQubit 2 has a measurement error of 0.0506 \nQubit 3 has a measurement error of 0.0158 \nQubit 4 has a measurement error of 0.0091 \nCx from Qubit 0 to Qubit 1 has error rate of 0.0233\nCx from Qubit 1 to Qubit 0 has error rate of 0.0233\nCx from Qubit 1 to Qubit 2 has error rate of 0.0183\nCx from Qubit 2 to Qubit 1 has error rate of 0.0183\nCx from Qubit 2 to Qubit 3 has error rate of 0.01\nCx from Qubit 3 to Qubit 2 has error rate of 0.01\nCx from Qubit 3 to Qubit 4 has error rate of 0.0112\nCx from Qubit 4 to Qubit 3 has error rate of 0.0112\n"
     ]
    }
   ],
   "source": [
    "for i in range(conf.n_qubits):\n",
    "    print(f\"Qubit {i} has a sx gate error of     {round(prop.gate_error('sx',i),4)} \")\n",
    "              \n",
    "for i in range(conf.n_qubits):\n",
    "     print(f\"Qubit {i} has a measurement error of {round(prop.readout_error(i),4)} \")\n",
    "              \n",
    "for c in conf.coupling_map:\n",
    "    q_c = c[0]  # control qubit \n",
    "    q_t = c[1]  # target qubit\n",
    "    print(f\"Cx from Qubit {q_c} to Qubit {q_t} has error rate of {round(prop.gate_error('cx',(q_c,q_t)),4)}\")"
   ]
  },
  {
   "cell_type": "code",
   "execution_count": 37,
   "metadata": {},
   "outputs": [
    {
     "output_type": "stream",
     "name": "stdout",
     "text": [
      "(2, 3)\n(3, 4)\n"
     ]
    }
   ],
   "source": [
    "#when we consider only the swap gate\n",
    "def find_min(conf):\n",
    "    min_ = np.inf\n",
    "    for c in conf.coupling_map:\n",
    "        q_c = c[0]  # control qubit \n",
    "        q_t = c[1]  # target qubit\n",
    "        if round(prop.gate_error('cx',(q_c,q_t)),4)<min_:\n",
    "            min_ = round(prop.gate_error('cx',(q_c,q_t)),4)\n",
    "            q_c_0 = c[0]\n",
    "            q_t_0 = c[1]\n",
    "    return q_c_0,q_t_0\n",
    "# your code to find the \"best\" two neighbour qubits\n",
    "\n",
    "print(find_min(conf))\n",
    "def find_min_with_measure(conf):\n",
    "    max_ = -np.inf\n",
    "    for c in conf.coupling_map:\n",
    "        q_c = c[0]  # control qubit \n",
    "        q_t = c[1]  # target qubit\n",
    "        p_swap = round(prop.gate_error('cx',(q_c,q_t)),4)\n",
    "        p_mes_1 = prop.readout_error(q_c)\n",
    "        p_mes_2 = prop.readout_error(q_t)\n",
    "        if np.log(1-p_swap)+np.log(1-p_mes_1)+np.log(1-p_mes_2)>max_:\n",
    "            max_ = np.log(1-p_swap)+np.log(1-p_mes_1)+np.log(1-p_mes_2)\n",
    "            q_c_0 = c[0]\n",
    "            q_t_0 = c[1]\n",
    "    return q_c_0,q_t_0\n",
    "\n",
    "print(find_min_with_measure(conf))"
   ]
  },
  {
   "cell_type": "markdown",
   "metadata": {},
   "source": [
    "### Can you generalize to find the best place to perform a swap between 2 qubits that are n qubits away ?"
   ]
  },
  {
   "cell_type": "code",
   "execution_count": 40,
   "metadata": {},
   "outputs": [
    {
     "output_type": "stream",
     "name": "stdout",
     "text": [
      "0.02357573652870569\n0.02357573652870569\n0.018469516283661322\n0.018469516283661322\n0.01005033585350145\n0.01005033585350145\n0.011263192278710714\n0.011263192278710714\n"
     ]
    },
    {
     "output_type": "display_data",
     "data": {
      "text/plain": "<Figure size 432x288 with 1 Axes>",
      "image/svg+xml": "<?xml version=\"1.0\" encoding=\"utf-8\" standalone=\"no\"?>\n<!DOCTYPE svg PUBLIC \"-//W3C//DTD SVG 1.1//EN\"\n  \"http://www.w3.org/Graphics/SVG/1.1/DTD/svg11.dtd\">\n<!-- Created with matplotlib (https://matplotlib.org/) -->\n<svg height=\"302.4pt\" version=\"1.1\" viewBox=\"0 0 446.4 302.4\" width=\"446.4pt\" xmlns=\"http://www.w3.org/2000/svg\" xmlns:xlink=\"http://www.w3.org/1999/xlink\">\n <metadata>\n  <rdf:RDF xmlns:cc=\"http://creativecommons.org/ns#\" xmlns:dc=\"http://purl.org/dc/elements/1.1/\" xmlns:rdf=\"http://www.w3.org/1999/02/22-rdf-syntax-ns#\">\n   <cc:Work>\n    <dc:type rdf:resource=\"http://purl.org/dc/dcmitype/StillImage\"/>\n    <dc:date>2021-03-14T00:20:47.422262</dc:date>\n    <dc:format>image/svg+xml</dc:format>\n    <dc:creator>\n     <cc:Agent>\n      <dc:title>Matplotlib v3.3.4, https://matplotlib.org/</dc:title>\n     </cc:Agent>\n    </dc:creator>\n   </cc:Work>\n  </rdf:RDF>\n </metadata>\n <defs>\n  <style type=\"text/css\">*{stroke-linecap:butt;stroke-linejoin:round;}</style>\n </defs>\n <g id=\"figure_1\">\n  <g id=\"patch_1\">\n   <path d=\"M 0 302.4 \nL 446.4 302.4 \nL 446.4 0 \nL 0 0 \nz\n\" style=\"fill:#ffffff;\"/>\n  </g>\n  <g id=\"axes_1\">\n   <g id=\"LineCollection_1\">\n    <path clip-path=\"url(#pbbeb379414)\" d=\"M 26.836364 282.109091 \nL 118.700685 220.848358 \n\" style=\"fill:none;stroke:#000000;\"/>\n    <path clip-path=\"url(#pbbeb379414)\" d=\"M 118.700685 220.848358 \nL 223.32878 151.087485 \n\" style=\"fill:none;stroke:#000000;\"/>\n    <path clip-path=\"url(#pbbeb379414)\" d=\"M 223.32878 151.087485 \nL 328.18257 81.194736 \n\" style=\"fill:none;stroke:#000000;\"/>\n    <path clip-path=\"url(#pbbeb379414)\" d=\"M 328.18257 81.194736 \nL 419.563636 20.290909 \n\" style=\"fill:none;stroke:#000000;\"/>\n   </g>\n   <g id=\"PathCollection_1\">\n    <defs>\n     <path d=\"M 0 8.660254 \nC 2.296726 8.660254 4.499694 7.747755 6.123724 6.123724 \nC 7.747755 4.499694 8.660254 2.296726 8.660254 0 \nC 8.660254 -2.296726 7.747755 -4.499694 6.123724 -6.123724 \nC 4.499694 -7.747755 2.296726 -8.660254 0 -8.660254 \nC -2.296726 -8.660254 -4.499694 -7.747755 -6.123724 -6.123724 \nC -7.747755 -4.499694 -8.660254 -2.296726 -8.660254 0 \nC -8.660254 2.296726 -7.747755 4.499694 -6.123724 6.123724 \nC -4.499694 7.747755 -2.296726 8.660254 0 8.660254 \nz\n\" id=\"mc1fb43047d\" style=\"stroke:#1f78b4;\"/>\n    </defs>\n    <g clip-path=\"url(#pbbeb379414)\">\n     <use style=\"fill:#1f78b4;stroke:#1f78b4;\" x=\"26.836364\" xlink:href=\"#mc1fb43047d\" y=\"282.109091\"/>\n     <use style=\"fill:#1f78b4;stroke:#1f78b4;\" x=\"118.700685\" xlink:href=\"#mc1fb43047d\" y=\"220.848358\"/>\n     <use style=\"fill:#1f78b4;stroke:#1f78b4;\" x=\"223.32878\" xlink:href=\"#mc1fb43047d\" y=\"151.087485\"/>\n     <use style=\"fill:#1f78b4;stroke:#1f78b4;\" x=\"328.18257\" xlink:href=\"#mc1fb43047d\" y=\"81.194736\"/>\n     <use style=\"fill:#1f78b4;stroke:#1f78b4;\" x=\"419.563636\" xlink:href=\"#mc1fb43047d\" y=\"20.290909\"/>\n    </g>\n   </g>\n  </g>\n </g>\n <defs>\n  <clipPath id=\"pbbeb379414\">\n   <rect height=\"288\" width=\"432\" x=\"7.2\" y=\"7.2\"/>\n  </clipPath>\n </defs>\n</svg>\n",
      "image/png": "[encoded data removed]"
     },
     "metadata": {}
    }
   ],
   "source": [
    "# Create the network describing the qubit's network\n",
    "import networkx as nx\n",
    "G = nx.Graph()\n",
    "G_weighted = nx.Graph()\n",
    "for c in conf.coupling_map:\n",
    "    q_c = c[0]  # control qubit \n",
    "    q_t = c[1]  # target qubit\n",
    "    cost = -np.log(1-round(prop.gate_error('cx',(q_c,q_t)),4))\n",
    "    print(cost)\n",
    "    G_weighted.add_edge(q_c,q_t,weight = cost)\n",
    "    G.add_edge(q_c,q_t,weight = 1)\n",
    "nx.draw(G)"
   ]
  },
  {
   "cell_type": "code",
   "execution_count": 41,
   "metadata": {},
   "outputs": [
    {
     "output_type": "stream",
     "name": "stdout",
     "text": [
      "1 4\n"
     ]
    }
   ],
   "source": [
    "# Optimal path at distance N = 3\n",
    "N = 3\n",
    "cost_tmp = np.inf\n",
    "for node1 in G.nodes:\n",
    "    for node2 in G.nodes:\n",
    "        if node1 != node2:\n",
    "            cost_dij , path = nx.single_source_dijkstra(G_weighted, source=node1, target=node2)\n",
    "            cost_dist, _ =  nx.single_source_dijkstra(G, source=node1, target=node2)\n",
    "            if cost_dist == N:\n",
    "                if cost_dij < cost_tmp:\n",
    "                    cost_tmp = cost_dij\n",
    "                    fin_node1 = node1\n",
    "                    fin_node2 = node2\n",
    "\n",
    "                \n",
    "print(fin_node1,fin_node2)"
   ]
  },
  {
   "cell_type": "code",
   "execution_count": null,
   "metadata": {},
   "outputs": [],
   "source": []
  }
 ],
 "metadata": {
  "kernelspec": {
   "name": "python3",
   "display_name": "Python 3.9.0 64-bit ('qc_env')",
   "metadata": {
    "interpreter": {
     "hash": "e2978d320601cc1acbea1801eb2fb1728f38a65b40fc129cb31ada20d753e2fe"
    }
   }
  },
  "language_info": {
   "codemirror_mode": {
    "name": "ipython",
    "version": 3
   },
   "file_extension": ".py",
   "mimetype": "text/x-python",
   "name": "python",
   "nbconvert_exporter": "python",
   "pygments_lexer": "ipython3",
   "version": "3.9.0-final"
  }
 },
 "nbformat": 4,
 "nbformat_minor": 2
}
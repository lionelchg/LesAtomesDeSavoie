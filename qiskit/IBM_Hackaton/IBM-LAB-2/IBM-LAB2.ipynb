{
 "cells": [
  {
   "cell_type": "markdown",
   "metadata": {},
   "source": [
    "<table>\n",
    "   <tr>     \n",
    "    <td><img src=\"./images/logo-qiskit.png\" alt=\"Note: In order for images to show up in this jupyter notebook you need to select File => Trusted Notebook\" width=\"300 px\" align=\"left\"></td>\n",
    "    <td>  </td>\n",
    "    <td><img src=\"./images/logo-IBM.png\" alt=\"Note: In order for images to show up in this jupyter notebook you need to select File => Trusted Notebook\" width=\"300 px\" align=\"left\"></td>\n",
    "   </tr>\n",
    "</table>\n",
    "<br>\n",
    "\n",
    "\n",
    "# <center>Welcome </center>\n",
    "\n",
    "\n",
    "# <center> Lab-2 : Quantum Circuits </center>\n",
    "\n",
    "\n",
    "<img src=\"./images/logo-hackathon.png\" alt=\"Note: In order for images to show up in this jupyter notebook you need to select File => Trusted Notebook\" width=\"800 px\" align=\"center\"></td>\n",
    "\n",
    "\n",
    "### Content :\n",
    "<ol>\n",
    "    <li>Warmup</li>\n",
    "    <br>\n",
    "    <li>Exercises</li>\n",
    "    <br>\n",
    "    <li>Challenges</li>  \n",
    "</ol>\n",
    "\n",
    "\n"
   ]
  },
  {
   "cell_type": "markdown",
   "metadata": {},
   "source": [
    "<div class=\"alert alert-block alert-info\">\n",
    "\n",
    "# 1. Warmup\n",
    "</div>"
   ]
  },
  {
   "cell_type": "markdown",
   "metadata": {},
   "source": [
    "### 1.1 What is the result of this circuit ?\n",
    "\n",
    "<img src=\"./images/3cx.png\" width=\"500\"/>\n",
    "\n",
    "Hint : qiskit and the composer do not provide formal calculation, but you can try with a few values.\n",
    "You may just decide to go with matrices multiplication..."
   ]
  },
  {
   "cell_type": "code",
   "execution_count": 5,
   "metadata": {},
   "outputs": [
    {
     "output_type": "display_data",
     "data": {
      "text/plain": "<IPython.core.display.Math object>",
      "text/latex": "$\\displaystyle \n\\text{Circuit = } \\begin{bmatrix}\n1 & 0 & 0 & 0  \\\\\n0 & 0 & 1 & 0  \\\\\n0 & 1 & 0 & 0  \\\\\n0 & 0 & 0 & 1  \\\\\n\\end{bmatrix}\n$$\n$"
     },
     "metadata": {}
    }
   ],
   "source": [
    "from qiskit import QuantumCircuit, Aer, assemble\n",
    "from qiskit_textbook.tools import array_to_latex\n",
    "\n",
    "qc = QuantumCircuit(2)\n",
    "qc.cx(0, 1)\n",
    "qc.cx(1, 0)\n",
    "qc.cx(0, 1)\n",
    "# qc.measure_all()\n",
    "qc.draw(output='mpl')\n",
    "\n",
    "# Display the results\n",
    "usim = Aer.get_backend('unitary_simulator')\n",
    "qobj = assemble(qc)\n",
    "unitary = usim.run(qobj).result().get_unitary()\n",
    "array_to_latex(unitary, pretext=\"\\\\text{Circuit = } \")"
   ]
  },
  {
   "cell_type": "markdown",
   "metadata": {},
   "source": [
    "### 1.2. Create a circuit with 4 qubits $q_0, q_1, q_2, q_3$ with the following rules:\n",
    "\n",
    "- swap $q_1$ with $q_3$ if $q_0 == 0$ \n",
    "- swap $q_2$ with $q_3$ if $q_0 == 1$\n",
    "- leave $q_0$ unchanged at the end\n",
    "\n",
    "- _you may use X, CNOT, CSWAP and CCNOT_\n"
   ]
  },
  {
   "cell_type": "code",
   "execution_count": 6,
   "metadata": {},
   "outputs": [
    {
     "output_type": "execute_result",
     "data": {
      "text/plain": [
       "<Figure size 658.679x325.08 with 1 Axes>"
      ],
      "image/svg+xml": "<?xml version=\"1.0\" encoding=\"utf-8\" standalone=\"no\"?>\n<!DOCTYPE svg PUBLIC \"-//W3C//DTD SVG 1.1//EN\"\n  \"http://www.w3.org/Graphics/SVG/1.1/DTD/svg11.dtd\">\n<!-- Created with matplotlib (https://matplotlib.org/) -->\n<svg height=\"259.8354pt\" version=\"1.1\" viewBox=\"0 0 511.702344 259.8354\" width=\"511.702344pt\" xmlns=\"http://www.w3.org/2000/svg\" xmlns:xlink=\"http://www.w3.org/1999/xlink\">\n <metadata>\n  <rdf:RDF xmlns:cc=\"http://creativecommons.org/ns#\" xmlns:dc=\"http://purl.org/dc/elements/1.1/\" xmlns:rdf=\"http://www.w3.org/1999/02/22-rdf-syntax-ns#\">\n   <cc:Work>\n    <dc:type rdf:resource=\"http://purl.org/dc/dcmitype/StillImage\"/>\n    <dc:date>2021-03-13T18:59:17.420537</dc:date>\n    <dc:format>image/svg+xml</dc:format>\n    <dc:creator>\n     <cc:Agent>\n      <dc:title>Matplotlib v3.3.4, https://matplotlib.org/</dc:title>\n     </cc:Agent>\n    </dc:creator>\n   </cc:Work>\n  </rdf:RDF>\n </metadata>\n <defs>\n  <style type=\"text/css\">*{stroke-linecap:butt;stroke-linejoin:round;}</style>\n </defs>\n <g id=\"figure_1\">\n  <g id=\"patch_1\">\n   <path d=\"M 0 259.8354 \nL 511.702344 259.8354 \nL 511.702344 0 \nL 0 0 \nz\n\" style=\"fill:#ffffff;\"/>\n  </g>\n  <g id=\"axes_1\">\n   <g id=\"patch_2\">\n    <path clip-path=\"url(#p38e8d496de)\" d=\"M 332.243054 215.024697 \nL 344.060314 215.024697 \nL 338.151684 223.54676 \nz\n\" style=\"fill:#778899;\"/>\n   </g>\n   <g id=\"patch_3\">\n    <path clip-path=\"url(#p38e8d496de)\" d=\"M 377.694054 215.024697 \nL 389.511314 215.024697 \nL 383.602684 223.54676 \nz\n\" style=\"fill:#778899;\"/>\n   </g>\n   <g id=\"patch_4\">\n    <path clip-path=\"url(#p38e8d496de)\" d=\"M 423.145054 215.024697 \nL 434.962314 215.024697 \nL 429.053684 223.54676 \nz\n\" style=\"fill:#778899;\"/>\n   </g>\n   <g id=\"patch_5\">\n    <path clip-path=\"url(#p38e8d496de)\" d=\"M 468.596054 215.024697 \nL 480.413314 215.024697 \nL 474.504684 223.54676 \nz\n\" style=\"fill:#778899;\"/>\n   </g>\n   <g id=\"line2d_1\">\n    <path clip-path=\"url(#p38e8d496de)\" d=\"M 86.353144 43.5608 \nL 499.957244 43.5608 \n\" style=\"fill:none;stroke:#000000;stroke-linecap:square;stroke-width:2;\"/>\n   </g>\n   <g id=\"line2d_2\">\n    <path clip-path=\"url(#p38e8d496de)\" d=\"M 86.353144 89.0118 \nL 499.957244 89.0118 \n\" style=\"fill:none;stroke:#000000;stroke-linecap:square;stroke-width:2;\"/>\n   </g>\n   <g id=\"line2d_3\">\n    <path clip-path=\"url(#p38e8d496de)\" d=\"M 86.353144 134.4628 \nL 499.957244 134.4628 \n\" style=\"fill:none;stroke:#000000;stroke-linecap:square;stroke-width:2;\"/>\n   </g>\n   <g id=\"line2d_4\">\n    <path clip-path=\"url(#p38e8d496de)\" d=\"M 86.353144 179.9138 \nL 499.957244 179.9138 \n\" style=\"fill:none;stroke:#000000;stroke-linecap:square;stroke-width:2;\"/>\n   </g>\n   <g id=\"line2d_5\">\n    <path clip-path=\"url(#p38e8d496de)\" d=\"M 86.353144 223.887642 \nL 499.957244 223.887642 \n\" style=\"fill:none;stroke:#778899;stroke-linecap:square;stroke-width:2;\"/>\n   </g>\n   <g id=\"line2d_6\">\n    <path clip-path=\"url(#p38e8d496de)\" d=\"M 86.353144 226.841957 \nL 499.957244 226.841957 \n\" style=\"fill:none;stroke:#778899;stroke-linecap:square;stroke-width:2;\"/>\n   </g>\n   <g id=\"patch_6\">\n    <path clip-path=\"url(#p38e8d496de)\" d=\"M 283.837739 66.2863 \nL 301.563629 66.2863 \nL 301.563629 20.8353 \nL 283.837739 20.8353 \nz\n\" style=\"fill:#bdbdbd;opacity:0.6;\"/>\n   </g>\n   <g id=\"patch_7\">\n    <path clip-path=\"url(#p38e8d496de)\" d=\"M 283.837739 111.7373 \nL 301.563629 111.7373 \nL 301.563629 66.2863 \nL 283.837739 66.2863 \nz\n\" style=\"fill:#bdbdbd;opacity:0.6;\"/>\n   </g>\n   <g id=\"patch_8\">\n    <path clip-path=\"url(#p38e8d496de)\" d=\"M 283.837739 157.1883 \nL 301.563629 157.1883 \nL 301.563629 111.7373 \nL 283.837739 111.7373 \nz\n\" style=\"fill:#bdbdbd;opacity:0.6;\"/>\n   </g>\n   <g id=\"patch_9\">\n    <path clip-path=\"url(#p38e8d496de)\" d=\"M 283.837739 202.6393 \nL 301.563629 202.6393 \nL 301.563629 157.1883 \nL 283.837739 157.1883 \nz\n\" style=\"fill:#bdbdbd;opacity:0.6;\"/>\n   </g>\n   <g id=\"line2d_7\">\n    <path clip-path=\"url(#p38e8d496de)\" d=\"M 156.347684 179.9138 \nL 156.347684 43.5608 \n\" style=\"fill:none;stroke:#bb8bff;stroke-linecap:square;stroke-width:2;\"/>\n   </g>\n   <g id=\"line2d_8\">\n    <path clip-path=\"url(#p38e8d496de)\" d=\"M 247.249684 179.9138 \nL 247.249684 43.5608 \n\" style=\"fill:none;stroke:#bb8bff;stroke-linecap:square;stroke-width:2;\"/>\n   </g>\n   <g id=\"line2d_9\">\n    <path clip-path=\"url(#p38e8d496de)\" d=\"M 339.628841 43.5608 \nL 339.628841 215.024697 \n\" style=\"fill:none;stroke:#778899;stroke-linecap:square;stroke-width:2;\"/>\n   </g>\n   <g id=\"line2d_10\">\n    <path clip-path=\"url(#p38e8d496de)\" d=\"M 336.674526 43.5608 \nL 336.674526 215.024697 \n\" style=\"fill:none;stroke:#778899;stroke-linecap:square;stroke-width:2;\"/>\n   </g>\n   <g id=\"line2d_11\">\n    <path clip-path=\"url(#p38e8d496de)\" d=\"M 385.079841 89.0118 \nL 385.079841 215.024697 \n\" style=\"fill:none;stroke:#778899;stroke-linecap:square;stroke-width:2;\"/>\n   </g>\n   <g id=\"line2d_12\">\n    <path clip-path=\"url(#p38e8d496de)\" d=\"M 382.125526 89.0118 \nL 382.125526 215.024697 \n\" style=\"fill:none;stroke:#778899;stroke-linecap:square;stroke-width:2;\"/>\n   </g>\n   <g id=\"line2d_13\">\n    <path clip-path=\"url(#p38e8d496de)\" d=\"M 430.530841 134.4628 \nL 430.530841 215.024697 \n\" style=\"fill:none;stroke:#778899;stroke-linecap:square;stroke-width:2;\"/>\n   </g>\n   <g id=\"line2d_14\">\n    <path clip-path=\"url(#p38e8d496de)\" d=\"M 427.576526 134.4628 \nL 427.576526 215.024697 \n\" style=\"fill:none;stroke:#778899;stroke-linecap:square;stroke-width:2;\"/>\n   </g>\n   <g id=\"line2d_15\">\n    <path clip-path=\"url(#p38e8d496de)\" d=\"M 475.981841 179.9138 \nL 475.981841 215.024697 \n\" style=\"fill:none;stroke:#778899;stroke-linecap:square;stroke-width:2;\"/>\n   </g>\n   <g id=\"line2d_16\">\n    <path clip-path=\"url(#p38e8d496de)\" d=\"M 473.027526 179.9138 \nL 473.027526 215.024697 \n\" style=\"fill:none;stroke:#778899;stroke-linecap:square;stroke-width:2;\"/>\n   </g>\n   <g id=\"line2d_17\">\n    <path clip-path=\"url(#p38e8d496de)\" d=\"M 95.443344 229.9099 \nL 99.988444 220.8197 \n\" style=\"fill:none;stroke:#778899;stroke-linecap:square;stroke-width:1.5;\"/>\n   </g>\n   <g id=\"line2d_18\">\n    <path clip-path=\"url(#p38e8d496de)\" d=\"M 150.439054 94.92043 \nL 162.256314 83.10317 \n\" style=\"fill:none;stroke:#bb8bff;stroke-linecap:square;stroke-width:2;\"/>\n   </g>\n   <g id=\"line2d_19\">\n    <path clip-path=\"url(#p38e8d496de)\" d=\"M 150.439054 83.10317 \nL 162.256314 94.92043 \n\" style=\"fill:none;stroke:#bb8bff;stroke-linecap:square;stroke-width:2;\"/>\n   </g>\n   <g id=\"line2d_20\">\n    <path clip-path=\"url(#p38e8d496de)\" d=\"M 150.439054 185.82243 \nL 162.256314 174.00517 \n\" style=\"fill:none;stroke:#bb8bff;stroke-linecap:square;stroke-width:2;\"/>\n   </g>\n   <g id=\"line2d_21\">\n    <path clip-path=\"url(#p38e8d496de)\" d=\"M 150.439054 174.00517 \nL 162.256314 185.82243 \n\" style=\"fill:none;stroke:#bb8bff;stroke-linecap:square;stroke-width:2;\"/>\n   </g>\n   <g id=\"line2d_22\">\n    <path clip-path=\"url(#p38e8d496de)\" d=\"M 241.341054 140.37143 \nL 253.158314 128.55417 \n\" style=\"fill:none;stroke:#bb8bff;stroke-linecap:square;stroke-width:2;\"/>\n   </g>\n   <g id=\"line2d_23\">\n    <path clip-path=\"url(#p38e8d496de)\" d=\"M 241.341054 128.55417 \nL 253.158314 140.37143 \n\" style=\"fill:none;stroke:#bb8bff;stroke-linecap:square;stroke-width:2;\"/>\n   </g>\n   <g id=\"line2d_24\">\n    <path clip-path=\"url(#p38e8d496de)\" d=\"M 241.341054 185.82243 \nL 253.158314 174.00517 \n\" style=\"fill:none;stroke:#bb8bff;stroke-linecap:square;stroke-width:2;\"/>\n   </g>\n   <g id=\"line2d_25\">\n    <path clip-path=\"url(#p38e8d496de)\" d=\"M 241.341054 174.00517 \nL 253.158314 185.82243 \n\" style=\"fill:none;stroke:#bb8bff;stroke-linecap:square;stroke-width:2;\"/>\n   </g>\n   <g id=\"patch_10\">\n    <path clip-path=\"url(#p38e8d496de)\" d=\"M 96.125109 58.332375 \nL 125.668259 58.332375 \nL 125.668259 28.789225 \nL 96.125109 28.789225 \nz\n\" style=\"fill:#05bab6;stroke:#05bab6;stroke-linejoin:miter;stroke-width:1.5;\"/>\n   </g>\n   <g id=\"patch_11\">\n    <path clip-path=\"url(#p38e8d496de)\" d=\"M 156.347684 47.992272 \nC 157.522924 47.992272 158.650188 47.525345 159.481208 46.694324 \nC 160.312228 45.863304 160.779156 44.73604 160.779156 43.5608 \nC 160.779156 42.38556 160.312228 41.258296 159.481208 40.427276 \nC 158.650188 39.596255 157.522924 39.129327 156.347684 39.129327 \nC 155.172444 39.129327 154.04518 39.596255 153.214159 40.427276 \nC 152.383139 41.258296 151.916211 42.38556 151.916211 43.5608 \nC 151.916211 44.73604 152.383139 45.863304 153.214159 46.694324 \nC 154.04518 47.525345 155.172444 47.992272 156.347684 47.992272 \nz\n\" style=\"fill:#bb8bff;stroke:#bb8bff;stroke-linejoin:miter;stroke-width:1.5;\"/>\n   </g>\n   <g id=\"patch_12\">\n    <path clip-path=\"url(#p38e8d496de)\" d=\"M 187.027109 58.332375 \nL 216.570259 58.332375 \nL 216.570259 28.789225 \nL 187.027109 28.789225 \nz\n\" style=\"fill:#05bab6;stroke:#05bab6;stroke-linejoin:miter;stroke-width:1.5;\"/>\n   </g>\n   <g id=\"patch_13\">\n    <path clip-path=\"url(#p38e8d496de)\" d=\"M 247.249684 47.992272 \nC 248.424924 47.992272 249.552188 47.525345 250.383208 46.694324 \nC 251.214228 45.863304 251.681156 44.73604 251.681156 43.5608 \nC 251.681156 42.38556 251.214228 41.258296 250.383208 40.427276 \nC 249.552188 39.596255 248.424924 39.129327 247.249684 39.129327 \nC 246.074444 39.129327 244.94718 39.596255 244.116159 40.427276 \nC 243.285139 41.258296 242.818211 42.38556 242.818211 43.5608 \nC 242.818211 44.73604 243.285139 45.863304 244.116159 46.694324 \nC 244.94718 47.525345 246.074444 47.992272 247.249684 47.992272 \nz\n\" style=\"fill:#bb8bff;stroke:#bb8bff;stroke-linejoin:miter;stroke-width:1.5;\"/>\n   </g>\n   <g id=\"patch_14\">\n    <path clip-path=\"url(#p38e8d496de)\" d=\"M 323.380109 58.332375 \nL 352.923259 58.332375 \nL 352.923259 28.789225 \nL 323.380109 28.789225 \nz\n\" style=\"stroke:#000000;stroke-linejoin:miter;stroke-width:1.5;\"/>\n   </g>\n   <g id=\"patch_15\">\n    <path clip-path=\"url(#p38e8d496de)\" d=\"M 348.491786 47.992272 \nC 348.491786 45.250959 347.401642 42.619118 345.46324 40.680716 \nC 343.524839 38.742314 340.892998 37.65217 338.151684 37.65217 \nC 335.41037 37.65217 332.778529 38.742314 330.840127 40.680716 \nC 328.901725 42.619118 327.811581 45.250959 327.811581 47.992272 \n\" style=\"fill:none;stroke:#ffffff;stroke-linejoin:miter;stroke-width:2;\"/>\n   </g>\n   <g id=\"patch_16\">\n    <path clip-path=\"url(#p38e8d496de)\" d=\"M 368.831109 103.783375 \nL 398.374259 103.783375 \nL 398.374259 74.240225 \nL 368.831109 74.240225 \nz\n\" style=\"stroke:#000000;stroke-linejoin:miter;stroke-width:1.5;\"/>\n   </g>\n   <g id=\"patch_17\">\n    <path clip-path=\"url(#p38e8d496de)\" d=\"M 393.942786 93.443272 \nC 393.942786 90.701959 392.852642 88.070118 390.91424 86.131716 \nC 388.975839 84.193314 386.343998 83.10317 383.602684 83.10317 \nC 380.86137 83.10317 378.229529 84.193314 376.291127 86.131716 \nC 374.352725 88.070118 373.262581 90.701959 373.262581 93.443272 \n\" style=\"fill:none;stroke:#ffffff;stroke-linejoin:miter;stroke-width:2;\"/>\n   </g>\n   <g id=\"patch_18\">\n    <path clip-path=\"url(#p38e8d496de)\" d=\"M 414.282109 149.234375 \nL 443.825259 149.234375 \nL 443.825259 119.691225 \nL 414.282109 119.691225 \nz\n\" style=\"stroke:#000000;stroke-linejoin:miter;stroke-width:1.5;\"/>\n   </g>\n   <g id=\"patch_19\">\n    <path clip-path=\"url(#p38e8d496de)\" d=\"M 439.393786 138.894272 \nC 439.393786 136.152959 438.303642 133.521118 436.36524 131.582716 \nC 434.426839 129.644314 431.794998 128.55417 429.053684 128.55417 \nC 426.31237 128.55417 423.680529 129.644314 421.742127 131.582716 \nC 419.803725 133.521118 418.713581 136.152959 418.713581 138.894272 \n\" style=\"fill:none;stroke:#ffffff;stroke-linejoin:miter;stroke-width:2;\"/>\n   </g>\n   <g id=\"patch_20\">\n    <path clip-path=\"url(#p38e8d496de)\" d=\"M 459.733109 194.685375 \nL 489.276259 194.685375 \nL 489.276259 165.142225 \nL 459.733109 165.142225 \nz\n\" style=\"stroke:#000000;stroke-linejoin:miter;stroke-width:1.5;\"/>\n   </g>\n   <g id=\"patch_21\">\n    <path clip-path=\"url(#p38e8d496de)\" d=\"M 484.844786 184.345272 \nC 484.844786 181.603959 483.754642 178.972118 481.81624 177.033716 \nC 479.877839 175.095314 477.245998 174.00517 474.504684 174.00517 \nC 471.76337 174.00517 469.131529 175.095314 467.193127 177.033716 \nC 465.254725 178.972118 464.164581 181.603959 464.164581 184.345272 \n\" style=\"fill:none;stroke:#ffffff;stroke-linejoin:miter;stroke-width:2;\"/>\n   </g>\n   <g id=\"line2d_26\">\n    <path clip-path=\"url(#p38e8d496de)\" d=\"M 338.151684 47.992272 \nL 348.491786 37.65217 \n\" style=\"fill:none;stroke:#ffffff;stroke-linecap:square;stroke-width:2;\"/>\n   </g>\n   <g id=\"line2d_27\">\n    <path clip-path=\"url(#p38e8d496de)\" d=\"M 383.602684 93.443272 \nL 393.942786 83.10317 \n\" style=\"fill:none;stroke:#ffffff;stroke-linecap:square;stroke-width:2;\"/>\n   </g>\n   <g id=\"line2d_28\">\n    <path clip-path=\"url(#p38e8d496de)\" d=\"M 429.053684 138.894272 \nL 439.393786 128.55417 \n\" style=\"fill:none;stroke:#ffffff;stroke-linecap:square;stroke-width:2;\"/>\n   </g>\n   <g id=\"line2d_29\">\n    <path clip-path=\"url(#p38e8d496de)\" d=\"M 474.504684 184.345272 \nL 484.844786 174.00517 \n\" style=\"fill:none;stroke:#ffffff;stroke-linecap:square;stroke-width:2;\"/>\n   </g>\n   <g id=\"line2d_30\">\n    <path clip-path=\"url(#p38e8d496de)\" d=\"M 292.700684 20.8353 \nL 292.700684 66.2863 \n\" style=\"fill:none;stroke:#000000;stroke-dasharray:3.7,1.6;stroke-dashoffset:0;\"/>\n   </g>\n   <g id=\"line2d_31\">\n    <path clip-path=\"url(#p38e8d496de)\" d=\"M 292.700684 66.2863 \nL 292.700684 111.7373 \n\" style=\"fill:none;stroke:#000000;stroke-dasharray:3.7,1.6;stroke-dashoffset:0;\"/>\n   </g>\n   <g id=\"line2d_32\">\n    <path clip-path=\"url(#p38e8d496de)\" d=\"M 292.700684 111.7373 \nL 292.700684 157.1883 \n\" style=\"fill:none;stroke:#000000;stroke-dasharray:3.7,1.6;stroke-dashoffset:0;\"/>\n   </g>\n   <g id=\"line2d_33\">\n    <path clip-path=\"url(#p38e8d496de)\" d=\"M 292.700684 157.1883 \nL 292.700684 202.6393 \n\" style=\"fill:none;stroke:#000000;stroke-dasharray:3.7,1.6;stroke-dashoffset:0;\"/>\n   </g>\n   <g id=\"text_1\">\n    <g clip-path=\"url(#p38e8d496de)\">\n     <!-- X -->\n     <g transform=\"translate(106.444184 47.147987)scale(0.13 -0.13)\">\n      <defs>\n       <path d=\"M 6.296875 72.90625 \nL 16.890625 72.90625 \nL 35.015625 45.796875 \nL 53.21875 72.90625 \nL 63.8125 72.90625 \nL 40.375 37.890625 \nL 65.375 0 \nL 54.78125 0 \nL 34.28125 31 \nL 13.625 0 \nL 2.984375 0 \nL 29 38.921875 \nz\n\" id=\"DejaVuSans-88\"/>\n      </defs>\n      <use xlink:href=\"#DejaVuSans-88\"/>\n     </g>\n    </g>\n   </g>\n   <g id=\"text_2\">\n    <g clip-path=\"url(#p38e8d496de)\">\n     <!-- X -->\n     <g transform=\"translate(197.346184 47.147987)scale(0.13 -0.13)\">\n      <use xlink:href=\"#DejaVuSans-88\"/>\n     </g>\n    </g>\n   </g>\n   <g id=\"text_3\">\n    <g clip-path=\"url(#p38e8d496de)\">\n     <!-- 0 -->\n     <g transform=\"translate(349.514434 218.656825)scale(0.104 -0.104)\">\n      <defs>\n       <path d=\"M 31.78125 66.40625 \nQ 24.171875 66.40625 20.328125 58.90625 \nQ 16.5 51.421875 16.5 36.375 \nQ 16.5 21.390625 20.328125 13.890625 \nQ 24.171875 6.390625 31.78125 6.390625 \nQ 39.453125 6.390625 43.28125 13.890625 \nQ 47.125 21.390625 47.125 36.375 \nQ 47.125 51.421875 43.28125 58.90625 \nQ 39.453125 66.40625 31.78125 66.40625 \nz\nM 31.78125 74.21875 \nQ 44.046875 74.21875 50.515625 64.515625 \nQ 56.984375 54.828125 56.984375 36.375 \nQ 56.984375 17.96875 50.515625 8.265625 \nQ 44.046875 -1.421875 31.78125 -1.421875 \nQ 19.53125 -1.421875 13.0625 8.265625 \nQ 6.59375 17.96875 6.59375 36.375 \nQ 6.59375 54.828125 13.0625 64.515625 \nQ 19.53125 74.21875 31.78125 74.21875 \nz\n\" id=\"DejaVuSans-48\"/>\n      </defs>\n      <use xlink:href=\"#DejaVuSans-48\"/>\n     </g>\n    </g>\n   </g>\n   <g id=\"text_4\">\n    <g clip-path=\"url(#p38e8d496de)\">\n     <!-- 1 -->\n     <g transform=\"translate(394.965434 218.656825)scale(0.104 -0.104)\">\n      <defs>\n       <path d=\"M 12.40625 8.296875 \nL 28.515625 8.296875 \nL 28.515625 63.921875 \nL 10.984375 60.40625 \nL 10.984375 69.390625 \nL 28.421875 72.90625 \nL 38.28125 72.90625 \nL 38.28125 8.296875 \nL 54.390625 8.296875 \nL 54.390625 0 \nL 12.40625 0 \nz\n\" id=\"DejaVuSans-49\"/>\n      </defs>\n      <use xlink:href=\"#DejaVuSans-49\"/>\n     </g>\n    </g>\n   </g>\n   <g id=\"text_5\">\n    <g clip-path=\"url(#p38e8d496de)\">\n     <!-- 2 -->\n     <g transform=\"translate(440.416434 218.656825)scale(0.104 -0.104)\">\n      <defs>\n       <path d=\"M 19.1875 8.296875 \nL 53.609375 8.296875 \nL 53.609375 0 \nL 7.328125 0 \nL 7.328125 8.296875 \nQ 12.9375 14.109375 22.625 23.890625 \nQ 32.328125 33.6875 34.8125 36.53125 \nQ 39.546875 41.84375 41.421875 45.53125 \nQ 43.3125 49.21875 43.3125 52.78125 \nQ 43.3125 58.59375 39.234375 62.25 \nQ 35.15625 65.921875 28.609375 65.921875 \nQ 23.96875 65.921875 18.8125 64.3125 \nQ 13.671875 62.703125 7.8125 59.421875 \nL 7.8125 69.390625 \nQ 13.765625 71.78125 18.9375 73 \nQ 24.125 74.21875 28.421875 74.21875 \nQ 39.75 74.21875 46.484375 68.546875 \nQ 53.21875 62.890625 53.21875 53.421875 \nQ 53.21875 48.921875 51.53125 44.890625 \nQ 49.859375 40.875 45.40625 35.40625 \nQ 44.1875 33.984375 37.640625 27.21875 \nQ 31.109375 20.453125 19.1875 8.296875 \nz\n\" id=\"DejaVuSans-50\"/>\n      </defs>\n      <use xlink:href=\"#DejaVuSans-50\"/>\n     </g>\n    </g>\n   </g>\n   <g id=\"text_6\">\n    <g clip-path=\"url(#p38e8d496de)\">\n     <!-- 3 -->\n     <g transform=\"translate(485.867434 218.656825)scale(0.104 -0.104)\">\n      <defs>\n       <path d=\"M 40.578125 39.3125 \nQ 47.65625 37.796875 51.625 33 \nQ 55.609375 28.21875 55.609375 21.1875 \nQ 55.609375 10.40625 48.1875 4.484375 \nQ 40.765625 -1.421875 27.09375 -1.421875 \nQ 22.515625 -1.421875 17.65625 -0.515625 \nQ 12.796875 0.390625 7.625 2.203125 \nL 7.625 11.71875 \nQ 11.71875 9.328125 16.59375 8.109375 \nQ 21.484375 6.890625 26.8125 6.890625 \nQ 36.078125 6.890625 40.9375 10.546875 \nQ 45.796875 14.203125 45.796875 21.1875 \nQ 45.796875 27.640625 41.28125 31.265625 \nQ 36.765625 34.90625 28.71875 34.90625 \nL 20.21875 34.90625 \nL 20.21875 43.015625 \nL 29.109375 43.015625 \nQ 36.375 43.015625 40.234375 45.921875 \nQ 44.09375 48.828125 44.09375 54.296875 \nQ 44.09375 59.90625 40.109375 62.90625 \nQ 36.140625 65.921875 28.71875 65.921875 \nQ 24.65625 65.921875 20.015625 65.03125 \nQ 15.375 64.15625 9.8125 62.3125 \nL 9.8125 71.09375 \nQ 15.4375 72.65625 20.34375 73.4375 \nQ 25.25 74.21875 29.59375 74.21875 \nQ 40.828125 74.21875 47.359375 69.109375 \nQ 53.90625 64.015625 53.90625 55.328125 \nQ 53.90625 49.265625 50.4375 45.09375 \nQ 46.96875 40.921875 40.578125 39.3125 \nz\n\" id=\"DejaVuSans-51\"/>\n      </defs>\n      <use xlink:href=\"#DejaVuSans-51\"/>\n     </g>\n    </g>\n   </g>\n   <g id=\"text_7\">\n    <g clip-path=\"url(#p38e8d496de)\">\n     <!-- ${q}_{0}$ -->\n     <g transform=\"translate(59.225444 48.011777)scale(0.1625 -0.1625)\">\n      <defs>\n       <path d=\"M 41.703125 8.203125 \nQ 38.09375 3.46875 33.171875 1.015625 \nQ 28.265625 -1.421875 22.3125 -1.421875 \nQ 14.015625 -1.421875 9.296875 4.171875 \nQ 4.59375 9.765625 4.59375 19.578125 \nQ 4.59375 27.484375 7.5 34.859375 \nQ 10.40625 42.234375 15.828125 48.09375 \nQ 19.34375 51.90625 23.90625 53.953125 \nQ 28.46875 56 33.5 56 \nQ 39.546875 56 43.453125 53.609375 \nQ 47.359375 51.21875 49.125 46.390625 \nL 50.6875 54.59375 \nL 59.71875 54.59375 \nL 45.125 -20.609375 \nL 36.078125 -20.609375 \nz\nM 13.921875 20.90625 \nQ 13.921875 13.671875 16.9375 9.890625 \nQ 19.96875 6.109375 25.6875 6.109375 \nQ 34.1875 6.109375 40.1875 14.234375 \nQ 46.1875 22.359375 46.1875 33.984375 \nQ 46.1875 41.015625 43.078125 44.75 \nQ 39.984375 48.484375 34.1875 48.484375 \nQ 29.9375 48.484375 26.3125 46.5 \nQ 22.703125 44.53125 20.015625 40.71875 \nQ 17.1875 36.71875 15.546875 31.34375 \nQ 13.921875 25.984375 13.921875 20.90625 \nz\n\" id=\"DejaVuSans-Oblique-113\"/>\n      </defs>\n      <use xlink:href=\"#DejaVuSans-Oblique-113\"/>\n      <use transform=\"translate(63.476562 -16.40625)scale(0.7)\" xlink:href=\"#DejaVuSans-48\"/>\n     </g>\n    </g>\n   </g>\n   <g id=\"text_8\">\n    <g clip-path=\"url(#p38e8d496de)\">\n     <!-- ${q}_{1}$ -->\n     <g transform=\"translate(59.225444 93.462777)scale(0.1625 -0.1625)\">\n      <use xlink:href=\"#DejaVuSans-Oblique-113\"/>\n      <use transform=\"translate(63.476562 -16.40625)scale(0.7)\" xlink:href=\"#DejaVuSans-49\"/>\n     </g>\n    </g>\n   </g>\n   <g id=\"text_9\">\n    <g clip-path=\"url(#p38e8d496de)\">\n     <!-- ${q}_{2}$ -->\n     <g transform=\"translate(59.225444 138.913777)scale(0.1625 -0.1625)\">\n      <use xlink:href=\"#DejaVuSans-Oblique-113\"/>\n      <use transform=\"translate(63.476562 -16.40625)scale(0.7)\" xlink:href=\"#DejaVuSans-50\"/>\n     </g>\n    </g>\n   </g>\n   <g id=\"text_10\">\n    <g clip-path=\"url(#p38e8d496de)\">\n     <!-- ${q}_{3}$ -->\n     <g transform=\"translate(59.225444 184.364777)scale(0.1625 -0.1625)\">\n      <use xlink:href=\"#DejaVuSans-Oblique-113\"/>\n      <use transform=\"translate(63.476562 -16.40625)scale(0.7)\" xlink:href=\"#DejaVuSans-51\"/>\n     </g>\n    </g>\n   </g>\n   <g id=\"text_11\">\n    <g clip-path=\"url(#p38e8d496de)\">\n     <!-- 4 -->\n     <g transform=\"translate(90.898244 218.656825)scale(0.104 -0.104)\">\n      <defs>\n       <path d=\"M 37.796875 64.3125 \nL 12.890625 25.390625 \nL 37.796875 25.390625 \nz\nM 35.203125 72.90625 \nL 47.609375 72.90625 \nL 47.609375 25.390625 \nL 58.015625 25.390625 \nL 58.015625 17.1875 \nL 47.609375 17.1875 \nL 47.609375 0 \nL 37.796875 0 \nL 37.796875 17.1875 \nL 4.890625 17.1875 \nL 4.890625 26.703125 \nz\n\" id=\"DejaVuSans-52\"/>\n      </defs>\n      <use xlink:href=\"#DejaVuSans-52\"/>\n     </g>\n    </g>\n   </g>\n   <g id=\"text_12\">\n    <g clip-path=\"url(#p38e8d496de)\">\n     <!-- meas -->\n     <g transform=\"translate(33.012163 229.848784)scale(0.1625 -0.1625)\">\n      <defs>\n       <path d=\"M 52 44.1875 \nQ 55.375 50.25 60.0625 53.125 \nQ 64.75 56 71.09375 56 \nQ 79.640625 56 84.28125 50.015625 \nQ 88.921875 44.046875 88.921875 33.015625 \nL 88.921875 0 \nL 79.890625 0 \nL 79.890625 32.71875 \nQ 79.890625 40.578125 77.09375 44.375 \nQ 74.3125 48.1875 68.609375 48.1875 \nQ 61.625 48.1875 57.5625 43.546875 \nQ 53.515625 38.921875 53.515625 30.90625 \nL 53.515625 0 \nL 44.484375 0 \nL 44.484375 32.71875 \nQ 44.484375 40.625 41.703125 44.40625 \nQ 38.921875 48.1875 33.109375 48.1875 \nQ 26.21875 48.1875 22.15625 43.53125 \nQ 18.109375 38.875 18.109375 30.90625 \nL 18.109375 0 \nL 9.078125 0 \nL 9.078125 54.6875 \nL 18.109375 54.6875 \nL 18.109375 46.1875 \nQ 21.1875 51.21875 25.484375 53.609375 \nQ 29.78125 56 35.6875 56 \nQ 41.65625 56 45.828125 52.96875 \nQ 50 49.953125 52 44.1875 \nz\n\" id=\"DejaVuSans-109\"/>\n       <path d=\"M 56.203125 29.59375 \nL 56.203125 25.203125 \nL 14.890625 25.203125 \nQ 15.484375 15.921875 20.484375 11.0625 \nQ 25.484375 6.203125 34.421875 6.203125 \nQ 39.59375 6.203125 44.453125 7.46875 \nQ 49.3125 8.734375 54.109375 11.28125 \nL 54.109375 2.78125 \nQ 49.265625 0.734375 44.1875 -0.34375 \nQ 39.109375 -1.421875 33.890625 -1.421875 \nQ 20.796875 -1.421875 13.15625 6.1875 \nQ 5.515625 13.8125 5.515625 26.8125 \nQ 5.515625 40.234375 12.765625 48.109375 \nQ 20.015625 56 32.328125 56 \nQ 43.359375 56 49.78125 48.890625 \nQ 56.203125 41.796875 56.203125 29.59375 \nz\nM 47.21875 32.234375 \nQ 47.125 39.59375 43.09375 43.984375 \nQ 39.0625 48.390625 32.421875 48.390625 \nQ 24.90625 48.390625 20.390625 44.140625 \nQ 15.875 39.890625 15.1875 32.171875 \nz\n\" id=\"DejaVuSans-101\"/>\n       <path d=\"M 34.28125 27.484375 \nQ 23.390625 27.484375 19.1875 25 \nQ 14.984375 22.515625 14.984375 16.5 \nQ 14.984375 11.71875 18.140625 8.90625 \nQ 21.296875 6.109375 26.703125 6.109375 \nQ 34.1875 6.109375 38.703125 11.40625 \nQ 43.21875 16.703125 43.21875 25.484375 \nL 43.21875 27.484375 \nz\nM 52.203125 31.203125 \nL 52.203125 0 \nL 43.21875 0 \nL 43.21875 8.296875 \nQ 40.140625 3.328125 35.546875 0.953125 \nQ 30.953125 -1.421875 24.3125 -1.421875 \nQ 15.921875 -1.421875 10.953125 3.296875 \nQ 6 8.015625 6 15.921875 \nQ 6 25.140625 12.171875 29.828125 \nQ 18.359375 34.515625 30.609375 34.515625 \nL 43.21875 34.515625 \nL 43.21875 35.40625 \nQ 43.21875 41.609375 39.140625 45 \nQ 35.0625 48.390625 27.6875 48.390625 \nQ 23 48.390625 18.546875 47.265625 \nQ 14.109375 46.140625 10.015625 43.890625 \nL 10.015625 52.203125 \nQ 14.9375 54.109375 19.578125 55.046875 \nQ 24.21875 56 28.609375 56 \nQ 40.484375 56 46.34375 49.84375 \nQ 52.203125 43.703125 52.203125 31.203125 \nz\n\" id=\"DejaVuSans-97\"/>\n       <path d=\"M 44.28125 53.078125 \nL 44.28125 44.578125 \nQ 40.484375 46.53125 36.375 47.5 \nQ 32.28125 48.484375 27.875 48.484375 \nQ 21.1875 48.484375 17.84375 46.4375 \nQ 14.5 44.390625 14.5 40.28125 \nQ 14.5 37.15625 16.890625 35.375 \nQ 19.28125 33.59375 26.515625 31.984375 \nL 29.59375 31.296875 \nQ 39.15625 29.25 43.1875 25.515625 \nQ 47.21875 21.78125 47.21875 15.09375 \nQ 47.21875 7.46875 41.1875 3.015625 \nQ 35.15625 -1.421875 24.609375 -1.421875 \nQ 20.21875 -1.421875 15.453125 -0.5625 \nQ 10.6875 0.296875 5.421875 2 \nL 5.421875 11.28125 \nQ 10.40625 8.6875 15.234375 7.390625 \nQ 20.0625 6.109375 24.8125 6.109375 \nQ 31.15625 6.109375 34.5625 8.28125 \nQ 37.984375 10.453125 37.984375 14.40625 \nQ 37.984375 18.0625 35.515625 20.015625 \nQ 33.0625 21.96875 24.703125 23.78125 \nL 21.578125 24.515625 \nQ 13.234375 26.265625 9.515625 29.90625 \nQ 5.8125 33.546875 5.8125 39.890625 \nQ 5.8125 47.609375 11.28125 51.796875 \nQ 16.75 56 26.8125 56 \nQ 31.78125 56 36.171875 55.265625 \nQ 40.578125 54.546875 44.28125 53.078125 \nz\n\" id=\"DejaVuSans-115\"/>\n      </defs>\n      <use xlink:href=\"#DejaVuSans-109\"/>\n      <use x=\"97.412109\" xlink:href=\"#DejaVuSans-101\"/>\n      <use x=\"158.935547\" xlink:href=\"#DejaVuSans-97\"/>\n      <use x=\"220.214844\" xlink:href=\"#DejaVuSans-115\"/>\n     </g>\n    </g>\n   </g>\n  </g>\n </g>\n <defs>\n  <clipPath id=\"p38e8d496de\">\n   <rect height=\"245.4354\" width=\"497.302344\" x=\"7.2\" y=\"7.2\"/>\n  </clipPath>\n </defs>\n</svg>\n",
      "image/png": "[encoded data removed]"
     },
     "metadata": {},
     "execution_count": 6
    }
   ],
   "source": [
    "qc = QuantumCircuit(4)\n",
    "qc.x(0)\n",
    "qc.cswap(0, 1, 3)\n",
    "qc.x(0)\n",
    "qc.cswap(0, 2, 3)\n",
    "qc.measure_all()\n",
    "qc.draw(output='mpl')"
   ]
  },
  {
   "cell_type": "markdown",
   "metadata": {},
   "source": [
    "### 1.3 Create a circuit with qubits $q_0, q_1, q_2, q_3$  with the following rules: \n",
    "\n",
    "- swap $q_2$ with $q_3$ if and only if $q_0 == 1$ and $q_1 == 1$ \n",
    "- you may use an additionnal qubit $q_4$ (will start and end with value |0>)\n",
    "\n",
    "\n",
    "- _you may use X, CNOT, CSWAP and CCNOT_\n"
   ]
  },
  {
   "cell_type": "code",
   "execution_count": 7,
   "metadata": {},
   "outputs": [
    {
     "output_type": "execute_result",
     "data": {
      "text/plain": [
       "<Figure size 598.479x385.28 with 1 Axes>"
      ],
      "image/svg+xml": "<?xml version=\"1.0\" encoding=\"utf-8\" standalone=\"no\"?>\n<!DOCTYPE svg PUBLIC \"-//W3C//DTD SVG 1.1//EN\"\n  \"http://www.w3.org/Graphics/SVG/1.1/DTD/svg11.dtd\">\n<!-- Created with matplotlib (https://matplotlib.org/) -->\n<svg height=\"305.2864pt\" version=\"1.1\" viewBox=\"0 0 466.251344 305.2864\" width=\"466.251344pt\" xmlns=\"http://www.w3.org/2000/svg\" xmlns:xlink=\"http://www.w3.org/1999/xlink\">\n <metadata>\n  <rdf:RDF xmlns:cc=\"http://creativecommons.org/ns#\" xmlns:dc=\"http://purl.org/dc/elements/1.1/\" xmlns:rdf=\"http://www.w3.org/1999/02/22-rdf-syntax-ns#\">\n   <cc:Work>\n    <dc:type rdf:resource=\"http://purl.org/dc/dcmitype/StillImage\"/>\n    <dc:date>2021-03-13T19:02:03.603920</dc:date>\n    <dc:format>image/svg+xml</dc:format>\n    <dc:creator>\n     <cc:Agent>\n      <dc:title>Matplotlib v3.3.4, https://matplotlib.org/</dc:title>\n     </cc:Agent>\n    </dc:creator>\n   </cc:Work>\n  </rdf:RDF>\n </metadata>\n <defs>\n  <style type=\"text/css\">*{stroke-linecap:butt;stroke-linejoin:round;}</style>\n </defs>\n <g id=\"figure_1\">\n  <g id=\"patch_1\">\n   <path d=\"M 0 305.2864 \nL 466.251344 305.2864 \nL 466.251344 0 \nL 0 0 \nz\n\" style=\"fill:#ffffff;\"/>\n  </g>\n  <g id=\"axes_1\">\n   <g id=\"patch_2\">\n    <path clip-path=\"url(#pc12b2893ed)\" d=\"M 241.341054 260.475697 \nL 253.158314 260.475697 \nL 247.249684 268.99776 \nz\n\" style=\"fill:#778899;\"/>\n   </g>\n   <g id=\"patch_3\">\n    <path clip-path=\"url(#pc12b2893ed)\" d=\"M 286.792054 260.475697 \nL 298.609314 260.475697 \nL 292.700684 268.99776 \nz\n\" style=\"fill:#778899;\"/>\n   </g>\n   <g id=\"patch_4\">\n    <path clip-path=\"url(#pc12b2893ed)\" d=\"M 332.243054 260.475697 \nL 344.060314 260.475697 \nL 338.151684 268.99776 \nz\n\" style=\"fill:#778899;\"/>\n   </g>\n   <g id=\"patch_5\">\n    <path clip-path=\"url(#pc12b2893ed)\" d=\"M 377.694054 260.475697 \nL 389.511314 260.475697 \nL 383.602684 268.99776 \nz\n\" style=\"fill:#778899;\"/>\n   </g>\n   <g id=\"patch_6\">\n    <path clip-path=\"url(#pc12b2893ed)\" d=\"M 423.145054 260.475697 \nL 434.962314 260.475697 \nL 429.053684 268.99776 \nz\n\" style=\"fill:#778899;\"/>\n   </g>\n   <g id=\"line2d_1\">\n    <path clip-path=\"url(#pc12b2893ed)\" d=\"M 86.353144 43.5608 \nL 454.506244 43.5608 \n\" style=\"fill:none;stroke:#000000;stroke-linecap:square;stroke-width:2;\"/>\n   </g>\n   <g id=\"line2d_2\">\n    <path clip-path=\"url(#pc12b2893ed)\" d=\"M 86.353144 89.0118 \nL 454.506244 89.0118 \n\" style=\"fill:none;stroke:#000000;stroke-linecap:square;stroke-width:2;\"/>\n   </g>\n   <g id=\"line2d_3\">\n    <path clip-path=\"url(#pc12b2893ed)\" d=\"M 86.353144 134.4628 \nL 454.506244 134.4628 \n\" style=\"fill:none;stroke:#000000;stroke-linecap:square;stroke-width:2;\"/>\n   </g>\n   <g id=\"line2d_4\">\n    <path clip-path=\"url(#pc12b2893ed)\" d=\"M 86.353144 179.9138 \nL 454.506244 179.9138 \n\" style=\"fill:none;stroke:#000000;stroke-linecap:square;stroke-width:2;\"/>\n   </g>\n   <g id=\"line2d_5\">\n    <path clip-path=\"url(#pc12b2893ed)\" d=\"M 86.353144 225.3648 \nL 454.506244 225.3648 \n\" style=\"fill:none;stroke:#000000;stroke-linecap:square;stroke-width:2;\"/>\n   </g>\n   <g id=\"line2d_6\">\n    <path clip-path=\"url(#pc12b2893ed)\" d=\"M 86.353144 269.338642 \nL 454.506244 269.338642 \n\" style=\"fill:none;stroke:#778899;stroke-linecap:square;stroke-width:2;\"/>\n   </g>\n   <g id=\"line2d_7\">\n    <path clip-path=\"url(#pc12b2893ed)\" d=\"M 86.353144 272.292957 \nL 454.506244 272.292957 \n\" style=\"fill:none;stroke:#778899;stroke-linecap:square;stroke-width:2;\"/>\n   </g>\n   <g id=\"patch_7\">\n    <path clip-path=\"url(#pc12b2893ed)\" d=\"M 192.935739 66.2863 \nL 210.661629 66.2863 \nL 210.661629 20.8353 \nL 192.935739 20.8353 \nz\n\" style=\"fill:#bdbdbd;opacity:0.6;\"/>\n   </g>\n   <g id=\"patch_8\">\n    <path clip-path=\"url(#pc12b2893ed)\" d=\"M 192.935739 111.7373 \nL 210.661629 111.7373 \nL 210.661629 66.2863 \nL 192.935739 66.2863 \nz\n\" style=\"fill:#bdbdbd;opacity:0.6;\"/>\n   </g>\n   <g id=\"patch_9\">\n    <path clip-path=\"url(#pc12b2893ed)\" d=\"M 192.935739 157.1883 \nL 210.661629 157.1883 \nL 210.661629 111.7373 \nL 192.935739 111.7373 \nz\n\" style=\"fill:#bdbdbd;opacity:0.6;\"/>\n   </g>\n   <g id=\"patch_10\">\n    <path clip-path=\"url(#pc12b2893ed)\" d=\"M 192.935739 202.6393 \nL 210.661629 202.6393 \nL 210.661629 157.1883 \nL 192.935739 157.1883 \nz\n\" style=\"fill:#bdbdbd;opacity:0.6;\"/>\n   </g>\n   <g id=\"patch_11\">\n    <path clip-path=\"url(#pc12b2893ed)\" d=\"M 192.935739 248.0903 \nL 210.661629 248.0903 \nL 210.661629 202.6393 \nL 192.935739 202.6393 \nz\n\" style=\"fill:#bdbdbd;opacity:0.6;\"/>\n   </g>\n   <g id=\"line2d_8\">\n    <path clip-path=\"url(#pc12b2893ed)\" d=\"M 110.896684 225.3648 \nL 110.896684 43.5608 \n\" style=\"fill:none;stroke:#bb8bff;stroke-linecap:square;stroke-width:2;\"/>\n   </g>\n   <g id=\"line2d_9\">\n    <path clip-path=\"url(#pc12b2893ed)\" d=\"M 156.347684 225.3648 \nL 156.347684 134.4628 \n\" style=\"fill:none;stroke:#bb8bff;stroke-linecap:square;stroke-width:2;\"/>\n   </g>\n   <g id=\"line2d_10\">\n    <path clip-path=\"url(#pc12b2893ed)\" d=\"M 248.726841 43.5608 \nL 248.726841 260.475697 \n\" style=\"fill:none;stroke:#778899;stroke-linecap:square;stroke-width:2;\"/>\n   </g>\n   <g id=\"line2d_11\">\n    <path clip-path=\"url(#pc12b2893ed)\" d=\"M 245.772526 43.5608 \nL 245.772526 260.475697 \n\" style=\"fill:none;stroke:#778899;stroke-linecap:square;stroke-width:2;\"/>\n   </g>\n   <g id=\"line2d_12\">\n    <path clip-path=\"url(#pc12b2893ed)\" d=\"M 294.177841 89.0118 \nL 294.177841 260.475697 \n\" style=\"fill:none;stroke:#778899;stroke-linecap:square;stroke-width:2;\"/>\n   </g>\n   <g id=\"line2d_13\">\n    <path clip-path=\"url(#pc12b2893ed)\" d=\"M 291.223526 89.0118 \nL 291.223526 260.475697 \n\" style=\"fill:none;stroke:#778899;stroke-linecap:square;stroke-width:2;\"/>\n   </g>\n   <g id=\"line2d_14\">\n    <path clip-path=\"url(#pc12b2893ed)\" d=\"M 339.628841 134.4628 \nL 339.628841 260.475697 \n\" style=\"fill:none;stroke:#778899;stroke-linecap:square;stroke-width:2;\"/>\n   </g>\n   <g id=\"line2d_15\">\n    <path clip-path=\"url(#pc12b2893ed)\" d=\"M 336.674526 134.4628 \nL 336.674526 260.475697 \n\" style=\"fill:none;stroke:#778899;stroke-linecap:square;stroke-width:2;\"/>\n   </g>\n   <g id=\"line2d_16\">\n    <path clip-path=\"url(#pc12b2893ed)\" d=\"M 385.079841 179.9138 \nL 385.079841 260.475697 \n\" style=\"fill:none;stroke:#778899;stroke-linecap:square;stroke-width:2;\"/>\n   </g>\n   <g id=\"line2d_17\">\n    <path clip-path=\"url(#pc12b2893ed)\" d=\"M 382.125526 179.9138 \nL 382.125526 260.475697 \n\" style=\"fill:none;stroke:#778899;stroke-linecap:square;stroke-width:2;\"/>\n   </g>\n   <g id=\"line2d_18\">\n    <path clip-path=\"url(#pc12b2893ed)\" d=\"M 430.530841 225.3648 \nL 430.530841 260.475697 \n\" style=\"fill:none;stroke:#778899;stroke-linecap:square;stroke-width:2;\"/>\n   </g>\n   <g id=\"line2d_19\">\n    <path clip-path=\"url(#pc12b2893ed)\" d=\"M 427.576526 225.3648 \nL 427.576526 260.475697 \n\" style=\"fill:none;stroke:#778899;stroke-linecap:square;stroke-width:2;\"/>\n   </g>\n   <g id=\"line2d_20\">\n    <path clip-path=\"url(#pc12b2893ed)\" d=\"M 95.443344 275.3609 \nL 99.988444 266.2707 \n\" style=\"fill:none;stroke:#778899;stroke-linecap:square;stroke-width:1.5;\"/>\n   </g>\n   <g id=\"line2d_21\">\n    <path clip-path=\"url(#pc12b2893ed)\" d=\"M 150.439054 140.37143 \nL 162.256314 128.55417 \n\" style=\"fill:none;stroke:#bb8bff;stroke-linecap:square;stroke-width:2;\"/>\n   </g>\n   <g id=\"line2d_22\">\n    <path clip-path=\"url(#pc12b2893ed)\" d=\"M 150.439054 128.55417 \nL 162.256314 140.37143 \n\" style=\"fill:none;stroke:#bb8bff;stroke-linecap:square;stroke-width:2;\"/>\n   </g>\n   <g id=\"line2d_23\">\n    <path clip-path=\"url(#pc12b2893ed)\" d=\"M 150.439054 185.82243 \nL 162.256314 174.00517 \n\" style=\"fill:none;stroke:#bb8bff;stroke-linecap:square;stroke-width:2;\"/>\n   </g>\n   <g id=\"line2d_24\">\n    <path clip-path=\"url(#pc12b2893ed)\" d=\"M 150.439054 174.00517 \nL 162.256314 185.82243 \n\" style=\"fill:none;stroke:#bb8bff;stroke-linecap:square;stroke-width:2;\"/>\n   </g>\n   <g id=\"patch_12\">\n    <path clip-path=\"url(#pc12b2893ed)\" d=\"M 110.896684 47.992272 \nC 112.071924 47.992272 113.199188 47.525345 114.030208 46.694324 \nC 114.861228 45.863304 115.328156 44.73604 115.328156 43.5608 \nC 115.328156 42.38556 114.861228 41.258296 114.030208 40.427276 \nC 113.199188 39.596255 112.071924 39.129327 110.896684 39.129327 \nC 109.721444 39.129327 108.59418 39.596255 107.763159 40.427276 \nC 106.932139 41.258296 106.465211 42.38556 106.465211 43.5608 \nC 106.465211 44.73604 106.932139 45.863304 107.763159 46.694324 \nC 108.59418 47.525345 109.721444 47.992272 110.896684 47.992272 \nz\n\" style=\"fill:#bb8bff;stroke:#bb8bff;stroke-linejoin:miter;stroke-width:1.5;\"/>\n   </g>\n   <g id=\"patch_13\">\n    <path clip-path=\"url(#pc12b2893ed)\" d=\"M 110.896684 93.443272 \nC 112.071924 93.443272 113.199188 92.976345 114.030208 92.145324 \nC 114.861228 91.314304 115.328156 90.18704 115.328156 89.0118 \nC 115.328156 87.83656 114.861228 86.709296 114.030208 85.878276 \nC 113.199188 85.047255 112.071924 84.580327 110.896684 84.580327 \nC 109.721444 84.580327 108.59418 85.047255 107.763159 85.878276 \nC 106.932139 86.709296 106.465211 87.83656 106.465211 89.0118 \nC 106.465211 90.18704 106.932139 91.314304 107.763159 92.145324 \nC 108.59418 92.976345 109.721444 93.443272 110.896684 93.443272 \nz\n\" style=\"fill:#bb8bff;stroke:#bb8bff;stroke-linejoin:miter;stroke-width:1.5;\"/>\n   </g>\n   <g id=\"patch_14\">\n    <path clip-path=\"url(#pc12b2893ed)\" d=\"M 110.896684 235.704902 \nC 113.638911 235.704902 116.269193 234.615404 118.20824 232.676357 \nC 120.147288 230.737309 121.236786 228.107027 121.236786 225.3648 \nC 121.236786 222.622573 120.147288 219.992291 118.20824 218.053243 \nC 116.269193 216.114196 113.638911 215.024697 110.896684 215.024697 \nC 108.154457 215.024697 105.524175 216.114196 103.585127 218.053243 \nC 101.64608 219.992291 100.556581 222.622573 100.556581 225.3648 \nC 100.556581 228.107027 101.64608 230.737309 103.585127 232.676357 \nC 105.524175 234.615404 108.154457 235.704902 110.896684 235.704902 \nz\n\" style=\"fill:#bb8bff;stroke:#bb8bff;stroke-linejoin:miter;stroke-width:2;\"/>\n   </g>\n   <g id=\"patch_15\">\n    <path clip-path=\"url(#pc12b2893ed)\" d=\"M 156.347684 229.796272 \nC 157.522924 229.796272 158.650188 229.329345 159.481208 228.498324 \nC 160.312228 227.667304 160.779156 226.54004 160.779156 225.3648 \nC 160.779156 224.18956 160.312228 223.062296 159.481208 222.231276 \nC 158.650188 221.400255 157.522924 220.933327 156.347684 220.933327 \nC 155.172444 220.933327 154.04518 221.400255 153.214159 222.231276 \nC 152.383139 223.062296 151.916211 224.18956 151.916211 225.3648 \nC 151.916211 226.54004 152.383139 227.667304 153.214159 228.498324 \nC 154.04518 229.329345 155.172444 229.796272 156.347684 229.796272 \nz\n\" style=\"fill:#bb8bff;stroke:#bb8bff;stroke-linejoin:miter;stroke-width:1.5;\"/>\n   </g>\n   <g id=\"patch_16\">\n    <path clip-path=\"url(#pc12b2893ed)\" d=\"M 232.478109 58.332375 \nL 262.021259 58.332375 \nL 262.021259 28.789225 \nL 232.478109 28.789225 \nz\n\" style=\"stroke:#000000;stroke-linejoin:miter;stroke-width:1.5;\"/>\n   </g>\n   <g id=\"patch_17\">\n    <path clip-path=\"url(#pc12b2893ed)\" d=\"M 257.589786 47.992272 \nC 257.589786 45.250959 256.499642 42.619118 254.56124 40.680716 \nC 252.622839 38.742314 249.990998 37.65217 247.249684 37.65217 \nC 244.50837 37.65217 241.876529 38.742314 239.938127 40.680716 \nC 237.999725 42.619118 236.909581 45.250959 236.909581 47.992272 \n\" style=\"fill:none;stroke:#ffffff;stroke-linejoin:miter;stroke-width:2;\"/>\n   </g>\n   <g id=\"patch_18\">\n    <path clip-path=\"url(#pc12b2893ed)\" d=\"M 277.929109 103.783375 \nL 307.472259 103.783375 \nL 307.472259 74.240225 \nL 277.929109 74.240225 \nz\n\" style=\"stroke:#000000;stroke-linejoin:miter;stroke-width:1.5;\"/>\n   </g>\n   <g id=\"patch_19\">\n    <path clip-path=\"url(#pc12b2893ed)\" d=\"M 303.040786 93.443272 \nC 303.040786 90.701959 301.950642 88.070118 300.01224 86.131716 \nC 298.073839 84.193314 295.441998 83.10317 292.700684 83.10317 \nC 289.95937 83.10317 287.327529 84.193314 285.389127 86.131716 \nC 283.450725 88.070118 282.360581 90.701959 282.360581 93.443272 \n\" style=\"fill:none;stroke:#ffffff;stroke-linejoin:miter;stroke-width:2;\"/>\n   </g>\n   <g id=\"patch_20\">\n    <path clip-path=\"url(#pc12b2893ed)\" d=\"M 323.380109 149.234375 \nL 352.923259 149.234375 \nL 352.923259 119.691225 \nL 323.380109 119.691225 \nz\n\" style=\"stroke:#000000;stroke-linejoin:miter;stroke-width:1.5;\"/>\n   </g>\n   <g id=\"patch_21\">\n    <path clip-path=\"url(#pc12b2893ed)\" d=\"M 348.491786 138.894272 \nC 348.491786 136.152959 347.401642 133.521118 345.46324 131.582716 \nC 343.524839 129.644314 340.892998 128.55417 338.151684 128.55417 \nC 335.41037 128.55417 332.778529 129.644314 330.840127 131.582716 \nC 328.901725 133.521118 327.811581 136.152959 327.811581 138.894272 \n\" style=\"fill:none;stroke:#ffffff;stroke-linejoin:miter;stroke-width:2;\"/>\n   </g>\n   <g id=\"patch_22\">\n    <path clip-path=\"url(#pc12b2893ed)\" d=\"M 368.831109 194.685375 \nL 398.374259 194.685375 \nL 398.374259 165.142225 \nL 368.831109 165.142225 \nz\n\" style=\"stroke:#000000;stroke-linejoin:miter;stroke-width:1.5;\"/>\n   </g>\n   <g id=\"patch_23\">\n    <path clip-path=\"url(#pc12b2893ed)\" d=\"M 393.942786 184.345272 \nC 393.942786 181.603959 392.852642 178.972118 390.91424 177.033716 \nC 388.975839 175.095314 386.343998 174.00517 383.602684 174.00517 \nC 380.86137 174.00517 378.229529 175.095314 376.291127 177.033716 \nC 374.352725 178.972118 373.262581 181.603959 373.262581 184.345272 \n\" style=\"fill:none;stroke:#ffffff;stroke-linejoin:miter;stroke-width:2;\"/>\n   </g>\n   <g id=\"patch_24\">\n    <path clip-path=\"url(#pc12b2893ed)\" d=\"M 414.282109 240.136375 \nL 443.825259 240.136375 \nL 443.825259 210.593225 \nL 414.282109 210.593225 \nz\n\" style=\"stroke:#000000;stroke-linejoin:miter;stroke-width:1.5;\"/>\n   </g>\n   <g id=\"patch_25\">\n    <path clip-path=\"url(#pc12b2893ed)\" d=\"M 439.393786 229.796272 \nC 439.393786 227.054959 438.303642 224.423118 436.36524 222.484716 \nC 434.426839 220.546314 431.794998 219.45617 429.053684 219.45617 \nC 426.31237 219.45617 423.680529 220.546314 421.742127 222.484716 \nC 419.803725 224.423118 418.713581 227.054959 418.713581 229.796272 \n\" style=\"fill:none;stroke:#ffffff;stroke-linejoin:miter;stroke-width:2;\"/>\n   </g>\n   <g id=\"line2d_25\">\n    <path clip-path=\"url(#pc12b2893ed)\" d=\"M 247.249684 47.992272 \nL 257.589786 37.65217 \n\" style=\"fill:none;stroke:#ffffff;stroke-linecap:square;stroke-width:2;\"/>\n   </g>\n   <g id=\"line2d_26\">\n    <path clip-path=\"url(#pc12b2893ed)\" d=\"M 292.700684 93.443272 \nL 303.040786 83.10317 \n\" style=\"fill:none;stroke:#ffffff;stroke-linecap:square;stroke-width:2;\"/>\n   </g>\n   <g id=\"line2d_27\">\n    <path clip-path=\"url(#pc12b2893ed)\" d=\"M 338.151684 138.894272 \nL 348.491786 128.55417 \n\" style=\"fill:none;stroke:#ffffff;stroke-linecap:square;stroke-width:2;\"/>\n   </g>\n   <g id=\"line2d_28\">\n    <path clip-path=\"url(#pc12b2893ed)\" d=\"M 383.602684 184.345272 \nL 393.942786 174.00517 \n\" style=\"fill:none;stroke:#ffffff;stroke-linecap:square;stroke-width:2;\"/>\n   </g>\n   <g id=\"line2d_29\">\n    <path clip-path=\"url(#pc12b2893ed)\" d=\"M 429.053684 229.796272 \nL 439.393786 219.45617 \n\" style=\"fill:none;stroke:#ffffff;stroke-linecap:square;stroke-width:2;\"/>\n   </g>\n   <g id=\"line2d_30\">\n    <path clip-path=\"url(#pc12b2893ed)\" d=\"M 110.896684 231.27343 \nL 110.896684 219.45617 \n\" style=\"fill:none;stroke:#ffffff;stroke-linecap:square;stroke-width:2;\"/>\n   </g>\n   <g id=\"line2d_31\">\n    <path clip-path=\"url(#pc12b2893ed)\" d=\"M 104.988054 225.3648 \nL 116.805314 225.3648 \n\" style=\"fill:none;stroke:#ffffff;stroke-linecap:square;stroke-width:2;\"/>\n   </g>\n   <g id=\"line2d_32\">\n    <path clip-path=\"url(#pc12b2893ed)\" d=\"M 201.798684 20.8353 \nL 201.798684 66.2863 \n\" style=\"fill:none;stroke:#000000;stroke-dasharray:3.7,1.6;stroke-dashoffset:0;\"/>\n   </g>\n   <g id=\"line2d_33\">\n    <path clip-path=\"url(#pc12b2893ed)\" d=\"M 201.798684 66.2863 \nL 201.798684 111.7373 \n\" style=\"fill:none;stroke:#000000;stroke-dasharray:3.7,1.6;stroke-dashoffset:0;\"/>\n   </g>\n   <g id=\"line2d_34\">\n    <path clip-path=\"url(#pc12b2893ed)\" d=\"M 201.798684 111.7373 \nL 201.798684 157.1883 \n\" style=\"fill:none;stroke:#000000;stroke-dasharray:3.7,1.6;stroke-dashoffset:0;\"/>\n   </g>\n   <g id=\"line2d_35\">\n    <path clip-path=\"url(#pc12b2893ed)\" d=\"M 201.798684 157.1883 \nL 201.798684 202.6393 \n\" style=\"fill:none;stroke:#000000;stroke-dasharray:3.7,1.6;stroke-dashoffset:0;\"/>\n   </g>\n   <g id=\"line2d_36\">\n    <path clip-path=\"url(#pc12b2893ed)\" d=\"M 201.798684 202.6393 \nL 201.798684 248.0903 \n\" style=\"fill:none;stroke:#000000;stroke-dasharray:3.7,1.6;stroke-dashoffset:0;\"/>\n   </g>\n   <g id=\"text_1\">\n    <g clip-path=\"url(#pc12b2893ed)\">\n     <!-- 0 -->\n     <g transform=\"translate(258.612434 264.107825)scale(0.104 -0.104)\">\n      <defs>\n       <path d=\"M 31.78125 66.40625 \nQ 24.171875 66.40625 20.328125 58.90625 \nQ 16.5 51.421875 16.5 36.375 \nQ 16.5 21.390625 20.328125 13.890625 \nQ 24.171875 6.390625 31.78125 6.390625 \nQ 39.453125 6.390625 43.28125 13.890625 \nQ 47.125 21.390625 47.125 36.375 \nQ 47.125 51.421875 43.28125 58.90625 \nQ 39.453125 66.40625 31.78125 66.40625 \nz\nM 31.78125 74.21875 \nQ 44.046875 74.21875 50.515625 64.515625 \nQ 56.984375 54.828125 56.984375 36.375 \nQ 56.984375 17.96875 50.515625 8.265625 \nQ 44.046875 -1.421875 31.78125 -1.421875 \nQ 19.53125 -1.421875 13.0625 8.265625 \nQ 6.59375 17.96875 6.59375 36.375 \nQ 6.59375 54.828125 13.0625 64.515625 \nQ 19.53125 74.21875 31.78125 74.21875 \nz\n\" id=\"DejaVuSans-48\"/>\n      </defs>\n      <use xlink:href=\"#DejaVuSans-48\"/>\n     </g>\n    </g>\n   </g>\n   <g id=\"text_2\">\n    <g clip-path=\"url(#pc12b2893ed)\">\n     <!-- 1 -->\n     <g transform=\"translate(304.063434 264.107825)scale(0.104 -0.104)\">\n      <defs>\n       <path d=\"M 12.40625 8.296875 \nL 28.515625 8.296875 \nL 28.515625 63.921875 \nL 10.984375 60.40625 \nL 10.984375 69.390625 \nL 28.421875 72.90625 \nL 38.28125 72.90625 \nL 38.28125 8.296875 \nL 54.390625 8.296875 \nL 54.390625 0 \nL 12.40625 0 \nz\n\" id=\"DejaVuSans-49\"/>\n      </defs>\n      <use xlink:href=\"#DejaVuSans-49\"/>\n     </g>\n    </g>\n   </g>\n   <g id=\"text_3\">\n    <g clip-path=\"url(#pc12b2893ed)\">\n     <!-- 2 -->\n     <g transform=\"translate(349.514434 264.107825)scale(0.104 -0.104)\">\n      <defs>\n       <path d=\"M 19.1875 8.296875 \nL 53.609375 8.296875 \nL 53.609375 0 \nL 7.328125 0 \nL 7.328125 8.296875 \nQ 12.9375 14.109375 22.625 23.890625 \nQ 32.328125 33.6875 34.8125 36.53125 \nQ 39.546875 41.84375 41.421875 45.53125 \nQ 43.3125 49.21875 43.3125 52.78125 \nQ 43.3125 58.59375 39.234375 62.25 \nQ 35.15625 65.921875 28.609375 65.921875 \nQ 23.96875 65.921875 18.8125 64.3125 \nQ 13.671875 62.703125 7.8125 59.421875 \nL 7.8125 69.390625 \nQ 13.765625 71.78125 18.9375 73 \nQ 24.125 74.21875 28.421875 74.21875 \nQ 39.75 74.21875 46.484375 68.546875 \nQ 53.21875 62.890625 53.21875 53.421875 \nQ 53.21875 48.921875 51.53125 44.890625 \nQ 49.859375 40.875 45.40625 35.40625 \nQ 44.1875 33.984375 37.640625 27.21875 \nQ 31.109375 20.453125 19.1875 8.296875 \nz\n\" id=\"DejaVuSans-50\"/>\n      </defs>\n      <use xlink:href=\"#DejaVuSans-50\"/>\n     </g>\n    </g>\n   </g>\n   <g id=\"text_4\">\n    <g clip-path=\"url(#pc12b2893ed)\">\n     <!-- 3 -->\n     <g transform=\"translate(394.965434 264.107825)scale(0.104 -0.104)\">\n      <defs>\n       <path d=\"M 40.578125 39.3125 \nQ 47.65625 37.796875 51.625 33 \nQ 55.609375 28.21875 55.609375 21.1875 \nQ 55.609375 10.40625 48.1875 4.484375 \nQ 40.765625 -1.421875 27.09375 -1.421875 \nQ 22.515625 -1.421875 17.65625 -0.515625 \nQ 12.796875 0.390625 7.625 2.203125 \nL 7.625 11.71875 \nQ 11.71875 9.328125 16.59375 8.109375 \nQ 21.484375 6.890625 26.8125 6.890625 \nQ 36.078125 6.890625 40.9375 10.546875 \nQ 45.796875 14.203125 45.796875 21.1875 \nQ 45.796875 27.640625 41.28125 31.265625 \nQ 36.765625 34.90625 28.71875 34.90625 \nL 20.21875 34.90625 \nL 20.21875 43.015625 \nL 29.109375 43.015625 \nQ 36.375 43.015625 40.234375 45.921875 \nQ 44.09375 48.828125 44.09375 54.296875 \nQ 44.09375 59.90625 40.109375 62.90625 \nQ 36.140625 65.921875 28.71875 65.921875 \nQ 24.65625 65.921875 20.015625 65.03125 \nQ 15.375 64.15625 9.8125 62.3125 \nL 9.8125 71.09375 \nQ 15.4375 72.65625 20.34375 73.4375 \nQ 25.25 74.21875 29.59375 74.21875 \nQ 40.828125 74.21875 47.359375 69.109375 \nQ 53.90625 64.015625 53.90625 55.328125 \nQ 53.90625 49.265625 50.4375 45.09375 \nQ 46.96875 40.921875 40.578125 39.3125 \nz\n\" id=\"DejaVuSans-51\"/>\n      </defs>\n      <use xlink:href=\"#DejaVuSans-51\"/>\n     </g>\n    </g>\n   </g>\n   <g id=\"text_5\">\n    <g clip-path=\"url(#pc12b2893ed)\">\n     <!-- 4 -->\n     <g transform=\"translate(440.416434 264.107825)scale(0.104 -0.104)\">\n      <defs>\n       <path d=\"M 37.796875 64.3125 \nL 12.890625 25.390625 \nL 37.796875 25.390625 \nz\nM 35.203125 72.90625 \nL 47.609375 72.90625 \nL 47.609375 25.390625 \nL 58.015625 25.390625 \nL 58.015625 17.1875 \nL 47.609375 17.1875 \nL 47.609375 0 \nL 37.796875 0 \nL 37.796875 17.1875 \nL 4.890625 17.1875 \nL 4.890625 26.703125 \nz\n\" id=\"DejaVuSans-52\"/>\n      </defs>\n      <use xlink:href=\"#DejaVuSans-52\"/>\n     </g>\n    </g>\n   </g>\n   <g id=\"text_6\">\n    <g clip-path=\"url(#pc12b2893ed)\">\n     <!-- ${q}_{0}$ -->\n     <g transform=\"translate(59.225444 48.011777)scale(0.1625 -0.1625)\">\n      <defs>\n       <path d=\"M 41.703125 8.203125 \nQ 38.09375 3.46875 33.171875 1.015625 \nQ 28.265625 -1.421875 22.3125 -1.421875 \nQ 14.015625 -1.421875 9.296875 4.171875 \nQ 4.59375 9.765625 4.59375 19.578125 \nQ 4.59375 27.484375 7.5 34.859375 \nQ 10.40625 42.234375 15.828125 48.09375 \nQ 19.34375 51.90625 23.90625 53.953125 \nQ 28.46875 56 33.5 56 \nQ 39.546875 56 43.453125 53.609375 \nQ 47.359375 51.21875 49.125 46.390625 \nL 50.6875 54.59375 \nL 59.71875 54.59375 \nL 45.125 -20.609375 \nL 36.078125 -20.609375 \nz\nM 13.921875 20.90625 \nQ 13.921875 13.671875 16.9375 9.890625 \nQ 19.96875 6.109375 25.6875 6.109375 \nQ 34.1875 6.109375 40.1875 14.234375 \nQ 46.1875 22.359375 46.1875 33.984375 \nQ 46.1875 41.015625 43.078125 44.75 \nQ 39.984375 48.484375 34.1875 48.484375 \nQ 29.9375 48.484375 26.3125 46.5 \nQ 22.703125 44.53125 20.015625 40.71875 \nQ 17.1875 36.71875 15.546875 31.34375 \nQ 13.921875 25.984375 13.921875 20.90625 \nz\n\" id=\"DejaVuSans-Oblique-113\"/>\n      </defs>\n      <use xlink:href=\"#DejaVuSans-Oblique-113\"/>\n      <use transform=\"translate(63.476562 -16.40625)scale(0.7)\" xlink:href=\"#DejaVuSans-48\"/>\n     </g>\n    </g>\n   </g>\n   <g id=\"text_7\">\n    <g clip-path=\"url(#pc12b2893ed)\">\n     <!-- ${q}_{1}$ -->\n     <g transform=\"translate(59.225444 93.462777)scale(0.1625 -0.1625)\">\n      <use xlink:href=\"#DejaVuSans-Oblique-113\"/>\n      <use transform=\"translate(63.476562 -16.40625)scale(0.7)\" xlink:href=\"#DejaVuSans-49\"/>\n     </g>\n    </g>\n   </g>\n   <g id=\"text_8\">\n    <g clip-path=\"url(#pc12b2893ed)\">\n     <!-- ${q}_{2}$ -->\n     <g transform=\"translate(59.225444 138.913777)scale(0.1625 -0.1625)\">\n      <use xlink:href=\"#DejaVuSans-Oblique-113\"/>\n      <use transform=\"translate(63.476562 -16.40625)scale(0.7)\" xlink:href=\"#DejaVuSans-50\"/>\n     </g>\n    </g>\n   </g>\n   <g id=\"text_9\">\n    <g clip-path=\"url(#pc12b2893ed)\">\n     <!-- ${q}_{3}$ -->\n     <g transform=\"translate(59.225444 184.364777)scale(0.1625 -0.1625)\">\n      <use xlink:href=\"#DejaVuSans-Oblique-113\"/>\n      <use transform=\"translate(63.476562 -16.40625)scale(0.7)\" xlink:href=\"#DejaVuSans-51\"/>\n     </g>\n    </g>\n   </g>\n   <g id=\"text_10\">\n    <g clip-path=\"url(#pc12b2893ed)\">\n     <!-- ${q}_{4}$ -->\n     <g transform=\"translate(59.225444 229.815777)scale(0.1625 -0.1625)\">\n      <use xlink:href=\"#DejaVuSans-Oblique-113\"/>\n      <use transform=\"translate(63.476562 -16.40625)scale(0.7)\" xlink:href=\"#DejaVuSans-52\"/>\n     </g>\n    </g>\n   </g>\n   <g id=\"text_11\">\n    <g clip-path=\"url(#pc12b2893ed)\">\n     <!-- 5 -->\n     <g transform=\"translate(90.898244 264.107825)scale(0.104 -0.104)\">\n      <defs>\n       <path d=\"M 10.796875 72.90625 \nL 49.515625 72.90625 \nL 49.515625 64.59375 \nL 19.828125 64.59375 \nL 19.828125 46.734375 \nQ 21.96875 47.46875 24.109375 47.828125 \nQ 26.265625 48.1875 28.421875 48.1875 \nQ 40.625 48.1875 47.75 41.5 \nQ 54.890625 34.8125 54.890625 23.390625 \nQ 54.890625 11.625 47.5625 5.09375 \nQ 40.234375 -1.421875 26.90625 -1.421875 \nQ 22.3125 -1.421875 17.546875 -0.640625 \nQ 12.796875 0.140625 7.71875 1.703125 \nL 7.71875 11.625 \nQ 12.109375 9.234375 16.796875 8.0625 \nQ 21.484375 6.890625 26.703125 6.890625 \nQ 35.15625 6.890625 40.078125 11.328125 \nQ 45.015625 15.765625 45.015625 23.390625 \nQ 45.015625 31 40.078125 35.4375 \nQ 35.15625 39.890625 26.703125 39.890625 \nQ 22.75 39.890625 18.8125 39.015625 \nQ 14.890625 38.140625 10.796875 36.28125 \nz\n\" id=\"DejaVuSans-53\"/>\n      </defs>\n      <use xlink:href=\"#DejaVuSans-53\"/>\n     </g>\n    </g>\n   </g>\n   <g id=\"text_12\">\n    <g clip-path=\"url(#pc12b2893ed)\">\n     <!-- meas -->\n     <g transform=\"translate(33.012163 275.299784)scale(0.1625 -0.1625)\">\n      <defs>\n       <path d=\"M 52 44.1875 \nQ 55.375 50.25 60.0625 53.125 \nQ 64.75 56 71.09375 56 \nQ 79.640625 56 84.28125 50.015625 \nQ 88.921875 44.046875 88.921875 33.015625 \nL 88.921875 0 \nL 79.890625 0 \nL 79.890625 32.71875 \nQ 79.890625 40.578125 77.09375 44.375 \nQ 74.3125 48.1875 68.609375 48.1875 \nQ 61.625 48.1875 57.5625 43.546875 \nQ 53.515625 38.921875 53.515625 30.90625 \nL 53.515625 0 \nL 44.484375 0 \nL 44.484375 32.71875 \nQ 44.484375 40.625 41.703125 44.40625 \nQ 38.921875 48.1875 33.109375 48.1875 \nQ 26.21875 48.1875 22.15625 43.53125 \nQ 18.109375 38.875 18.109375 30.90625 \nL 18.109375 0 \nL 9.078125 0 \nL 9.078125 54.6875 \nL 18.109375 54.6875 \nL 18.109375 46.1875 \nQ 21.1875 51.21875 25.484375 53.609375 \nQ 29.78125 56 35.6875 56 \nQ 41.65625 56 45.828125 52.96875 \nQ 50 49.953125 52 44.1875 \nz\n\" id=\"DejaVuSans-109\"/>\n       <path d=\"M 56.203125 29.59375 \nL 56.203125 25.203125 \nL 14.890625 25.203125 \nQ 15.484375 15.921875 20.484375 11.0625 \nQ 25.484375 6.203125 34.421875 6.203125 \nQ 39.59375 6.203125 44.453125 7.46875 \nQ 49.3125 8.734375 54.109375 11.28125 \nL 54.109375 2.78125 \nQ 49.265625 0.734375 44.1875 -0.34375 \nQ 39.109375 -1.421875 33.890625 -1.421875 \nQ 20.796875 -1.421875 13.15625 6.1875 \nQ 5.515625 13.8125 5.515625 26.8125 \nQ 5.515625 40.234375 12.765625 48.109375 \nQ 20.015625 56 32.328125 56 \nQ 43.359375 56 49.78125 48.890625 \nQ 56.203125 41.796875 56.203125 29.59375 \nz\nM 47.21875 32.234375 \nQ 47.125 39.59375 43.09375 43.984375 \nQ 39.0625 48.390625 32.421875 48.390625 \nQ 24.90625 48.390625 20.390625 44.140625 \nQ 15.875 39.890625 15.1875 32.171875 \nz\n\" id=\"DejaVuSans-101\"/>\n       <path d=\"M 34.28125 27.484375 \nQ 23.390625 27.484375 19.1875 25 \nQ 14.984375 22.515625 14.984375 16.5 \nQ 14.984375 11.71875 18.140625 8.90625 \nQ 21.296875 6.109375 26.703125 6.109375 \nQ 34.1875 6.109375 38.703125 11.40625 \nQ 43.21875 16.703125 43.21875 25.484375 \nL 43.21875 27.484375 \nz\nM 52.203125 31.203125 \nL 52.203125 0 \nL 43.21875 0 \nL 43.21875 8.296875 \nQ 40.140625 3.328125 35.546875 0.953125 \nQ 30.953125 -1.421875 24.3125 -1.421875 \nQ 15.921875 -1.421875 10.953125 3.296875 \nQ 6 8.015625 6 15.921875 \nQ 6 25.140625 12.171875 29.828125 \nQ 18.359375 34.515625 30.609375 34.515625 \nL 43.21875 34.515625 \nL 43.21875 35.40625 \nQ 43.21875 41.609375 39.140625 45 \nQ 35.0625 48.390625 27.6875 48.390625 \nQ 23 48.390625 18.546875 47.265625 \nQ 14.109375 46.140625 10.015625 43.890625 \nL 10.015625 52.203125 \nQ 14.9375 54.109375 19.578125 55.046875 \nQ 24.21875 56 28.609375 56 \nQ 40.484375 56 46.34375 49.84375 \nQ 52.203125 43.703125 52.203125 31.203125 \nz\n\" id=\"DejaVuSans-97\"/>\n       <path d=\"M 44.28125 53.078125 \nL 44.28125 44.578125 \nQ 40.484375 46.53125 36.375 47.5 \nQ 32.28125 48.484375 27.875 48.484375 \nQ 21.1875 48.484375 17.84375 46.4375 \nQ 14.5 44.390625 14.5 40.28125 \nQ 14.5 37.15625 16.890625 35.375 \nQ 19.28125 33.59375 26.515625 31.984375 \nL 29.59375 31.296875 \nQ 39.15625 29.25 43.1875 25.515625 \nQ 47.21875 21.78125 47.21875 15.09375 \nQ 47.21875 7.46875 41.1875 3.015625 \nQ 35.15625 -1.421875 24.609375 -1.421875 \nQ 20.21875 -1.421875 15.453125 -0.5625 \nQ 10.6875 0.296875 5.421875 2 \nL 5.421875 11.28125 \nQ 10.40625 8.6875 15.234375 7.390625 \nQ 20.0625 6.109375 24.8125 6.109375 \nQ 31.15625 6.109375 34.5625 8.28125 \nQ 37.984375 10.453125 37.984375 14.40625 \nQ 37.984375 18.0625 35.515625 20.015625 \nQ 33.0625 21.96875 24.703125 23.78125 \nL 21.578125 24.515625 \nQ 13.234375 26.265625 9.515625 29.90625 \nQ 5.8125 33.546875 5.8125 39.890625 \nQ 5.8125 47.609375 11.28125 51.796875 \nQ 16.75 56 26.8125 56 \nQ 31.78125 56 36.171875 55.265625 \nQ 40.578125 54.546875 44.28125 53.078125 \nz\n\" id=\"DejaVuSans-115\"/>\n      </defs>\n      <use xlink:href=\"#DejaVuSans-109\"/>\n      <use x=\"97.412109\" xlink:href=\"#DejaVuSans-101\"/>\n      <use x=\"158.935547\" xlink:href=\"#DejaVuSans-97\"/>\n      <use x=\"220.214844\" xlink:href=\"#DejaVuSans-115\"/>\n     </g>\n    </g>\n   </g>\n  </g>\n </g>\n <defs>\n  <clipPath id=\"pc12b2893ed\">\n   <rect height=\"290.8864\" width=\"451.851344\" x=\"7.2\" y=\"7.2\"/>\n  </clipPath>\n </defs>\n</svg>\n",
      "image/png": "[encoded data removed]"
     },
     "metadata": {},
     "execution_count": 7
    }
   ],
   "source": [
    "qc = QuantumCircuit(5)\n",
    "qc.toffoli(0, 1, 4)\n",
    "qc.cswap(4, 2, 3)\n",
    "qc.measure_all()\n",
    "qc.draw(output='mpl')"
   ]
  },
  {
   "cell_type": "markdown",
   "metadata": {},
   "source": [
    "<div class=\"alert alert-block alert-info\">\n",
    "    \n",
    "# 2. Execrises\n",
    "</div>\n",
    "\n",
    "Let's review two of the basics quantum algorithms : Bernstein-Vazirani and Deutsch-Josza"
   ]
  },
  {
   "cell_type": "markdown",
   "metadata": {},
   "source": [
    "### 2.1 Bernstein-Vazirani"
   ]
  },
  {
   "cell_type": "code",
   "execution_count": null,
   "metadata": {},
   "outputs": [],
   "source": [
    "%matplotlib inline\n",
    "from qiskit import QuantumRegister, ClassicalRegister, QuantumCircuit, execute, Aer\n",
    "from qiskit.tools.visualization import plot_histogram\n",
    "backend = Aer.get_backend('qasm_simulator')"
   ]
  },
  {
   "cell_type": "markdown",
   "metadata": {},
   "source": [
    "More informations here : https://youtu.be/sqJIpHYl7oo and there : https://community.qiskit.org/textbook/ch-algorithms/bernstein-vazirani.html\n",
    "\n",
    "\n",
    "Let $f_s$ be a function from $\\{0,1\\}^n$ to $\\{0,1\\}$, we know it returns XOR of bit to bit products ($and$) for $x$ as input and a \"secret\" string $s$ of length $n$ : \n",
    "\n",
    "\\begin{equation}\n",
    "f_s(x) = s_0.x_0 \\oplus s_1.x_1 \\oplus s_2.x_2 \\oplus \\hspace{0.3cm} ... \\hspace{0.3cm} \\oplus s_{n-1}.x_{n-1}  \n",
    "\\end{equation}\n",
    "\n",
    "Calssicaly, $n$ calls $f_s(x)$ aree needed to $s$ as follows: \n",
    "\n",
    "\\begin{equation}\n",
    "f_s(1000...0) = s_0 \\\\\n",
    "f_s(0100...0) = s_1 \\\\\n",
    "f_s(0010...0) = s_2 \\\\\n",
    "... \\\\\n",
    "f_s(0000...1) = s_{n-1}\n",
    "\\end{equation}\n",
    "\n",
    "Bernstein-Vazirani algorithm make it in one single call (but uses $𝓞(n)$ gates ...) \n",
    "\n",
    "The algorithm is as follows : \n",
    "\n",
    "<img src=\"./images/bv.png\" alt=\"Note: In order for images to show up in this jupyter notebook you need to select File => Trusted Notebook\" width=\"600 px\" align=\"center\">\n",
    "\n",
    "\n",
    "This algorithm is based on what we call the \"phase-kick back\" : \n"
   ]
  },
  {
   "cell_type": "markdown",
   "metadata": {},
   "source": [
    "\n",
    "\n",
    "This algorithm is based on what we call the \"phase-kick back\" : \n",
    "\n",
    "Let's compare what happensto qubit $q_0$ in these two cases : \n",
    "\n",
    "\n",
    "1- $q_0$ does not interfere with $q_1$:\n",
    "\n",
    "<img src=\"./images/BV-case1.png\" width=\"500\"/>\n",
    "\n",
    "In this case measuring $q_0$ will result in state $|0\\rangle$\n",
    "\n",
    "2- le qubit 0 contrôle le qubit 1:\n",
    "\n",
    "<img src=\"./images/BV-case2.png\" width=\"500\"/>\n",
    "\n",
    "In case 2, let's analyse what happens at each step \n",
    "The 2-qubits system starts in state $|00\\rangle$. \n",
    "\n",
    "\n",
    "Before CNOT, the system is in state  $H\\otimes HX |00\\rangle$\n",
    "\n",
    "\\begin{equation}HX = \\frac{1}{\\sqrt{2}}\\begin{pmatrix} 1&1\\\\1&-1 \\end{pmatrix}\\times \\begin{pmatrix} 0&1\\\\1&0\\end{pmatrix} = \\frac{1}{\\sqrt{2}}\\begin{pmatrix} 1&1\\\\-1&1 \\end{pmatrix}\\end{equation}\n",
    "\n",
    "\n",
    "\\begin{equation} H \\otimes HX = \\frac{1}{2}\\begin{pmatrix} 1&1&1&1\\\\-1&1&-1&1\\\\1&1&-1&-1\\\\-1&1&1&-1\\\\ \\end{pmatrix} \\end{equation}\n",
    "\n",
    "So: \n",
    "\\begin{equation} H \\otimes HX |00\\rangle = \\frac{1}{2}\\begin{pmatrix} 1&1&1&1\\\\-1&1&-1&1\\\\1&1&-1&-1\\\\-1&1&1&-1\\\\ \\end{pmatrix}\\times\\begin{pmatrix} 1\\\\0\\\\0\\\\0\\\\ \\end{pmatrix} = \\frac{1}{2} \\begin{pmatrix} 1\\\\-1\\\\1\\\\-1\\\\ \\end{pmatrix} \\end{equation}\n",
    "\n",
    "Then we apply CNOT to this state : \n",
    "\n",
    "\\begin{equation} CNOT \\times \\frac{1}{2}\\begin{pmatrix} 1\\\\-1\\\\1\\\\-1\\\\ \\end{pmatrix} = \\begin{pmatrix} 1&0&0&0\\\\0&1&0&0\\\\0&0&0&1\\\\0&0&1&0\\\\ \\end{pmatrix} \\times \\frac{1}{2} \\begin{pmatrix} 1\\\\-1\\\\1\\\\-1\\\\ \\end{pmatrix} = \\frac{1}{2}\\begin{pmatrix} 1\\\\-1\\\\-1\\\\1\\\\ \\end{pmatrix} \\end{equation}\n",
    "\n",
    "We end with $H\\otimes I$ :\n",
    "\n",
    "\\begin{equation} (H\\otimes I )\\frac{1}{2}\\begin{pmatrix} 1\\\\-1\\\\-1\\\\1\\\\ \\end{pmatrix} \n",
    "= \\frac{1}{\\sqrt{2}} \\begin{pmatrix} 1&0&1&0\\\\0&1&0&1\\\\1&0&-1&0\\\\0&1&0&-1\\\\\\end{pmatrix} \\times \\frac{1}{2}\\begin{pmatrix} 1\\\\-1\\\\-1\\\\1\\\\ \\end{pmatrix} = \\frac{1}{\\sqrt{2}} \\begin{pmatrix} 0\\\\0\\\\1\\\\-1\\\\ \\end{pmatrix} = \\frac{1}{\\sqrt{2}} (|10\\rangle - |11\\rangle )\\end{equation}\n",
    "\n",
    "Measuring $q_0$ results in $|1\\rangle$. \n",
    "\n",
    "This is phase kickback, and this is what we use in the BV algo."
   ]
  },
  {
   "cell_type": "code",
   "execution_count": 9,
   "metadata": {},
   "outputs": [],
   "source": [
    "# choose the value of s (\"hidden\" value, to be discovered\")\n",
    "s = '101001' \n",
    "n = len(s)"
   ]
  },
  {
   "cell_type": "code",
   "execution_count": 12,
   "metadata": {},
   "outputs": [
    {
     "output_type": "execute_result",
     "data": {
      "text/plain": [
       "<Figure size 989.597x505.68 with 1 Axes>"
      ],
      "image/svg+xml": "<?xml version=\"1.0\" encoding=\"utf-8\" standalone=\"no\"?>\n<!DOCTYPE svg PUBLIC \"-//W3C//DTD SVG 1.1//EN\"\n  \"http://www.w3.org/Graphics/SVG/1.1/DTD/svg11.dtd\">\n<!-- Created with matplotlib (https://matplotlib.org/) -->\n<svg height=\"396.1884pt\" version=\"1.1\" viewBox=\"0 0 761.546036 396.1884\" width=\"761.546036pt\" xmlns=\"http://www.w3.org/2000/svg\" xmlns:xlink=\"http://www.w3.org/1999/xlink\">\n <metadata>\n  <rdf:RDF xmlns:cc=\"http://creativecommons.org/ns#\" xmlns:dc=\"http://purl.org/dc/elements/1.1/\" xmlns:rdf=\"http://www.w3.org/1999/02/22-rdf-syntax-ns#\">\n   <cc:Work>\n    <dc:type rdf:resource=\"http://purl.org/dc/dcmitype/StillImage\"/>\n    <dc:date>2021-03-13T19:43:25.470929</dc:date>\n    <dc:format>image/svg+xml</dc:format>\n    <dc:creator>\n     <cc:Agent>\n      <dc:title>Matplotlib v3.3.4, https://matplotlib.org/</dc:title>\n     </cc:Agent>\n    </dc:creator>\n   </cc:Work>\n  </rdf:RDF>\n </metadata>\n <defs>\n  <style type=\"text/css\">*{stroke-linecap:butt;stroke-linejoin:round;}</style>\n </defs>\n <g id=\"figure_1\">\n  <g id=\"patch_1\">\n   <path d=\"M 0 396.1884 \nL 761.546036 396.1884 \nL 761.546036 0 \nL 0 0 \nz\n\" style=\"fill:#ffffff;\"/>\n  </g>\n  <g id=\"axes_1\">\n   <g id=\"patch_2\">\n    <path clip-path=\"url(#p3def5cd9ff)\" d=\"M 491.184746 351.377697 \nL 503.002006 351.377697 \nL 497.093376 359.89976 \nz\n\" style=\"fill:#778899;\"/>\n   </g>\n   <g id=\"patch_3\">\n    <path clip-path=\"url(#p3def5cd9ff)\" d=\"M 536.635746 351.377697 \nL 548.453006 351.377697 \nL 542.544376 359.89976 \nz\n\" style=\"fill:#778899;\"/>\n   </g>\n   <g id=\"patch_4\">\n    <path clip-path=\"url(#p3def5cd9ff)\" d=\"M 582.086746 351.377697 \nL 593.904006 351.377697 \nL 587.995376 359.89976 \nz\n\" style=\"fill:#778899;\"/>\n   </g>\n   <g id=\"patch_5\">\n    <path clip-path=\"url(#p3def5cd9ff)\" d=\"M 627.537746 351.377697 \nL 639.355006 351.377697 \nL 633.446376 359.89976 \nz\n\" style=\"fill:#778899;\"/>\n   </g>\n   <g id=\"patch_6\">\n    <path clip-path=\"url(#p3def5cd9ff)\" d=\"M 672.988746 351.377697 \nL 684.806006 351.377697 \nL 678.897376 359.89976 \nz\n\" style=\"fill:#778899;\"/>\n   </g>\n   <g id=\"patch_7\">\n    <path clip-path=\"url(#p3def5cd9ff)\" d=\"M 718.439746 351.377697 \nL 730.257006 351.377697 \nL 724.348376 359.89976 \nz\n\" style=\"fill:#778899;\"/>\n   </g>\n   <g id=\"line2d_1\">\n    <path clip-path=\"url(#p3def5cd9ff)\" d=\"M 63.490836 43.5608 \nL 749.800936 43.5608 \n\" style=\"fill:none;stroke:#000000;stroke-linecap:square;stroke-width:2;\"/>\n   </g>\n   <g id=\"line2d_2\">\n    <path clip-path=\"url(#p3def5cd9ff)\" d=\"M 63.490836 89.0118 \nL 749.800936 89.0118 \n\" style=\"fill:none;stroke:#000000;stroke-linecap:square;stroke-width:2;\"/>\n   </g>\n   <g id=\"line2d_3\">\n    <path clip-path=\"url(#p3def5cd9ff)\" d=\"M 63.490836 134.4628 \nL 749.800936 134.4628 \n\" style=\"fill:none;stroke:#000000;stroke-linecap:square;stroke-width:2;\"/>\n   </g>\n   <g id=\"line2d_4\">\n    <path clip-path=\"url(#p3def5cd9ff)\" d=\"M 63.490836 179.9138 \nL 749.800936 179.9138 \n\" style=\"fill:none;stroke:#000000;stroke-linecap:square;stroke-width:2;\"/>\n   </g>\n   <g id=\"line2d_5\">\n    <path clip-path=\"url(#p3def5cd9ff)\" d=\"M 63.490836 225.3648 \nL 749.800936 225.3648 \n\" style=\"fill:none;stroke:#000000;stroke-linecap:square;stroke-width:2;\"/>\n   </g>\n   <g id=\"line2d_6\">\n    <path clip-path=\"url(#p3def5cd9ff)\" d=\"M 63.490836 270.8158 \nL 749.800936 270.8158 \n\" style=\"fill:none;stroke:#000000;stroke-linecap:square;stroke-width:2;\"/>\n   </g>\n   <g id=\"line2d_7\">\n    <path clip-path=\"url(#p3def5cd9ff)\" d=\"M 63.490836 316.2668 \nL 749.800936 316.2668 \n\" style=\"fill:none;stroke:#000000;stroke-linecap:square;stroke-width:2;\"/>\n   </g>\n   <g id=\"line2d_8\">\n    <path clip-path=\"url(#p3def5cd9ff)\" d=\"M 63.490836 360.240642 \nL 749.800936 360.240642 \n\" style=\"fill:none;stroke:#778899;stroke-linecap:square;stroke-width:2;\"/>\n   </g>\n   <g id=\"line2d_9\">\n    <path clip-path=\"url(#p3def5cd9ff)\" d=\"M 63.490836 363.194957 \nL 749.800936 363.194957 \n\" style=\"fill:none;stroke:#778899;stroke-linecap:square;stroke-width:2;\"/>\n   </g>\n   <g id=\"patch_8\">\n    <path clip-path=\"url(#p3def5cd9ff)\" d=\"M 170.073431 66.2863 \nL 187.799321 66.2863 \nL 187.799321 20.8353 \nL 170.073431 20.8353 \nz\n\" style=\"fill:#bdbdbd;opacity:0.6;\"/>\n   </g>\n   <g id=\"patch_9\">\n    <path clip-path=\"url(#p3def5cd9ff)\" d=\"M 170.073431 111.7373 \nL 187.799321 111.7373 \nL 187.799321 66.2863 \nL 170.073431 66.2863 \nz\n\" style=\"fill:#bdbdbd;opacity:0.6;\"/>\n   </g>\n   <g id=\"patch_10\">\n    <path clip-path=\"url(#p3def5cd9ff)\" d=\"M 170.073431 157.1883 \nL 187.799321 157.1883 \nL 187.799321 111.7373 \nL 170.073431 111.7373 \nz\n\" style=\"fill:#bdbdbd;opacity:0.6;\"/>\n   </g>\n   <g id=\"patch_11\">\n    <path clip-path=\"url(#p3def5cd9ff)\" d=\"M 170.073431 202.6393 \nL 187.799321 202.6393 \nL 187.799321 157.1883 \nL 170.073431 157.1883 \nz\n\" style=\"fill:#bdbdbd;opacity:0.6;\"/>\n   </g>\n   <g id=\"patch_12\">\n    <path clip-path=\"url(#p3def5cd9ff)\" d=\"M 170.073431 248.0903 \nL 187.799321 248.0903 \nL 187.799321 202.6393 \nL 170.073431 202.6393 \nz\n\" style=\"fill:#bdbdbd;opacity:0.6;\"/>\n   </g>\n   <g id=\"patch_13\">\n    <path clip-path=\"url(#p3def5cd9ff)\" d=\"M 170.073431 293.5413 \nL 187.799321 293.5413 \nL 187.799321 248.0903 \nL 170.073431 248.0903 \nz\n\" style=\"fill:#bdbdbd;opacity:0.6;\"/>\n   </g>\n   <g id=\"patch_14\">\n    <path clip-path=\"url(#p3def5cd9ff)\" d=\"M 170.073431 338.9923 \nL 187.799321 338.9923 \nL 187.799321 293.5413 \nL 170.073431 293.5413 \nz\n\" style=\"fill:#bdbdbd;opacity:0.6;\"/>\n   </g>\n   <g id=\"patch_15\">\n    <path clip-path=\"url(#p3def5cd9ff)\" d=\"M 397.328431 66.2863 \nL 415.054321 66.2863 \nL 415.054321 20.8353 \nL 397.328431 20.8353 \nz\n\" style=\"fill:#bdbdbd;opacity:0.6;\"/>\n   </g>\n   <g id=\"patch_16\">\n    <path clip-path=\"url(#p3def5cd9ff)\" d=\"M 397.328431 111.7373 \nL 415.054321 111.7373 \nL 415.054321 66.2863 \nL 397.328431 66.2863 \nz\n\" style=\"fill:#bdbdbd;opacity:0.6;\"/>\n   </g>\n   <g id=\"patch_17\">\n    <path clip-path=\"url(#p3def5cd9ff)\" d=\"M 397.328431 157.1883 \nL 415.054321 157.1883 \nL 415.054321 111.7373 \nL 397.328431 111.7373 \nz\n\" style=\"fill:#bdbdbd;opacity:0.6;\"/>\n   </g>\n   <g id=\"patch_18\">\n    <path clip-path=\"url(#p3def5cd9ff)\" d=\"M 397.328431 202.6393 \nL 415.054321 202.6393 \nL 415.054321 157.1883 \nL 397.328431 157.1883 \nz\n\" style=\"fill:#bdbdbd;opacity:0.6;\"/>\n   </g>\n   <g id=\"patch_19\">\n    <path clip-path=\"url(#p3def5cd9ff)\" d=\"M 397.328431 248.0903 \nL 415.054321 248.0903 \nL 415.054321 202.6393 \nL 397.328431 202.6393 \nz\n\" style=\"fill:#bdbdbd;opacity:0.6;\"/>\n   </g>\n   <g id=\"patch_20\">\n    <path clip-path=\"url(#p3def5cd9ff)\" d=\"M 397.328431 293.5413 \nL 415.054321 293.5413 \nL 415.054321 248.0903 \nL 397.328431 248.0903 \nz\n\" style=\"fill:#bdbdbd;opacity:0.6;\"/>\n   </g>\n   <g id=\"patch_21\">\n    <path clip-path=\"url(#p3def5cd9ff)\" d=\"M 397.328431 338.9923 \nL 415.054321 338.9923 \nL 415.054321 293.5413 \nL 397.328431 293.5413 \nz\n\" style=\"fill:#bdbdbd;opacity:0.6;\"/>\n   </g>\n   <g id=\"line2d_10\">\n    <path clip-path=\"url(#p3def5cd9ff)\" d=\"M 224.387376 316.2668 \nL 224.387376 43.5608 \n\" style=\"fill:none;stroke:#6fa4ff;stroke-linecap:square;stroke-width:2;\"/>\n   </g>\n   <g id=\"line2d_11\">\n    <path clip-path=\"url(#p3def5cd9ff)\" d=\"M 315.289376 316.2668 \nL 315.289376 179.9138 \n\" style=\"fill:none;stroke:#6fa4ff;stroke-linecap:square;stroke-width:2;\"/>\n   </g>\n   <g id=\"line2d_12\">\n    <path clip-path=\"url(#p3def5cd9ff)\" d=\"M 360.740376 316.2668 \nL 360.740376 270.8158 \n\" style=\"fill:none;stroke:#6fa4ff;stroke-linecap:square;stroke-width:2;\"/>\n   </g>\n   <g id=\"line2d_13\">\n    <path clip-path=\"url(#p3def5cd9ff)\" d=\"M 498.570534 43.5608 \nL 498.570534 351.377697 \n\" style=\"fill:none;stroke:#778899;stroke-linecap:square;stroke-width:2;\"/>\n   </g>\n   <g id=\"line2d_14\">\n    <path clip-path=\"url(#p3def5cd9ff)\" d=\"M 495.616219 43.5608 \nL 495.616219 351.377697 \n\" style=\"fill:none;stroke:#778899;stroke-linecap:square;stroke-width:2;\"/>\n   </g>\n   <g id=\"line2d_15\">\n    <path clip-path=\"url(#p3def5cd9ff)\" d=\"M 544.021534 89.0118 \nL 544.021534 351.377697 \n\" style=\"fill:none;stroke:#778899;stroke-linecap:square;stroke-width:2;\"/>\n   </g>\n   <g id=\"line2d_16\">\n    <path clip-path=\"url(#p3def5cd9ff)\" d=\"M 541.067219 89.0118 \nL 541.067219 351.377697 \n\" style=\"fill:none;stroke:#778899;stroke-linecap:square;stroke-width:2;\"/>\n   </g>\n   <g id=\"line2d_17\">\n    <path clip-path=\"url(#p3def5cd9ff)\" d=\"M 589.472534 134.4628 \nL 589.472534 351.377697 \n\" style=\"fill:none;stroke:#778899;stroke-linecap:square;stroke-width:2;\"/>\n   </g>\n   <g id=\"line2d_18\">\n    <path clip-path=\"url(#p3def5cd9ff)\" d=\"M 586.518219 134.4628 \nL 586.518219 351.377697 \n\" style=\"fill:none;stroke:#778899;stroke-linecap:square;stroke-width:2;\"/>\n   </g>\n   <g id=\"line2d_19\">\n    <path clip-path=\"url(#p3def5cd9ff)\" d=\"M 634.923534 179.9138 \nL 634.923534 351.377697 \n\" style=\"fill:none;stroke:#778899;stroke-linecap:square;stroke-width:2;\"/>\n   </g>\n   <g id=\"line2d_20\">\n    <path clip-path=\"url(#p3def5cd9ff)\" d=\"M 631.969219 179.9138 \nL 631.969219 351.377697 \n\" style=\"fill:none;stroke:#778899;stroke-linecap:square;stroke-width:2;\"/>\n   </g>\n   <g id=\"line2d_21\">\n    <path clip-path=\"url(#p3def5cd9ff)\" d=\"M 680.374534 225.3648 \nL 680.374534 351.377697 \n\" style=\"fill:none;stroke:#778899;stroke-linecap:square;stroke-width:2;\"/>\n   </g>\n   <g id=\"line2d_22\">\n    <path clip-path=\"url(#p3def5cd9ff)\" d=\"M 677.420219 225.3648 \nL 677.420219 351.377697 \n\" style=\"fill:none;stroke:#778899;stroke-linecap:square;stroke-width:2;\"/>\n   </g>\n   <g id=\"line2d_23\">\n    <path clip-path=\"url(#p3def5cd9ff)\" d=\"M 725.825534 270.8158 \nL 725.825534 351.377697 \n\" style=\"fill:none;stroke:#778899;stroke-linecap:square;stroke-width:2;\"/>\n   </g>\n   <g id=\"line2d_24\">\n    <path clip-path=\"url(#p3def5cd9ff)\" d=\"M 722.871219 270.8158 \nL 722.871219 351.377697 \n\" style=\"fill:none;stroke:#778899;stroke-linecap:square;stroke-width:2;\"/>\n   </g>\n   <g id=\"line2d_25\">\n    <path clip-path=\"url(#p3def5cd9ff)\" d=\"M 72.581036 366.2629 \nL 77.126136 357.1727 \n\" style=\"fill:none;stroke:#778899;stroke-linecap:square;stroke-width:1.5;\"/>\n   </g>\n   <g id=\"patch_22\">\n    <path clip-path=\"url(#p3def5cd9ff)\" d=\"M 73.262801 331.038375 \nL 102.805951 331.038375 \nL 102.805951 301.495225 \nL 73.262801 301.495225 \nz\n\" style=\"fill:#6fa4ff;stroke:#6fa4ff;stroke-linejoin:miter;stroke-width:1.5;\"/>\n   </g>\n   <g id=\"patch_23\">\n    <path clip-path=\"url(#p3def5cd9ff)\" d=\"M 73.262801 58.332375 \nL 102.805951 58.332375 \nL 102.805951 28.789225 \nL 73.262801 28.789225 \nz\n\" style=\"fill:#6fa4ff;stroke:#6fa4ff;stroke-linejoin:miter;stroke-width:1.5;\"/>\n   </g>\n   <g id=\"patch_24\">\n    <path clip-path=\"url(#p3def5cd9ff)\" d=\"M 73.262801 103.783375 \nL 102.805951 103.783375 \nL 102.805951 74.240225 \nL 73.262801 74.240225 \nz\n\" style=\"fill:#6fa4ff;stroke:#6fa4ff;stroke-linejoin:miter;stroke-width:1.5;\"/>\n   </g>\n   <g id=\"patch_25\">\n    <path clip-path=\"url(#p3def5cd9ff)\" d=\"M 73.262801 149.234375 \nL 102.805951 149.234375 \nL 102.805951 119.691225 \nL 73.262801 119.691225 \nz\n\" style=\"fill:#6fa4ff;stroke:#6fa4ff;stroke-linejoin:miter;stroke-width:1.5;\"/>\n   </g>\n   <g id=\"patch_26\">\n    <path clip-path=\"url(#p3def5cd9ff)\" d=\"M 73.262801 194.685375 \nL 102.805951 194.685375 \nL 102.805951 165.142225 \nL 73.262801 165.142225 \nz\n\" style=\"fill:#6fa4ff;stroke:#6fa4ff;stroke-linejoin:miter;stroke-width:1.5;\"/>\n   </g>\n   <g id=\"patch_27\">\n    <path clip-path=\"url(#p3def5cd9ff)\" d=\"M 73.262801 240.136375 \nL 102.805951 240.136375 \nL 102.805951 210.593225 \nL 73.262801 210.593225 \nz\n\" style=\"fill:#6fa4ff;stroke:#6fa4ff;stroke-linejoin:miter;stroke-width:1.5;\"/>\n   </g>\n   <g id=\"patch_28\">\n    <path clip-path=\"url(#p3def5cd9ff)\" d=\"M 73.262801 285.587375 \nL 102.805951 285.587375 \nL 102.805951 256.044225 \nL 73.262801 256.044225 \nz\n\" style=\"fill:#6fa4ff;stroke:#6fa4ff;stroke-linejoin:miter;stroke-width:1.5;\"/>\n   </g>\n   <g id=\"patch_29\">\n    <path clip-path=\"url(#p3def5cd9ff)\" d=\"M 118.713801 331.038375 \nL 148.256951 331.038375 \nL 148.256951 301.495225 \nL 118.713801 301.495225 \nz\n\" style=\"fill:#05bab6;stroke:#05bab6;stroke-linejoin:miter;stroke-width:1.5;\"/>\n   </g>\n   <g id=\"patch_30\">\n    <path clip-path=\"url(#p3def5cd9ff)\" d=\"M 224.387376 47.992273 \nC 225.562616 47.992273 226.68988 47.525345 227.520901 46.694324 \nC 228.351921 45.863304 228.818849 44.73604 228.818849 43.5608 \nC 228.818849 42.38556 228.351921 41.258296 227.520901 40.427276 \nC 226.68988 39.596255 225.562616 39.129328 224.387376 39.129328 \nC 223.212136 39.129328 222.084872 39.596255 221.253852 40.427276 \nC 220.422832 41.258296 219.955904 42.38556 219.955904 43.5608 \nC 219.955904 44.73604 220.422832 45.863304 221.253852 46.694324 \nC 222.084872 47.525345 223.212136 47.992273 224.387376 47.992273 \nz\n\" style=\"fill:#6fa4ff;stroke:#6fa4ff;stroke-linejoin:miter;stroke-width:1.5;\"/>\n   </g>\n   <g id=\"patch_31\">\n    <path clip-path=\"url(#p3def5cd9ff)\" d=\"M 224.387376 326.606902 \nC 227.129603 326.606902 229.759885 325.517404 231.698933 323.578357 \nC 233.63798 321.639309 234.727479 319.009027 234.727479 316.2668 \nC 234.727479 313.524573 233.63798 310.894291 231.698933 308.955243 \nC 229.759885 307.016196 227.129603 305.926697 224.387376 305.926697 \nC 221.645149 305.926697 219.014867 307.016196 217.07582 308.955243 \nC 215.136772 310.894291 214.047274 313.524573 214.047274 316.2668 \nC 214.047274 319.009027 215.136772 321.639309 217.07582 323.578357 \nC 219.014867 325.517404 221.645149 326.606902 224.387376 326.606902 \nz\n\" style=\"fill:#6fa4ff;stroke:#6fa4ff;stroke-linejoin:miter;stroke-width:2;\"/>\n   </g>\n   <g id=\"patch_32\">\n    <path clip-path=\"url(#p3def5cd9ff)\" d=\"M 255.066801 103.783375 \nL 284.609951 103.783375 \nL 284.609951 74.240225 \nL 255.066801 74.240225 \nz\n\" style=\"fill:#05bab6;stroke:#05bab6;stroke-linejoin:miter;stroke-width:1.5;\"/>\n   </g>\n   <g id=\"patch_33\">\n    <path clip-path=\"url(#p3def5cd9ff)\" d=\"M 255.066801 149.234375 \nL 284.609951 149.234375 \nL 284.609951 119.691225 \nL 255.066801 119.691225 \nz\n\" style=\"fill:#05bab6;stroke:#05bab6;stroke-linejoin:miter;stroke-width:1.5;\"/>\n   </g>\n   <g id=\"patch_34\">\n    <path clip-path=\"url(#p3def5cd9ff)\" d=\"M 255.066801 240.136375 \nL 284.609951 240.136375 \nL 284.609951 210.593225 \nL 255.066801 210.593225 \nz\n\" style=\"fill:#05bab6;stroke:#05bab6;stroke-linejoin:miter;stroke-width:1.5;\"/>\n   </g>\n   <g id=\"patch_35\">\n    <path clip-path=\"url(#p3def5cd9ff)\" d=\"M 315.289376 184.345272 \nC 316.464616 184.345272 317.59188 183.878345 318.422901 183.047324 \nC 319.253921 182.216304 319.720849 181.08904 319.720849 179.9138 \nC 319.720849 178.73856 319.253921 177.611296 318.422901 176.780276 \nC 317.59188 175.949255 316.464616 175.482327 315.289376 175.482327 \nC 314.114136 175.482327 312.986872 175.949255 312.155852 176.780276 \nC 311.324832 177.611296 310.857904 178.73856 310.857904 179.9138 \nC 310.857904 181.08904 311.324832 182.216304 312.155852 183.047324 \nC 312.986872 183.878345 314.114136 184.345272 315.289376 184.345272 \nz\n\" style=\"fill:#6fa4ff;stroke:#6fa4ff;stroke-linejoin:miter;stroke-width:1.5;\"/>\n   </g>\n   <g id=\"patch_36\">\n    <path clip-path=\"url(#p3def5cd9ff)\" d=\"M 315.289376 326.606902 \nC 318.031603 326.606902 320.661885 325.517404 322.600933 323.578357 \nC 324.53998 321.639309 325.629479 319.009027 325.629479 316.2668 \nC 325.629479 313.524573 324.53998 310.894291 322.600933 308.955243 \nC 320.661885 307.016196 318.031603 305.926697 315.289376 305.926697 \nC 312.547149 305.926697 309.916867 307.016196 307.97782 308.955243 \nC 306.038772 310.894291 304.949274 313.524573 304.949274 316.2668 \nC 304.949274 319.009027 306.038772 321.639309 307.97782 323.578357 \nC 309.916867 325.517404 312.547149 326.606902 315.289376 326.606902 \nz\n\" style=\"fill:#6fa4ff;stroke:#6fa4ff;stroke-linejoin:miter;stroke-width:2;\"/>\n   </g>\n   <g id=\"patch_37\">\n    <path clip-path=\"url(#p3def5cd9ff)\" d=\"M 360.740376 275.247272 \nC 361.915616 275.247272 363.04288 274.780345 363.873901 273.949324 \nC 364.704921 273.118304 365.171849 271.99104 365.171849 270.8158 \nC 365.171849 269.64056 364.704921 268.513296 363.873901 267.682276 \nC 363.04288 266.851255 361.915616 266.384327 360.740376 266.384327 \nC 359.565136 266.384327 358.437872 266.851255 357.606852 267.682276 \nC 356.775832 268.513296 356.308904 269.64056 356.308904 270.8158 \nC 356.308904 271.99104 356.775832 273.118304 357.606852 273.949324 \nC 358.437872 274.780345 359.565136 275.247272 360.740376 275.247272 \nz\n\" style=\"fill:#6fa4ff;stroke:#6fa4ff;stroke-linejoin:miter;stroke-width:1.5;\"/>\n   </g>\n   <g id=\"patch_38\">\n    <path clip-path=\"url(#p3def5cd9ff)\" d=\"M 360.740376 326.606902 \nC 363.482603 326.606902 366.112885 325.517404 368.051933 323.578357 \nC 369.99098 321.639309 371.080479 319.009027 371.080479 316.2668 \nC 371.080479 313.524573 369.99098 310.894291 368.051933 308.955243 \nC 366.112885 307.016196 363.482603 305.926697 360.740376 305.926697 \nC 357.998149 305.926697 355.367867 307.016196 353.42882 308.955243 \nC 351.489772 310.894291 350.400274 313.524573 350.400274 316.2668 \nC 350.400274 319.009027 351.489772 321.639309 353.42882 323.578357 \nC 355.367867 325.517404 357.998149 326.606902 360.740376 326.606902 \nz\n\" style=\"fill:#6fa4ff;stroke:#6fa4ff;stroke-linejoin:miter;stroke-width:2;\"/>\n   </g>\n   <g id=\"patch_39\">\n    <path clip-path=\"url(#p3def5cd9ff)\" d=\"M 436.870801 58.332375 \nL 466.413951 58.332375 \nL 466.413951 28.789225 \nL 436.870801 28.789225 \nz\n\" style=\"fill:#6fa4ff;stroke:#6fa4ff;stroke-linejoin:miter;stroke-width:1.5;\"/>\n   </g>\n   <g id=\"patch_40\">\n    <path clip-path=\"url(#p3def5cd9ff)\" d=\"M 436.870801 103.783375 \nL 466.413951 103.783375 \nL 466.413951 74.240225 \nL 436.870801 74.240225 \nz\n\" style=\"fill:#6fa4ff;stroke:#6fa4ff;stroke-linejoin:miter;stroke-width:1.5;\"/>\n   </g>\n   <g id=\"patch_41\">\n    <path clip-path=\"url(#p3def5cd9ff)\" d=\"M 436.870801 149.234375 \nL 466.413951 149.234375 \nL 466.413951 119.691225 \nL 436.870801 119.691225 \nz\n\" style=\"fill:#6fa4ff;stroke:#6fa4ff;stroke-linejoin:miter;stroke-width:1.5;\"/>\n   </g>\n   <g id=\"patch_42\">\n    <path clip-path=\"url(#p3def5cd9ff)\" d=\"M 436.870801 194.685375 \nL 466.413951 194.685375 \nL 466.413951 165.142225 \nL 436.870801 165.142225 \nz\n\" style=\"fill:#6fa4ff;stroke:#6fa4ff;stroke-linejoin:miter;stroke-width:1.5;\"/>\n   </g>\n   <g id=\"patch_43\">\n    <path clip-path=\"url(#p3def5cd9ff)\" d=\"M 436.870801 240.136375 \nL 466.413951 240.136375 \nL 466.413951 210.593225 \nL 436.870801 210.593225 \nz\n\" style=\"fill:#6fa4ff;stroke:#6fa4ff;stroke-linejoin:miter;stroke-width:1.5;\"/>\n   </g>\n   <g id=\"patch_44\">\n    <path clip-path=\"url(#p3def5cd9ff)\" d=\"M 436.870801 285.587375 \nL 466.413951 285.587375 \nL 466.413951 256.044225 \nL 436.870801 256.044225 \nz\n\" style=\"fill:#6fa4ff;stroke:#6fa4ff;stroke-linejoin:miter;stroke-width:1.5;\"/>\n   </g>\n   <g id=\"patch_45\">\n    <path clip-path=\"url(#p3def5cd9ff)\" d=\"M 482.321801 58.332375 \nL 511.864951 58.332375 \nL 511.864951 28.789225 \nL 482.321801 28.789225 \nz\n\" style=\"stroke:#000000;stroke-linejoin:miter;stroke-width:1.5;\"/>\n   </g>\n   <g id=\"patch_46\">\n    <path clip-path=\"url(#p3def5cd9ff)\" d=\"M 507.433479 47.992273 \nC 507.433479 45.250959 506.343335 42.619118 504.404933 40.680716 \nC 502.466531 38.742314 499.83469 37.65217 497.093376 37.65217 \nC 494.352062 37.65217 491.720221 38.742314 489.78182 40.680716 \nC 487.843418 42.619118 486.753274 45.250959 486.753274 47.992273 \n\" style=\"fill:none;stroke:#ffffff;stroke-linejoin:miter;stroke-width:2;\"/>\n   </g>\n   <g id=\"patch_47\">\n    <path clip-path=\"url(#p3def5cd9ff)\" d=\"M 527.772801 103.783375 \nL 557.315951 103.783375 \nL 557.315951 74.240225 \nL 527.772801 74.240225 \nz\n\" style=\"stroke:#000000;stroke-linejoin:miter;stroke-width:1.5;\"/>\n   </g>\n   <g id=\"patch_48\">\n    <path clip-path=\"url(#p3def5cd9ff)\" d=\"M 552.884479 93.443273 \nC 552.884479 90.701959 551.794335 88.070118 549.855933 86.131716 \nC 547.917531 84.193314 545.28569 83.10317 542.544376 83.10317 \nC 539.803062 83.10317 537.171221 84.193314 535.23282 86.131716 \nC 533.294418 88.070118 532.204274 90.701959 532.204274 93.443273 \n\" style=\"fill:none;stroke:#ffffff;stroke-linejoin:miter;stroke-width:2;\"/>\n   </g>\n   <g id=\"patch_49\">\n    <path clip-path=\"url(#p3def5cd9ff)\" d=\"M 573.223801 149.234375 \nL 602.766951 149.234375 \nL 602.766951 119.691225 \nL 573.223801 119.691225 \nz\n\" style=\"stroke:#000000;stroke-linejoin:miter;stroke-width:1.5;\"/>\n   </g>\n   <g id=\"patch_50\">\n    <path clip-path=\"url(#p3def5cd9ff)\" d=\"M 598.335479 138.894272 \nC 598.335479 136.152959 597.245335 133.521118 595.306933 131.582716 \nC 593.368531 129.644314 590.73669 128.55417 587.995376 128.55417 \nC 585.254062 128.55417 582.622221 129.644314 580.68382 131.582716 \nC 578.745418 133.521118 577.655274 136.152959 577.655274 138.894272 \n\" style=\"fill:none;stroke:#ffffff;stroke-linejoin:miter;stroke-width:2;\"/>\n   </g>\n   <g id=\"patch_51\">\n    <path clip-path=\"url(#p3def5cd9ff)\" d=\"M 618.674801 194.685375 \nL 648.217951 194.685375 \nL 648.217951 165.142225 \nL 618.674801 165.142225 \nz\n\" style=\"stroke:#000000;stroke-linejoin:miter;stroke-width:1.5;\"/>\n   </g>\n   <g id=\"patch_52\">\n    <path clip-path=\"url(#p3def5cd9ff)\" d=\"M 643.786479 184.345272 \nC 643.786479 181.603959 642.696335 178.972118 640.757933 177.033716 \nC 638.819531 175.095314 636.18769 174.00517 633.446376 174.00517 \nC 630.705062 174.00517 628.073221 175.095314 626.13482 177.033716 \nC 624.196418 178.972118 623.106274 181.603959 623.106274 184.345272 \n\" style=\"fill:none;stroke:#ffffff;stroke-linejoin:miter;stroke-width:2;\"/>\n   </g>\n   <g id=\"patch_53\">\n    <path clip-path=\"url(#p3def5cd9ff)\" d=\"M 664.125801 240.136375 \nL 693.668951 240.136375 \nL 693.668951 210.593225 \nL 664.125801 210.593225 \nz\n\" style=\"stroke:#000000;stroke-linejoin:miter;stroke-width:1.5;\"/>\n   </g>\n   <g id=\"patch_54\">\n    <path clip-path=\"url(#p3def5cd9ff)\" d=\"M 689.237479 229.796272 \nC 689.237479 227.054959 688.147335 224.423118 686.208933 222.484716 \nC 684.270531 220.546314 681.63869 219.45617 678.897376 219.45617 \nC 676.156062 219.45617 673.524221 220.546314 671.58582 222.484716 \nC 669.647418 224.423118 668.557274 227.054959 668.557274 229.796272 \n\" style=\"fill:none;stroke:#ffffff;stroke-linejoin:miter;stroke-width:2;\"/>\n   </g>\n   <g id=\"patch_55\">\n    <path clip-path=\"url(#p3def5cd9ff)\" d=\"M 709.576801 285.587375 \nL 739.119951 285.587375 \nL 739.119951 256.044225 \nL 709.576801 256.044225 \nz\n\" style=\"stroke:#000000;stroke-linejoin:miter;stroke-width:1.5;\"/>\n   </g>\n   <g id=\"patch_56\">\n    <path clip-path=\"url(#p3def5cd9ff)\" d=\"M 734.688479 275.247272 \nC 734.688479 272.505959 733.598335 269.874118 731.659933 267.935716 \nC 729.721531 265.997314 727.08969 264.90717 724.348376 264.90717 \nC 721.607062 264.90717 718.975221 265.997314 717.03682 267.935716 \nC 715.098418 269.874118 714.008274 272.505959 714.008274 275.247272 \n\" style=\"fill:none;stroke:#ffffff;stroke-linejoin:miter;stroke-width:2;\"/>\n   </g>\n   <g id=\"line2d_26\">\n    <path clip-path=\"url(#p3def5cd9ff)\" d=\"M 497.093376 47.992273 \nL 507.433479 37.65217 \n\" style=\"fill:none;stroke:#ffffff;stroke-linecap:square;stroke-width:2;\"/>\n   </g>\n   <g id=\"line2d_27\">\n    <path clip-path=\"url(#p3def5cd9ff)\" d=\"M 542.544376 93.443273 \nL 552.884479 83.10317 \n\" style=\"fill:none;stroke:#ffffff;stroke-linecap:square;stroke-width:2;\"/>\n   </g>\n   <g id=\"line2d_28\">\n    <path clip-path=\"url(#p3def5cd9ff)\" d=\"M 587.995376 138.894272 \nL 598.335479 128.55417 \n\" style=\"fill:none;stroke:#ffffff;stroke-linecap:square;stroke-width:2;\"/>\n   </g>\n   <g id=\"line2d_29\">\n    <path clip-path=\"url(#p3def5cd9ff)\" d=\"M 633.446376 184.345272 \nL 643.786479 174.00517 \n\" style=\"fill:none;stroke:#ffffff;stroke-linecap:square;stroke-width:2;\"/>\n   </g>\n   <g id=\"line2d_30\">\n    <path clip-path=\"url(#p3def5cd9ff)\" d=\"M 678.897376 229.796272 \nL 689.237479 219.45617 \n\" style=\"fill:none;stroke:#ffffff;stroke-linecap:square;stroke-width:2;\"/>\n   </g>\n   <g id=\"line2d_31\">\n    <path clip-path=\"url(#p3def5cd9ff)\" d=\"M 724.348376 275.247272 \nL 734.688479 264.90717 \n\" style=\"fill:none;stroke:#ffffff;stroke-linecap:square;stroke-width:2;\"/>\n   </g>\n   <g id=\"line2d_32\">\n    <path clip-path=\"url(#p3def5cd9ff)\" d=\"M 178.936376 20.8353 \nL 178.936376 66.2863 \n\" style=\"fill:none;stroke:#000000;stroke-dasharray:3.7,1.6;stroke-dashoffset:0;\"/>\n   </g>\n   <g id=\"line2d_33\">\n    <path clip-path=\"url(#p3def5cd9ff)\" d=\"M 178.936376 66.2863 \nL 178.936376 111.7373 \n\" style=\"fill:none;stroke:#000000;stroke-dasharray:3.7,1.6;stroke-dashoffset:0;\"/>\n   </g>\n   <g id=\"line2d_34\">\n    <path clip-path=\"url(#p3def5cd9ff)\" d=\"M 178.936376 111.7373 \nL 178.936376 157.1883 \n\" style=\"fill:none;stroke:#000000;stroke-dasharray:3.7,1.6;stroke-dashoffset:0;\"/>\n   </g>\n   <g id=\"line2d_35\">\n    <path clip-path=\"url(#p3def5cd9ff)\" d=\"M 178.936376 157.1883 \nL 178.936376 202.6393 \n\" style=\"fill:none;stroke:#000000;stroke-dasharray:3.7,1.6;stroke-dashoffset:0;\"/>\n   </g>\n   <g id=\"line2d_36\">\n    <path clip-path=\"url(#p3def5cd9ff)\" d=\"M 178.936376 202.6393 \nL 178.936376 248.0903 \n\" style=\"fill:none;stroke:#000000;stroke-dasharray:3.7,1.6;stroke-dashoffset:0;\"/>\n   </g>\n   <g id=\"line2d_37\">\n    <path clip-path=\"url(#p3def5cd9ff)\" d=\"M 178.936376 248.0903 \nL 178.936376 293.5413 \n\" style=\"fill:none;stroke:#000000;stroke-dasharray:3.7,1.6;stroke-dashoffset:0;\"/>\n   </g>\n   <g id=\"line2d_38\">\n    <path clip-path=\"url(#p3def5cd9ff)\" d=\"M 178.936376 293.5413 \nL 178.936376 338.9923 \n\" style=\"fill:none;stroke:#000000;stroke-dasharray:3.7,1.6;stroke-dashoffset:0;\"/>\n   </g>\n   <g id=\"line2d_39\">\n    <path clip-path=\"url(#p3def5cd9ff)\" d=\"M 224.387376 322.17543 \nL 224.387376 310.35817 \n\" style=\"fill:none;stroke:#ffffff;stroke-linecap:square;stroke-width:2;\"/>\n   </g>\n   <g id=\"line2d_40\">\n    <path clip-path=\"url(#p3def5cd9ff)\" d=\"M 218.478746 316.2668 \nL 230.296006 316.2668 \n\" style=\"fill:none;stroke:#ffffff;stroke-linecap:square;stroke-width:2;\"/>\n   </g>\n   <g id=\"line2d_41\">\n    <path clip-path=\"url(#p3def5cd9ff)\" d=\"M 315.289376 322.17543 \nL 315.289376 310.35817 \n\" style=\"fill:none;stroke:#ffffff;stroke-linecap:square;stroke-width:2;\"/>\n   </g>\n   <g id=\"line2d_42\">\n    <path clip-path=\"url(#p3def5cd9ff)\" d=\"M 309.380746 316.2668 \nL 321.198006 316.2668 \n\" style=\"fill:none;stroke:#ffffff;stroke-linecap:square;stroke-width:2;\"/>\n   </g>\n   <g id=\"line2d_43\">\n    <path clip-path=\"url(#p3def5cd9ff)\" d=\"M 360.740376 322.17543 \nL 360.740376 310.35817 \n\" style=\"fill:none;stroke:#ffffff;stroke-linecap:square;stroke-width:2;\"/>\n   </g>\n   <g id=\"line2d_44\">\n    <path clip-path=\"url(#p3def5cd9ff)\" d=\"M 354.831746 316.2668 \nL 366.649006 316.2668 \n\" style=\"fill:none;stroke:#ffffff;stroke-linecap:square;stroke-width:2;\"/>\n   </g>\n   <g id=\"line2d_45\">\n    <path clip-path=\"url(#p3def5cd9ff)\" d=\"M 406.191376 20.8353 \nL 406.191376 66.2863 \n\" style=\"fill:none;stroke:#000000;stroke-dasharray:3.7,1.6;stroke-dashoffset:0;\"/>\n   </g>\n   <g id=\"line2d_46\">\n    <path clip-path=\"url(#p3def5cd9ff)\" d=\"M 406.191376 66.2863 \nL 406.191376 111.7373 \n\" style=\"fill:none;stroke:#000000;stroke-dasharray:3.7,1.6;stroke-dashoffset:0;\"/>\n   </g>\n   <g id=\"line2d_47\">\n    <path clip-path=\"url(#p3def5cd9ff)\" d=\"M 406.191376 111.7373 \nL 406.191376 157.1883 \n\" style=\"fill:none;stroke:#000000;stroke-dasharray:3.7,1.6;stroke-dashoffset:0;\"/>\n   </g>\n   <g id=\"line2d_48\">\n    <path clip-path=\"url(#p3def5cd9ff)\" d=\"M 406.191376 157.1883 \nL 406.191376 202.6393 \n\" style=\"fill:none;stroke:#000000;stroke-dasharray:3.7,1.6;stroke-dashoffset:0;\"/>\n   </g>\n   <g id=\"line2d_49\">\n    <path clip-path=\"url(#p3def5cd9ff)\" d=\"M 406.191376 202.6393 \nL 406.191376 248.0903 \n\" style=\"fill:none;stroke:#000000;stroke-dasharray:3.7,1.6;stroke-dashoffset:0;\"/>\n   </g>\n   <g id=\"line2d_50\">\n    <path clip-path=\"url(#p3def5cd9ff)\" d=\"M 406.191376 248.0903 \nL 406.191376 293.5413 \n\" style=\"fill:none;stroke:#000000;stroke-dasharray:3.7,1.6;stroke-dashoffset:0;\"/>\n   </g>\n   <g id=\"line2d_51\">\n    <path clip-path=\"url(#p3def5cd9ff)\" d=\"M 406.191376 293.5413 \nL 406.191376 338.9923 \n\" style=\"fill:none;stroke:#000000;stroke-dasharray:3.7,1.6;stroke-dashoffset:0;\"/>\n   </g>\n   <g id=\"text_1\">\n    <g clip-path=\"url(#p3def5cd9ff)\">\n     <!-- H -->\n     <g transform=\"translate(83.146173 319.853987)scale(0.13 -0.13)\">\n      <defs>\n       <path d=\"M 9.8125 72.90625 \nL 19.671875 72.90625 \nL 19.671875 43.015625 \nL 55.515625 43.015625 \nL 55.515625 72.90625 \nL 65.375 72.90625 \nL 65.375 0 \nL 55.515625 0 \nL 55.515625 34.71875 \nL 19.671875 34.71875 \nL 19.671875 0 \nL 9.8125 0 \nz\n\" id=\"DejaVuSans-72\"/>\n      </defs>\n      <use xlink:href=\"#DejaVuSans-72\"/>\n     </g>\n    </g>\n   </g>\n   <g id=\"text_2\">\n    <g clip-path=\"url(#p3def5cd9ff)\">\n     <!-- H -->\n     <g transform=\"translate(83.146173 47.147988)scale(0.13 -0.13)\">\n      <use xlink:href=\"#DejaVuSans-72\"/>\n     </g>\n    </g>\n   </g>\n   <g id=\"text_3\">\n    <g clip-path=\"url(#p3def5cd9ff)\">\n     <!-- H -->\n     <g transform=\"translate(83.146173 92.598988)scale(0.13 -0.13)\">\n      <use xlink:href=\"#DejaVuSans-72\"/>\n     </g>\n    </g>\n   </g>\n   <g id=\"text_4\">\n    <g clip-path=\"url(#p3def5cd9ff)\">\n     <!-- H -->\n     <g transform=\"translate(83.146173 138.049988)scale(0.13 -0.13)\">\n      <use xlink:href=\"#DejaVuSans-72\"/>\n     </g>\n    </g>\n   </g>\n   <g id=\"text_5\">\n    <g clip-path=\"url(#p3def5cd9ff)\">\n     <!-- H -->\n     <g transform=\"translate(83.146173 183.500987)scale(0.13 -0.13)\">\n      <use xlink:href=\"#DejaVuSans-72\"/>\n     </g>\n    </g>\n   </g>\n   <g id=\"text_6\">\n    <g clip-path=\"url(#p3def5cd9ff)\">\n     <!-- H -->\n     <g transform=\"translate(83.146173 228.951987)scale(0.13 -0.13)\">\n      <use xlink:href=\"#DejaVuSans-72\"/>\n     </g>\n    </g>\n   </g>\n   <g id=\"text_7\">\n    <g clip-path=\"url(#p3def5cd9ff)\">\n     <!-- H -->\n     <g transform=\"translate(83.146173 274.402987)scale(0.13 -0.13)\">\n      <use xlink:href=\"#DejaVuSans-72\"/>\n     </g>\n    </g>\n   </g>\n   <g id=\"text_8\">\n    <g clip-path=\"url(#p3def5cd9ff)\">\n     <!-- Z -->\n     <g transform=\"translate(129.032876 319.853987)scale(0.13 -0.13)\">\n      <defs>\n       <path d=\"M 5.609375 72.90625 \nL 62.890625 72.90625 \nL 62.890625 65.375 \nL 16.796875 8.296875 \nL 64.015625 8.296875 \nL 64.015625 0 \nL 4.5 0 \nL 4.5 7.515625 \nL 50.59375 64.59375 \nL 5.609375 64.59375 \nz\n\" id=\"DejaVuSans-90\"/>\n      </defs>\n      <use xlink:href=\"#DejaVuSans-90\"/>\n     </g>\n    </g>\n   </g>\n   <g id=\"text_9\">\n    <g clip-path=\"url(#p3def5cd9ff)\">\n     <!-- I -->\n     <g transform=\"translate(267.920876 92.598988)scale(0.13 -0.13)\">\n      <defs>\n       <path d=\"M 9.8125 72.90625 \nL 19.671875 72.90625 \nL 19.671875 0 \nL 9.8125 0 \nz\n\" id=\"DejaVuSans-73\"/>\n      </defs>\n      <use xlink:href=\"#DejaVuSans-73\"/>\n     </g>\n    </g>\n   </g>\n   <g id=\"text_10\">\n    <g clip-path=\"url(#p3def5cd9ff)\">\n     <!-- I -->\n     <g transform=\"translate(267.920876 138.049988)scale(0.13 -0.13)\">\n      <use xlink:href=\"#DejaVuSans-73\"/>\n     </g>\n    </g>\n   </g>\n   <g id=\"text_11\">\n    <g clip-path=\"url(#p3def5cd9ff)\">\n     <!-- I -->\n     <g transform=\"translate(267.920876 228.951987)scale(0.13 -0.13)\">\n      <use xlink:href=\"#DejaVuSans-73\"/>\n     </g>\n    </g>\n   </g>\n   <g id=\"text_12\">\n    <g clip-path=\"url(#p3def5cd9ff)\">\n     <!-- H -->\n     <g transform=\"translate(446.754173 47.147988)scale(0.13 -0.13)\">\n      <use xlink:href=\"#DejaVuSans-72\"/>\n     </g>\n    </g>\n   </g>\n   <g id=\"text_13\">\n    <g clip-path=\"url(#p3def5cd9ff)\">\n     <!-- H -->\n     <g transform=\"translate(446.754173 92.598988)scale(0.13 -0.13)\">\n      <use xlink:href=\"#DejaVuSans-72\"/>\n     </g>\n    </g>\n   </g>\n   <g id=\"text_14\">\n    <g clip-path=\"url(#p3def5cd9ff)\">\n     <!-- H -->\n     <g transform=\"translate(446.754173 138.049988)scale(0.13 -0.13)\">\n      <use xlink:href=\"#DejaVuSans-72\"/>\n     </g>\n    </g>\n   </g>\n   <g id=\"text_15\">\n    <g clip-path=\"url(#p3def5cd9ff)\">\n     <!-- H -->\n     <g transform=\"translate(446.754173 183.500987)scale(0.13 -0.13)\">\n      <use xlink:href=\"#DejaVuSans-72\"/>\n     </g>\n    </g>\n   </g>\n   <g id=\"text_16\">\n    <g clip-path=\"url(#p3def5cd9ff)\">\n     <!-- H -->\n     <g transform=\"translate(446.754173 228.951987)scale(0.13 -0.13)\">\n      <use xlink:href=\"#DejaVuSans-72\"/>\n     </g>\n    </g>\n   </g>\n   <g id=\"text_17\">\n    <g clip-path=\"url(#p3def5cd9ff)\">\n     <!-- H -->\n     <g transform=\"translate(446.754173 274.402987)scale(0.13 -0.13)\">\n      <use xlink:href=\"#DejaVuSans-72\"/>\n     </g>\n    </g>\n   </g>\n   <g id=\"text_18\">\n    <g clip-path=\"url(#p3def5cd9ff)\">\n     <!-- 0 -->\n     <g transform=\"translate(508.456126 355.009825)scale(0.104 -0.104)\">\n      <defs>\n       <path d=\"M 31.78125 66.40625 \nQ 24.171875 66.40625 20.328125 58.90625 \nQ 16.5 51.421875 16.5 36.375 \nQ 16.5 21.390625 20.328125 13.890625 \nQ 24.171875 6.390625 31.78125 6.390625 \nQ 39.453125 6.390625 43.28125 13.890625 \nQ 47.125 21.390625 47.125 36.375 \nQ 47.125 51.421875 43.28125 58.90625 \nQ 39.453125 66.40625 31.78125 66.40625 \nz\nM 31.78125 74.21875 \nQ 44.046875 74.21875 50.515625 64.515625 \nQ 56.984375 54.828125 56.984375 36.375 \nQ 56.984375 17.96875 50.515625 8.265625 \nQ 44.046875 -1.421875 31.78125 -1.421875 \nQ 19.53125 -1.421875 13.0625 8.265625 \nQ 6.59375 17.96875 6.59375 36.375 \nQ 6.59375 54.828125 13.0625 64.515625 \nQ 19.53125 74.21875 31.78125 74.21875 \nz\n\" id=\"DejaVuSans-48\"/>\n      </defs>\n      <use xlink:href=\"#DejaVuSans-48\"/>\n     </g>\n    </g>\n   </g>\n   <g id=\"text_19\">\n    <g clip-path=\"url(#p3def5cd9ff)\">\n     <!-- 1 -->\n     <g transform=\"translate(553.907126 355.009825)scale(0.104 -0.104)\">\n      <defs>\n       <path d=\"M 12.40625 8.296875 \nL 28.515625 8.296875 \nL 28.515625 63.921875 \nL 10.984375 60.40625 \nL 10.984375 69.390625 \nL 28.421875 72.90625 \nL 38.28125 72.90625 \nL 38.28125 8.296875 \nL 54.390625 8.296875 \nL 54.390625 0 \nL 12.40625 0 \nz\n\" id=\"DejaVuSans-49\"/>\n      </defs>\n      <use xlink:href=\"#DejaVuSans-49\"/>\n     </g>\n    </g>\n   </g>\n   <g id=\"text_20\">\n    <g clip-path=\"url(#p3def5cd9ff)\">\n     <!-- 2 -->\n     <g transform=\"translate(599.358126 355.009825)scale(0.104 -0.104)\">\n      <defs>\n       <path d=\"M 19.1875 8.296875 \nL 53.609375 8.296875 \nL 53.609375 0 \nL 7.328125 0 \nL 7.328125 8.296875 \nQ 12.9375 14.109375 22.625 23.890625 \nQ 32.328125 33.6875 34.8125 36.53125 \nQ 39.546875 41.84375 41.421875 45.53125 \nQ 43.3125 49.21875 43.3125 52.78125 \nQ 43.3125 58.59375 39.234375 62.25 \nQ 35.15625 65.921875 28.609375 65.921875 \nQ 23.96875 65.921875 18.8125 64.3125 \nQ 13.671875 62.703125 7.8125 59.421875 \nL 7.8125 69.390625 \nQ 13.765625 71.78125 18.9375 73 \nQ 24.125 74.21875 28.421875 74.21875 \nQ 39.75 74.21875 46.484375 68.546875 \nQ 53.21875 62.890625 53.21875 53.421875 \nQ 53.21875 48.921875 51.53125 44.890625 \nQ 49.859375 40.875 45.40625 35.40625 \nQ 44.1875 33.984375 37.640625 27.21875 \nQ 31.109375 20.453125 19.1875 8.296875 \nz\n\" id=\"DejaVuSans-50\"/>\n      </defs>\n      <use xlink:href=\"#DejaVuSans-50\"/>\n     </g>\n    </g>\n   </g>\n   <g id=\"text_21\">\n    <g clip-path=\"url(#p3def5cd9ff)\">\n     <!-- 3 -->\n     <g transform=\"translate(644.809126 355.009825)scale(0.104 -0.104)\">\n      <defs>\n       <path d=\"M 40.578125 39.3125 \nQ 47.65625 37.796875 51.625 33 \nQ 55.609375 28.21875 55.609375 21.1875 \nQ 55.609375 10.40625 48.1875 4.484375 \nQ 40.765625 -1.421875 27.09375 -1.421875 \nQ 22.515625 -1.421875 17.65625 -0.515625 \nQ 12.796875 0.390625 7.625 2.203125 \nL 7.625 11.71875 \nQ 11.71875 9.328125 16.59375 8.109375 \nQ 21.484375 6.890625 26.8125 6.890625 \nQ 36.078125 6.890625 40.9375 10.546875 \nQ 45.796875 14.203125 45.796875 21.1875 \nQ 45.796875 27.640625 41.28125 31.265625 \nQ 36.765625 34.90625 28.71875 34.90625 \nL 20.21875 34.90625 \nL 20.21875 43.015625 \nL 29.109375 43.015625 \nQ 36.375 43.015625 40.234375 45.921875 \nQ 44.09375 48.828125 44.09375 54.296875 \nQ 44.09375 59.90625 40.109375 62.90625 \nQ 36.140625 65.921875 28.71875 65.921875 \nQ 24.65625 65.921875 20.015625 65.03125 \nQ 15.375 64.15625 9.8125 62.3125 \nL 9.8125 71.09375 \nQ 15.4375 72.65625 20.34375 73.4375 \nQ 25.25 74.21875 29.59375 74.21875 \nQ 40.828125 74.21875 47.359375 69.109375 \nQ 53.90625 64.015625 53.90625 55.328125 \nQ 53.90625 49.265625 50.4375 45.09375 \nQ 46.96875 40.921875 40.578125 39.3125 \nz\n\" id=\"DejaVuSans-51\"/>\n      </defs>\n      <use xlink:href=\"#DejaVuSans-51\"/>\n     </g>\n    </g>\n   </g>\n   <g id=\"text_22\">\n    <g clip-path=\"url(#p3def5cd9ff)\">\n     <!-- 4 -->\n     <g transform=\"translate(690.260126 355.009825)scale(0.104 -0.104)\">\n      <defs>\n       <path d=\"M 37.796875 64.3125 \nL 12.890625 25.390625 \nL 37.796875 25.390625 \nz\nM 35.203125 72.90625 \nL 47.609375 72.90625 \nL 47.609375 25.390625 \nL 58.015625 25.390625 \nL 58.015625 17.1875 \nL 47.609375 17.1875 \nL 47.609375 0 \nL 37.796875 0 \nL 37.796875 17.1875 \nL 4.890625 17.1875 \nL 4.890625 26.703125 \nz\n\" id=\"DejaVuSans-52\"/>\n      </defs>\n      <use xlink:href=\"#DejaVuSans-52\"/>\n     </g>\n    </g>\n   </g>\n   <g id=\"text_23\">\n    <g clip-path=\"url(#p3def5cd9ff)\">\n     <!-- 5 -->\n     <g transform=\"translate(735.711126 355.009825)scale(0.104 -0.104)\">\n      <defs>\n       <path d=\"M 10.796875 72.90625 \nL 49.515625 72.90625 \nL 49.515625 64.59375 \nL 19.828125 64.59375 \nL 19.828125 46.734375 \nQ 21.96875 47.46875 24.109375 47.828125 \nQ 26.265625 48.1875 28.421875 48.1875 \nQ 40.625 48.1875 47.75 41.5 \nQ 54.890625 34.8125 54.890625 23.390625 \nQ 54.890625 11.625 47.5625 5.09375 \nQ 40.234375 -1.421875 26.90625 -1.421875 \nQ 22.3125 -1.421875 17.546875 -0.640625 \nQ 12.796875 0.140625 7.71875 1.703125 \nL 7.71875 11.625 \nQ 12.109375 9.234375 16.796875 8.0625 \nQ 21.484375 6.890625 26.703125 6.890625 \nQ 35.15625 6.890625 40.078125 11.328125 \nQ 45.015625 15.765625 45.015625 23.390625 \nQ 45.015625 31 40.078125 35.4375 \nQ 35.15625 39.890625 26.703125 39.890625 \nQ 22.75 39.890625 18.8125 39.015625 \nQ 14.890625 38.140625 10.796875 36.28125 \nz\n\" id=\"DejaVuSans-53\"/>\n      </defs>\n      <use xlink:href=\"#DejaVuSans-53\"/>\n     </g>\n    </g>\n   </g>\n   <g id=\"text_24\">\n    <g clip-path=\"url(#p3def5cd9ff)\">\n     <!-- ${q}_{0}$ -->\n     <g transform=\"translate(36.363136 48.011777)scale(0.1625 -0.1625)\">\n      <defs>\n       <path d=\"M 41.703125 8.203125 \nQ 38.09375 3.46875 33.171875 1.015625 \nQ 28.265625 -1.421875 22.3125 -1.421875 \nQ 14.015625 -1.421875 9.296875 4.171875 \nQ 4.59375 9.765625 4.59375 19.578125 \nQ 4.59375 27.484375 7.5 34.859375 \nQ 10.40625 42.234375 15.828125 48.09375 \nQ 19.34375 51.90625 23.90625 53.953125 \nQ 28.46875 56 33.5 56 \nQ 39.546875 56 43.453125 53.609375 \nQ 47.359375 51.21875 49.125 46.390625 \nL 50.6875 54.59375 \nL 59.71875 54.59375 \nL 45.125 -20.609375 \nL 36.078125 -20.609375 \nz\nM 13.921875 20.90625 \nQ 13.921875 13.671875 16.9375 9.890625 \nQ 19.96875 6.109375 25.6875 6.109375 \nQ 34.1875 6.109375 40.1875 14.234375 \nQ 46.1875 22.359375 46.1875 33.984375 \nQ 46.1875 41.015625 43.078125 44.75 \nQ 39.984375 48.484375 34.1875 48.484375 \nQ 29.9375 48.484375 26.3125 46.5 \nQ 22.703125 44.53125 20.015625 40.71875 \nQ 17.1875 36.71875 15.546875 31.34375 \nQ 13.921875 25.984375 13.921875 20.90625 \nz\n\" id=\"DejaVuSans-Oblique-113\"/>\n      </defs>\n      <use xlink:href=\"#DejaVuSans-Oblique-113\"/>\n      <use transform=\"translate(63.476562 -16.40625)scale(0.7)\" xlink:href=\"#DejaVuSans-48\"/>\n     </g>\n    </g>\n   </g>\n   <g id=\"text_25\">\n    <g clip-path=\"url(#p3def5cd9ff)\">\n     <!-- ${q}_{1}$ -->\n     <g transform=\"translate(36.363136 93.462777)scale(0.1625 -0.1625)\">\n      <use xlink:href=\"#DejaVuSans-Oblique-113\"/>\n      <use transform=\"translate(63.476562 -16.40625)scale(0.7)\" xlink:href=\"#DejaVuSans-49\"/>\n     </g>\n    </g>\n   </g>\n   <g id=\"text_26\">\n    <g clip-path=\"url(#p3def5cd9ff)\">\n     <!-- ${q}_{2}$ -->\n     <g transform=\"translate(36.363136 138.913777)scale(0.1625 -0.1625)\">\n      <use xlink:href=\"#DejaVuSans-Oblique-113\"/>\n      <use transform=\"translate(63.476562 -16.40625)scale(0.7)\" xlink:href=\"#DejaVuSans-50\"/>\n     </g>\n    </g>\n   </g>\n   <g id=\"text_27\">\n    <g clip-path=\"url(#p3def5cd9ff)\">\n     <!-- ${q}_{3}$ -->\n     <g transform=\"translate(36.363136 184.364777)scale(0.1625 -0.1625)\">\n      <use xlink:href=\"#DejaVuSans-Oblique-113\"/>\n      <use transform=\"translate(63.476562 -16.40625)scale(0.7)\" xlink:href=\"#DejaVuSans-51\"/>\n     </g>\n    </g>\n   </g>\n   <g id=\"text_28\">\n    <g clip-path=\"url(#p3def5cd9ff)\">\n     <!-- ${q}_{4}$ -->\n     <g transform=\"translate(36.363136 229.815777)scale(0.1625 -0.1625)\">\n      <use xlink:href=\"#DejaVuSans-Oblique-113\"/>\n      <use transform=\"translate(63.476562 -16.40625)scale(0.7)\" xlink:href=\"#DejaVuSans-52\"/>\n     </g>\n    </g>\n   </g>\n   <g id=\"text_29\">\n    <g clip-path=\"url(#p3def5cd9ff)\">\n     <!-- ${q}_{5}$ -->\n     <g transform=\"translate(36.363136 275.266777)scale(0.1625 -0.1625)\">\n      <use xlink:href=\"#DejaVuSans-Oblique-113\"/>\n      <use transform=\"translate(63.476562 -16.40625)scale(0.7)\" xlink:href=\"#DejaVuSans-53\"/>\n     </g>\n    </g>\n   </g>\n   <g id=\"text_30\">\n    <g clip-path=\"url(#p3def5cd9ff)\">\n     <!-- ${q}_{6}$ -->\n     <g transform=\"translate(36.363136 320.717777)scale(0.1625 -0.1625)\">\n      <defs>\n       <path d=\"M 33.015625 40.375 \nQ 26.375 40.375 22.484375 35.828125 \nQ 18.609375 31.296875 18.609375 23.390625 \nQ 18.609375 15.53125 22.484375 10.953125 \nQ 26.375 6.390625 33.015625 6.390625 \nQ 39.65625 6.390625 43.53125 10.953125 \nQ 47.40625 15.53125 47.40625 23.390625 \nQ 47.40625 31.296875 43.53125 35.828125 \nQ 39.65625 40.375 33.015625 40.375 \nz\nM 52.59375 71.296875 \nL 52.59375 62.3125 \nQ 48.875 64.0625 45.09375 64.984375 \nQ 41.3125 65.921875 37.59375 65.921875 \nQ 27.828125 65.921875 22.671875 59.328125 \nQ 17.53125 52.734375 16.796875 39.40625 \nQ 19.671875 43.65625 24.015625 45.921875 \nQ 28.375 48.1875 33.59375 48.1875 \nQ 44.578125 48.1875 50.953125 41.515625 \nQ 57.328125 34.859375 57.328125 23.390625 \nQ 57.328125 12.15625 50.6875 5.359375 \nQ 44.046875 -1.421875 33.015625 -1.421875 \nQ 20.359375 -1.421875 13.671875 8.265625 \nQ 6.984375 17.96875 6.984375 36.375 \nQ 6.984375 53.65625 15.1875 63.9375 \nQ 23.390625 74.21875 37.203125 74.21875 \nQ 40.921875 74.21875 44.703125 73.484375 \nQ 48.484375 72.75 52.59375 71.296875 \nz\n\" id=\"DejaVuSans-54\"/>\n      </defs>\n      <use xlink:href=\"#DejaVuSans-Oblique-113\"/>\n      <use transform=\"translate(63.476562 -16.40625)scale(0.7)\" xlink:href=\"#DejaVuSans-54\"/>\n     </g>\n    </g>\n   </g>\n   <g id=\"text_31\">\n    <g clip-path=\"url(#p3def5cd9ff)\">\n     <!-- 6 -->\n     <g transform=\"translate(68.035936 355.009825)scale(0.104 -0.104)\">\n      <use xlink:href=\"#DejaVuSans-54\"/>\n     </g>\n    </g>\n   </g>\n   <g id=\"text_32\">\n    <g clip-path=\"url(#p3def5cd9ff)\">\n     <!-- c -->\n     <g transform=\"translate(45.465675 366.201784)scale(0.1625 -0.1625)\">\n      <defs>\n       <path d=\"M 48.78125 52.59375 \nL 48.78125 44.1875 \nQ 44.96875 46.296875 41.140625 47.34375 \nQ 37.3125 48.390625 33.40625 48.390625 \nQ 24.65625 48.390625 19.8125 42.84375 \nQ 14.984375 37.3125 14.984375 27.296875 \nQ 14.984375 17.28125 19.8125 11.734375 \nQ 24.65625 6.203125 33.40625 6.203125 \nQ 37.3125 6.203125 41.140625 7.25 \nQ 44.96875 8.296875 48.78125 10.40625 \nL 48.78125 2.09375 \nQ 45.015625 0.34375 40.984375 -0.53125 \nQ 36.96875 -1.421875 32.421875 -1.421875 \nQ 20.0625 -1.421875 12.78125 6.34375 \nQ 5.515625 14.109375 5.515625 27.296875 \nQ 5.515625 40.671875 12.859375 48.328125 \nQ 20.21875 56 33.015625 56 \nQ 37.15625 56 41.109375 55.140625 \nQ 45.0625 54.296875 48.78125 52.59375 \nz\n\" id=\"DejaVuSans-99\"/>\n      </defs>\n      <use xlink:href=\"#DejaVuSans-99\"/>\n     </g>\n    </g>\n   </g>\n  </g>\n </g>\n <defs>\n  <clipPath id=\"p3def5cd9ff\">\n   <rect height=\"381.7884\" width=\"747.146036\" x=\"7.2\" y=\"7.2\"/>\n  </clipPath>\n </defs>\n</svg>\n",
      "image/png": "[encoded data removed]"
     },
     "metadata": {},
     "execution_count": 12
    }
   ],
   "source": [
    "# import basic plot tools\n",
    "from qiskit.visualization import plot_histogram\n",
    "\n",
    "# prepare your BV algo here (use bv as circuit name, or change bv in the execution parameter, next cell)\n",
    "# allow for s to be of variable length\n",
    "\n",
    "# We need a circuit with n qubits, plus one ancilla qubit\n",
    "# Also need n classical bits to write the output to\n",
    "bv_circuit = QuantumCircuit(n+1, n)\n",
    "\n",
    "# put ancilla in state |->\n",
    "bv_circuit.h(n)\n",
    "bv_circuit.z(n)\n",
    "\n",
    "# Apply Hadamard gates before querying the oracle\n",
    "for i in range(n):\n",
    "    bv_circuit.h(i)\n",
    "    \n",
    "# Apply barrier \n",
    "bv_circuit.barrier()\n",
    "\n",
    "# Apply the inner-product oracle\n",
    "s = s[::-1] # reverse s to fit qiskit's qubit ordering\n",
    "for q in range(n):\n",
    "    if s[q] == '0':\n",
    "        bv_circuit.i(q)\n",
    "    else:\n",
    "        bv_circuit.cx(q, n)\n",
    "        \n",
    "# Apply barrier \n",
    "bv_circuit.barrier()\n",
    "\n",
    "#Apply Hadamard gates after querying the oracle\n",
    "for i in range(n):\n",
    "    bv_circuit.h(i)\n",
    "\n",
    "# Measurement\n",
    "for i in range(n):\n",
    "    bv_circuit.measure(i, i)\n",
    "\n",
    "bv_circuit.draw(output='mpl')"
   ]
  },
  {
   "cell_type": "code",
   "execution_count": 13,
   "metadata": {},
   "outputs": [
    {
     "output_type": "execute_result",
     "data": {
      "text/plain": [
       "<Figure size 504x360 with 1 Axes>"
      ],
      "image/svg+xml": "<?xml version=\"1.0\" encoding=\"utf-8\" standalone=\"no\"?>\n<!DOCTYPE svg PUBLIC \"-//W3C//DTD SVG 1.1//EN\"\n  \"http://www.w3.org/Graphics/SVG/1.1/DTD/svg11.dtd\">\n<!-- Created with matplotlib (https://matplotlib.org/) -->\n<svg height=\"348.056031pt\" version=\"1.1\" viewBox=\"0 0 460.72125 348.056031\" width=\"460.72125pt\" xmlns=\"http://www.w3.org/2000/svg\" xmlns:xlink=\"http://www.w3.org/1999/xlink\">\n <metadata>\n  <rdf:RDF xmlns:cc=\"http://creativecommons.org/ns#\" xmlns:dc=\"http://purl.org/dc/elements/1.1/\" xmlns:rdf=\"http://www.w3.org/1999/02/22-rdf-syntax-ns#\">\n   <cc:Work>\n    <dc:type rdf:resource=\"http://purl.org/dc/dcmitype/StillImage\"/>\n    <dc:date>2021-03-13T19:44:31.086265</dc:date>\n    <dc:format>image/svg+xml</dc:format>\n    <dc:creator>\n     <cc:Agent>\n      <dc:title>Matplotlib v3.3.4, https://matplotlib.org/</dc:title>\n     </cc:Agent>\n    </dc:creator>\n   </cc:Work>\n  </rdf:RDF>\n </metadata>\n <defs>\n  <style type=\"text/css\">*{stroke-linecap:butt;stroke-linejoin:round;}</style>\n </defs>\n <g id=\"figure_1\">\n  <g id=\"patch_1\">\n   <path d=\"M 0 348.056031 \nL 460.72125 348.056031 \nL 460.72125 0 \nL 0 0 \nz\n\" style=\"fill:none;\"/>\n  </g>\n  <g id=\"axes_1\">\n   <g id=\"patch_2\">\n    <path d=\"M 62.92125 279 \nL 453.52125 279 \nL 453.52125 7.2 \nL 62.92125 7.2 \nz\n\" style=\"fill:#ffffff;\"/>\n   </g>\n   <g id=\"matplotlib.axis_1\">\n    <g id=\"xtick_1\">\n     <g id=\"line2d_1\">\n      <defs>\n       <path d=\"M 0 0 \nL 0 3.5 \n\" id=\"m037e77f8d0\" style=\"stroke:#000000;stroke-width:0.8;\"/>\n      </defs>\n      <g>\n       <use style=\"stroke:#000000;stroke-width:0.8;\" x=\"258.22125\" xlink:href=\"#m037e77f8d0\" y=\"279\"/>\n      </g>\n     </g>\n     <g id=\"text_1\">\n      <!-- 101001 -->\n      <g transform=\"translate(252.711767 339.860218)rotate(-70)scale(0.14 -0.14)\">\n       <defs>\n        <path d=\"M 12.40625 8.296875 \nL 28.515625 8.296875 \nL 28.515625 63.921875 \nL 10.984375 60.40625 \nL 10.984375 69.390625 \nL 28.421875 72.90625 \nL 38.28125 72.90625 \nL 38.28125 8.296875 \nL 54.390625 8.296875 \nL 54.390625 0 \nL 12.40625 0 \nz\n\" id=\"DejaVuSans-49\"/>\n        <path d=\"M 31.78125 66.40625 \nQ 24.171875 66.40625 20.328125 58.90625 \nQ 16.5 51.421875 16.5 36.375 \nQ 16.5 21.390625 20.328125 13.890625 \nQ 24.171875 6.390625 31.78125 6.390625 \nQ 39.453125 6.390625 43.28125 13.890625 \nQ 47.125 21.390625 47.125 36.375 \nQ 47.125 51.421875 43.28125 58.90625 \nQ 39.453125 66.40625 31.78125 66.40625 \nz\nM 31.78125 74.21875 \nQ 44.046875 74.21875 50.515625 64.515625 \nQ 56.984375 54.828125 56.984375 36.375 \nQ 56.984375 17.96875 50.515625 8.265625 \nQ 44.046875 -1.421875 31.78125 -1.421875 \nQ 19.53125 -1.421875 13.0625 8.265625 \nQ 6.59375 17.96875 6.59375 36.375 \nQ 6.59375 54.828125 13.0625 64.515625 \nQ 19.53125 74.21875 31.78125 74.21875 \nz\n\" id=\"DejaVuSans-48\"/>\n       </defs>\n       <use xlink:href=\"#DejaVuSans-49\"/>\n       <use x=\"63.623047\" xlink:href=\"#DejaVuSans-48\"/>\n       <use x=\"127.246094\" xlink:href=\"#DejaVuSans-49\"/>\n       <use x=\"190.869141\" xlink:href=\"#DejaVuSans-48\"/>\n       <use x=\"254.492188\" xlink:href=\"#DejaVuSans-48\"/>\n       <use x=\"318.115234\" xlink:href=\"#DejaVuSans-49\"/>\n      </g>\n     </g>\n    </g>\n   </g>\n   <g id=\"matplotlib.axis_2\">\n    <g id=\"ytick_1\">\n     <g id=\"line2d_2\">\n      <path clip-path=\"url(#p4a0d852855)\" d=\"M 62.92125 279 \nL 453.52125 279 \n\" style=\"fill:none;stroke:#b0b0b0;stroke-dasharray:2.96,1.28;stroke-dashoffset:0;stroke-width:0.8;\"/>\n     </g>\n     <g id=\"line2d_3\">\n      <defs>\n       <path d=\"M 0 0 \nL -3.5 0 \n\" id=\"m81873f440f\" style=\"stroke:#000000;stroke-width:0.8;\"/>\n      </defs>\n      <g>\n       <use style=\"stroke:#000000;stroke-width:0.8;\" x=\"62.92125\" xlink:href=\"#m81873f440f\" y=\"279\"/>\n      </g>\n     </g>\n     <g id=\"text_2\">\n      <!-- 0.00 -->\n      <g transform=\"translate(24.749375 284.318906)scale(0.14 -0.14)\">\n       <defs>\n        <path d=\"M 10.6875 12.40625 \nL 21 12.40625 \nL 21 0 \nL 10.6875 0 \nz\n\" id=\"DejaVuSans-46\"/>\n       </defs>\n       <use xlink:href=\"#DejaVuSans-48\"/>\n       <use x=\"63.623047\" xlink:href=\"#DejaVuSans-46\"/>\n       <use x=\"95.410156\" xlink:href=\"#DejaVuSans-48\"/>\n       <use x=\"159.033203\" xlink:href=\"#DejaVuSans-48\"/>\n      </g>\n     </g>\n    </g>\n    <g id=\"ytick_2\">\n     <g id=\"line2d_4\">\n      <path clip-path=\"url(#p4a0d852855)\" d=\"M 62.92125 222.375 \nL 453.52125 222.375 \n\" style=\"fill:none;stroke:#b0b0b0;stroke-dasharray:2.96,1.28;stroke-dashoffset:0;stroke-width:0.8;\"/>\n     </g>\n     <g id=\"line2d_5\">\n      <g>\n       <use style=\"stroke:#000000;stroke-width:0.8;\" x=\"62.92125\" xlink:href=\"#m81873f440f\" y=\"222.375\"/>\n      </g>\n     </g>\n     <g id=\"text_3\">\n      <!-- 0.25 -->\n      <g transform=\"translate(24.749375 227.693906)scale(0.14 -0.14)\">\n       <defs>\n        <path d=\"M 19.1875 8.296875 \nL 53.609375 8.296875 \nL 53.609375 0 \nL 7.328125 0 \nL 7.328125 8.296875 \nQ 12.9375 14.109375 22.625 23.890625 \nQ 32.328125 33.6875 34.8125 36.53125 \nQ 39.546875 41.84375 41.421875 45.53125 \nQ 43.3125 49.21875 43.3125 52.78125 \nQ 43.3125 58.59375 39.234375 62.25 \nQ 35.15625 65.921875 28.609375 65.921875 \nQ 23.96875 65.921875 18.8125 64.3125 \nQ 13.671875 62.703125 7.8125 59.421875 \nL 7.8125 69.390625 \nQ 13.765625 71.78125 18.9375 73 \nQ 24.125 74.21875 28.421875 74.21875 \nQ 39.75 74.21875 46.484375 68.546875 \nQ 53.21875 62.890625 53.21875 53.421875 \nQ 53.21875 48.921875 51.53125 44.890625 \nQ 49.859375 40.875 45.40625 35.40625 \nQ 44.1875 33.984375 37.640625 27.21875 \nQ 31.109375 20.453125 19.1875 8.296875 \nz\n\" id=\"DejaVuSans-50\"/>\n        <path d=\"M 10.796875 72.90625 \nL 49.515625 72.90625 \nL 49.515625 64.59375 \nL 19.828125 64.59375 \nL 19.828125 46.734375 \nQ 21.96875 47.46875 24.109375 47.828125 \nQ 26.265625 48.1875 28.421875 48.1875 \nQ 40.625 48.1875 47.75 41.5 \nQ 54.890625 34.8125 54.890625 23.390625 \nQ 54.890625 11.625 47.5625 5.09375 \nQ 40.234375 -1.421875 26.90625 -1.421875 \nQ 22.3125 -1.421875 17.546875 -0.640625 \nQ 12.796875 0.140625 7.71875 1.703125 \nL 7.71875 11.625 \nQ 12.109375 9.234375 16.796875 8.0625 \nQ 21.484375 6.890625 26.703125 6.890625 \nQ 35.15625 6.890625 40.078125 11.328125 \nQ 45.015625 15.765625 45.015625 23.390625 \nQ 45.015625 31 40.078125 35.4375 \nQ 35.15625 39.890625 26.703125 39.890625 \nQ 22.75 39.890625 18.8125 39.015625 \nQ 14.890625 38.140625 10.796875 36.28125 \nz\n\" id=\"DejaVuSans-53\"/>\n       </defs>\n       <use xlink:href=\"#DejaVuSans-48\"/>\n       <use x=\"63.623047\" xlink:href=\"#DejaVuSans-46\"/>\n       <use x=\"95.410156\" xlink:href=\"#DejaVuSans-50\"/>\n       <use x=\"159.033203\" xlink:href=\"#DejaVuSans-53\"/>\n      </g>\n     </g>\n    </g>\n    <g id=\"ytick_3\">\n     <g id=\"line2d_6\">\n      <path clip-path=\"url(#p4a0d852855)\" d=\"M 62.92125 165.75 \nL 453.52125 165.75 \n\" style=\"fill:none;stroke:#b0b0b0;stroke-dasharray:2.96,1.28;stroke-dashoffset:0;stroke-width:0.8;\"/>\n     </g>\n     <g id=\"line2d_7\">\n      <g>\n       <use style=\"stroke:#000000;stroke-width:0.8;\" x=\"62.92125\" xlink:href=\"#m81873f440f\" y=\"165.75\"/>\n      </g>\n     </g>\n     <g id=\"text_4\">\n      <!-- 0.50 -->\n      <g transform=\"translate(24.749375 171.068906)scale(0.14 -0.14)\">\n       <use xlink:href=\"#DejaVuSans-48\"/>\n       <use x=\"63.623047\" xlink:href=\"#DejaVuSans-46\"/>\n       <use x=\"95.410156\" xlink:href=\"#DejaVuSans-53\"/>\n       <use x=\"159.033203\" xlink:href=\"#DejaVuSans-48\"/>\n      </g>\n     </g>\n    </g>\n    <g id=\"ytick_4\">\n     <g id=\"line2d_8\">\n      <path clip-path=\"url(#p4a0d852855)\" d=\"M 62.92125 109.125 \nL 453.52125 109.125 \n\" style=\"fill:none;stroke:#b0b0b0;stroke-dasharray:2.96,1.28;stroke-dashoffset:0;stroke-width:0.8;\"/>\n     </g>\n     <g id=\"line2d_9\">\n      <g>\n       <use style=\"stroke:#000000;stroke-width:0.8;\" x=\"62.92125\" xlink:href=\"#m81873f440f\" y=\"109.125\"/>\n      </g>\n     </g>\n     <g id=\"text_5\">\n      <!-- 0.75 -->\n      <g transform=\"translate(24.749375 114.443906)scale(0.14 -0.14)\">\n       <defs>\n        <path d=\"M 8.203125 72.90625 \nL 55.078125 72.90625 \nL 55.078125 68.703125 \nL 28.609375 0 \nL 18.3125 0 \nL 43.21875 64.59375 \nL 8.203125 64.59375 \nz\n\" id=\"DejaVuSans-55\"/>\n       </defs>\n       <use xlink:href=\"#DejaVuSans-48\"/>\n       <use x=\"63.623047\" xlink:href=\"#DejaVuSans-46\"/>\n       <use x=\"95.410156\" xlink:href=\"#DejaVuSans-55\"/>\n       <use x=\"159.033203\" xlink:href=\"#DejaVuSans-53\"/>\n      </g>\n     </g>\n    </g>\n    <g id=\"ytick_5\">\n     <g id=\"line2d_10\">\n      <path clip-path=\"url(#p4a0d852855)\" d=\"M 62.92125 52.5 \nL 453.52125 52.5 \n\" style=\"fill:none;stroke:#b0b0b0;stroke-dasharray:2.96,1.28;stroke-dashoffset:0;stroke-width:0.8;\"/>\n     </g>\n     <g id=\"line2d_11\">\n      <g>\n       <use style=\"stroke:#000000;stroke-width:0.8;\" x=\"62.92125\" xlink:href=\"#m81873f440f\" y=\"52.5\"/>\n      </g>\n     </g>\n     <g id=\"text_6\">\n      <!-- 1.00 -->\n      <g transform=\"translate(24.749375 57.818906)scale(0.14 -0.14)\">\n       <use xlink:href=\"#DejaVuSans-49\"/>\n       <use x=\"63.623047\" xlink:href=\"#DejaVuSans-46\"/>\n       <use x=\"95.410156\" xlink:href=\"#DejaVuSans-48\"/>\n       <use x=\"159.033203\" xlink:href=\"#DejaVuSans-48\"/>\n      </g>\n     </g>\n    </g>\n    <g id=\"text_7\">\n     <!-- Probabilities -->\n     <g transform=\"translate(17.837813 185.855781)rotate(-90)scale(0.14 -0.14)\">\n      <defs>\n       <path d=\"M 19.671875 64.796875 \nL 19.671875 37.40625 \nL 32.078125 37.40625 \nQ 38.96875 37.40625 42.71875 40.96875 \nQ 46.484375 44.53125 46.484375 51.125 \nQ 46.484375 57.671875 42.71875 61.234375 \nQ 38.96875 64.796875 32.078125 64.796875 \nz\nM 9.8125 72.90625 \nL 32.078125 72.90625 \nQ 44.34375 72.90625 50.609375 67.359375 \nQ 56.890625 61.8125 56.890625 51.125 \nQ 56.890625 40.328125 50.609375 34.8125 \nQ 44.34375 29.296875 32.078125 29.296875 \nL 19.671875 29.296875 \nL 19.671875 0 \nL 9.8125 0 \nz\n\" id=\"DejaVuSans-80\"/>\n       <path d=\"M 41.109375 46.296875 \nQ 39.59375 47.171875 37.8125 47.578125 \nQ 36.03125 48 33.890625 48 \nQ 26.265625 48 22.1875 43.046875 \nQ 18.109375 38.09375 18.109375 28.8125 \nL 18.109375 0 \nL 9.078125 0 \nL 9.078125 54.6875 \nL 18.109375 54.6875 \nL 18.109375 46.1875 \nQ 20.953125 51.171875 25.484375 53.578125 \nQ 30.03125 56 36.53125 56 \nQ 37.453125 56 38.578125 55.875 \nQ 39.703125 55.765625 41.0625 55.515625 \nz\n\" id=\"DejaVuSans-114\"/>\n       <path d=\"M 30.609375 48.390625 \nQ 23.390625 48.390625 19.1875 42.75 \nQ 14.984375 37.109375 14.984375 27.296875 \nQ 14.984375 17.484375 19.15625 11.84375 \nQ 23.34375 6.203125 30.609375 6.203125 \nQ 37.796875 6.203125 41.984375 11.859375 \nQ 46.1875 17.53125 46.1875 27.296875 \nQ 46.1875 37.015625 41.984375 42.703125 \nQ 37.796875 48.390625 30.609375 48.390625 \nz\nM 30.609375 56 \nQ 42.328125 56 49.015625 48.375 \nQ 55.71875 40.765625 55.71875 27.296875 \nQ 55.71875 13.875 49.015625 6.21875 \nQ 42.328125 -1.421875 30.609375 -1.421875 \nQ 18.84375 -1.421875 12.171875 6.21875 \nQ 5.515625 13.875 5.515625 27.296875 \nQ 5.515625 40.765625 12.171875 48.375 \nQ 18.84375 56 30.609375 56 \nz\n\" id=\"DejaVuSans-111\"/>\n       <path d=\"M 48.6875 27.296875 \nQ 48.6875 37.203125 44.609375 42.84375 \nQ 40.53125 48.484375 33.40625 48.484375 \nQ 26.265625 48.484375 22.1875 42.84375 \nQ 18.109375 37.203125 18.109375 27.296875 \nQ 18.109375 17.390625 22.1875 11.75 \nQ 26.265625 6.109375 33.40625 6.109375 \nQ 40.53125 6.109375 44.609375 11.75 \nQ 48.6875 17.390625 48.6875 27.296875 \nz\nM 18.109375 46.390625 \nQ 20.953125 51.265625 25.265625 53.625 \nQ 29.59375 56 35.59375 56 \nQ 45.5625 56 51.78125 48.09375 \nQ 58.015625 40.1875 58.015625 27.296875 \nQ 58.015625 14.40625 51.78125 6.484375 \nQ 45.5625 -1.421875 35.59375 -1.421875 \nQ 29.59375 -1.421875 25.265625 0.953125 \nQ 20.953125 3.328125 18.109375 8.203125 \nL 18.109375 0 \nL 9.078125 0 \nL 9.078125 75.984375 \nL 18.109375 75.984375 \nz\n\" id=\"DejaVuSans-98\"/>\n       <path d=\"M 34.28125 27.484375 \nQ 23.390625 27.484375 19.1875 25 \nQ 14.984375 22.515625 14.984375 16.5 \nQ 14.984375 11.71875 18.140625 8.90625 \nQ 21.296875 6.109375 26.703125 6.109375 \nQ 34.1875 6.109375 38.703125 11.40625 \nQ 43.21875 16.703125 43.21875 25.484375 \nL 43.21875 27.484375 \nz\nM 52.203125 31.203125 \nL 52.203125 0 \nL 43.21875 0 \nL 43.21875 8.296875 \nQ 40.140625 3.328125 35.546875 0.953125 \nQ 30.953125 -1.421875 24.3125 -1.421875 \nQ 15.921875 -1.421875 10.953125 3.296875 \nQ 6 8.015625 6 15.921875 \nQ 6 25.140625 12.171875 29.828125 \nQ 18.359375 34.515625 30.609375 34.515625 \nL 43.21875 34.515625 \nL 43.21875 35.40625 \nQ 43.21875 41.609375 39.140625 45 \nQ 35.0625 48.390625 27.6875 48.390625 \nQ 23 48.390625 18.546875 47.265625 \nQ 14.109375 46.140625 10.015625 43.890625 \nL 10.015625 52.203125 \nQ 14.9375 54.109375 19.578125 55.046875 \nQ 24.21875 56 28.609375 56 \nQ 40.484375 56 46.34375 49.84375 \nQ 52.203125 43.703125 52.203125 31.203125 \nz\n\" id=\"DejaVuSans-97\"/>\n       <path d=\"M 9.421875 54.6875 \nL 18.40625 54.6875 \nL 18.40625 0 \nL 9.421875 0 \nz\nM 9.421875 75.984375 \nL 18.40625 75.984375 \nL 18.40625 64.59375 \nL 9.421875 64.59375 \nz\n\" id=\"DejaVuSans-105\"/>\n       <path d=\"M 9.421875 75.984375 \nL 18.40625 75.984375 \nL 18.40625 0 \nL 9.421875 0 \nz\n\" id=\"DejaVuSans-108\"/>\n       <path d=\"M 18.3125 70.21875 \nL 18.3125 54.6875 \nL 36.8125 54.6875 \nL 36.8125 47.703125 \nL 18.3125 47.703125 \nL 18.3125 18.015625 \nQ 18.3125 11.328125 20.140625 9.421875 \nQ 21.96875 7.515625 27.59375 7.515625 \nL 36.8125 7.515625 \nL 36.8125 0 \nL 27.59375 0 \nQ 17.1875 0 13.234375 3.875 \nQ 9.28125 7.765625 9.28125 18.015625 \nL 9.28125 47.703125 \nL 2.6875 47.703125 \nL 2.6875 54.6875 \nL 9.28125 54.6875 \nL 9.28125 70.21875 \nz\n\" id=\"DejaVuSans-116\"/>\n       <path d=\"M 56.203125 29.59375 \nL 56.203125 25.203125 \nL 14.890625 25.203125 \nQ 15.484375 15.921875 20.484375 11.0625 \nQ 25.484375 6.203125 34.421875 6.203125 \nQ 39.59375 6.203125 44.453125 7.46875 \nQ 49.3125 8.734375 54.109375 11.28125 \nL 54.109375 2.78125 \nQ 49.265625 0.734375 44.1875 -0.34375 \nQ 39.109375 -1.421875 33.890625 -1.421875 \nQ 20.796875 -1.421875 13.15625 6.1875 \nQ 5.515625 13.8125 5.515625 26.8125 \nQ 5.515625 40.234375 12.765625 48.109375 \nQ 20.015625 56 32.328125 56 \nQ 43.359375 56 49.78125 48.890625 \nQ 56.203125 41.796875 56.203125 29.59375 \nz\nM 47.21875 32.234375 \nQ 47.125 39.59375 43.09375 43.984375 \nQ 39.0625 48.390625 32.421875 48.390625 \nQ 24.90625 48.390625 20.390625 44.140625 \nQ 15.875 39.890625 15.1875 32.171875 \nz\n\" id=\"DejaVuSans-101\"/>\n       <path d=\"M 44.28125 53.078125 \nL 44.28125 44.578125 \nQ 40.484375 46.53125 36.375 47.5 \nQ 32.28125 48.484375 27.875 48.484375 \nQ 21.1875 48.484375 17.84375 46.4375 \nQ 14.5 44.390625 14.5 40.28125 \nQ 14.5 37.15625 16.890625 35.375 \nQ 19.28125 33.59375 26.515625 31.984375 \nL 29.59375 31.296875 \nQ 39.15625 29.25 43.1875 25.515625 \nQ 47.21875 21.78125 47.21875 15.09375 \nQ 47.21875 7.46875 41.1875 3.015625 \nQ 35.15625 -1.421875 24.609375 -1.421875 \nQ 20.21875 -1.421875 15.453125 -0.5625 \nQ 10.6875 0.296875 5.421875 2 \nL 5.421875 11.28125 \nQ 10.40625 8.6875 15.234375 7.390625 \nQ 20.0625 6.109375 24.8125 6.109375 \nQ 31.15625 6.109375 34.5625 8.28125 \nQ 37.984375 10.453125 37.984375 14.40625 \nQ 37.984375 18.0625 35.515625 20.015625 \nQ 33.0625 21.96875 24.703125 23.78125 \nL 21.578125 24.515625 \nQ 13.234375 26.265625 9.515625 29.90625 \nQ 5.8125 33.546875 5.8125 39.890625 \nQ 5.8125 47.609375 11.28125 51.796875 \nQ 16.75 56 26.8125 56 \nQ 31.78125 56 36.171875 55.265625 \nQ 40.578125 54.546875 44.28125 53.078125 \nz\n\" id=\"DejaVuSans-115\"/>\n      </defs>\n      <use xlink:href=\"#DejaVuSans-80\"/>\n      <use x=\"58.552734\" xlink:href=\"#DejaVuSans-114\"/>\n      <use x=\"97.416016\" xlink:href=\"#DejaVuSans-111\"/>\n      <use x=\"158.597656\" xlink:href=\"#DejaVuSans-98\"/>\n      <use x=\"222.074219\" xlink:href=\"#DejaVuSans-97\"/>\n      <use x=\"283.353516\" xlink:href=\"#DejaVuSans-98\"/>\n      <use x=\"346.830078\" xlink:href=\"#DejaVuSans-105\"/>\n      <use x=\"374.613281\" xlink:href=\"#DejaVuSans-108\"/>\n      <use x=\"402.396484\" xlink:href=\"#DejaVuSans-105\"/>\n      <use x=\"430.179688\" xlink:href=\"#DejaVuSans-116\"/>\n      <use x=\"469.388672\" xlink:href=\"#DejaVuSans-105\"/>\n      <use x=\"497.171875\" xlink:href=\"#DejaVuSans-101\"/>\n      <use x=\"558.695312\" xlink:href=\"#DejaVuSans-115\"/>\n     </g>\n    </g>\n   </g>\n   <g id=\"patch_3\">\n    <path clip-path=\"url(#p4a0d852855)\" d=\"M 80.675795 279 \nL 435.766705 279 \nL 435.766705 52.5 \nL 80.675795 52.5 \nz\n\" style=\"fill:#648fff;\"/>\n   </g>\n   <g id=\"patch_4\">\n    <path d=\"M 62.92125 279 \nL 62.92125 7.2 \n\" style=\"fill:none;stroke:#000000;stroke-linecap:square;stroke-linejoin:miter;stroke-width:0.8;\"/>\n   </g>\n   <g id=\"patch_5\">\n    <path d=\"M 453.52125 279 \nL 453.52125 7.2 \n\" style=\"fill:none;stroke:#000000;stroke-linecap:square;stroke-linejoin:miter;stroke-width:0.8;\"/>\n   </g>\n   <g id=\"patch_6\">\n    <path d=\"M 62.92125 279 \nL 453.52125 279 \n\" style=\"fill:none;stroke:#000000;stroke-linecap:square;stroke-linejoin:miter;stroke-width:0.8;\"/>\n   </g>\n   <g id=\"patch_7\">\n    <path d=\"M 62.92125 7.2 \nL 453.52125 7.2 \n\" style=\"fill:none;stroke:#000000;stroke-linecap:square;stroke-linejoin:miter;stroke-width:0.8;\"/>\n   </g>\n   <g id=\"text_8\">\n    <!-- 1.000 -->\n    <g transform=\"translate(243.907187 39.095312)scale(0.1 -0.1)\">\n     <use xlink:href=\"#DejaVuSans-49\"/>\n     <use x=\"63.623047\" xlink:href=\"#DejaVuSans-46\"/>\n     <use x=\"95.410156\" xlink:href=\"#DejaVuSans-48\"/>\n     <use x=\"159.033203\" xlink:href=\"#DejaVuSans-48\"/>\n     <use x=\"222.65625\" xlink:href=\"#DejaVuSans-48\"/>\n    </g>\n   </g>\n  </g>\n </g>\n <defs>\n  <clipPath id=\"p4a0d852855\">\n   <rect height=\"271.8\" width=\"390.6\" x=\"62.92125\" y=\"7.2\"/>\n  </clipPath>\n </defs>\n</svg>\n",
      "image/png": "[encoded data removed]"
     },
     "metadata": {},
     "execution_count": 13
    }
   ],
   "source": [
    "# use local simulator\n",
    "qasm_sim = Aer.get_backend('qasm_simulator')\n",
    "shots = 1024\n",
    "qobj = assemble(bv_circuit)\n",
    "results = qasm_sim.run(qobj).result()\n",
    "answer = results.get_counts()\n",
    "\n",
    "plot_histogram(answer)"
   ]
  },
  {
   "cell_type": "markdown",
   "metadata": {},
   "source": [
    "### 2.2 Deutsch-Josza\n",
    "\n",
    "\n",
    "#### Deutsch\n",
    "\n",
    "<img src=\"./images/Deutsch.jpg\" alt=\"Note: In order for images to show up in this jupyter notebook you need to select File => Trusted Notebook\" width=\"250 px\" align=\"center\">\n",
    "\n",
    "Let $f$ be a function from $\\{0,1\\}$ to $\\{0,1\\} :  f : x \\in \\{0,1\\} ⟼ \\{0,1\\}$, it can be *constant* or *balanced*. To find out if it is constant or balanced, a classical algorithm will need to evaluate $f$ for both 0 and 1 input values. \n",
    "\n",
    "\n",
    "\n",
    "In 1985, David Deutsch show that a quantum algorithm can find out with only one evaluation of $f$. \n",
    "Seven years later, David Deutsch and Richard Josza extend this algorithm to the case with $N$ input bits ($2^N$ possible values)\n",
    "\n",
    "\n",
    "#### Lets build the four functions  $f_0, f_1,f_2,f_3$, and run Deutsch algorithm. Result $0$ indicates a constant function, and  $1$ indicates a balanced function:\n",
    "\n",
    "<img src=\"./images/f0f1f2f3.png\" alt=\"Note: In order for images to show up in this jupyter notebook you need to select File => Trusted Notebook\" width=\"400 px\" align=\"center\">\n",
    "\n",
    "<img src=\"./images/deutschfunctions.png\" alt=\"Note : In order for images to show up in this jupyter notebook you need to select File => Trusted Notebook\" width=\"600 px\" align=\"center\">\n",
    "\n",
    "\n",
    "<img src=\"./images/DeutschAlgo.png\" alt=\"Note : In order for images to show up in this jupyter notebook you need to select File => Trusted Notebook\" width=\"600 px\" align=\"center\">\n"
   ]
  },
  {
   "cell_type": "code",
   "execution_count": 1,
   "metadata": {},
   "outputs": [],
   "source": [
    "#\n",
    "#\n",
    "# Your code here \n",
    "#\n",
    "#"
   ]
  },
  {
   "cell_type": "markdown",
   "metadata": {},
   "source": [
    "<!div class=\"alert alert-block alert-info\">\n",
    "Deutsch justification :  \n",
    "\n",
    "(Note  $\\oplus$ is xor (or modulus 2 addition) \n",
    "\n",
    "Let's analyze the states along the circuit. Inital state: \n",
    "\\begin{equation}\n",
    "|\\psi_1⟩ = |0⟩\\times|1⟩\n",
    "\\end{equation}\n",
    "\n",
    "Theen both qubits go through Hadamard : \n",
    "$|0⟩$ goes to $\\frac{1}{\\sqrt{2}}(|0⟩+|1⟩)$\n",
    "and  \n",
    "$|1⟩$ goes to $\\frac{1}{\\sqrt{2}}(|0⟩-|1⟩)$\n",
    "\n",
    "So we have state : $|\\psi_2⟩$\n",
    "\n",
    "\\begin{equation}\n",
    "|\\psi_2⟩ = \\frac{1}{\\sqrt{2}}(|0⟩+|1⟩) \\times \\frac{1}{\\sqrt{2}}(|0⟩-|1⟩)\n",
    "\\end{equation}\n",
    "\n",
    "Both $\\frac{1}{\\sqrt{2}}$ multiply together, and we develop : \n",
    "\n",
    "\\begin{equation}\n",
    "|\\psi_2⟩ = \\frac{1}{2}(|0⟩\\times(|0⟩-|1⟩) + |1⟩\\times(|0⟩-|1⟩)\n",
    "\\end{equation}\n",
    "\n",
    "With $|x⟩$ having value in $|0⟩$ and  $|1⟩$ we can factor like this : \n",
    "\n",
    "\\begin{equation}\n",
    "|\\psi_2⟩ = \\frac{1}{2}\\sum_{x=0}^{x=1}|x⟩(|0⟩-|1⟩)\n",
    "\\end{equation}\n",
    "\n",
    "Then:\n",
    "\n",
    "\\begin{equation}\n",
    "|\\psi_2⟩ = \\frac{1}{2}\\sum_{x=0}^{x=1}(|x⟩|0⟩-|x⟩|1⟩)\n",
    "\\end{equation}\n",
    "\n",
    "Going to $|\\psi_3⟩$ the second qubit state gets the xor of its value and the value of $f(x)$. So $|0⟩$ goes to  $|0\\oplus f(x)⟩$ and $|1⟩$ goes to $|1\\oplus f(x)⟩$ :\n",
    "\n",
    "\n",
    "\\begin{equation}\n",
    "|\\psi_3⟩ = \\frac{1}{2}\\sum_{x=0}^{x=1}(|x⟩|0\\oplus f(x)⟩-|x⟩|1\\oplus f(x)⟩)\n",
    "\\end{equation}\n",
    "\n",
    "With:\n",
    "- if $f(x) = 0$ then $0\\oplus f(x) = 0$ and $1\\oplus f(x) = 1$\n",
    "\n",
    "- if $f(x) = 1$ then $0\\oplus f(x) = 1$ and $1\\oplus f(x) = 0$  \n",
    "\n",
    "which gives:\n",
    "\n",
    "- if $f(x) = 0$ then $|x⟩|0\\oplus f(x)⟩- |x⟩|1\\oplus f(x) ⟩ = |x⟩|0⟩-|x⟩|1⟩ =|x⟩(|0⟩-|1⟩$\n",
    "\n",
    "- if $f(x) = 1$ then $|x⟩|0\\oplus f(x)⟩- |x⟩|1\\oplus f(x) ⟩ = |x⟩|1⟩-|x⟩|0⟩ = -|x⟩(|0⟩-|1⟩$\n",
    "\n",
    "Then: \n",
    "\n",
    "$|x⟩|0\\oplus f(x)⟩ - |x⟩|1 \\oplus f(x) ⟩ = (-1)^{f(x)}|x⟩(|0⟩-|1⟩)$\n",
    "\n",
    "and we can write:\n",
    "\n",
    "\\begin{equation}\n",
    "|\\psi_3⟩ = \\frac{1}{2}\\sum_{x=0}^{x=1}(-1)^{f(x)}|x⟩(|0⟩-|1⟩) = \\frac{1}{2}\\left(\\sum_{x=0}^{x=1}(-1)^{f(x)}|x⟩\\right)(|0⟩-|1⟩\n",
    "\\end{equation}\n",
    "\n",
    "\\begin{equation}\n",
    "|\\psi_3⟩  = \\frac{1}{2}\\left((-1)^{f(0)}|0⟩ + (-1)^{f(1)}|1⟩\\right)(|0⟩-|1⟩)\n",
    "\\end{equation}\n",
    "\n",
    "We now have to get $q_0$ throught thee last $H$ gate: \n",
    "\n",
    "\n",
    "\\begin{equation}\n",
    "|\\psi_4⟩  = \\frac{1}{2}\\left((-1)^{f(0)}\\frac{1}{\\sqrt{2}}(|0⟩+|1⟩) + (-1)^{f(1)}\\frac{1}{\\sqrt{2}}(|0⟩-|1⟩)\\right)(|0⟩-|1⟩)\n",
    "\\end{equation}\n",
    "\n",
    "\\begin{equation}\n",
    "|\\psi_4⟩ = \\frac{1}{2\\sqrt{2}}\\left(\\left((-1)^{f(0)}+(-1)^{f(1)}\\right)|0⟩ + \\left((-1)^{f(0)}-(-1)^{f(1)}\\right)|1⟩\\right) (|0⟩-|1⟩)\n",
    "\\end{equation}\n",
    "\n",
    "And we see that: \n",
    "\n",
    "- if $f(0) = f(1)$ then measuring $q_0$ will result in state $|0⟩$\n",
    "- if $f(0) ≠ f(1)$ then measuring $q_0$ will result in state $|1⟩$\n",
    "\n",
    "Deutsh-Josza expand the same problem to $N$ bits, we are egiven a function from 0,1 exp N to 0,1, and we are told that f is either constant or balanced. \n",
    "\n",
    "Here is a demo:\n",
    "\n"
   ]
  },
  {
   "cell_type": "code",
   "execution_count": null,
   "metadata": {},
   "outputs": [],
   "source": [
    "# initialisations \n",
    "\n",
    "import numpy as np\n",
    "\n",
    "from qiskit import IBMQ, BasicAer\n",
    "from qiskit.providers.ibmq import least_busy\n",
    "from qiskit import QuantumCircuit, execute\n",
    "from qiskit.tools.jupyter import *\n",
    "provider = IBMQ.load_account()\n",
    "\n",
    "from qiskit.visualization import plot_histogram"
   ]
  },
  {
   "cell_type": "code",
   "execution_count": null,
   "metadata": {},
   "outputs": [],
   "source": [
    "def dj_oracle(n, case): \n",
    "    # on construit un circuit, avec n+1 qubits \n",
    "    \n",
    "    oracle_qc = QuantumCircuit(n+1)\n",
    "    \n",
    "    # cas de l'oracle équilibré (balanced)\n",
    "    if case == \"balanced\": \n",
    "        # cnot gate de chaque qubit sur le qubit de sortie\n",
    "        for qubit in range(n):\n",
    "            oracle_qc.cx(qubit,n)\n",
    "            # ca fait qu'on on flip le qubit n autant de fois \n",
    "            # qu'on a un 1 en entrée, donc selon la parité du nombre\n",
    "            # de 1, il finit à 0 ou à 1.\n",
    "            \n",
    "    # cas de l'oracle constant\n",
    "    if case == \"constant\": \n",
    "        # il est constant à 0 ou à 1, on tire au sort un \n",
    "        # entier 0 ou 1 ce qui determine quel est le résultat (constant) de la fonction. \n",
    "        zero_un = np.random.randint(2) \n",
    "        if zero_un == 1:\n",
    "            oracle_qc.x(n)\n",
    "            # on sort toujours 1 quelque soit l'entrée\n",
    "        # sinon rien. le qubit n est à 0... toujours\n",
    "        \n",
    "    oracle_gate = oracle_qc.to_gate()\n",
    "    oracle_gate.name = \"Oracle\"\n",
    "    return oracle_gate\n",
    "            "
   ]
  },
  {
   "cell_type": "code",
   "execution_count": null,
   "metadata": {},
   "outputs": [],
   "source": [
    "def dj_algo(n, case='random'): \n",
    "    dj_circuit = QuantumCircuit(n+1,n)\n",
    "    \n",
    "    # superpose les n premiers (0 à n-1) \n",
    "    for qubit in range(n): \n",
    "        dj_circuit.h(qubit)\n",
    "        \n",
    "    # on s'occuppe du dernier qubit (état moins)\n",
    "    dj_circuit.x(n)\n",
    "    dj_circuit.h(n)\n",
    "\n",
    "    # si l'utilisateur n'a pas spécifié le parametre random ou bien \n",
    "    # si il l'a spécifié à random\n",
    "    if case == 'random':\n",
    "        random = np.random.randint(2)\n",
    "        if random == 0: \n",
    "            case = 'constant'\n",
    "        else: \n",
    "            case = 'balanced'\n",
    "    # maintenant on crée l'oracle :\n",
    "    oracle = dj_oracle(n,case)\n",
    "    # et on l'ajoute au circuit que nous sommes en train de construire:\n",
    "    dj_circuit.append(oracle, range(n+1))\n",
    "    # range(n+1) est la liste des qubits que circuit \"connecte\" à oracle\n",
    "    \n",
    "    # et on termine le circuit avec les H et les measurement\n",
    "    for i in range(n):\n",
    "        dj_circuit.h(i)\n",
    "        dj_circuit.measure(i, i)\n",
    "    \n",
    "    return dj_circuit\n",
    "        \n",
    "    "
   ]
  },
  {
   "cell_type": "code",
   "execution_count": null,
   "metadata": {},
   "outputs": [],
   "source": [
    "n = 4\n",
    "dj = dj_algo(n)\n",
    "dj.draw(output= 'mpl')"
   ]
  },
  {
   "cell_type": "code",
   "execution_count": null,
   "metadata": {},
   "outputs": [],
   "source": [
    "# execution sur le simulateur local\n",
    "backend = BasicAer.get_backend('qasm_simulator')\n",
    "shots = 1024\n",
    "\n",
    "dj = dj_algo(n, 'constant')\n",
    "results = execute(dj, backend = backend, shots = shots).result()\n",
    "answer = results.get_counts()\n",
    "\n",
    "plot_histogram(answer)"
   ]
  },
  {
   "cell_type": "code",
   "execution_count": null,
   "metadata": {},
   "outputs": [],
   "source": [
    "backend = least_busy(provider.backends(filters = lambda x: x.configuration().n_qubits >= (n+1) and \n",
    "                                       not x.configuration().simulator and x.status().operational == True))\n",
    "\n",
    "print(\"least busy backend: \", backend)\n",
    "\n",
    "%qiskit_job_watcher\n",
    " \n",
    "dj = dj_algo(n, 'balanced')\n",
    "job = execute(dj, backend = backend, shots = shots, optimization_level = 3)\n"
   ]
  },
  {
   "cell_type": "code",
   "execution_count": null,
   "metadata": {},
   "outputs": [],
   "source": [
    "results = job.result()\n",
    "answer = results.get_counts()\n",
    "\n",
    "plot_histogram(answer)"
   ]
  },
  {
   "cell_type": "markdown",
   "metadata": {},
   "source": [
    "# 3. Challenges"
   ]
  },
  {
   "cell_type": "markdown",
   "metadata": {},
   "source": [
    "# 3.1 Challenge 1 : Four states coding"
   ]
  },
  {
   "cell_type": "markdown",
   "metadata": {},
   "source": [
    "## Quantum Cryptography : BB84\n",
    "\n",
    "### You can also ref to BB84.pdf in the GitHub repo\n",
    "\n",
    "**[BB84](https://en.wikipedia.org/wiki/BB84)** protocol was set up in 1984 by one of our famous IBM'ers Charles Bennett with his colleague Gilles Brassard. \n",
    "It has been experimented a few years later in the first demonstration of quantum key distribution  : [quantum key distribution](https://en.wikipedia.org/wiki/Quantum_key_distribution) by Charles Bennett and John Smolin in IBM [C. H. Bennett, F. Bessette, G. Brassard, L. Salvail, and J. Smolin, J. of Cryptography **5**, 3 (1992) ]. Charles and John are still part of the quantum IBM team. \n",
    "\n",
    "<img src=\"./images/charlie_john_qkd.jpg\" width=\"500\"/>\n",
    "<center>Charles Bennett and John Smolin at T.J. Watson IBM research center.</center>\n",
    "\n",
    "BB84 protocol allows to communicate a cryptographie key from one point to another and knowing that it has not been compromised. \n",
    "\n",
    "\n",
    "## BB84 Protocol \n",
    "\n",
    "The steps are the following : \n",
    "\n",
    "1. Alice chooses two random bit strings of length  $n$ : $k$ and $b$. The list $k$ has the key value. The list $b$ represents the bases choice for Alice to encode the bits of $k$. When  $b_i=0$ (meaning if the  $i^{th}$ base bit is zero ), she encodes the $i^{th}$ qubit in the standard base $\\{|0\\rangle, |1\\rangle \\}$, and if $b_i=1$, she uses the base  $\\{|+\\rangle, |-\\rangle \\}$, where $|+\\rangle:=\\frac{1}{\\sqrt{2}}(|0\\rangle +|1\\rangle)$, $|-\\rangle:=\\frac{1}{\\sqrt{2}}(|0\\rangle -|1\\rangle)$. \n",
    "\n",
    "This can be showned as follows : \n",
    "\n",
    "\n",
    "<img src=\"./images/encoding_Alice.png\" alt=\"drawing\" width=\"300\"/>\n",
    "\n",
    "2. After endoding $n$ bits, Alice sends them to Bob. He chooses a random bit string $\\tilde{b}$ of length $n$ for the measurement bases he will be using. Bob records his measurement results  $\\tilde{k_i}$ along with the bases used $\\tilde{b_i}$, in an array.\n",
    "\n",
    "3. Then Alice and Bob compare their bases $b_i$ and $\\tilde{b}_i$. Whenever  $b_i \\neq \\tilde{b}_i$, Bob did not measure in the same base Alice did encode. The probability of having measured the correct value for $k_i$ is $\\frac{1}{2}$, in this case this position is discarded. Howeever, if $b_i = \\tilde{b}_i$, then the qubit was preepared and measured in the same basis (and if noboby did spy on the communication) Bob did measure a correct value : $\\tilde{k}_i = k_i$. These values make the key \n",
    "\n",
    "## Example : \n",
    "\n",
    "Let's assume Alice random key value is :  $k=$`0111001` and her bases choice : $b=$`1101000`, and let's assume Bob's bases are : $\\tilde{b}$=`1001101`. Look at the values below and note that when bases eare not hte same Bob has one chance out of two to get a correct measurement. \n",
    "<img src=\"./images/example_bb84.png\" alt=\"drawing\" width=\"600\"/>\n",
    "\n",
    "In this case, the key is '0110', and to know if it has been seen by Eve, Alice and Bob will have to sacrifice some of theses bits. If a measurement was made during the distribution, le qubit state would have change with probability $\\frac{1}{4}$. By verifying $m$ bits values, the probability of not detecting Eve decays as $\\left(\\frac{3}{4}\\right)^m$. So if the verify enough bits, they will gain confidence that Eve did not spy. \n",
    "\n",
    "### Message encryption\n",
    "\n",
    "One the key is known and secretely has been secretly distributed, Alice and Bob can use it very easily  :  [ref Masque Jetable](https://fr.wikipedia.org/wiki/Masque_jetable) : Alice just adds bitwise modulo 2 the two lists.  (in other words she performs bitwise XOR). With the above example, key is $\\text{key}=`0110`$. Secret message is $m=`1100`$, so encrypted message is : $c=m\\oplus \\text{key (mod 2)} = `1010`$. Bob can decipher in doing the same thing : add the key to the message : $m=c\\oplus \\text{key (mod 2)}$.\n",
    "\n",
    "## workshop : \n",
    "\n",
    "In this notebook you will be in Bob's role, and with Alice you will generate a key unsing BB84 protocol, then you will beable to decodee Alice's message.\n",
    "\n",
    "---\n",
    "\n",
    "There will be 4 steps : \n",
    "\n",
    "1. Alice prepares her key and bases. The function (provided) `alice_prepare_qubit` is used to send to you the qubits states. \n",
    "\n",
    "2. Bob (you) measure the recevied qubit states in your basis list, you will have to code the function  `build_bob_measure_circuit`. This function receives an index to point in the qubits and in Bob's basis list as well as in the quantum circuit list (which has prepared Alice's qubit state). The function returns a quantum circuit which can be appended to Alice's circuit used to prepare her qubit. Bob circuit simply performs a measure about Bob's base, for each index position. \n",
    "\n",
    "3. Then you will have to build the code for making the key Alice and Bob will agree on (by discarding the values that have been emitted and received on non identical basis).\n",
    "\n",
    "4. Finally, we will be able to write the function to decipher Alice's massage with the key. You generate a bit string, which is a morse code text, you will need to make it readable. \n",
    "\n",
    "---\n",
    "\n",
    "This workhop is derived from the IBM Quantum Computing Challenge, on may 4th, 2020. "
   ]
  },
  {
   "cell_type": "markdown",
   "metadata": {},
   "source": [
    "### Setup"
   ]
  },
  {
   "cell_type": "code",
   "execution_count": 14,
   "metadata": {},
   "outputs": [],
   "source": [
    "# import libraries\n",
    "import BB84HO\n",
    "from random import randint\n",
    "from qiskit import QuantumCircuit, execute, Aer\n",
    "backend = Aer.get_backend('qasm_simulator')\n",
    "\n",
    "bases_length = 1500"
   ]
  },
  {
   "cell_type": "code",
   "execution_count": 15,
   "metadata": {},
   "outputs": [
    {
     "output_type": "stream",
     "name": "stdout",
     "text": [
      "011001001100010011110101101101100110101000001010010101111011100001111010000010010010010100101000101101010001010110111111100110000001011101001001100010011110000110010001110101011100111000100111110001110010110110001110100010111001001010101101101100001101111110001000010010101001011000111011110010110010010111001010101011011001100100011111110111110110011010000001111111110111101000001000111110001000101110000110000110011110101010010100001010011010010111001001100111101111111000110100011101000110001010000101101101010100000100001001001010111100000110001100001101010100000101101000001011101101011111001011110001101111011001011100101111010111110101010100000100001110100101010110100010111010101111011010110000110100000001011110100111111001101101010100010111011011101110100110001011100100001110011101000011101000010100001101100001001100000101111100110101011010110110101011101111100101011000011001000111111101111110101111111100110101011000001101010010101000010100100111101000010001001001011000010001011111101010011111000110001101010101111011100101001110000101110010101001110010010100010001000000111000000101101101101010111010100011011001000010101010011111110100010011111000100001010111011100000011011000110110011111001010001110010010110100010101001111111000001100101001110110011011010110110010011111001011011000011101000001101110101010111000101111000000101100010011000001111101000000101111100100101100111111110111101001100000010110110000010111001011010100001100110100000010111010010001111001010101001010011100\nzzzxzzxxxxzxzxzzzxzzxxzxzxzxzxxzzzzxxxxzzxzzxxxzzxxxzxzzzzzzzzxzzzxxxxzzxzzxxxzzxxxzxxxxzzxzxxzzzzzzxzzzzzzzxzxxxzxxzxxzzzxxzxxxzxxzzxzxxxzxzzzzzxzzxzzxzzzzzxzzxzzxxzxxzxzzxxxxxzzzzxzzxxzzzxzxzzxxzxzzzxxxzxzzzzxxxzzzxzxzzxzxxzxzzxzzzzzxxzxxxzzxzxxzxzzxxxxxzxxxzxzxxzxxzxxzxxxxxxzxxzxxxzxzzzxzzxzxxzxzxxzxzxzzxzxzzzzzxzzxxxzxzzxzzxzxxzzzxxxzxxzxxxzzzxzzzzzzxzzzzxxxzxzzzxxxzzzzzzzxzxxxxzzzzzxxzxzxzzzzxxzxzzzzzxxzxxxzxzxxxzzzzzzxzzzzxzzzxxxxxzxzxzzzxzxxxxxxzzzzzzxxzzxzxzzxzzzxxzxxxzxzzzxzzzxzxxxzxxzzxxxxxzxzxzzzzxzxxxxzzzzzzzxzxxzxzzxzzzxzzzzzzxzzzxxzxzzxzxzxzzxxzzzzzzzzxzzxxzxzzzzzzzzxzzxxxxxzxzzxxzzxxxzzzzzxxzxxzxzxzxzzxzxxzxxxzzxzxxxxxxxxxzzzxxzzxzzzxzzzzzzzxxxxxxxzxzxxzzxxxxxzzzzzxxxzzzzxxzxxxzzxzzxzxzzzxxxzxxzzzzzzzzzxzzzzzzzzxxzzzzxzzzzxzzxxzxzzzzzzzzzzxzzzzxxzzzzxxzzxzxxzzzzxxxzxzxxxxzzzzxxxzxzzzxzzzxzxzzxzzzzxzzxxxxzxxzzzxxzzxzxxxzxzzxzxzzxxxxzxzxzxxxxxxzzzzxxxzzxxzzxzzzzxxxxxzxzzxzxxxzzzxzzxzxzzxzxzzxxxzxzxxzzxzxxzxxxzzzxzxzzzxxxzzzxzxxxxxxxxxzxxzzxxxxzxxzxxxxxxzzzxxxzzxzzxzxxzxzxxxxxzxzxzxzzzzxzxzxxzzxzxzxzzxxzzxxxzzzzzxzxzxxzzzxxzxzzxzxzxxxxxxxxxzzxxxzzxxxzxzxzzzxxxxxzxxxxzzzxzxzzxxxxzxzxxxxzxzxxzzzxxzxzzzzxxxxxzxxzxxzxxxxxxxxzzxzzxzxzxzzzxzzzxzzzzzxzzzzzzzzxzxxxzzxzzxxzzxxzzzxxxzxzxzxxxxzxzzxxxzzxzzzxzzxzzzzxxzxxxxzxzzxxxzxzxxxxxxzxxxxzxxzxzzxzzzxxzzzxxzxzzxxzzxxxxzzxxxzzxxzxxxzzxxxzzxzzzxxxzzxzxzzzzxzxzzzxxzzxzxzxzxxzxxzzxxxxxzzxxzxzxxxxxxzxzzxzzzzxxxzzxzzxzzzxxzzzxxxxzzzzzzxzzxzzzzzxxzxxxxzzzzxzxxxzxxzzxzxxzzxxzzzxzzzxzzxzzxzzxxxzxxzzzzzzzxxzzzzzzzzzzzzxxxxxxzxzxxxxx\n"
     ]
    }
   ],
   "source": [
    "# clef aléatoire\n",
    "alice_key = \"\"\n",
    "for i in range(bases_length): \n",
    "    alice_key += str(randint(0, 1))\n",
    "\n",
    "# bases aléatoires\n",
    "alice_bases = \"\"\n",
    "for i in range(bases_length):\n",
    "    if randint(0, 1):\n",
    "        alice_bases += \"z\"\n",
    "    else:\n",
    "        alice_bases += \"x\"\n",
    "        \n",
    "print(alice_key)\n",
    "print(alice_bases)"
   ]
  },
  {
   "cell_type": "markdown",
   "metadata": {},
   "source": [
    "### Bob prepares his bases :"
   ]
  },
  {
   "cell_type": "code",
   "execution_count": 16,
   "metadata": {},
   "outputs": [
    {
     "output_type": "stream",
     "name": "stdout",
     "text": [
      "Bob's bases : xxzzzxxxzzxzxxxzxzzxxzzxxzzxzxzzzzxxxxxxxzxxzzzxxxzzxzxzxxxzzzxxxxzxzzxzxxxzzxxxzxxzxzxzxxzzxxzzzzxzzzzzzxzxzzxzxxzzzxxzxzzzzxzzzxxxzxxxxzxxzxxxxzzzzzxxzxxzzzxzxzzzxzxxzxzzzzxxzzzzzzzxzxxzzzxzxxxzzxxxzzxxxzzxzzzxzxxxzzzxxzxzzxzxzxzxzzzxzzxxzzzzzxzzzzxzxxzzxxxzzzxzxzxxzxzxxzxxzxzxzzxzzxzxxxzxzzxzzzzxzxxxxxxzxzzxzzzzxxxxxxzzxxxxzzxxxzxzxxxxxxzzxzxxzzxxzzxzxxzzxxzzxxxzzxxxxxzxxxxxzxxzzxzzzxzzxzxzxxzxzzzzxxzzzzzzzzzxxxzzzxzzxxzzxzzzzxxzxzxxxzzxzxzzxzzxzzxxzzxxxxxzzzxxzzxxzzxzxzzxzzxxxxxzxxzxxzzxxxzzzzzzxxxzzzzxzzxxxxzxxzxxzzzxzzzxxxzzzzxxxzxxxzzxxxzxzzzxzzzxxzzxxxxzzxxxzzxxzxxxzzxzxzzzxzzzzzzxxzzzxxxzzzxxxxzxxzxzzzxzzzxxzxxxzzzzzxzxzxzzzzxxxxxzzxxzzzxzzxzxzxxzzzxzzzzxzzzxzzzxxxzzxzzzxxzzzxzzxzxxzxxzxxxxzzxzxxxzzxxxxxxzzzxzxxxxxxxzxxzxxzzxxzxxzzzxxxxxzzxxzxxxzzzxzzzxzzzxzzzzzzxzzxxxzxxzxzxzxxzxxxxxxzzxxxxxxzzxzxxzzzxzzzzzxxxxzxzzxxzxzxzzxzzzxzzxzxzzxxxzzzxzxzxxzzxzzxxxxxzzzzxxzxzzzxzzzxxxxxxxzzzxxzzzxzxzzxxzzxzzzxxzxzzxzxxzxxzzzzzzxzxzxzzxxxxxxxxzzzxxxxxzxzxxzxxzzxxzzxzzxzxxxxxzxzzzzxxxzzxxzxxzxxxzzxxxxxxxxxzxxzxxzxxxxzxxxzxxzzzzxzxxxxxxzxxzzxzzzxzxzxzzxzzxzzzxxzxzzxzzxzxzzxxzzzzzxzzxxxxzxxzzzxzxzxzzzxzzzzxxzzxxxzzxxxzzzzzzzzxxzxxxxzxxxxzzxzzzzzxxxzzzzxxxzzxxzxxzxxzzzzzxzzxxxzxzxxzzxzzxzzxzxxxxxxzzxxzxzxzzzzzxxxxzxxzxzxxxzxxxxzzxzzxxxzzxxzzxzzxzzzzxxxxzxxzxzzzxzxzzzzxzzzxzzxxxxxzxxxzzxzzzxxxxzzzzzxxxzxxzzxxxxzzxxzxzzzzxxzxzzxxzzzxzzzxzxzxzzzzzzzzxzzzzzxxxzxxzxzxxzxzxzxzzxxzzxzzzzxzzzzzzzxzxzxzzzxzzzxxxzxxzxzzxzzzxzzzxxxxzxxxxxzxxzxxzxzxxzxzzxzzzxxxzxxzzxxzxzzxzzxxxxzxxxzzxzxzzxzzz\n"
     ]
    }
   ],
   "source": [
    "bob_bases = \"\"\n",
    "for i in range(bases_length):\n",
    "    if randint(0,1):\n",
    "        bob_bases += \"z\"\n",
    "    else:\n",
    "        bob_bases += \"x\"\n",
    "        \n",
    "print('Bob\\'s bases :', bob_bases)"
   ]
  },
  {
   "cell_type": "markdown",
   "metadata": {},
   "source": [
    "### Now Bob performs the measurements (with his bases) on states prepared by Alice (with her key and bases): "
   ]
  },
  {
   "cell_type": "code",
   "execution_count": null,
   "metadata": {},
   "outputs": [],
   "source": [
    "bob_results = \"\"\n",
    "\n",
    "def bb84():\n",
    "    print('Bob\\'s bases:', bob_bases)\n",
    "\n",
    "    # now Alice prepares her qubits one at a time, using her basis list, \n",
    "    # Bob measures, using his basis list.\n",
    "    bob_results = \"\"\n",
    "    \n",
    "    # for each bit\n",
    "    for index in range(bases_length):\n",
    "        # Alice create her qubit state\n",
    "        thisqubit_circuit = BB84HO.prepare_alice_qubit(index, alice_bases, alice_key)\n",
    "        \n",
    "        # Bob prepares for measure (function to be coded below) \n",
    "        bob_measure = build_bob_measure_circuit(index, bob_bases, thisqubit_circuit)\n",
    "        \n",
    "        # now we execute and measure on the simulator \n",
    "        bob_job = execute(bob_measure, backend=backend, shots=1)\n",
    "        bob_reading = bob_job.result()\n",
    "        \n",
    "        # for each result we build the list\n",
    "        bob_results += list(bob_reading.get_counts(bob_measure))[0]\n",
    "    return bob_results\n",
    "\n",
    "# this is the function to be writen : \n",
    "# you need to \"continue\" a quantum cicruit sent by Alice (qc) using one qubit so that you\n",
    "# make the measurement in Bob's basis at index = index.\n",
    "# the function returns the quantum circuit. \n",
    "def build_bob_measure_circuit(index, bob_bases, qc):    \n",
    "   \n",
    "    # START : write your code here \n",
    "   \n",
    "\n",
    "    # END ------------------------ \n",
    "    \n",
    "bob_bits = bb84()        \n",
    "print('Bob\\'s bits: ', bob_bits)\n"
   ]
  },
  {
   "cell_type": "markdown",
   "metadata": {},
   "source": [
    "### After Bob made his measurement, Alice and Bob share their bases: \n"
   ]
  },
  {
   "cell_type": "code",
   "execution_count": null,
   "metadata": {},
   "outputs": [],
   "source": [
    "print(\"alice_bases = \", alice_bases, \"\\n\")\n",
    "print(\"bob_bases   = \", bob_bases)"
   ]
  },
  {
   "cell_type": "markdown",
   "metadata": {},
   "source": [
    "### Now Alice and Bob can construct their key :\n",
    "They will keep only the bits corresponding to index where the bases were identical. \n"
   ]
  },
  {
   "cell_type": "code",
   "execution_count": null,
   "metadata": {},
   "outputs": [],
   "source": [
    "# conserver les bits de la clef d'Alice (ou de ceux qu'a lu Bob) si et seulement si la base choisie\n",
    "# par Alice et la base choisie par Bob étaient les mêmes \n",
    "key = \"\"\n",
    "# START : write your code here \n",
    "\n",
    "    \n",
    "# END ------------------------ \n",
    "\n",
    "print(\"aliceKey:\", alice_key)\n",
    "print(\"aliceBases:\", alice_bases)\n",
    "print(\"bobBases:\", bob_bases)\n",
    "print(\"bobBbits:\", bob_bits)\n",
    "\n",
    "print(len(key))\n",
    "print(\"key= \", key)"
   ]
  },
  {
   "cell_type": "markdown",
   "metadata": {},
   "source": [
    "### Now Alice can use the key to encode her message : \n",
    "\n",
    "execute the following cell"
   ]
  },
  {
   "cell_type": "code",
   "execution_count": null,
   "metadata": {},
   "outputs": [],
   "source": [
    "mess = BB84HO.code(BB84HO.alice_message_clair, key)\n",
    "\n",
    "print(mess)\n",
    "print(len(mess))"
   ]
  },
  {
   "cell_type": "markdown",
   "metadata": {},
   "source": [
    "### Function to decode the message using the key: "
   ]
  },
  {
   "cell_type": "code",
   "execution_count": null,
   "metadata": {},
   "outputs": [],
   "source": [
    "# this is Alice message : print(\"message :\", mess)\n",
    "print(len(mess))\n",
    "\n",
    "# here we decode Alice message, using our key\n",
    "def decode(message,clef):\n",
    "    # premierement vérifier que la clef est assez longue (> message length)\n",
    "    # sinon presentez un message, il faut recommencer\n",
    "    \n",
    "    # START : write your code here \n",
    "    \n",
    "   \n",
    "   \n",
    "    \n",
    "    \n",
    "    # END ------------------------ \n",
    "\n",
    "    \n",
    "clair = decode(mess,key)\n",
    "clair = clair.rstrip(\"0\")\n",
    "print(\"clair   :\" ,clair)"
   ]
  },
  {
   "cell_type": "markdown",
   "metadata": {},
   "source": [
    "Message is in morse code :\n",
    "\n",
    "- point : '1' (\"ti\")\n",
    "- dash : '11' (\"ta\")\n",
    "- separator : '0'\n",
    "- letter separator :  '00'\n",
    "- word separator: '000'.\n",
    "\n",
    "For example :\n",
    "<img src=\"./images/qiskit_morse.png\" alt=\"drawing\" width=\"500\"/>"
   ]
  },
  {
   "cell_type": "markdown",
   "metadata": {},
   "source": [
    "### Try and decode Alice message  !\n",
    "\n",
    "One usefull Python method can be \"split()\" : `string.split(separator, maxsplit)`\n",
    "\n",
    "You may \"split\" the string into a word list `texte.split(\"000\")`, then split words into letters with `mot.split(\"00\")`, finally split letters into signs (\"ti\" and \"ta\"), then pick up each letter from the provided dictionnary to display the message. "
   ]
  },
  {
   "cell_type": "code",
   "execution_count": null,
   "metadata": {},
   "outputs": [],
   "source": [
    "M = { '.-':'a', '-...':'b', '-.-.':'c', '-..':'d', '.':'e', '..-.':'f', '--.':'g', \n",
    "     '....':'h', '..':'i', '.---':'j', '-.-':'k', '.-..':'l', '--':'m', '-.':'n',\n",
    "     '---':'o', '.--.':'p', '--.-':'q', '.-.':'r', '...':'s', '-':'t', '..-':'u',\n",
    "     '...-':'v', '.--':'w', '-..-':'x', '-.--':'y', '--..':'z', '.----':'1', \n",
    "     '..---':'2', '...--':'3', '....-':'4', '.....':'5', '-....':'6', '--...':'7',\n",
    "     '---..':'8', '----.':'9', '-----':'0', '--..--':',', '.-.-.-':'.', '..--..':'?',\n",
    "     '-..-.':'/', '-....-':'-', '--..--':',', '---...':':', '-.--.':'(', '-.--.-':')',\n",
    "     '..-..':'é','.--.-':'à', '-.-.--':'!'} \n",
    "\n",
    "# ecrivez une focntion qui rend lisible le code morse de \"clair\"\n",
    "\n",
    "# START : write your code here \n",
    "\n",
    "# END ------------------------ "
   ]
  },
  {
   "cell_type": "markdown",
   "metadata": {},
   "source": [
    "## 3.2 : Challenge 2 Quantum Teleportation\n",
    "\n",
    "\n",
    "<img src=\"./images/lab-header.png\" alt=\"drawing\" width=\"800\"/>"
   ]
  },
  {
   "cell_type": "markdown",
   "metadata": {},
   "source": [
    "\n",
    "### You may review Telportation.pdf in the repo\n",
    "\n",
    "\n",
    "In this exercise, you will teleport the quantum state \n",
    "$$\\sqrt{0.70}\\vert0\\rangle + \\sqrt{0.30}\\vert1\\rangle$$ from Alice's qubit to Bob's qubit. Recall that the teleportation algorithm consists of four major components:\n",
    "\n",
    "1. Initializing the state to be teleported. We will do this on Alice's qubit `q0`.\n",
    "2. Creating entanglement between two qubits. We will use qubits `q1` and `q2` for this. Recall that Alice owns `q1`, and Bob owns `q2`.\n",
    "3. Applying a Bell measurement on Alice's qubits `q0` and `q1`.\n",
    "4. Applying classically controlled operations on Bob's qubit `q2` depending on the outcomes of the Bell measurement on Alice's qubits.\n",
    "\n",
    "This exercise guides you through each of these steps."
   ]
  },
  {
   "cell_type": "markdown",
   "metadata": {},
   "source": [
    "### Initializing the state to be teleported"
   ]
  },
  {
   "cell_type": "markdown",
   "metadata": {},
   "source": [
    "First, create a quantum circuit that creates the state $$\\sqrt{0.70}\\vert0\\rangle + \\sqrt{0.30}\\vert1\\rangle$$ You can do this by using `Qiskit`'s `initialize` function (`quantum_circuit.initialize(state_as_a_list_of_2_complex,qubit`)"
   ]
  },
  {
   "cell_type": "code",
   "execution_count": null,
   "metadata": {},
   "outputs": [],
   "source": [
    "def initialize_qubit(given_circuit, qubit_index):\n",
    "    \n",
    "    import numpy as np\n",
    "    ### WRITE YOUR CODE BETWEEN THESE LINES - START\n",
    "     \n",
    "   \n",
    "    \n",
    "    ### WRITE YOUR CODE BETWEEN THESE LINES - END\n",
    "    \n",
    "    return given_circuit"
   ]
  },
  {
   "cell_type": "markdown",
   "metadata": {},
   "source": [
    "Next, we need to create entanglement between Alice's and Bob's qubits."
   ]
  },
  {
   "cell_type": "code",
   "execution_count": null,
   "metadata": {},
   "outputs": [],
   "source": [
    "def entangle_qubits(given_circuit, qubit_Alice, qubit_Bob):\n",
    "    \n",
    "    ### WRITE YOUR CODE BETWEEN THESE LINES - START\n",
    "    \n",
    "   \n",
    "    \n",
    "    ### WRITE YOUR CODE BETWEEN THESE LINES - END\n",
    "    \n",
    "    return given_circuit"
   ]
  },
  {
   "cell_type": "markdown",
   "metadata": {},
   "source": [
    "Next, we need to do a Bell measurement of Alice's qubits."
   ]
  },
  {
   "cell_type": "code",
   "execution_count": null,
   "metadata": {},
   "outputs": [],
   "source": [
    "def bell_meas_Alice_qubits(given_circuit, qubit1_Alice, qubit2_Alice, clbit1_Alice, clbit2_Alice):\n",
    "    \n",
    "    ### WRITE YOUR CODE BETWEEN THESE LINES - START\n",
    "\n",
    "   \n",
    "    ### WRITE YOUR CODE BETWEEN THESE LINES - END\n",
    "\n",
    "    return given_circuit"
   ]
  },
  {
   "cell_type": "markdown",
   "metadata": {},
   "source": [
    "Finally, we apply controlled operations on Bob's qubit. Recall that the controlled operations are applied in this order:\n",
    "\n",
    "- an $X$ gate is applied on Bob's qubit if the measurement coutcome of Alice's second qubit, `clbit2_Alice`, is `1`.\n",
    "- a $Z$ gate is applied on Bob's qubit if the measurement coutcome of Alice's first qubit, `clbit1_Alice`, is `1`.\n",
    "\n",
    "- use `c_if` qiskit instruction : `given_circuit.gate(qubit).c_if(cbit,1)`"
   ]
  },
  {
   "cell_type": "code",
   "execution_count": null,
   "metadata": {},
   "outputs": [],
   "source": [
    "def controlled_ops_Bob_qubit(given_circuit, qubit_Bob, clbit1_Alice, clbit2_Alice):\n",
    "    \n",
    "    ### WRITE YOUR CODE BETWEEN THESE LINES - START\n",
    "    \n",
    "   \n",
    "    ### WRITE YOUR CODE BETWEEN THESE LINES - END\n",
    "    \n",
    "    return given_circuit"
   ]
  },
  {
   "cell_type": "markdown",
   "metadata": {},
   "source": [
    "The next lines of code put everything together. **You do not need to modify anything below, but you will need to run the cell.**"
   ]
  },
  {
   "cell_type": "code",
   "execution_count": null,
   "metadata": {},
   "outputs": [],
   "source": [
    "### imports\n",
    "from qiskit import QuantumRegister, ClassicalRegister, QuantumCircuit\n",
    "\n",
    "### set up the qubits and classical bits\n",
    "all_qubits_Alice = QuantumRegister(2)\n",
    "all_qubits_Bob = QuantumRegister(1)\n",
    "creg1_Alice = ClassicalRegister(1)\n",
    "creg2_Alice = ClassicalRegister(1)\n",
    "creg_target = ClassicalRegister(1)\n",
    "\n",
    "### quantum teleportation circuit here\n",
    "# Initialize\n",
    "mycircuit = QuantumCircuit(all_qubits_Alice, all_qubits_Bob, creg1_Alice, creg2_Alice, creg_target)\n",
    "initialize_qubit(mycircuit, 0)\n",
    "mycircuit.barrier()\n",
    "# Entangle\n",
    "entangle_qubits(mycircuit, 1, 2)\n",
    "mycircuit.barrier()\n",
    "# Do a Bell measurement\n",
    "bell_meas_Alice_qubits(mycircuit, all_qubits_Alice[0], all_qubits_Alice[1], creg1_Alice, creg2_Alice)\n",
    "mycircuit.barrier()\n",
    "# Apply classically controlled quantum gates\n",
    "controlled_ops_Bob_qubit(mycircuit, all_qubits_Bob[0], creg1_Alice, creg2_Alice)\n",
    "\n",
    "### Look at the complete circuit\n",
    "mycircuit.draw(output='mpl')"
   ]
  },
  {
   "cell_type": "markdown",
   "metadata": {},
   "source": [
    "Now you can add a measurement on creg_target and verify teleportation has happened"
   ]
  },
  {
   "cell_type": "code",
   "execution_count": null,
   "metadata": {},
   "outputs": [],
   "source": [
    "# add measure on Bob's qubit to Bob's c-bit (creg-target)\n",
    "mycircuit.measure(all_qubits_Bob[0],creg_target[0])\n",
    "\n",
    "# require needed objects for local sim xecution\n",
    "from qiskit import execute, Aer\n",
    "backend = Aer.get_backend('qasm_simulator')\n",
    "result = execute(mycircuit, backend, shots=1000).result()\n",
    "\n",
    "# dictionnaire qui reçoit les résultats\n",
    "d = result.get_counts(mycircuit)\n",
    "\n",
    "# because we had measurements already on Alices bit, the results are 3 qubits results\n",
    "# we want to count (agregating) results 0 on one side and result 1 on the other side for 3rd qubit, \n",
    "# comes at left position (most significant bit) : position 0 => k[0]\n",
    "### WRITE YOUR CODE BETWEEN THESE LINES - START\n",
    "\n",
    "\n",
    "\n",
    "### WRITE YOUR CODE BETWEEN THESE LINES - END"
   ]
  },
  {
   "cell_type": "markdown",
   "metadata": {},
   "source": [
    "# 3.3 Challenge 3 : Getting the best performance from the available machines\n",
    "\n",
    "Create the non trivial state $Rx(\\pi/5)|0\\rangle$\n",
    "\n",
    "Using the calibration data for the available machines, select the best 2 neighbours qubits for a swapp. \n",
    "\n",
    "<img src=\"./images/best-swap.png\" alt=\"drawing\" width=\"800\"/>\n",
    "\n",
    "Run and evaluate the result.\n",
    "\n",
    "# The following cells give you an example on how to query qubit error rates data \n",
    "\n",
    "This is from : \n",
    "https://github.com/Qiskit/qiskit-tutorials/blob/master/tutorials/circuits_advanced/08_gathering_system_information.ipynb wheree you can find more information on this subject."
   ]
  },
  {
   "cell_type": "code",
   "execution_count": null,
   "metadata": {},
   "outputs": [],
   "source": [
    "from qiskit import IBMQ # for provider access"
   ]
  },
  {
   "cell_type": "code",
   "execution_count": null,
   "metadata": {},
   "outputs": [],
   "source": [
    "IBMQ.load_account() # to autenticate using your API key, see Lab1 if needed "
   ]
  },
  {
   "cell_type": "code",
   "execution_count": null,
   "metadata": {},
   "outputs": [],
   "source": [
    "selected_provider = IBMQ.get_provider(hub='ibm-q')  # select default provider ibm-q"
   ]
  },
  {
   "cell_type": "code",
   "execution_count": null,
   "metadata": {},
   "outputs": [],
   "source": [
    "selected_provider.backends() # optional : show me the backends"
   ]
  },
  {
   "cell_type": "markdown",
   "metadata": {},
   "source": [
    "From there you could use that result to iterate on online backends having more than one qubit and which are not simulators. The following shows you some of the qiskit syntax you may use, to find the best 2 qubits  :"
   ]
  },
  {
   "cell_type": "code",
   "execution_count": null,
   "metadata": {},
   "outputs": [],
   "source": [
    "backend = selected_provider.get_backend('ibmq_belem')  # for example"
   ]
  },
  {
   "cell_type": "code",
   "execution_count": null,
   "metadata": {},
   "outputs": [],
   "source": [
    "prop = backend.properties()\n",
    "conf = backend.configuration()"
   ]
  },
  {
   "cell_type": "code",
   "execution_count": null,
   "metadata": {},
   "outputs": [],
   "source": [
    "for i in range(conf.n_qubits):\n",
    "    print(f\"Qubit {i} has a sx gate error of     {round(prop.gate_error('sx',i),4)} \")\n",
    "              \n",
    "for i in range(conf.n_qubits):\n",
    "     print(f\"Qubit {i} has a measurement error of {round(prop.readout_error(i),4)} \")\n",
    "              \n",
    "for c in conf.coupling_map:\n",
    "    q_c = c[0]  # control qubit \n",
    "    q_t = c[1]  # target qubit\n",
    "    print(f\"Cx from Qubit {q_c} to Qubit{q_t} has error rate of {round(props.gate_error('cx',(q_c,q_t)),4)}\")"
   ]
  },
  {
   "cell_type": "code",
   "execution_count": null,
   "metadata": {},
   "outputs": [],
   "source": [
    "# your code to find the \"best\" two neighbour qubits"
   ]
  },
  {
   "cell_type": "markdown",
   "metadata": {},
   "source": [
    "### Can you generalize to find the best place to perform a swap between 2 qubits that are n qubits away ?"
   ]
  },
  {
   "cell_type": "code",
   "execution_count": null,
   "metadata": {},
   "outputs": [],
   "source": [
    "# your code here"
   ]
  }
 ],
 "metadata": {
  "kernelspec": {
   "name": "python3",
   "display_name": "Python 3.9.0 64-bit ('qc_env')",
   "metadata": {
    "interpreter": {
     "hash": "e2978d320601cc1acbea1801eb2fb1728f38a65b40fc129cb31ada20d753e2fe"
    }
   }
  },
  "language_info": {
   "codemirror_mode": {
    "name": "ipython",
    "version": 3
   },
   "file_extension": ".py",
   "mimetype": "text/x-python",
   "name": "python",
   "nbconvert_exporter": "python",
   "pygments_lexer": "ipython3",
   "version": "3.9.0-final"
  }
 },
 "nbformat": 4,
 "nbformat_minor": 2
}
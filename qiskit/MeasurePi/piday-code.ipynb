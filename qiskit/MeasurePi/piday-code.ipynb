{
 "cells": [
  {
   "cell_type": "markdown",
   "metadata": {
    "tags": [
     "remove_cell"
    ]
   },
   "source": [
    "# Estimating pi ($\\pi$) using Quantum Phase Estimation Algorithm"
   ]
  },
  {
   "cell_type": "markdown",
   "metadata": {},
   "source": [
    "## 1. Quick overview of the [Quantum Phase Estimation Algorithm](https://qiskit.org/textbook/ch-algorithms/quantum-phase-estimation.html)\n",
    "\n",
    "Quantum Phase Estimation (QPE) is a quantum algorithm that forms the building block of many more complex quantum algorithms. At its core, QPE solves a fairly straightforward problem: given an operator $U$ and a quantum state $\\vert\\psi\\rangle$ that is an eigenvalue of $U$ with $U\\vert\\psi\\rangle = \\exp\\left(2 \\pi i  \\theta\\right)\\vert\\psi\\rangle$, can we obtain an estimate of $\\theta$?\n",
    "\n",
    "The answer is yes. The QPE algorithm gives us $2^n\\theta$, where $n$ is the number of qubits we use to estimate the phase $\\theta$.\n",
    "\n",
    "## 2. Estimating $\\pi$\n",
    "\n",
    "In this demo, we choose\n",
    "$$U =  p(\\theta), \\vert\\psi\\rangle = \\vert1\\rangle$$\n",
    "where \n",
    "$$\n",
    "p(\\theta) = \\begin{bmatrix}\n",
    "1 & 0\\\\ 0 & \\exp(i\\theta)\n",
    "\\end{bmatrix}\n",
    "$$\n",
    "is one of the quantum gates available in Qiskit, and\n",
    "$$p(\\theta)\\vert1\\rangle = \\exp(i\\theta)\\vert1\\rangle.$$ \n",
    "\n",
    " By choosing the phase for our gate to be $\\theta =  1$, we can solve for $\\pi$ using the following two relations:\n",
    "\n",
    "1. From the output of the QPE  algorithm, we measure an estimate for $2^n\\theta$. Then, $\\theta = \\text{measured} / 2^n$ \n",
    "2. From the definition of the $p(\\theta)$ gate above, we know that $2\\pi\\theta = 1 \\Rightarrow \\pi = 1 / 2\\theta$\n",
    "\n",
    "Combining these two relations, $\\pi = 1 / \\left(2 \\times (\\text{(measured)}/2^n)\\right)$. \n",
    "\n",
    "For detailed understanding of the QPE algorithm, please refer to the chapter dedicated to it in the Qiskit Textbook located at [qiskit.org/textbook](https://qiskit.org/textbook/ch-algorithms/quantum-phase-estimation.html)."
   ]
  },
  {
   "cell_type": "markdown",
   "metadata": {},
   "source": [
    "## 3. Time to write code"
   ]
  },
  {
   "cell_type": "markdown",
   "metadata": {},
   "source": [
    "We begin by importing the necessary libraries."
   ]
  },
  {
   "cell_type": "code",
   "execution_count": 2,
   "metadata": {},
   "outputs": [],
   "source": [
    "## import the necessary tools for our work\n",
    "from IPython.display import clear_output\n",
    "from  qiskit import *\n",
    "from qiskit.visualization import plot_histogram\n",
    "import numpy as np\n",
    "import matplotlib.pyplot as plotter\n",
    "from qiskit.tools.monitor import job_monitor\n",
    "# Visualisation settings\n",
    "import seaborn as sns, operator\n",
    "sns.set_style(\"dark\")\n",
    "\n",
    "pi = np.pi"
   ]
  },
  {
   "cell_type": "markdown",
   "metadata": {},
   "source": [
    "The function `qft_dagger` computes the inverse Quantum Fourier Transform. For a detailed understanding of this algorithm, see the dedicated chapter for it in the [Qiskit Textbook](https://qiskit.org/textbook/ch-algorithms/quantum-fourier-transform.html)."
   ]
  },
  {
   "cell_type": "code",
   "execution_count": 3,
   "metadata": {},
   "outputs": [],
   "source": [
    "## Code for inverse Quantum Fourier Transform\n",
    "## adapted from Qiskit Textbook at\n",
    "## qiskit.org/textbook\n",
    "\n",
    "def qft_dagger(circ_, n_qubits):\n",
    "    \"\"\"n-qubit QFTdagger the first n qubits in circ\"\"\"\n",
    "    for qubit in range(int(n_qubits/2)):\n",
    "        circ_.swap(qubit, n_qubits-qubit-1)\n",
    "    for j in range(0,n_qubits):\n",
    "        for m in range(j):\n",
    "            circ_.cp(-np.pi/float(2**(j-m)), m, j)\n",
    "        circ_.h(j)"
   ]
  },
  {
   "cell_type": "markdown",
   "metadata": {},
   "source": [
    "The next function, `qpe_pre`, prepares the initial state for the estimation. Note that the starting state is created by applying a Hadamard gate on the all but the last qubit, and setting the last qubit to $\\vert1\\rangle$."
   ]
  },
  {
   "cell_type": "code",
   "execution_count": 4,
   "metadata": {},
   "outputs": [],
   "source": [
    "## Code for initial state of Quantum Phase Estimation\n",
    "## adapted from Qiskit Textbook at qiskit.org/textbook\n",
    "## Note that the starting state is created by applying \n",
    "## H on the first n_qubits, and setting the last qubit to |psi> = |1>\n",
    "\n",
    "def qpe_pre(circ_, n_qubits):\n",
    "    circ_.h(range(n_qubits))\n",
    "    circ_.x(n_qubits)\n",
    "\n",
    "    for x in reversed(range(n_qubits)):\n",
    "        for _ in range(2**(n_qubits-1-x)):\n",
    "            circ_.cp(1, n_qubits-1-x, n_qubits)"
   ]
  },
  {
   "cell_type": "markdown",
   "metadata": {},
   "source": [
    "Next, we write a quick function, `run_job`, to run a quantum circuit and return the results."
   ]
  },
  {
   "cell_type": "code",
   "execution_count": 5,
   "metadata": {},
   "outputs": [],
   "source": [
    "## Run a Qiskit job on either hardware or simulators\n",
    "\n",
    "def run_job(circ, backend, shots=1000, optimization_level=0):\n",
    "    t_circ = transpile(circ, backend, optimization_level=optimization_level)\n",
    "    qobj = assemble(t_circ, shots=shots)\n",
    "    job = backend.run(qobj)\n",
    "    job_monitor(job)\n",
    "    return job.result().get_counts()"
   ]
  },
  {
   "cell_type": "markdown",
   "metadata": {},
   "source": [
    "Then, load your account to use the cloud simulator or real devices."
   ]
  },
  {
   "cell_type": "code",
   "execution_count": 6,
   "metadata": {
    "tags": [
     "uses-hardware"
    ]
   },
   "outputs": [
    {
     "output_type": "stream",
     "name": "stderr",
     "text": [
      "/Users/cheng/code/envs/qc_env/lib/python3.9/site-packages/qiskit/providers/ibmq/ibmqfactory.py:192: UserWarning: Timestamps in IBMQ backend properties, jobs, and job results are all now in local time instead of UTC.\n  warnings.warn('Timestamps in IBMQ backend properties, jobs, and job results '\n"
     ]
    }
   ],
   "source": [
    "## Load your IBMQ account if \n",
    "## you'd like to use the cloud simulator or real quantum devices\n",
    "my_provider = IBMQ.load_account()\n",
    "simulator_cloud = my_provider.get_backend('ibmq_qasm_simulator')\n",
    "device = my_provider.get_backend('ibmq_16_melbourne')"
   ]
  },
  {
   "cell_type": "code",
   "execution_count": 7,
   "metadata": {},
   "outputs": [],
   "source": [
    "simulator = Aer.get_backend('qasm_simulator')"
   ]
  },
  {
   "cell_type": "markdown",
   "metadata": {},
   "source": [
    "Finally, we bring everything together in a function called `get_pi_estimate` that uses `n_qubits` to get an estimate for $\\pi$."
   ]
  },
  {
   "cell_type": "code",
   "execution_count": 13,
   "metadata": {},
   "outputs": [],
   "source": [
    "## Function to estimate pi\n",
    "## Summary: using the notation in the Qiskit textbook (qiskit.org/textbook),\n",
    "## do quantum phase estimation with the 'phase' operator U = p(theta) and |psi> = |1>\n",
    "## such that p(theta)|1> = exp(2 x pi x i x theta)|1>\n",
    "## By setting theta = 1 radian, we can solve for pi\n",
    "## using 2^n x 1 radian = most frequently measured count = 2 x pi\n",
    "\n",
    "def get_pi_estimate(n_qubits):\n",
    "\n",
    "    # create the circuit\n",
    "    circ = QuantumCircuit(n_qubits + 1, n_qubits)\n",
    "    # create the input state\n",
    "    qpe_pre(circ, n_qubits)\n",
    "    # apply a barrier\n",
    "    circ.barrier()\n",
    "    # apply the inverse fourier transform\n",
    "    qft_dagger(circ, n_qubits)\n",
    "    # apply  a barrier\n",
    "    circ.barrier()\n",
    "    # measure all but the last qubits\n",
    "    circ.measure(range(n_qubits), range(n_qubits))\n",
    "\n",
    "    circ.draw(output='mpl', filename=f'figures/pi_circ_{n_qubits:d}')\n",
    "\n",
    "    # run the job and get the results\n",
    "    counts = run_job(circ, backend=simulator, shots=10000, optimization_level=0)\n",
    "    # print(counts) \n",
    "\n",
    "    # get the count that occurred most frequently\n",
    "    max_counts_result = max(counts, key=counts.get)\n",
    "    max_counts_result = int(max_counts_result, 2)\n",
    "    \n",
    "    # solve for pi from the measured counts\n",
    "    theta = max_counts_result/2**n_qubits\n",
    "    return (1./(2*theta))"
   ]
  },
  {
   "cell_type": "markdown",
   "metadata": {},
   "source": [
    "Now, run the `get_pi_estimate` function with different numbers of qubits and print the estimates."
   ]
  },
  {
   "cell_type": "code",
   "execution_count": 9,
   "metadata": {
    "scrolled": false
   },
   "outputs": [
    {
     "output_type": "stream",
     "name": "stdout",
     "text": [
      "Job Status: job has successfully run\n",
      "2 qubits, pi ≈ 2.0\n",
      "Job Status: job has successfully run\n",
      "3 qubits, pi ≈ 4.0\n",
      "Job Status: job has successfully run\n",
      "4 qubits, pi ≈ 2.6666666666666665\n",
      "Job Status: job has successfully run\n",
      "5 qubits, pi ≈ 3.2\n",
      "Job Status: job has successfully run\n",
      "6 qubits, pi ≈ 3.2\n",
      "Job Status: job has successfully run\n",
      "7 qubits, pi ≈ 3.2\n",
      "Job Status: job has successfully run\n",
      "8 qubits, pi ≈ 3.1219512195121952\n",
      "Job Status: job has successfully run\n",
      "9 qubits, pi ≈ 3.1604938271604937\n",
      "Job Status: job has successfully run\n",
      "10 qubits, pi ≈ 3.1411042944785277\n",
      "Job Status: job has successfully run\n",
      "11 qubits, pi ≈ 3.1411042944785277\n",
      "Job Status: job has successfully run\n",
      "12 qubits, pi ≈ 3.1411042944785277\n"
     ]
    }
   ],
   "source": [
    "# estimate pi using different numbers of qubits\n",
    "nqs = list(range(2,12+1))\n",
    "pi_estimates = []\n",
    "for nq in nqs:\n",
    "    thisnq_pi_estimate = get_pi_estimate(nq)\n",
    "    pi_estimates.append(thisnq_pi_estimate)\n",
    "    print(f\"{nq} qubits, pi ≈ {thisnq_pi_estimate}\")"
   ]
  },
  {
   "cell_type": "markdown",
   "metadata": {},
   "source": [
    "And plot all the results."
   ]
  },
  {
   "cell_type": "code",
   "execution_count": 10,
   "metadata": {},
   "outputs": [
    {
     "output_type": "stream",
     "name": "stderr",
     "text": [
      "Matplotlib is building the font cache; this may take a moment.\n"
     ]
    },
    {
     "output_type": "display_data",
     "data": {
      "text/plain": "<Figure size 432x288 with 1 Axes>",
      "image/svg+xml": "<?xml version=\"1.0\" encoding=\"utf-8\" standalone=\"no\"?>\n<!DOCTYPE svg PUBLIC \"-//W3C//DTD SVG 1.1//EN\"\n  \"http://www.w3.org/Graphics/SVG/1.1/DTD/svg11.dtd\">\n<!-- Created with matplotlib (https://matplotlib.org/) -->\n<svg height=\"276.643437pt\" version=\"1.1\" viewBox=\"0 0 395.170625 276.643437\" width=\"395.170625pt\" xmlns=\"http://www.w3.org/2000/svg\" xmlns:xlink=\"http://www.w3.org/1999/xlink\">\n <metadata>\n  <rdf:RDF xmlns:cc=\"http://creativecommons.org/ns#\" xmlns:dc=\"http://purl.org/dc/elements/1.1/\" xmlns:rdf=\"http://www.w3.org/1999/02/22-rdf-syntax-ns#\">\n   <cc:Work>\n    <dc:type rdf:resource=\"http://purl.org/dc/dcmitype/StillImage\"/>\n    <dc:date>2021-03-14T10:08:18.013877</dc:date>\n    <dc:format>image/svg+xml</dc:format>\n    <dc:creator>\n     <cc:Agent>\n      <dc:title>Matplotlib v3.3.4, https://matplotlib.org/</dc:title>\n     </cc:Agent>\n    </dc:creator>\n   </cc:Work>\n  </rdf:RDF>\n </metadata>\n <defs>\n  <style type=\"text/css\">*{stroke-linecap:butt;stroke-linejoin:round;}</style>\n </defs>\n <g id=\"figure_1\">\n  <g id=\"patch_1\">\n   <path d=\"M 0 276.643437 \nL 395.170625 276.643437 \nL 395.170625 0 \nL 0 0 \nz\n\" style=\"fill:#ffffff;\"/>\n  </g>\n  <g id=\"axes_1\">\n   <g id=\"patch_2\">\n    <path d=\"M 53.170625 228.934687 \nL 387.970625 228.934687 \nL 387.970625 11.494687 \nL 53.170625 11.494687 \nz\n\" style=\"fill:#eaeaf2;\"/>\n   </g>\n   <g id=\"matplotlib.axis_1\">\n    <g id=\"xtick_1\">\n     <g id=\"text_1\">\n      <!-- 2 -->\n      <g style=\"fill:#262626;\" transform=\"translate(65.052244 244.524062)scale(0.12 -0.12)\">\n       <defs>\n        <path d=\"M 50.34375 8.453125 \nL 50.34375 0 \nL 3.03125 0 \nQ 2.9375 3.171875 4.046875 6.109375 \nQ 5.859375 10.9375 9.828125 15.625 \nQ 13.8125 20.3125 21.34375 26.46875 \nQ 33.015625 36.03125 37.109375 41.625 \nQ 41.21875 47.21875 41.21875 52.203125 \nQ 41.21875 57.421875 37.46875 61 \nQ 33.734375 64.59375 27.734375 64.59375 \nQ 21.390625 64.59375 17.578125 60.78125 \nQ 13.765625 56.984375 13.71875 50.25 \nL 4.6875 51.171875 \nQ 5.609375 61.28125 11.65625 66.578125 \nQ 17.71875 71.875 27.9375 71.875 \nQ 38.234375 71.875 44.234375 66.15625 \nQ 50.25 60.453125 50.25 52 \nQ 50.25 47.703125 48.484375 43.546875 \nQ 46.734375 39.40625 42.65625 34.8125 \nQ 38.578125 30.21875 29.109375 22.21875 \nQ 21.1875 15.578125 18.9375 13.203125 \nQ 16.703125 10.84375 15.234375 8.453125 \nz\n\" id=\"ArialMT-50\"/>\n       </defs>\n       <use xlink:href=\"#ArialMT-50\"/>\n      </g>\n     </g>\n    </g>\n    <g id=\"xtick_2\">\n     <g id=\"text_2\">\n      <!-- 4 -->\n      <g style=\"fill:#262626;\" transform=\"translate(125.924972 244.524062)scale(0.12 -0.12)\">\n       <defs>\n        <path d=\"M 32.328125 0 \nL 32.328125 17.140625 \nL 1.265625 17.140625 \nL 1.265625 25.203125 \nL 33.9375 71.578125 \nL 41.109375 71.578125 \nL 41.109375 25.203125 \nL 50.78125 25.203125 \nL 50.78125 17.140625 \nL 41.109375 17.140625 \nL 41.109375 0 \nz\nM 32.328125 25.203125 \nL 32.328125 57.46875 \nL 9.90625 25.203125 \nz\n\" id=\"ArialMT-52\"/>\n       </defs>\n       <use xlink:href=\"#ArialMT-52\"/>\n      </g>\n     </g>\n    </g>\n    <g id=\"xtick_3\">\n     <g id=\"text_3\">\n      <!-- 6 -->\n      <g style=\"fill:#262626;\" transform=\"translate(186.797699 244.524062)scale(0.12 -0.12)\">\n       <defs>\n        <path d=\"M 49.75 54.046875 \nL 41.015625 53.375 \nQ 39.84375 58.546875 37.703125 60.890625 \nQ 34.125 64.65625 28.90625 64.65625 \nQ 24.703125 64.65625 21.53125 62.3125 \nQ 17.390625 59.28125 14.984375 53.46875 \nQ 12.59375 47.65625 12.5 36.921875 \nQ 15.671875 41.75 20.265625 44.09375 \nQ 24.859375 46.4375 29.890625 46.4375 \nQ 38.671875 46.4375 44.84375 39.96875 \nQ 51.03125 33.5 51.03125 23.25 \nQ 51.03125 16.5 48.125 10.71875 \nQ 45.21875 4.9375 40.140625 1.859375 \nQ 35.0625 -1.21875 28.609375 -1.21875 \nQ 17.625 -1.21875 10.6875 6.859375 \nQ 3.765625 14.9375 3.765625 33.5 \nQ 3.765625 54.25 11.421875 63.671875 \nQ 18.109375 71.875 29.4375 71.875 \nQ 37.890625 71.875 43.28125 67.140625 \nQ 48.6875 62.40625 49.75 54.046875 \nz\nM 13.875 23.1875 \nQ 13.875 18.65625 15.796875 14.5 \nQ 17.71875 10.359375 21.1875 8.171875 \nQ 24.65625 6 28.46875 6 \nQ 34.03125 6 38.03125 10.484375 \nQ 42.046875 14.984375 42.046875 22.703125 \nQ 42.046875 30.125 38.078125 34.390625 \nQ 34.125 38.671875 28.125 38.671875 \nQ 22.171875 38.671875 18.015625 34.390625 \nQ 13.875 30.125 13.875 23.1875 \nz\n\" id=\"ArialMT-54\"/>\n       </defs>\n       <use xlink:href=\"#ArialMT-54\"/>\n      </g>\n     </g>\n    </g>\n    <g id=\"xtick_4\">\n     <g id=\"text_4\">\n      <!-- 8 -->\n      <g style=\"fill:#262626;\" transform=\"translate(247.670426 244.524062)scale(0.12 -0.12)\">\n       <defs>\n        <path d=\"M 17.671875 38.8125 \nQ 12.203125 40.828125 9.5625 44.53125 \nQ 6.9375 48.25 6.9375 53.421875 \nQ 6.9375 61.234375 12.546875 66.546875 \nQ 18.171875 71.875 27.484375 71.875 \nQ 36.859375 71.875 42.578125 66.421875 \nQ 48.296875 60.984375 48.296875 53.171875 \nQ 48.296875 48.1875 45.671875 44.5 \nQ 43.0625 40.828125 37.75 38.8125 \nQ 44.34375 36.671875 47.78125 31.875 \nQ 51.21875 27.09375 51.21875 20.453125 \nQ 51.21875 11.28125 44.71875 5.03125 \nQ 38.234375 -1.21875 27.640625 -1.21875 \nQ 17.046875 -1.21875 10.546875 5.046875 \nQ 4.046875 11.328125 4.046875 20.703125 \nQ 4.046875 27.6875 7.59375 32.390625 \nQ 11.140625 37.109375 17.671875 38.8125 \nz\nM 15.921875 53.71875 \nQ 15.921875 48.640625 19.1875 45.40625 \nQ 22.46875 42.1875 27.6875 42.1875 \nQ 32.765625 42.1875 36.015625 45.375 \nQ 39.265625 48.578125 39.265625 53.21875 \nQ 39.265625 58.0625 35.90625 61.359375 \nQ 32.5625 64.65625 27.59375 64.65625 \nQ 22.5625 64.65625 19.234375 61.421875 \nQ 15.921875 58.203125 15.921875 53.71875 \nz\nM 13.09375 20.65625 \nQ 13.09375 16.890625 14.875 13.375 \nQ 16.65625 9.859375 20.171875 7.921875 \nQ 23.6875 6 27.734375 6 \nQ 34.03125 6 38.125 10.046875 \nQ 42.234375 14.109375 42.234375 20.359375 \nQ 42.234375 26.703125 38.015625 30.859375 \nQ 33.796875 35.015625 27.4375 35.015625 \nQ 21.234375 35.015625 17.15625 30.90625 \nQ 13.09375 26.8125 13.09375 20.65625 \nz\n\" id=\"ArialMT-56\"/>\n       </defs>\n       <use xlink:href=\"#ArialMT-56\"/>\n      </g>\n     </g>\n    </g>\n    <g id=\"xtick_5\">\n     <g id=\"text_5\">\n      <!-- 10 -->\n      <g style=\"fill:#262626;\" transform=\"translate(305.206591 244.524062)scale(0.12 -0.12)\">\n       <defs>\n        <path d=\"M 37.25 0 \nL 28.46875 0 \nL 28.46875 56 \nQ 25.296875 52.984375 20.140625 49.953125 \nQ 14.984375 46.921875 10.890625 45.40625 \nL 10.890625 53.90625 \nQ 18.265625 57.375 23.78125 62.296875 \nQ 29.296875 67.234375 31.59375 71.875 \nL 37.25 71.875 \nz\n\" id=\"ArialMT-49\"/>\n        <path d=\"M 4.15625 35.296875 \nQ 4.15625 48 6.765625 55.734375 \nQ 9.375 63.484375 14.515625 67.671875 \nQ 19.671875 71.875 27.484375 71.875 \nQ 33.25 71.875 37.59375 69.546875 \nQ 41.9375 67.234375 44.765625 62.859375 \nQ 47.609375 58.5 49.21875 52.21875 \nQ 50.828125 45.953125 50.828125 35.296875 \nQ 50.828125 22.703125 48.234375 14.96875 \nQ 45.65625 7.234375 40.5 3 \nQ 35.359375 -1.21875 27.484375 -1.21875 \nQ 17.140625 -1.21875 11.234375 6.203125 \nQ 4.15625 15.140625 4.15625 35.296875 \nz\nM 13.1875 35.296875 \nQ 13.1875 17.671875 17.3125 11.828125 \nQ 21.4375 6 27.484375 6 \nQ 33.546875 6 37.671875 11.859375 \nQ 41.796875 17.71875 41.796875 35.296875 \nQ 41.796875 52.984375 37.671875 58.78125 \nQ 33.546875 64.59375 27.390625 64.59375 \nQ 21.34375 64.59375 17.71875 59.46875 \nQ 13.1875 52.9375 13.1875 35.296875 \nz\n\" id=\"ArialMT-48\"/>\n       </defs>\n       <use xlink:href=\"#ArialMT-49\"/>\n       <use x=\"55.615234\" xlink:href=\"#ArialMT-48\"/>\n      </g>\n     </g>\n    </g>\n    <g id=\"xtick_6\">\n     <g id=\"text_6\">\n      <!-- 12 -->\n      <g style=\"fill:#262626;\" transform=\"translate(366.079318 244.524062)scale(0.12 -0.12)\">\n       <use xlink:href=\"#ArialMT-49\"/>\n       <use x=\"55.615234\" xlink:href=\"#ArialMT-50\"/>\n      </g>\n     </g>\n    </g>\n    <g id=\"text_7\">\n     <!-- Number of qubits -->\n     <g style=\"fill:#262626;\" transform=\"translate(144.428438 265.468437)scale(0.2 -0.2)\">\n      <defs>\n       <path d=\"M 7.625 0 \nL 7.625 71.578125 \nL 17.328125 71.578125 \nL 54.9375 15.375 \nL 54.9375 71.578125 \nL 64.015625 71.578125 \nL 64.015625 0 \nL 54.296875 0 \nL 16.703125 56.25 \nL 16.703125 0 \nz\n\" id=\"ArialMT-78\"/>\n       <path d=\"M 40.578125 0 \nL 40.578125 7.625 \nQ 34.515625 -1.171875 24.125 -1.171875 \nQ 19.53125 -1.171875 15.546875 0.578125 \nQ 11.578125 2.34375 9.640625 5 \nQ 7.71875 7.671875 6.9375 11.53125 \nQ 6.390625 14.109375 6.390625 19.734375 \nL 6.390625 51.859375 \nL 15.1875 51.859375 \nL 15.1875 23.09375 \nQ 15.1875 16.21875 15.71875 13.8125 \nQ 16.546875 10.359375 19.234375 8.375 \nQ 21.921875 6.390625 25.875 6.390625 \nQ 29.828125 6.390625 33.296875 8.421875 \nQ 36.765625 10.453125 38.203125 13.9375 \nQ 39.65625 17.4375 39.65625 24.078125 \nL 39.65625 51.859375 \nL 48.4375 51.859375 \nL 48.4375 0 \nz\n\" id=\"ArialMT-117\"/>\n       <path d=\"M 6.59375 0 \nL 6.59375 51.859375 \nL 14.453125 51.859375 \nL 14.453125 44.578125 \nQ 16.890625 48.390625 20.9375 50.703125 \nQ 25 53.03125 30.171875 53.03125 \nQ 35.9375 53.03125 39.625 50.640625 \nQ 43.3125 48.25 44.828125 43.953125 \nQ 50.984375 53.03125 60.84375 53.03125 \nQ 68.5625 53.03125 72.703125 48.75 \nQ 76.859375 44.484375 76.859375 35.59375 \nL 76.859375 0 \nL 68.109375 0 \nL 68.109375 32.671875 \nQ 68.109375 37.9375 67.25 40.25 \nQ 66.40625 42.578125 64.15625 43.984375 \nQ 61.921875 45.40625 58.890625 45.40625 \nQ 53.421875 45.40625 49.796875 41.765625 \nQ 46.1875 38.140625 46.1875 30.125 \nL 46.1875 0 \nL 37.40625 0 \nL 37.40625 33.6875 \nQ 37.40625 39.546875 35.25 42.46875 \nQ 33.109375 45.40625 28.21875 45.40625 \nQ 24.515625 45.40625 21.359375 43.453125 \nQ 18.21875 41.5 16.796875 37.734375 \nQ 15.375 33.984375 15.375 26.90625 \nL 15.375 0 \nz\n\" id=\"ArialMT-109\"/>\n       <path d=\"M 14.703125 0 \nL 6.546875 0 \nL 6.546875 71.578125 \nL 15.328125 71.578125 \nL 15.328125 46.046875 \nQ 20.90625 53.03125 29.546875 53.03125 \nQ 34.328125 53.03125 38.59375 51.09375 \nQ 42.875 49.171875 45.625 45.671875 \nQ 48.390625 42.1875 49.953125 37.25 \nQ 51.515625 32.328125 51.515625 26.703125 \nQ 51.515625 13.375 44.921875 6.09375 \nQ 38.328125 -1.171875 29.109375 -1.171875 \nQ 19.921875 -1.171875 14.703125 6.5 \nz\nM 14.59375 26.3125 \nQ 14.59375 17 17.140625 12.84375 \nQ 21.296875 6.0625 28.375 6.0625 \nQ 34.125 6.0625 38.328125 11.0625 \nQ 42.53125 16.0625 42.53125 25.984375 \nQ 42.53125 36.140625 38.5 40.96875 \nQ 34.46875 45.796875 28.765625 45.796875 \nQ 23 45.796875 18.796875 40.796875 \nQ 14.59375 35.796875 14.59375 26.3125 \nz\n\" id=\"ArialMT-98\"/>\n       <path d=\"M 42.09375 16.703125 \nL 51.171875 15.578125 \nQ 49.03125 7.625 43.21875 3.21875 \nQ 37.40625 -1.171875 28.375 -1.171875 \nQ 17 -1.171875 10.328125 5.828125 \nQ 3.65625 12.84375 3.65625 25.484375 \nQ 3.65625 38.578125 10.390625 45.796875 \nQ 17.140625 53.03125 27.875 53.03125 \nQ 38.28125 53.03125 44.875 45.953125 \nQ 51.46875 38.875 51.46875 26.03125 \nQ 51.46875 25.25 51.421875 23.6875 \nL 12.75 23.6875 \nQ 13.234375 15.140625 17.578125 10.59375 \nQ 21.921875 6.0625 28.421875 6.0625 \nQ 33.25 6.0625 36.671875 8.59375 \nQ 40.09375 11.140625 42.09375 16.703125 \nz\nM 13.234375 30.90625 \nL 42.1875 30.90625 \nQ 41.609375 37.453125 38.875 40.71875 \nQ 34.671875 45.796875 27.984375 45.796875 \nQ 21.921875 45.796875 17.796875 41.75 \nQ 13.671875 37.703125 13.234375 30.90625 \nz\n\" id=\"ArialMT-101\"/>\n       <path d=\"M 6.5 0 \nL 6.5 51.859375 \nL 14.40625 51.859375 \nL 14.40625 44 \nQ 17.4375 49.515625 20 51.265625 \nQ 22.5625 53.03125 25.640625 53.03125 \nQ 30.078125 53.03125 34.671875 50.203125 \nL 31.640625 42.046875 \nQ 28.421875 43.953125 25.203125 43.953125 \nQ 22.3125 43.953125 20.015625 42.21875 \nQ 17.71875 40.484375 16.75 37.40625 \nQ 15.28125 32.71875 15.28125 27.15625 \nL 15.28125 0 \nz\n\" id=\"ArialMT-114\"/>\n       <path id=\"ArialMT-32\"/>\n       <path d=\"M 3.328125 25.921875 \nQ 3.328125 40.328125 11.328125 47.265625 \nQ 18.015625 53.03125 27.640625 53.03125 \nQ 38.328125 53.03125 45.109375 46.015625 \nQ 51.90625 39.015625 51.90625 26.65625 \nQ 51.90625 16.65625 48.90625 10.90625 \nQ 45.90625 5.171875 40.15625 2 \nQ 34.421875 -1.171875 27.640625 -1.171875 \nQ 16.75 -1.171875 10.03125 5.8125 \nQ 3.328125 12.796875 3.328125 25.921875 \nz\nM 12.359375 25.921875 \nQ 12.359375 15.96875 16.703125 11.015625 \nQ 21.046875 6.0625 27.640625 6.0625 \nQ 34.1875 6.0625 38.53125 11.03125 \nQ 42.875 16.015625 42.875 26.21875 \nQ 42.875 35.84375 38.5 40.796875 \nQ 34.125 45.75 27.640625 45.75 \nQ 21.046875 45.75 16.703125 40.8125 \nQ 12.359375 35.890625 12.359375 25.921875 \nz\n\" id=\"ArialMT-111\"/>\n       <path d=\"M 8.6875 0 \nL 8.6875 45.015625 \nL 0.921875 45.015625 \nL 0.921875 51.859375 \nL 8.6875 51.859375 \nL 8.6875 57.375 \nQ 8.6875 62.59375 9.625 65.140625 \nQ 10.890625 68.5625 14.078125 70.671875 \nQ 17.28125 72.796875 23.046875 72.796875 \nQ 26.765625 72.796875 31.25 71.921875 \nL 29.9375 64.265625 \nQ 27.203125 64.75 24.75 64.75 \nQ 20.75 64.75 19.09375 63.03125 \nQ 17.4375 61.328125 17.4375 56.640625 \nL 17.4375 51.859375 \nL 27.546875 51.859375 \nL 27.546875 45.015625 \nL 17.4375 45.015625 \nL 17.4375 0 \nz\n\" id=\"ArialMT-102\"/>\n       <path d=\"M 39.65625 -19.875 \nL 39.65625 5.515625 \nQ 37.59375 2.640625 33.90625 0.734375 \nQ 30.21875 -1.171875 26.078125 -1.171875 \nQ 16.84375 -1.171875 10.171875 6.203125 \nQ 3.515625 13.578125 3.515625 26.421875 \nQ 3.515625 34.234375 6.21875 40.421875 \nQ 8.9375 46.625 14.078125 49.828125 \nQ 19.234375 53.03125 25.390625 53.03125 \nQ 35.015625 53.03125 40.53125 44.921875 \nL 40.53125 51.859375 \nL 48.4375 51.859375 \nL 48.4375 -19.875 \nz\nM 12.546875 26.078125 \nQ 12.546875 16.0625 16.75 11.0625 \nQ 20.953125 6.0625 26.8125 6.0625 \nQ 32.421875 6.0625 36.46875 10.8125 \nQ 40.53125 15.578125 40.53125 25.296875 \nQ 40.53125 35.640625 36.25 40.859375 \nQ 31.984375 46.09375 26.21875 46.09375 \nQ 20.515625 46.09375 16.53125 41.234375 \nQ 12.546875 36.375 12.546875 26.078125 \nz\n\" id=\"ArialMT-113\"/>\n       <path d=\"M 6.640625 61.46875 \nL 6.640625 71.578125 \nL 15.4375 71.578125 \nL 15.4375 61.46875 \nz\nM 6.640625 0 \nL 6.640625 51.859375 \nL 15.4375 51.859375 \nL 15.4375 0 \nz\n\" id=\"ArialMT-105\"/>\n       <path d=\"M 25.78125 7.859375 \nL 27.046875 0.09375 \nQ 23.34375 -0.6875 20.40625 -0.6875 \nQ 15.625 -0.6875 12.984375 0.828125 \nQ 10.359375 2.34375 9.28125 4.8125 \nQ 8.203125 7.28125 8.203125 15.1875 \nL 8.203125 45.015625 \nL 1.765625 45.015625 \nL 1.765625 51.859375 \nL 8.203125 51.859375 \nL 8.203125 64.703125 \nL 16.9375 69.96875 \nL 16.9375 51.859375 \nL 25.78125 51.859375 \nL 25.78125 45.015625 \nL 16.9375 45.015625 \nL 16.9375 14.703125 \nQ 16.9375 10.9375 17.40625 9.859375 \nQ 17.875 8.796875 18.921875 8.15625 \nQ 19.96875 7.515625 21.921875 7.515625 \nQ 23.390625 7.515625 25.78125 7.859375 \nz\n\" id=\"ArialMT-116\"/>\n       <path d=\"M 3.078125 15.484375 \nL 11.765625 16.84375 \nQ 12.5 11.625 15.84375 8.84375 \nQ 19.1875 6.0625 25.203125 6.0625 \nQ 31.25 6.0625 34.171875 8.515625 \nQ 37.109375 10.984375 37.109375 14.3125 \nQ 37.109375 17.28125 34.515625 19 \nQ 32.71875 20.171875 25.53125 21.96875 \nQ 15.875 24.421875 12.140625 26.203125 \nQ 8.40625 27.984375 6.46875 31.125 \nQ 4.546875 34.28125 4.546875 38.09375 \nQ 4.546875 41.546875 6.125 44.5 \nQ 7.71875 47.46875 10.453125 49.421875 \nQ 12.5 50.921875 16.03125 51.96875 \nQ 19.578125 53.03125 23.640625 53.03125 \nQ 29.734375 53.03125 34.34375 51.265625 \nQ 38.96875 49.515625 41.15625 46.5 \nQ 43.359375 43.5 44.1875 38.484375 \nL 35.59375 37.3125 \nQ 35.015625 41.3125 32.203125 43.546875 \nQ 29.390625 45.796875 24.265625 45.796875 \nQ 18.21875 45.796875 15.625 43.796875 \nQ 13.03125 41.796875 13.03125 39.109375 \nQ 13.03125 37.40625 14.109375 36.03125 \nQ 15.1875 34.625 17.484375 33.6875 \nQ 18.796875 33.203125 25.25 31.453125 \nQ 34.578125 28.953125 38.25 27.359375 \nQ 41.9375 25.78125 44.03125 22.75 \nQ 46.140625 19.734375 46.140625 15.234375 \nQ 46.140625 10.84375 43.578125 6.953125 \nQ 41.015625 3.078125 36.171875 0.953125 \nQ 31.34375 -1.171875 25.25 -1.171875 \nQ 15.140625 -1.171875 9.84375 3.03125 \nQ 4.546875 7.234375 3.078125 15.484375 \nz\n\" id=\"ArialMT-115\"/>\n      </defs>\n      <use xlink:href=\"#ArialMT-78\"/>\n      <use x=\"72.216797\" xlink:href=\"#ArialMT-117\"/>\n      <use x=\"127.832031\" xlink:href=\"#ArialMT-109\"/>\n      <use x=\"211.132812\" xlink:href=\"#ArialMT-98\"/>\n      <use x=\"266.748047\" xlink:href=\"#ArialMT-101\"/>\n      <use x=\"322.363281\" xlink:href=\"#ArialMT-114\"/>\n      <use x=\"355.664062\" xlink:href=\"#ArialMT-32\"/>\n      <use x=\"383.447266\" xlink:href=\"#ArialMT-111\"/>\n      <use x=\"439.0625\" xlink:href=\"#ArialMT-102\"/>\n      <use x=\"466.845703\" xlink:href=\"#ArialMT-32\"/>\n      <use x=\"494.628906\" xlink:href=\"#ArialMT-113\"/>\n      <use x=\"550.244141\" xlink:href=\"#ArialMT-117\"/>\n      <use x=\"605.859375\" xlink:href=\"#ArialMT-98\"/>\n      <use x=\"661.474609\" xlink:href=\"#ArialMT-105\"/>\n      <use x=\"683.691406\" xlink:href=\"#ArialMT-116\"/>\n      <use x=\"711.474609\" xlink:href=\"#ArialMT-115\"/>\n     </g>\n    </g>\n   </g>\n   <g id=\"matplotlib.axis_2\">\n    <g id=\"ytick_1\">\n     <g id=\"text_8\">\n      <!-- 1.5 -->\n      <g style=\"fill:#262626;\" transform=\"translate(29.490625 233.229375)scale(0.12 -0.12)\">\n       <defs>\n        <path d=\"M 9.078125 0 \nL 9.078125 10.015625 \nL 19.09375 10.015625 \nL 19.09375 0 \nz\n\" id=\"ArialMT-46\"/>\n        <path d=\"M 4.15625 18.75 \nL 13.375 19.53125 \nQ 14.40625 12.796875 18.140625 9.390625 \nQ 21.875 6 27.15625 6 \nQ 33.5 6 37.890625 10.78125 \nQ 42.28125 15.578125 42.28125 23.484375 \nQ 42.28125 31 38.0625 35.34375 \nQ 33.84375 39.703125 27 39.703125 \nQ 22.75 39.703125 19.328125 37.765625 \nQ 15.921875 35.84375 13.96875 32.765625 \nL 5.71875 33.84375 \nL 12.640625 70.609375 \nL 48.25 70.609375 \nL 48.25 62.203125 \nL 19.671875 62.203125 \nL 15.828125 42.96875 \nQ 22.265625 47.46875 29.34375 47.46875 \nQ 38.71875 47.46875 45.15625 40.96875 \nQ 51.609375 34.46875 51.609375 24.265625 \nQ 51.609375 14.546875 45.953125 7.46875 \nQ 39.0625 -1.21875 27.15625 -1.21875 \nQ 17.390625 -1.21875 11.203125 4.25 \nQ 5.03125 9.71875 4.15625 18.75 \nz\n\" id=\"ArialMT-53\"/>\n       </defs>\n       <use xlink:href=\"#ArialMT-49\"/>\n       <use x=\"55.615234\" xlink:href=\"#ArialMT-46\"/>\n       <use x=\"83.398438\" xlink:href=\"#ArialMT-53\"/>\n      </g>\n     </g>\n    </g>\n    <g id=\"ytick_2\">\n     <g id=\"text_9\">\n      <!-- 2.0 -->\n      <g style=\"fill:#262626;\" transform=\"translate(29.490625 196.989375)scale(0.12 -0.12)\">\n       <use xlink:href=\"#ArialMT-50\"/>\n       <use x=\"55.615234\" xlink:href=\"#ArialMT-46\"/>\n       <use x=\"83.398438\" xlink:href=\"#ArialMT-48\"/>\n      </g>\n     </g>\n    </g>\n    <g id=\"ytick_3\">\n     <g id=\"text_10\">\n      <!-- 2.5 -->\n      <g style=\"fill:#262626;\" transform=\"translate(29.490625 160.749375)scale(0.12 -0.12)\">\n       <use xlink:href=\"#ArialMT-50\"/>\n       <use x=\"55.615234\" xlink:href=\"#ArialMT-46\"/>\n       <use x=\"83.398438\" xlink:href=\"#ArialMT-53\"/>\n      </g>\n     </g>\n    </g>\n    <g id=\"ytick_4\">\n     <g id=\"text_11\">\n      <!-- 3.0 -->\n      <g style=\"fill:#262626;\" transform=\"translate(29.490625 124.509375)scale(0.12 -0.12)\">\n       <defs>\n        <path d=\"M 4.203125 18.890625 \nL 12.984375 20.0625 \nQ 14.5 12.59375 18.140625 9.296875 \nQ 21.78125 6 27 6 \nQ 33.203125 6 37.46875 10.296875 \nQ 41.75 14.59375 41.75 20.953125 \nQ 41.75 27 37.796875 30.921875 \nQ 33.84375 34.859375 27.734375 34.859375 \nQ 25.25 34.859375 21.53125 33.890625 \nL 22.515625 41.609375 \nQ 23.390625 41.5 23.921875 41.5 \nQ 29.546875 41.5 34.03125 44.421875 \nQ 38.53125 47.359375 38.53125 53.46875 \nQ 38.53125 58.296875 35.25 61.46875 \nQ 31.984375 64.65625 26.8125 64.65625 \nQ 21.6875 64.65625 18.265625 61.421875 \nQ 14.84375 58.203125 13.875 51.765625 \nL 5.078125 53.328125 \nQ 6.6875 62.15625 12.390625 67.015625 \nQ 18.109375 71.875 26.609375 71.875 \nQ 32.46875 71.875 37.390625 69.359375 \nQ 42.328125 66.84375 44.9375 62.5 \nQ 47.5625 58.15625 47.5625 53.265625 \nQ 47.5625 48.640625 45.0625 44.828125 \nQ 42.578125 41.015625 37.703125 38.765625 \nQ 44.046875 37.3125 47.5625 32.6875 \nQ 51.078125 28.078125 51.078125 21.140625 \nQ 51.078125 11.765625 44.234375 5.25 \nQ 37.40625 -1.265625 26.953125 -1.265625 \nQ 17.53125 -1.265625 11.296875 4.34375 \nQ 5.078125 9.96875 4.203125 18.890625 \nz\n\" id=\"ArialMT-51\"/>\n       </defs>\n       <use xlink:href=\"#ArialMT-51\"/>\n       <use x=\"55.615234\" xlink:href=\"#ArialMT-46\"/>\n       <use x=\"83.398438\" xlink:href=\"#ArialMT-48\"/>\n      </g>\n     </g>\n    </g>\n    <g id=\"ytick_5\">\n     <g id=\"text_12\">\n      <!-- 3.5 -->\n      <g style=\"fill:#262626;\" transform=\"translate(29.490625 88.269375)scale(0.12 -0.12)\">\n       <use xlink:href=\"#ArialMT-51\"/>\n       <use x=\"55.615234\" xlink:href=\"#ArialMT-46\"/>\n       <use x=\"83.398438\" xlink:href=\"#ArialMT-53\"/>\n      </g>\n     </g>\n    </g>\n    <g id=\"ytick_6\">\n     <g id=\"text_13\">\n      <!-- 4.0 -->\n      <g style=\"fill:#262626;\" transform=\"translate(29.490625 52.029375)scale(0.12 -0.12)\">\n       <use xlink:href=\"#ArialMT-52\"/>\n       <use x=\"55.615234\" xlink:href=\"#ArialMT-46\"/>\n       <use x=\"83.398438\" xlink:href=\"#ArialMT-48\"/>\n      </g>\n     </g>\n    </g>\n    <g id=\"ytick_7\">\n     <g id=\"text_14\">\n      <!-- 4.5 -->\n      <g style=\"fill:#262626;\" transform=\"translate(29.490625 15.789375)scale(0.12 -0.12)\">\n       <use xlink:href=\"#ArialMT-52\"/>\n       <use x=\"55.615234\" xlink:href=\"#ArialMT-46\"/>\n       <use x=\"83.398438\" xlink:href=\"#ArialMT-53\"/>\n      </g>\n     </g>\n    </g>\n    <g id=\"text_15\">\n     <!-- $\\pi$ and estimate of $\\pi$ -->\n     <g style=\"fill:#262626;\" transform=\"translate(21.515625 206.214687)rotate(-90)scale(0.2 -0.2)\">\n      <defs>\n       <path d=\"M 9.125 54.6875 \nL 61.53125 54.6875 \nL 59.765625 45.703125 \nL 52.875 45.703125 \nL 46.34375 12.109375 \nQ 45.65625 8.59375 46.578125 7.03125 \nQ 47.46875 5.515625 50.140625 5.515625 \nQ 50.875 5.515625 51.953125 5.671875 \nQ 53.078125 5.765625 53.421875 5.8125 \nL 52.15625 -0.6875 \nQ 50.34375 -1.3125 48.484375 -1.609375 \nQ 46.578125 -1.90625 44.78125 -1.90625 \nQ 38.921875 -1.90625 37.3125 1.265625 \nQ 35.6875 4.5 37.359375 13.09375 \nL 43.703125 45.703125 \nL 23.53125 45.703125 \nL 14.65625 0 \nL 5.46875 0 \nL 14.359375 45.703125 \nL 7.375 45.703125 \nz\n\" id=\"DejaVuSans-Oblique-960\"/>\n       <path d=\"M 40.4375 6.390625 \nQ 35.546875 2.25 31.03125 0.53125 \nQ 26.515625 -1.171875 21.34375 -1.171875 \nQ 12.796875 -1.171875 8.203125 3 \nQ 3.609375 7.171875 3.609375 13.671875 \nQ 3.609375 17.484375 5.34375 20.625 \nQ 7.078125 23.78125 9.890625 25.6875 \nQ 12.703125 27.59375 16.21875 28.5625 \nQ 18.796875 29.25 24.03125 29.890625 \nQ 34.671875 31.15625 39.703125 32.90625 \nQ 39.75 34.71875 39.75 35.203125 \nQ 39.75 40.578125 37.25 42.78125 \nQ 33.890625 45.75 27.25 45.75 \nQ 21.046875 45.75 18.09375 43.578125 \nQ 15.140625 41.40625 13.71875 35.890625 \nL 5.125 37.0625 \nQ 6.296875 42.578125 8.984375 45.96875 \nQ 11.671875 49.359375 16.75 51.1875 \nQ 21.828125 53.03125 28.515625 53.03125 \nQ 35.15625 53.03125 39.296875 51.46875 \nQ 43.453125 49.90625 45.40625 47.53125 \nQ 47.359375 45.171875 48.140625 41.546875 \nQ 48.578125 39.3125 48.578125 33.453125 \nL 48.578125 21.734375 \nQ 48.578125 9.46875 49.140625 6.21875 \nQ 49.703125 2.984375 51.375 0 \nL 42.1875 0 \nQ 40.828125 2.734375 40.4375 6.390625 \nz\nM 39.703125 26.03125 \nQ 34.90625 24.078125 25.34375 22.703125 \nQ 19.921875 21.921875 17.671875 20.9375 \nQ 15.4375 19.96875 14.203125 18.09375 \nQ 12.984375 16.21875 12.984375 13.921875 \nQ 12.984375 10.40625 15.640625 8.0625 \nQ 18.3125 5.71875 23.4375 5.71875 \nQ 28.515625 5.71875 32.46875 7.9375 \nQ 36.421875 10.15625 38.28125 14.015625 \nQ 39.703125 17 39.703125 22.796875 \nz\n\" id=\"ArialMT-97\"/>\n       <path d=\"M 6.59375 0 \nL 6.59375 51.859375 \nL 14.5 51.859375 \nL 14.5 44.484375 \nQ 20.21875 53.03125 31 53.03125 \nQ 35.6875 53.03125 39.625 51.34375 \nQ 43.5625 49.65625 45.515625 46.921875 \nQ 47.46875 44.1875 48.25 40.4375 \nQ 48.734375 37.984375 48.734375 31.890625 \nL 48.734375 0 \nL 39.9375 0 \nL 39.9375 31.546875 \nQ 39.9375 36.921875 38.90625 39.578125 \nQ 37.890625 42.234375 35.28125 43.8125 \nQ 32.671875 45.40625 29.15625 45.40625 \nQ 23.53125 45.40625 19.453125 41.84375 \nQ 15.375 38.28125 15.375 28.328125 \nL 15.375 0 \nz\n\" id=\"ArialMT-110\"/>\n       <path d=\"M 40.234375 0 \nL 40.234375 6.546875 \nQ 35.296875 -1.171875 25.734375 -1.171875 \nQ 19.53125 -1.171875 14.328125 2.25 \nQ 9.125 5.671875 6.265625 11.796875 \nQ 3.421875 17.921875 3.421875 25.875 \nQ 3.421875 33.640625 6 39.96875 \nQ 8.59375 46.296875 13.765625 49.65625 \nQ 18.953125 53.03125 25.34375 53.03125 \nQ 30.03125 53.03125 33.6875 51.046875 \nQ 37.359375 49.078125 39.65625 45.90625 \nL 39.65625 71.578125 \nL 48.390625 71.578125 \nL 48.390625 0 \nz\nM 12.453125 25.875 \nQ 12.453125 15.921875 16.640625 10.984375 \nQ 20.84375 6.0625 26.5625 6.0625 \nQ 32.328125 6.0625 36.34375 10.765625 \nQ 40.375 15.484375 40.375 25.140625 \nQ 40.375 35.796875 36.265625 40.765625 \nQ 32.171875 45.75 26.171875 45.75 \nQ 20.3125 45.75 16.375 40.96875 \nQ 12.453125 36.1875 12.453125 25.875 \nz\n\" id=\"ArialMT-100\"/>\n      </defs>\n      <use transform=\"translate(0 0.203125)\" xlink:href=\"#DejaVuSans-Oblique-960\"/>\n      <use transform=\"translate(60.205078 0.203125)\" xlink:href=\"#ArialMT-32\"/>\n      <use transform=\"translate(87.988281 0.203125)\" xlink:href=\"#ArialMT-97\"/>\n      <use transform=\"translate(143.603516 0.203125)\" xlink:href=\"#ArialMT-110\"/>\n      <use transform=\"translate(199.21875 0.203125)\" xlink:href=\"#ArialMT-100\"/>\n      <use transform=\"translate(254.833984 0.203125)\" xlink:href=\"#ArialMT-32\"/>\n      <use transform=\"translate(282.617188 0.203125)\" xlink:href=\"#ArialMT-101\"/>\n      <use transform=\"translate(338.232422 0.203125)\" xlink:href=\"#ArialMT-115\"/>\n      <use transform=\"translate(388.232422 0.203125)\" xlink:href=\"#ArialMT-116\"/>\n      <use transform=\"translate(416.015625 0.203125)\" xlink:href=\"#ArialMT-105\"/>\n      <use transform=\"translate(438.232422 0.203125)\" xlink:href=\"#ArialMT-109\"/>\n      <use transform=\"translate(521.533203 0.203125)\" xlink:href=\"#ArialMT-97\"/>\n      <use transform=\"translate(577.148438 0.203125)\" xlink:href=\"#ArialMT-116\"/>\n      <use transform=\"translate(604.931641 0.203125)\" xlink:href=\"#ArialMT-101\"/>\n      <use transform=\"translate(660.546875 0.203125)\" xlink:href=\"#ArialMT-32\"/>\n      <use transform=\"translate(688.330078 0.203125)\" xlink:href=\"#ArialMT-111\"/>\n      <use transform=\"translate(743.945312 0.203125)\" xlink:href=\"#ArialMT-102\"/>\n      <use transform=\"translate(771.728516 0.203125)\" xlink:href=\"#ArialMT-32\"/>\n      <use transform=\"translate(799.511719 0.203125)\" xlink:href=\"#DejaVuSans-Oblique-960\"/>\n     </g>\n    </g>\n   </g>\n   <g id=\"line2d_1\">\n    <path clip-path=\"url(#p8f4b6ade5b)\" d=\"M 68.388807 109.952052 \nL 98.82517 109.952052 \nL 129.261534 109.952052 \nL 159.697898 109.952052 \nL 190.134261 109.952052 \nL 220.570625 109.952052 \nL 251.006989 109.952052 \nL 281.443352 109.952052 \nL 311.879716 109.952052 \nL 342.31608 109.952052 \nL 372.752443 109.952052 \n\" style=\"fill:none;stroke:#ff0000;stroke-dasharray:5.55,2.4;stroke-dashoffset:0;stroke-width:1.5;\"/>\n   </g>\n   <g id=\"line2d_2\">\n    <path clip-path=\"url(#p8f4b6ade5b)\" d=\"M 68.388807 192.694687 \nL 98.82517 47.734688 \nL 129.261534 144.374687 \nL 159.697898 105.718687 \nL 190.134261 105.718687 \nL 220.570625 105.718687 \nL 251.006989 111.375663 \nL 281.443352 108.582095 \nL 311.879716 109.987448 \nL 342.31608 109.987448 \nL 372.752443 109.987448 \n\" style=\"fill:none;stroke:#1f77b4;stroke-linecap:round;stroke-width:1.5;\"/>\n    <defs>\n     <path d=\"M 0 3 \nC 0.795609 3 1.55874 2.683901 2.12132 2.12132 \nC 2.683901 1.55874 3 0.795609 3 0 \nC 3 -0.795609 2.683901 -1.55874 2.12132 -2.12132 \nC 1.55874 -2.683901 0.795609 -3 0 -3 \nC -0.795609 -3 -1.55874 -2.683901 -2.12132 -2.12132 \nC -2.683901 -1.55874 -3 -0.795609 -3 0 \nC -3 0.795609 -2.683901 1.55874 -2.12132 2.12132 \nC -1.55874 2.683901 -0.795609 3 0 3 \nz\n\" id=\"m83f4632192\" style=\"stroke:#1f77b4;\"/>\n    </defs>\n    <g clip-path=\"url(#p8f4b6ade5b)\">\n     <use style=\"fill:#1f77b4;stroke:#1f77b4;\" x=\"68.388807\" xlink:href=\"#m83f4632192\" y=\"192.694687\"/>\n     <use style=\"fill:#1f77b4;stroke:#1f77b4;\" x=\"98.82517\" xlink:href=\"#m83f4632192\" y=\"47.734688\"/>\n     <use style=\"fill:#1f77b4;stroke:#1f77b4;\" x=\"129.261534\" xlink:href=\"#m83f4632192\" y=\"144.374687\"/>\n     <use style=\"fill:#1f77b4;stroke:#1f77b4;\" x=\"159.697898\" xlink:href=\"#m83f4632192\" y=\"105.718687\"/>\n     <use style=\"fill:#1f77b4;stroke:#1f77b4;\" x=\"190.134261\" xlink:href=\"#m83f4632192\" y=\"105.718687\"/>\n     <use style=\"fill:#1f77b4;stroke:#1f77b4;\" x=\"220.570625\" xlink:href=\"#m83f4632192\" y=\"105.718687\"/>\n     <use style=\"fill:#1f77b4;stroke:#1f77b4;\" x=\"251.006989\" xlink:href=\"#m83f4632192\" y=\"111.375663\"/>\n     <use style=\"fill:#1f77b4;stroke:#1f77b4;\" x=\"281.443352\" xlink:href=\"#m83f4632192\" y=\"108.582095\"/>\n     <use style=\"fill:#1f77b4;stroke:#1f77b4;\" x=\"311.879716\" xlink:href=\"#m83f4632192\" y=\"109.987448\"/>\n     <use style=\"fill:#1f77b4;stroke:#1f77b4;\" x=\"342.31608\" xlink:href=\"#m83f4632192\" y=\"109.987448\"/>\n     <use style=\"fill:#1f77b4;stroke:#1f77b4;\" x=\"372.752443\" xlink:href=\"#m83f4632192\" y=\"109.987448\"/>\n    </g>\n   </g>\n   <g id=\"patch_3\">\n    <path d=\"M 53.170625 228.934687 \nL 53.170625 11.494687 \n\" style=\"fill:none;stroke:#ffffff;stroke-linecap:square;stroke-linejoin:miter;stroke-width:0.8;\"/>\n   </g>\n   <g id=\"patch_4\">\n    <path d=\"M 387.970625 228.934687 \nL 387.970625 11.494687 \n\" style=\"fill:none;stroke:#ffffff;stroke-linecap:square;stroke-linejoin:miter;stroke-width:0.8;\"/>\n   </g>\n   <g id=\"patch_5\">\n    <path d=\"M 53.170625 228.934687 \nL 387.970625 228.934687 \n\" style=\"fill:none;stroke:#ffffff;stroke-linecap:square;stroke-linejoin:miter;stroke-width:0.8;\"/>\n   </g>\n   <g id=\"patch_6\">\n    <path d=\"M 53.170625 11.494687 \nL 387.970625 11.494687 \n\" style=\"fill:none;stroke:#ffffff;stroke-linecap:square;stroke-linejoin:miter;stroke-width:0.8;\"/>\n   </g>\n   <g id=\"legend_1\">\n    <g id=\"patch_7\">\n     <path d=\"M 291.170625 47.785312 \nL 380.970625 47.785312 \nQ 382.970625 47.785312 382.970625 45.785312 \nL 382.970625 18.494687 \nQ 382.970625 16.494687 380.970625 16.494687 \nL 291.170625 16.494687 \nQ 289.170625 16.494687 289.170625 18.494687 \nL 289.170625 45.785312 \nQ 289.170625 47.785312 291.170625 47.785312 \nz\n\" style=\"fill:#eaeaf2;opacity:0.8;stroke:#cccccc;stroke-linejoin:miter;\"/>\n    </g>\n    <g id=\"line2d_3\">\n     <path d=\"M 293.170625 24.1525 \nL 313.170625 24.1525 \n\" style=\"fill:none;stroke:#ff0000;stroke-dasharray:5.55,2.4;stroke-dashoffset:0;stroke-width:1.5;\"/>\n    </g>\n    <g id=\"line2d_4\"/>\n    <g id=\"text_16\">\n     <!-- $\\pi$ -->\n     <g style=\"fill:#262626;\" transform=\"translate(321.170625 27.6525)scale(0.1 -0.1)\">\n      <use transform=\"translate(0 0.3125)\" xlink:href=\"#DejaVuSans-Oblique-960\"/>\n     </g>\n    </g>\n    <g id=\"line2d_5\">\n     <path d=\"M 293.170625 38.297812 \nL 313.170625 38.297812 \n\" style=\"fill:none;stroke:#1f77b4;stroke-linecap:round;stroke-width:1.5;\"/>\n    </g>\n    <g id=\"line2d_6\">\n     <g>\n      <use style=\"fill:#1f77b4;stroke:#1f77b4;\" x=\"303.170625\" xlink:href=\"#m83f4632192\" y=\"38.297812\"/>\n     </g>\n    </g>\n    <g id=\"text_17\">\n     <!-- estimate of $\\pi$ -->\n     <g style=\"fill:#262626;\" transform=\"translate(321.170625 41.797812)scale(0.1 -0.1)\">\n      <use transform=\"translate(0 0.203125)\" xlink:href=\"#ArialMT-101\"/>\n      <use transform=\"translate(55.615234 0.203125)\" xlink:href=\"#ArialMT-115\"/>\n      <use transform=\"translate(105.615234 0.203125)\" xlink:href=\"#ArialMT-116\"/>\n      <use transform=\"translate(133.398438 0.203125)\" xlink:href=\"#ArialMT-105\"/>\n      <use transform=\"translate(155.615234 0.203125)\" xlink:href=\"#ArialMT-109\"/>\n      <use transform=\"translate(238.916016 0.203125)\" xlink:href=\"#ArialMT-97\"/>\n      <use transform=\"translate(294.53125 0.203125)\" xlink:href=\"#ArialMT-116\"/>\n      <use transform=\"translate(322.314453 0.203125)\" xlink:href=\"#ArialMT-101\"/>\n      <use transform=\"translate(377.929688 0.203125)\" xlink:href=\"#ArialMT-32\"/>\n      <use transform=\"translate(405.712891 0.203125)\" xlink:href=\"#ArialMT-111\"/>\n      <use transform=\"translate(461.328125 0.203125)\" xlink:href=\"#ArialMT-102\"/>\n      <use transform=\"translate(489.111328 0.203125)\" xlink:href=\"#ArialMT-32\"/>\n      <use transform=\"translate(516.894531 0.203125)\" xlink:href=\"#DejaVuSans-Oblique-960\"/>\n     </g>\n    </g>\n   </g>\n  </g>\n </g>\n <defs>\n  <clipPath id=\"p8f4b6ade5b\">\n   <rect height=\"217.44\" width=\"334.8\" x=\"53.170625\" y=\"11.494687\"/>\n  </clipPath>\n </defs>\n</svg>\n",
      "image/png": "[encoded data removed]"
     },
     "metadata": {}
    }
   ],
   "source": [
    "plotter.plot(nqs, [pi]*len(nqs), '--r')\n",
    "plotter.plot(nqs, pi_estimates, '.-', markersize=12)\n",
    "plotter.xlim([1.5, 12.5])\n",
    "plotter.ylim([1.5, 4.5])\n",
    "plotter.legend(['$\\pi$', 'estimate of $\\pi$'])\n",
    "plotter.xlabel('Number of qubits', fontdict={'size':20})\n",
    "plotter.ylabel('$\\pi$ and estimate of $\\pi$', fontdict={'size':20})\n",
    "plotter.tick_params(axis='x', labelsize=12)\n",
    "plotter.tick_params(axis='y', labelsize=12)\n",
    "plotter.show()"
   ]
  },
  {
   "cell_type": "code",
   "execution_count": 11,
   "metadata": {},
   "outputs": [
    {
     "output_type": "execute_result",
     "data": {
      "text/plain": [
       "{'qiskit-terra': '0.16.4',\n",
       " 'qiskit-aer': '0.7.5',\n",
       " 'qiskit-ignis': '0.5.2',\n",
       " 'qiskit-ibmq-provider': '0.11.1',\n",
       " 'qiskit-aqua': '0.8.2',\n",
       " 'qiskit': '0.23.6'}"
      ]
     },
     "metadata": {},
     "execution_count": 11
    }
   ],
   "source": [
    "import qiskit\n",
    "qiskit.__qiskit_version__"
   ]
  },
  {
   "cell_type": "code",
   "execution_count": null,
   "metadata": {},
   "outputs": [],
   "source": []
  }
 ],
 "metadata": {
  "kernelspec": {
   "name": "python3",
   "display_name": "Python 3.9.2 64-bit ('qc_env')",
   "metadata": {
    "interpreter": {
     "hash": "e2978d320601cc1acbea1801eb2fb1728f38a65b40fc129cb31ada20d753e2fe"
    }
   }
  },
  "language_info": {
   "codemirror_mode": {
    "name": "ipython",
    "version": 3
   },
   "file_extension": ".py",
   "mimetype": "text/x-python",
   "name": "python",
   "nbconvert_exporter": "python",
   "pygments_lexer": "ipython3",
   "version": "3.9.2-final"
  }
 },
 "nbformat": 4,
 "nbformat_minor": 2
}